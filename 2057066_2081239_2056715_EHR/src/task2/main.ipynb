{
 "cells": [
  {
   "attachments": {},
   "cell_type": "markdown",
   "metadata": {},
   "source": [
    "# Index\n",
    "\n",
    "- **Python Libraries**\n",
    "- **Task 2**\n",
    "    - *Reading Preprocessed Datasets*\n",
    "    - *Exercise 1*\n",
    "    - *Exercise 2*\n",
    "        - *Balancing Strategy Definition*\n",
    "        - *Exercise 2.1*\n",
    "        - *Exercise 2.2*\n",
    "        - *Exercise 2.3*\n",
    "    - *Exercise 3 - Concentration*\n",
    "    - *Writing Balanced Datasets*\n"
   ]
  },
  {
   "cell_type": "code",
   "execution_count": 100,
   "metadata": {},
   "outputs": [],
   "source": [
    "import pandas as pd\n",
    "import numpy as np\n",
    "import datetime as dt"
   ]
  },
  {
   "attachments": {},
   "cell_type": "markdown",
   "metadata": {},
   "source": [
    "# Task 2"
   ]
  },
  {
   "attachments": {},
   "cell_type": "markdown",
   "metadata": {},
   "source": [
    "## Reading Preprocessed Datasets"
   ]
  },
  {
   "cell_type": "code",
   "execution_count": 101,
   "metadata": {},
   "outputs": [],
   "source": [
    "read_data_path  = \"../../data/dataset_preprocessed\"\n",
    "\n",
    "ap   = pd.read_csv(read_data_path+'/anagraficapazientiattivi.csv', header=0 ,names=['idcentro','idana','sesso','annodiagnosidiabete','tipodiabete','scolarita','statocivile','professione','origine','annonascita','annoprimoaccesso','annodecesso','label'])\n",
    "diag = pd.read_csv(read_data_path+'/diagnosi.csv', header=0 ,names=['idcentro','idana','data','codiceamd','valore'])\n",
    "elp  = pd.read_csv(read_data_path+'/esamilaboratorioparametri.csv', header=0 ,names=['idcentro','idana','data','codiceamd','valore'])\n",
    "ei   = pd.read_csv(read_data_path+'/esamistrumentali.csv', header=0 ,names=['idcentro','idana','data','codiceamd','valore'])\n",
    "pdf  = pd.read_csv(read_data_path+'/prescrizionidiabetefarmaci.csv', header=0 ,names=['idcentro','idana','data','codiceatc','quantita','idpasto','descrizionefarmaco'])\n",
    "pdnf = pd.read_csv(read_data_path+'/prescrizionidiabetenonfarmaci.csv', header=0 ,names=['idcentro','idana','data','codiceamd','valore'])\n",
    "pnd  = pd.read_csv(read_data_path+'/prescrizioninondiabete.csv', header=0 ,names=['idcentro','idana','data','codiceamd','valore'])"
   ]
  },
  {
   "cell_type": "code",
   "execution_count": 102,
   "metadata": {},
   "outputs": [
    {
     "name": "stdout",
     "output_type": "stream",
     "text": [
      "(1555, 13)\n"
     ]
    },
    {
     "data": {
      "text/html": [
       "<div>\n",
       "<style scoped>\n",
       "    .dataframe tbody tr th:only-of-type {\n",
       "        vertical-align: middle;\n",
       "    }\n",
       "\n",
       "    .dataframe tbody tr th {\n",
       "        vertical-align: top;\n",
       "    }\n",
       "\n",
       "    .dataframe thead th {\n",
       "        text-align: right;\n",
       "    }\n",
       "</style>\n",
       "<table border=\"1\" class=\"dataframe\">\n",
       "  <thead>\n",
       "    <tr style=\"text-align: right;\">\n",
       "      <th></th>\n",
       "      <th>idcentro</th>\n",
       "      <th>idana</th>\n",
       "      <th>sesso</th>\n",
       "      <th>annodiagnosidiabete</th>\n",
       "      <th>tipodiabete</th>\n",
       "      <th>scolarita</th>\n",
       "      <th>statocivile</th>\n",
       "      <th>professione</th>\n",
       "      <th>origine</th>\n",
       "      <th>annonascita</th>\n",
       "      <th>annoprimoaccesso</th>\n",
       "      <th>annodecesso</th>\n",
       "      <th>label</th>\n",
       "    </tr>\n",
       "  </thead>\n",
       "  <tbody>\n",
       "    <tr>\n",
       "      <th>0</th>\n",
       "      <td>1</td>\n",
       "      <td>5</td>\n",
       "      <td>M</td>\n",
       "      <td>1986.0</td>\n",
       "      <td>5</td>\n",
       "      <td>2.0</td>\n",
       "      <td>2.0</td>\n",
       "      <td>9.0</td>\n",
       "      <td>NaN</td>\n",
       "      <td>1942</td>\n",
       "      <td>1990.0</td>\n",
       "      <td>2014.0</td>\n",
       "      <td>1</td>\n",
       "    </tr>\n",
       "    <tr>\n",
       "      <th>1</th>\n",
       "      <td>1</td>\n",
       "      <td>65</td>\n",
       "      <td>M</td>\n",
       "      <td>1997.0</td>\n",
       "      <td>5</td>\n",
       "      <td>2.0</td>\n",
       "      <td>1.0</td>\n",
       "      <td>9.0</td>\n",
       "      <td>NaN</td>\n",
       "      <td>1942</td>\n",
       "      <td>1997.0</td>\n",
       "      <td>2018.0</td>\n",
       "      <td>1</td>\n",
       "    </tr>\n",
       "    <tr>\n",
       "      <th>2</th>\n",
       "      <td>1</td>\n",
       "      <td>74</td>\n",
       "      <td>M</td>\n",
       "      <td>1995.0</td>\n",
       "      <td>5</td>\n",
       "      <td>2.0</td>\n",
       "      <td>2.0</td>\n",
       "      <td>9.0</td>\n",
       "      <td>NaN</td>\n",
       "      <td>1930</td>\n",
       "      <td>1996.0</td>\n",
       "      <td>2013.0</td>\n",
       "      <td>0</td>\n",
       "    </tr>\n",
       "    <tr>\n",
       "      <th>3</th>\n",
       "      <td>1</td>\n",
       "      <td>143</td>\n",
       "      <td>M</td>\n",
       "      <td>1991.0</td>\n",
       "      <td>5</td>\n",
       "      <td>2.0</td>\n",
       "      <td>NaN</td>\n",
       "      <td>9.0</td>\n",
       "      <td>NaN</td>\n",
       "      <td>1934</td>\n",
       "      <td>1991.0</td>\n",
       "      <td>2015.0</td>\n",
       "      <td>0</td>\n",
       "    </tr>\n",
       "    <tr>\n",
       "      <th>4</th>\n",
       "      <td>1</td>\n",
       "      <td>173</td>\n",
       "      <td>M</td>\n",
       "      <td>1988.0</td>\n",
       "      <td>5</td>\n",
       "      <td>2.0</td>\n",
       "      <td>2.0</td>\n",
       "      <td>9.0</td>\n",
       "      <td>NaN</td>\n",
       "      <td>1939</td>\n",
       "      <td>1988.0</td>\n",
       "      <td>2012.0</td>\n",
       "      <td>1</td>\n",
       "    </tr>\n",
       "  </tbody>\n",
       "</table>\n",
       "</div>"
      ],
      "text/plain": [
       "   idcentro  idana sesso  annodiagnosidiabete  tipodiabete  scolarita  \\\n",
       "0         1      5     M               1986.0            5        2.0   \n",
       "1         1     65     M               1997.0            5        2.0   \n",
       "2         1     74     M               1995.0            5        2.0   \n",
       "3         1    143     M               1991.0            5        2.0   \n",
       "4         1    173     M               1988.0            5        2.0   \n",
       "\n",
       "   statocivile  professione  origine  annonascita  annoprimoaccesso  \\\n",
       "0          2.0          9.0      NaN         1942            1990.0   \n",
       "1          1.0          9.0      NaN         1942            1997.0   \n",
       "2          2.0          9.0      NaN         1930            1996.0   \n",
       "3          NaN          9.0      NaN         1934            1991.0   \n",
       "4          2.0          9.0      NaN         1939            1988.0   \n",
       "\n",
       "   annodecesso  label  \n",
       "0       2014.0      1  \n",
       "1       2018.0      1  \n",
       "2       2013.0      0  \n",
       "3       2015.0      0  \n",
       "4       2012.0      1  "
      ]
     },
     "execution_count": 102,
     "metadata": {},
     "output_type": "execute_result"
    }
   ],
   "source": [
    "print(ap.shape)\n",
    "ap.head()"
   ]
  },
  {
   "cell_type": "code",
   "execution_count": 103,
   "metadata": {},
   "outputs": [
    {
     "name": "stdout",
     "output_type": "stream",
     "text": [
      "(106999, 5)\n"
     ]
    },
    {
     "data": {
      "text/html": [
       "<div>\n",
       "<style scoped>\n",
       "    .dataframe tbody tr th:only-of-type {\n",
       "        vertical-align: middle;\n",
       "    }\n",
       "\n",
       "    .dataframe tbody tr th {\n",
       "        vertical-align: top;\n",
       "    }\n",
       "\n",
       "    .dataframe thead th {\n",
       "        text-align: right;\n",
       "    }\n",
       "</style>\n",
       "<table border=\"1\" class=\"dataframe\">\n",
       "  <thead>\n",
       "    <tr style=\"text-align: right;\">\n",
       "      <th></th>\n",
       "      <th>idcentro</th>\n",
       "      <th>idana</th>\n",
       "      <th>data</th>\n",
       "      <th>codiceamd</th>\n",
       "      <th>valore</th>\n",
       "    </tr>\n",
       "  </thead>\n",
       "  <tbody>\n",
       "    <tr>\n",
       "      <th>0</th>\n",
       "      <td>1</td>\n",
       "      <td>5</td>\n",
       "      <td>1997-12-01</td>\n",
       "      <td>AMD247</td>\n",
       "      <td>410</td>\n",
       "    </tr>\n",
       "    <tr>\n",
       "      <th>1</th>\n",
       "      <td>1</td>\n",
       "      <td>5</td>\n",
       "      <td>2000-06-01</td>\n",
       "      <td>AMD247</td>\n",
       "      <td>434.01</td>\n",
       "    </tr>\n",
       "    <tr>\n",
       "      <th>2</th>\n",
       "      <td>1</td>\n",
       "      <td>5</td>\n",
       "      <td>2000-06-01</td>\n",
       "      <td>AMD247</td>\n",
       "      <td>434.91</td>\n",
       "    </tr>\n",
       "    <tr>\n",
       "      <th>3</th>\n",
       "      <td>1</td>\n",
       "      <td>5</td>\n",
       "      <td>2000-12-02</td>\n",
       "      <td>AMD049</td>\n",
       "      <td>S</td>\n",
       "    </tr>\n",
       "    <tr>\n",
       "      <th>4</th>\n",
       "      <td>1</td>\n",
       "      <td>5</td>\n",
       "      <td>2000-12-02</td>\n",
       "      <td>AMD247</td>\n",
       "      <td>36.10</td>\n",
       "    </tr>\n",
       "  </tbody>\n",
       "</table>\n",
       "</div>"
      ],
      "text/plain": [
       "   idcentro  idana        data codiceamd  valore\n",
       "0         1      5  1997-12-01    AMD247     410\n",
       "1         1      5  2000-06-01    AMD247  434.01\n",
       "2         1      5  2000-06-01    AMD247  434.91\n",
       "3         1      5  2000-12-02    AMD049       S\n",
       "4         1      5  2000-12-02    AMD247   36.10"
      ]
     },
     "execution_count": 103,
     "metadata": {},
     "output_type": "execute_result"
    }
   ],
   "source": [
    "print(diag.shape)\n",
    "diag.head()"
   ]
  },
  {
   "cell_type": "code",
   "execution_count": 104,
   "metadata": {},
   "outputs": [
    {
     "name": "stdout",
     "output_type": "stream",
     "text": [
      "(312389, 5)\n"
     ]
    },
    {
     "data": {
      "text/html": [
       "<div>\n",
       "<style scoped>\n",
       "    .dataframe tbody tr th:only-of-type {\n",
       "        vertical-align: middle;\n",
       "    }\n",
       "\n",
       "    .dataframe tbody tr th {\n",
       "        vertical-align: top;\n",
       "    }\n",
       "\n",
       "    .dataframe thead th {\n",
       "        text-align: right;\n",
       "    }\n",
       "</style>\n",
       "<table border=\"1\" class=\"dataframe\">\n",
       "  <thead>\n",
       "    <tr style=\"text-align: right;\">\n",
       "      <th></th>\n",
       "      <th>idcentro</th>\n",
       "      <th>idana</th>\n",
       "      <th>data</th>\n",
       "      <th>codiceamd</th>\n",
       "      <th>valore</th>\n",
       "    </tr>\n",
       "  </thead>\n",
       "  <tbody>\n",
       "    <tr>\n",
       "      <th>0</th>\n",
       "      <td>1</td>\n",
       "      <td>5</td>\n",
       "      <td>2005-01-18</td>\n",
       "      <td>AMD001</td>\n",
       "      <td>169.000000</td>\n",
       "    </tr>\n",
       "    <tr>\n",
       "      <th>1</th>\n",
       "      <td>1</td>\n",
       "      <td>5</td>\n",
       "      <td>2005-01-18</td>\n",
       "      <td>AMD002</td>\n",
       "      <td>76.000000</td>\n",
       "    </tr>\n",
       "    <tr>\n",
       "      <th>2</th>\n",
       "      <td>1</td>\n",
       "      <td>5</td>\n",
       "      <td>2005-01-18</td>\n",
       "      <td>AMD004</td>\n",
       "      <td>90.232558</td>\n",
       "    </tr>\n",
       "    <tr>\n",
       "      <th>3</th>\n",
       "      <td>1</td>\n",
       "      <td>5</td>\n",
       "      <td>2005-01-18</td>\n",
       "      <td>AMD005</td>\n",
       "      <td>49.600000</td>\n",
       "    </tr>\n",
       "    <tr>\n",
       "      <th>4</th>\n",
       "      <td>1</td>\n",
       "      <td>5</td>\n",
       "      <td>2005-06-06</td>\n",
       "      <td>AMD007</td>\n",
       "      <td>138.225058</td>\n",
       "    </tr>\n",
       "  </tbody>\n",
       "</table>\n",
       "</div>"
      ],
      "text/plain": [
       "   idcentro  idana        data codiceamd      valore\n",
       "0         1      5  2005-01-18    AMD001  169.000000\n",
       "1         1      5  2005-01-18    AMD002   76.000000\n",
       "2         1      5  2005-01-18    AMD004   90.232558\n",
       "3         1      5  2005-01-18    AMD005   49.600000\n",
       "4         1      5  2005-06-06    AMD007  138.225058"
      ]
     },
     "execution_count": 104,
     "metadata": {},
     "output_type": "execute_result"
    }
   ],
   "source": [
    "print(elp.shape)\n",
    "elp.head()"
   ]
  },
  {
   "cell_type": "code",
   "execution_count": 105,
   "metadata": {},
   "outputs": [
    {
     "name": "stdout",
     "output_type": "stream",
     "text": [
      "(15114, 5)\n"
     ]
    },
    {
     "data": {
      "text/html": [
       "<div>\n",
       "<style scoped>\n",
       "    .dataframe tbody tr th:only-of-type {\n",
       "        vertical-align: middle;\n",
       "    }\n",
       "\n",
       "    .dataframe tbody tr th {\n",
       "        vertical-align: top;\n",
       "    }\n",
       "\n",
       "    .dataframe thead th {\n",
       "        text-align: right;\n",
       "    }\n",
       "</style>\n",
       "<table border=\"1\" class=\"dataframe\">\n",
       "  <thead>\n",
       "    <tr style=\"text-align: right;\">\n",
       "      <th></th>\n",
       "      <th>idcentro</th>\n",
       "      <th>idana</th>\n",
       "      <th>data</th>\n",
       "      <th>codiceamd</th>\n",
       "      <th>valore</th>\n",
       "    </tr>\n",
       "  </thead>\n",
       "  <tbody>\n",
       "    <tr>\n",
       "      <th>0</th>\n",
       "      <td>1</td>\n",
       "      <td>5</td>\n",
       "      <td>2006-01-04</td>\n",
       "      <td>AMD051</td>\n",
       "      <td>N</td>\n",
       "    </tr>\n",
       "    <tr>\n",
       "      <th>1</th>\n",
       "      <td>1</td>\n",
       "      <td>5</td>\n",
       "      <td>2006-11-14</td>\n",
       "      <td>AMD041</td>\n",
       "      <td>P</td>\n",
       "    </tr>\n",
       "    <tr>\n",
       "      <th>2</th>\n",
       "      <td>1</td>\n",
       "      <td>5</td>\n",
       "      <td>2006-11-20</td>\n",
       "      <td>AMD040</td>\n",
       "      <td>P</td>\n",
       "    </tr>\n",
       "    <tr>\n",
       "      <th>3</th>\n",
       "      <td>1</td>\n",
       "      <td>5</td>\n",
       "      <td>2007-06-01</td>\n",
       "      <td>AMD040</td>\n",
       "      <td>N</td>\n",
       "    </tr>\n",
       "    <tr>\n",
       "      <th>4</th>\n",
       "      <td>1</td>\n",
       "      <td>5</td>\n",
       "      <td>2008-01-16</td>\n",
       "      <td>AMD040</td>\n",
       "      <td>N</td>\n",
       "    </tr>\n",
       "  </tbody>\n",
       "</table>\n",
       "</div>"
      ],
      "text/plain": [
       "   idcentro  idana        data codiceamd valore\n",
       "0         1      5  2006-01-04    AMD051      N\n",
       "1         1      5  2006-11-14    AMD041      P\n",
       "2         1      5  2006-11-20    AMD040      P\n",
       "3         1      5  2007-06-01    AMD040      N\n",
       "4         1      5  2008-01-16    AMD040      N"
      ]
     },
     "execution_count": 105,
     "metadata": {},
     "output_type": "execute_result"
    }
   ],
   "source": [
    "print(ei.shape)\n",
    "ei.head()"
   ]
  },
  {
   "cell_type": "code",
   "execution_count": 106,
   "metadata": {},
   "outputs": [
    {
     "name": "stdout",
     "output_type": "stream",
     "text": [
      "(94228, 7)\n"
     ]
    },
    {
     "data": {
      "text/html": [
       "<div>\n",
       "<style scoped>\n",
       "    .dataframe tbody tr th:only-of-type {\n",
       "        vertical-align: middle;\n",
       "    }\n",
       "\n",
       "    .dataframe tbody tr th {\n",
       "        vertical-align: top;\n",
       "    }\n",
       "\n",
       "    .dataframe thead th {\n",
       "        text-align: right;\n",
       "    }\n",
       "</style>\n",
       "<table border=\"1\" class=\"dataframe\">\n",
       "  <thead>\n",
       "    <tr style=\"text-align: right;\">\n",
       "      <th></th>\n",
       "      <th>idcentro</th>\n",
       "      <th>idana</th>\n",
       "      <th>data</th>\n",
       "      <th>codiceatc</th>\n",
       "      <th>quantita</th>\n",
       "      <th>idpasto</th>\n",
       "      <th>descrizionefarmaco</th>\n",
       "    </tr>\n",
       "  </thead>\n",
       "  <tbody>\n",
       "    <tr>\n",
       "      <th>0</th>\n",
       "      <td>1</td>\n",
       "      <td>5</td>\n",
       "      <td>2005-01-18</td>\n",
       "      <td>A10BA02</td>\n",
       "      <td>2.0</td>\n",
       "      <td>1.0</td>\n",
       "      <td>METFORAL*50CPR RIV 500mg</td>\n",
       "    </tr>\n",
       "    <tr>\n",
       "      <th>1</th>\n",
       "      <td>1</td>\n",
       "      <td>5</td>\n",
       "      <td>2005-01-18</td>\n",
       "      <td>A10BA02</td>\n",
       "      <td>2.0</td>\n",
       "      <td>3.0</td>\n",
       "      <td>METFORAL*50CPR RIV 500mg</td>\n",
       "    </tr>\n",
       "    <tr>\n",
       "      <th>2</th>\n",
       "      <td>1</td>\n",
       "      <td>5</td>\n",
       "      <td>2005-01-18</td>\n",
       "      <td>A10BA02</td>\n",
       "      <td>2.0</td>\n",
       "      <td>5.0</td>\n",
       "      <td>METFORAL*50CPR RIV 500mg</td>\n",
       "    </tr>\n",
       "    <tr>\n",
       "      <th>3</th>\n",
       "      <td>1</td>\n",
       "      <td>5</td>\n",
       "      <td>2005-01-18</td>\n",
       "      <td>A10BB12</td>\n",
       "      <td>1.0</td>\n",
       "      <td>3.0</td>\n",
       "      <td>AMARYL*30CPR 2mg</td>\n",
       "    </tr>\n",
       "    <tr>\n",
       "      <th>4</th>\n",
       "      <td>1</td>\n",
       "      <td>5</td>\n",
       "      <td>2005-06-21</td>\n",
       "      <td>A10BA02</td>\n",
       "      <td>2.0</td>\n",
       "      <td>1.0</td>\n",
       "      <td>METFORAL*50CPR RIV 500mg</td>\n",
       "    </tr>\n",
       "  </tbody>\n",
       "</table>\n",
       "</div>"
      ],
      "text/plain": [
       "   idcentro  idana        data codiceatc  quantita  idpasto  \\\n",
       "0         1      5  2005-01-18   A10BA02       2.0      1.0   \n",
       "1         1      5  2005-01-18   A10BA02       2.0      3.0   \n",
       "2         1      5  2005-01-18   A10BA02       2.0      5.0   \n",
       "3         1      5  2005-01-18   A10BB12       1.0      3.0   \n",
       "4         1      5  2005-06-21   A10BA02       2.0      1.0   \n",
       "\n",
       "         descrizionefarmaco  \n",
       "0  METFORAL*50CPR RIV 500mg  \n",
       "1  METFORAL*50CPR RIV 500mg  \n",
       "2  METFORAL*50CPR RIV 500mg  \n",
       "3          AMARYL*30CPR 2mg  \n",
       "4  METFORAL*50CPR RIV 500mg  "
      ]
     },
     "execution_count": 106,
     "metadata": {},
     "output_type": "execute_result"
    }
   ],
   "source": [
    "print(pdf.shape)\n",
    "pdf.head()"
   ]
  },
  {
   "cell_type": "code",
   "execution_count": 107,
   "metadata": {},
   "outputs": [
    {
     "name": "stdout",
     "output_type": "stream",
     "text": [
      "(9954, 5)\n"
     ]
    },
    {
     "data": {
      "text/html": [
       "<div>\n",
       "<style scoped>\n",
       "    .dataframe tbody tr th:only-of-type {\n",
       "        vertical-align: middle;\n",
       "    }\n",
       "\n",
       "    .dataframe tbody tr th {\n",
       "        vertical-align: top;\n",
       "    }\n",
       "\n",
       "    .dataframe thead th {\n",
       "        text-align: right;\n",
       "    }\n",
       "</style>\n",
       "<table border=\"1\" class=\"dataframe\">\n",
       "  <thead>\n",
       "    <tr style=\"text-align: right;\">\n",
       "      <th></th>\n",
       "      <th>idcentro</th>\n",
       "      <th>idana</th>\n",
       "      <th>data</th>\n",
       "      <th>codiceamd</th>\n",
       "      <th>valore</th>\n",
       "    </tr>\n",
       "  </thead>\n",
       "  <tbody>\n",
       "    <tr>\n",
       "      <th>0</th>\n",
       "      <td>1</td>\n",
       "      <td>5</td>\n",
       "      <td>2008-06-20</td>\n",
       "      <td>AMD152</td>\n",
       "      <td>NaN</td>\n",
       "    </tr>\n",
       "    <tr>\n",
       "      <th>1</th>\n",
       "      <td>1</td>\n",
       "      <td>5</td>\n",
       "      <td>2013-08-27</td>\n",
       "      <td>AMD152</td>\n",
       "      <td>NaN</td>\n",
       "    </tr>\n",
       "    <tr>\n",
       "      <th>2</th>\n",
       "      <td>1</td>\n",
       "      <td>5</td>\n",
       "      <td>2013-12-31</td>\n",
       "      <td>AMD086</td>\n",
       "      <td>S</td>\n",
       "    </tr>\n",
       "    <tr>\n",
       "      <th>3</th>\n",
       "      <td>1</td>\n",
       "      <td>5</td>\n",
       "      <td>2013-12-31</td>\n",
       "      <td>AMD228</td>\n",
       "      <td>S</td>\n",
       "    </tr>\n",
       "    <tr>\n",
       "      <th>4</th>\n",
       "      <td>1</td>\n",
       "      <td>65</td>\n",
       "      <td>2014-12-19</td>\n",
       "      <td>AMD228</td>\n",
       "      <td>S</td>\n",
       "    </tr>\n",
       "  </tbody>\n",
       "</table>\n",
       "</div>"
      ],
      "text/plain": [
       "   idcentro  idana        data codiceamd valore\n",
       "0         1      5  2008-06-20    AMD152    NaN\n",
       "1         1      5  2013-08-27    AMD152    NaN\n",
       "2         1      5  2013-12-31    AMD086      S\n",
       "3         1      5  2013-12-31    AMD228      S\n",
       "4         1     65  2014-12-19    AMD228      S"
      ]
     },
     "execution_count": 107,
     "metadata": {},
     "output_type": "execute_result"
    }
   ],
   "source": [
    "print(pdnf.shape)\n",
    "pdnf.head()"
   ]
  },
  {
   "cell_type": "code",
   "execution_count": 108,
   "metadata": {},
   "outputs": [
    {
     "name": "stdout",
     "output_type": "stream",
     "text": [
      "(105297, 5)\n"
     ]
    },
    {
     "data": {
      "text/html": [
       "<div>\n",
       "<style scoped>\n",
       "    .dataframe tbody tr th:only-of-type {\n",
       "        vertical-align: middle;\n",
       "    }\n",
       "\n",
       "    .dataframe tbody tr th {\n",
       "        vertical-align: top;\n",
       "    }\n",
       "\n",
       "    .dataframe thead th {\n",
       "        text-align: right;\n",
       "    }\n",
       "</style>\n",
       "<table border=\"1\" class=\"dataframe\">\n",
       "  <thead>\n",
       "    <tr style=\"text-align: right;\">\n",
       "      <th></th>\n",
       "      <th>idcentro</th>\n",
       "      <th>idana</th>\n",
       "      <th>data</th>\n",
       "      <th>codiceamd</th>\n",
       "      <th>valore</th>\n",
       "    </tr>\n",
       "  </thead>\n",
       "  <tbody>\n",
       "    <tr>\n",
       "      <th>0</th>\n",
       "      <td>1</td>\n",
       "      <td>5</td>\n",
       "      <td>2005-01-18</td>\n",
       "      <td>AMD121</td>\n",
       "      <td>C09AA05</td>\n",
       "    </tr>\n",
       "    <tr>\n",
       "      <th>1</th>\n",
       "      <td>1</td>\n",
       "      <td>5</td>\n",
       "      <td>2005-01-18</td>\n",
       "      <td>AMD124</td>\n",
       "      <td>C10AA05</td>\n",
       "    </tr>\n",
       "    <tr>\n",
       "      <th>2</th>\n",
       "      <td>1</td>\n",
       "      <td>5</td>\n",
       "      <td>2005-01-18</td>\n",
       "      <td>AMD124</td>\n",
       "      <td>C10AX06</td>\n",
       "    </tr>\n",
       "    <tr>\n",
       "      <th>3</th>\n",
       "      <td>1</td>\n",
       "      <td>5</td>\n",
       "      <td>2005-06-21</td>\n",
       "      <td>AMD121</td>\n",
       "      <td>C09AA05</td>\n",
       "    </tr>\n",
       "    <tr>\n",
       "      <th>4</th>\n",
       "      <td>1</td>\n",
       "      <td>5</td>\n",
       "      <td>2005-06-21</td>\n",
       "      <td>AMD124</td>\n",
       "      <td>C10AA05</td>\n",
       "    </tr>\n",
       "  </tbody>\n",
       "</table>\n",
       "</div>"
      ],
      "text/plain": [
       "   idcentro  idana        data codiceamd   valore\n",
       "0         1      5  2005-01-18    AMD121  C09AA05\n",
       "1         1      5  2005-01-18    AMD124  C10AA05\n",
       "2         1      5  2005-01-18    AMD124  C10AX06\n",
       "3         1      5  2005-06-21    AMD121  C09AA05\n",
       "4         1      5  2005-06-21    AMD124  C10AA05"
      ]
     },
     "execution_count": 108,
     "metadata": {},
     "output_type": "execute_result"
    }
   ],
   "source": [
    "print(pnd.shape)\n",
    "pnd.head()"
   ]
  },
  {
   "attachments": {},
   "cell_type": "markdown",
   "metadata": {},
   "source": [
    "## Exercise 1"
   ]
  },
  {
   "attachments": {},
   "cell_type": "markdown",
   "metadata": {},
   "source": [
    "*Class imbalance #1* - not all patients will have a cardiovascular event within the stabilised six-month period. Thus, we would expect that the class distribution is highly imbalanced. \n",
    "\n",
    "- For each patient $p_i$ such that $y(p_i)=0$, eliminate the last six months of history to avoid giving the model prediction hints into the future. \n",
    "- For each patient $p_i$ such that $y(p_i)=1$, create $m$ copies $\\lbrace p_i^1, \\cdots, p_i^m \\rbrace$ such that all the cardiovascular events in the last six months are eliminated, and the other events are shuffled and cancelled at random.\n",
    "\n",
    "In this way, you have a sort of balancing criterion (i.e., up-sampling the minority class)."
   ]
  },
  {
   "attachments": {},
   "cell_type": "markdown",
   "metadata": {},
   "source": [
    "First we divide the **ap** dataframe into:\n",
    "- **ap_class0** each patient $p_i$ has $y(p_i)=0$\n",
    "- **ap_class1** each patient $p_i$ has $y(p_i)=1$"
   ]
  },
  {
   "cell_type": "code",
   "execution_count": 109,
   "metadata": {},
   "outputs": [
    {
     "name": "stdout",
     "output_type": "stream",
     "text": [
      "ap has size        => (1555, 13)\n",
      "ap_class0 has size => (868, 13)\n",
      "ap_class1 has size => (687, 13)\n"
     ]
    }
   ],
   "source": [
    "print(f\"ap has size        => {ap.shape}\")\n",
    "ap_class0 = ap[ap.label == 0]\n",
    "print(f\"ap_class0 has size => {ap_class0.shape}\")\n",
    "ap_class1 = ap[ap.label == 1]\n",
    "print(f\"ap_class1 has size => {ap_class1.shape}\")\n"
   ]
  },
  {
   "attachments": {},
   "cell_type": "markdown",
   "metadata": {},
   "source": [
    "And now the rest of the dataframes are also divided into **df_class0** and **df_class1** following the same criteria:"
   ]
  },
  {
   "cell_type": "code",
   "execution_count": 110,
   "metadata": {},
   "outputs": [],
   "source": [
    "diag_class0 = pd.merge(diag, ap_class0, on=['idcentro','idana'])[diag.columns]\n",
    "elp_class0  = pd.merge(elp, ap_class0, on=['idcentro','idana'])[elp.columns]\n",
    "ei_class0   = pd.merge(ei, ap_class0, on=['idcentro','idana'])[ei.columns]\n",
    "pdf_class0  = pd.merge(pdf, ap_class0, on=['idcentro','idana'])[pdf.columns]\n",
    "pdnf_class0 = pd.merge(pdnf, ap_class0, on=['idcentro','idana'])[pdnf.columns]\n",
    "pnd_class0  = pd.merge(pnd, ap_class0, on=['idcentro','idana'])[pnd.columns]\n",
    "\n",
    "diag_class1 = pd.merge(diag, ap_class1, on=['idcentro','idana'])[diag.columns]\n",
    "elp_class1  = pd.merge(elp, ap_class1, on=['idcentro','idana'])[elp.columns]\n",
    "ei_class1   = pd.merge(ei, ap_class1, on=['idcentro','idana'])[ei.columns]\n",
    "pdf_class1  = pd.merge(pdf, ap_class1, on=['idcentro','idana'])[pdf.columns]\n",
    "pdnf_class1 = pd.merge(pdnf, ap_class1, on=['idcentro','idana'])[pdnf.columns]\n",
    "pnd_class1  = pd.merge(pnd, ap_class1, on=['idcentro','idana'])[pnd.columns]"
   ]
  },
  {
   "attachments": {},
   "cell_type": "markdown",
   "metadata": {},
   "source": [
    "We define a function that eliminates the events during the last 6 months for each patient"
   ]
  },
  {
   "cell_type": "code",
   "execution_count": 111,
   "metadata": {},
   "outputs": [],
   "source": [
    "def dropLastSixMonths(df:pd.DataFrame, patients: pd.DataFrame) -> pd.DataFrame:\n",
    "\n",
    "    newDF = pd.DataFrame(columns=df.columns)\n",
    "\n",
    "    # We iterate for each patient on patients\n",
    "    for p in patients.itertuples():\n",
    "        # Take the cardiovascular events of the patient p\n",
    "        aux = df[(df.idcentro==p.idcentro) & (df.idana==p.idana)]\n",
    "\n",
    "        # Calculate the last valid data\n",
    "        aux = aux.sort_values('data', ascending=False)\n",
    "        lastData = next(aux.itertuples()).data\n",
    "        lastData = dt.date.fromisoformat(lastData)\n",
    "        limitData = lastData - dt.timedelta(days=30*6)\n",
    "\n",
    "        # Take only the events before this limit data\n",
    "        aux = aux[aux.data < limitData.strftime(\"%Y-%m-%d\")]\n",
    "        \n",
    "        # We concatenate this with the new DataFrame\n",
    "        newDF = pd.concat([newDF, aux])\n",
    "\n",
    "    return newDF"
   ]
  },
  {
   "attachments": {},
   "cell_type": "markdown",
   "metadata": {},
   "source": [
    "Now we execute the function to every dataframe in our preprocessed dataset for the **ap_class0** patients:"
   ]
  },
  {
   "cell_type": "code",
   "execution_count": 112,
   "metadata": {},
   "outputs": [
    {
     "name": "stdout",
     "output_type": "stream",
     "text": [
      "Diag_class0: 49914 => 44071\n",
      "Elp_class0: 168320 => 146637\n",
      "Ei_class0: 7825 => 6291\n",
      "Pdf_class0: 49264 => 44101\n",
      "Pdnf_class0: 5718 => 4299\n",
      "Pnd_class0: 51834 => 45656\n"
     ]
    }
   ],
   "source": [
    "aux = diag_class0.shape[0]\n",
    "diag_class0 = dropLastSixMonths(diag_class0, ap_class0)\n",
    "print(f\"Diag_class0: {aux} => {diag_class0.shape[0]}\")\n",
    "\n",
    "aux = elp_class0.shape[0]\n",
    "elp_class0 = dropLastSixMonths(elp_class0, ap_class0)\n",
    "print(f\"Elp_class0: {aux} => {elp_class0.shape[0]}\")\n",
    "\n",
    "aux = ei_class0.shape[0]\n",
    "ei_class0 = dropLastSixMonths(ei_class0, ap_class0)\n",
    "print(f\"Ei_class0: {aux} => {ei_class0.shape[0]}\")\n",
    "\n",
    "aux = pdf_class0.shape[0]\n",
    "pdf_class0 = dropLastSixMonths(pdf_class0, ap_class0)\n",
    "print(f\"Pdf_class0: {aux} => {pdf_class0.shape[0]}\")\n",
    "\n",
    "aux = pdnf_class0.shape[0]\n",
    "pdnf_class0 = dropLastSixMonths(pdnf_class0, ap_class0)\n",
    "print(f\"Pdnf_class0: {aux} => {pdnf_class0.shape[0]}\")\n",
    "\n",
    "aux = pnd_class0.shape[0]\n",
    "pnd_class0 = dropLastSixMonths(pnd_class0, ap_class0)\n",
    "print(f\"Pnd_class0: {aux} => {pnd_class0.shape[0]}\")"
   ]
  },
  {
   "attachments": {},
   "cell_type": "markdown",
   "metadata": {},
   "source": [
    "Now for the **ap_class1** patients:"
   ]
  },
  {
   "cell_type": "code",
   "execution_count": 113,
   "metadata": {},
   "outputs": [
    {
     "name": "stdout",
     "output_type": "stream",
     "text": [
      "Diag_class1: 57085 => 49112\n",
      "Elp_class1: 144069 => 126055\n",
      "Ei_class1: 7289 => 5822\n",
      "Pdf_class1: 44964 => 40007\n",
      "Pdnf_class1: 4236 => 3153\n",
      "Pnd_class1: 53463 => 47128\n"
     ]
    }
   ],
   "source": [
    "aux = diag_class1.shape[0]\n",
    "diag_class1 = dropLastSixMonths(diag_class1, ap_class1)\n",
    "print(f\"Diag_class1: {aux} => {diag_class1.shape[0]}\")\n",
    "\n",
    "aux = elp_class1.shape[0]\n",
    "elp_class1 = dropLastSixMonths(elp_class1, ap_class1)\n",
    "print(f\"Elp_class1: {aux} => {elp_class1.shape[0]}\")\n",
    "\n",
    "aux = ei_class1.shape[0]\n",
    "ei_class1 = dropLastSixMonths(ei_class1, ap_class1)\n",
    "print(f\"Ei_class1: {aux} => {ei_class1.shape[0]}\")\n",
    "\n",
    "aux = pdf_class1.shape[0]\n",
    "pdf_class1 = dropLastSixMonths(pdf_class1, ap_class1)\n",
    "print(f\"Pdf_class1: {aux} => {pdf_class1.shape[0]}\")\n",
    "\n",
    "aux = pdnf_class1.shape[0]\n",
    "pdnf_class1 = dropLastSixMonths(pdnf_class1, ap_class1)\n",
    "print(f\"Pdnf_class1: {aux} => {pdnf_class1.shape[0]}\")\n",
    "\n",
    "aux = pnd_class1.shape[0]\n",
    "pnd_class1 = dropLastSixMonths(pnd_class1, ap_class1)\n",
    "print(f\"Pnd_class1: {aux} => {pnd_class1.shape[0]}\")"
   ]
  },
  {
   "attachments": {},
   "cell_type": "markdown",
   "metadata": {},
   "source": [
    "At this point, we are done with the **ap_class0** patients, so we focus on the **ap_class1** ones. We now have to create $m$ (= 10 for example) copies of each patient $p_i$ such that $y(p_i)=1$, and we shuffle or eliminate cardiovascular events randomly just to *oversample* the dataset:"
   ]
  },
  {
   "cell_type": "code",
   "execution_count": null,
   "metadata": {},
   "outputs": [],
   "source": [
    "def newMCopies(patients:pd.DataFrame, copies:int) -> pd.DataFrame:\n",
    "\n",
    "    newPatients = pd.DataFrame(columns=patients.columns)\n",
    "    \n",
    "    for p in patients.itertuples():\n",
    "        # TO DO - Habría que crear en la tabla ap_class1 una nueva columna llamada idcopy para que cada paciente se \n",
    "        # identificase como (idcentro,idana,idcopy). Para cada idcopy fijado, todos los pacientes son iguales\n",
    "\n",
    "    return newPatients"
   ]
  },
  {
   "cell_type": "code",
   "execution_count": null,
   "metadata": {},
   "outputs": [],
   "source": [
    "def oversamplingClass1(df:pd.DataFrame, patients:pd.DataFrame, m:int) -> pd.DataFrame:\n",
    "    newAp_class1 = newMCopies(patients=ap_class1, copies=m)\n",
    "    for p in patients.itertuples():\n",
    "        # TO DO - aquí habría que crear también para cada evento una columna idcopy para asociarlo al paciente concreto, y ya pues\n",
    "        # investigar como hacer el shuffle aleatoriamente para cada paciente.\n",
    "    return None"
   ]
  },
  {
   "cell_type": "code",
   "execution_count": null,
   "metadata": {},
   "outputs": [],
   "source": [
    "M = 10\n",
    "diag_class1 = oversamplingClass1(df=diag_class1, patients=ap_class1, m=M)"
   ]
  },
  {
   "attachments": {},
   "cell_type": "markdown",
   "metadata": {},
   "source": [
    "## Exercise 2"
   ]
  },
  {
   "attachments": {},
   "cell_type": "markdown",
   "metadata": {},
   "source": [
    "*Class Imbalance #2* - Action item *#1* isn't going to be sufficient for balancing purposes. Propose your balancing strategy - possibly an advanced approach - and evaluate: \n",
    "- **vanilla-LTSM** (*Exercise 2.1*)\n",
    "- **T-LTSM** (*Exercise 2.2*)\n",
    "- **PubMedBert** (*Exercise 2.3*) \n",
    "\n",
    "on the balanced version of the dataset."
   ]
  },
  {
   "attachments": {},
   "cell_type": "markdown",
   "metadata": {},
   "source": [
    "### Balancing Strategy Definition"
   ]
  },
  {
   "attachments": {},
   "cell_type": "markdown",
   "metadata": {},
   "source": [
    "### Exercise 2.1"
   ]
  },
  {
   "attachments": {},
   "cell_type": "markdown",
   "metadata": {},
   "source": [
    "### Exercise 2.2"
   ]
  },
  {
   "attachments": {},
   "cell_type": "markdown",
   "metadata": {},
   "source": [
    "### Exercise 2.3"
   ]
  }
 ],
 "metadata": {
  "kernelspec": {
   "display_name": "base",
   "language": "python",
   "name": "python3"
  },
  "language_info": {
   "codemirror_mode": {
    "name": "ipython",
    "version": 3
   },
   "file_extension": ".py",
   "mimetype": "text/x-python",
   "name": "python",
   "nbconvert_exporter": "python",
   "pygments_lexer": "ipython3",
   "version": "3.9.13"
  },
  "orig_nbformat": 4
 },
 "nbformat": 4,
 "nbformat_minor": 2
}
