{
  "cells": [
    {
      "attachments": {},
      "cell_type": "markdown",
      "metadata": {
        "id": "NiPXdo-kCkHz"
      },
      "source": [
        "# Index\n",
        "\n",
        "- **Python Libraries**\n",
        "- **Task 2**\n",
        "    - *Reading Preprocessed Datasets*\n",
        "    - *Exercise 1*\n",
        "    - *Exercise 2*\n",
        "        - *Balancing Strategy Definition*\n",
        "        - *Exercise 2.1*\n",
        "        - *Exercise 2.2*\n",
        "        - *Exercise 2.3*\n",
        "    - *Exercise 3 - Concentration*\n",
        "    - *Writing Balanced Datasets*\n"
      ]
    },
    {
      "attachments": {},
      "cell_type": "markdown",
      "metadata": {},
      "source": [
        "# Pyhton Libraries"
      ]
    },
    {
      "cell_type": "code",
      "execution_count": 1,
      "metadata": {
        "id": "pdZsvyPnCkH1"
      },
      "outputs": [],
      "source": [
        "import torch\n",
        "import pandas as pd\n",
        "import numpy as np\n",
        "import datetime as dt\n",
        "import random"
      ]
    },
    {
      "attachments": {},
      "cell_type": "markdown",
      "metadata": {
        "id": "a01OamAeCkH1"
      },
      "source": [
        "# Task 2"
      ]
    },
    {
      "attachments": {},
      "cell_type": "markdown",
      "metadata": {
        "id": "St-alWW2CkH2"
      },
      "source": [
        "## Reading Preprocessed Datasets"
      ]
    },
    {
      "cell_type": "code",
      "execution_count": 2,
      "metadata": {
        "id": "fU7Cio1dCkH2"
      },
      "outputs": [],
      "source": [
        "read_data_path  = \"../../data/dataset_preprocessed\"\n",
        "\n",
        "ap   = pd.read_csv(read_data_path+'/anagraficapazientiattivi.csv', header=0 ,names=['idcentro','idana','sesso','annodiagnosidiabete','tipodiabete','annonascita','annoprimoaccesso','annodecesso','label'])\n",
        "diag = pd.read_csv(read_data_path+'/diagnosi.csv', header=0 ,names=['idcentro','idana','data','codiceamd','valore'])\n",
        "elp  = pd.read_csv(read_data_path+'/esamilaboratorioparametri.csv', header=0 ,names=['idcentro','idana','data','codiceamd','valore'])\n",
        "ei   = pd.read_csv(read_data_path+'/esamistrumentali.csv', header=0 ,names=['idcentro','idana','data','codiceamd','valore'])\n",
        "pdf  = pd.read_csv(read_data_path+'/prescrizionidiabetefarmaci.csv', header=0 ,names=['idcentro','idana','data','codiceatc','quantita','idpasto','descrizionefarmaco'])\n",
        "pdnf = pd.read_csv(read_data_path+'/prescrizionidiabetenonfarmaci.csv', header=0 ,names=['idcentro','idana','data','codiceamd','valore'])\n",
        "pnd  = pd.read_csv(read_data_path+'/prescrizioninondiabete.csv', header=0 ,names=['idcentro','idana','data','codiceamd','valore'])"
      ]
    },
    {
      "cell_type": "code",
      "execution_count": 3,
      "metadata": {
        "colab": {
          "base_uri": "https://localhost:8080/",
          "height": 223
        },
        "id": "SEq39Ou9CkH2",
        "outputId": "26785c93-4b5f-422a-be6a-39c7236be37c"
      },
      "outputs": [
        {
          "name": "stdout",
          "output_type": "stream",
          "text": [
            "(1555, 9)\n"
          ]
        },
        {
          "data": {
            "text/html": [
              "<div>\n",
              "<style scoped>\n",
              "    .dataframe tbody tr th:only-of-type {\n",
              "        vertical-align: middle;\n",
              "    }\n",
              "\n",
              "    .dataframe tbody tr th {\n",
              "        vertical-align: top;\n",
              "    }\n",
              "\n",
              "    .dataframe thead th {\n",
              "        text-align: right;\n",
              "    }\n",
              "</style>\n",
              "<table border=\"1\" class=\"dataframe\">\n",
              "  <thead>\n",
              "    <tr style=\"text-align: right;\">\n",
              "      <th></th>\n",
              "      <th>idcentro</th>\n",
              "      <th>idana</th>\n",
              "      <th>sesso</th>\n",
              "      <th>annodiagnosidiabete</th>\n",
              "      <th>tipodiabete</th>\n",
              "      <th>annonascita</th>\n",
              "      <th>annoprimoaccesso</th>\n",
              "      <th>annodecesso</th>\n",
              "      <th>label</th>\n",
              "    </tr>\n",
              "  </thead>\n",
              "  <tbody>\n",
              "    <tr>\n",
              "      <th>0</th>\n",
              "      <td>1</td>\n",
              "      <td>5</td>\n",
              "      <td>M</td>\n",
              "      <td>1986.0</td>\n",
              "      <td>5</td>\n",
              "      <td>1942</td>\n",
              "      <td>1990.0</td>\n",
              "      <td>2014.0</td>\n",
              "      <td>1</td>\n",
              "    </tr>\n",
              "    <tr>\n",
              "      <th>1</th>\n",
              "      <td>1</td>\n",
              "      <td>65</td>\n",
              "      <td>M</td>\n",
              "      <td>1997.0</td>\n",
              "      <td>5</td>\n",
              "      <td>1942</td>\n",
              "      <td>1997.0</td>\n",
              "      <td>2018.0</td>\n",
              "      <td>1</td>\n",
              "    </tr>\n",
              "    <tr>\n",
              "      <th>2</th>\n",
              "      <td>1</td>\n",
              "      <td>74</td>\n",
              "      <td>M</td>\n",
              "      <td>1995.0</td>\n",
              "      <td>5</td>\n",
              "      <td>1930</td>\n",
              "      <td>1996.0</td>\n",
              "      <td>2013.0</td>\n",
              "      <td>0</td>\n",
              "    </tr>\n",
              "    <tr>\n",
              "      <th>3</th>\n",
              "      <td>1</td>\n",
              "      <td>143</td>\n",
              "      <td>M</td>\n",
              "      <td>1991.0</td>\n",
              "      <td>5</td>\n",
              "      <td>1934</td>\n",
              "      <td>1991.0</td>\n",
              "      <td>2015.0</td>\n",
              "      <td>0</td>\n",
              "    </tr>\n",
              "    <tr>\n",
              "      <th>4</th>\n",
              "      <td>1</td>\n",
              "      <td>173</td>\n",
              "      <td>M</td>\n",
              "      <td>1988.0</td>\n",
              "      <td>5</td>\n",
              "      <td>1939</td>\n",
              "      <td>1988.0</td>\n",
              "      <td>2012.0</td>\n",
              "      <td>1</td>\n",
              "    </tr>\n",
              "  </tbody>\n",
              "</table>\n",
              "</div>"
            ],
            "text/plain": [
              "   idcentro  idana sesso  annodiagnosidiabete  tipodiabete  annonascita  \\\n",
              "0         1      5     M               1986.0            5         1942   \n",
              "1         1     65     M               1997.0            5         1942   \n",
              "2         1     74     M               1995.0            5         1930   \n",
              "3         1    143     M               1991.0            5         1934   \n",
              "4         1    173     M               1988.0            5         1939   \n",
              "\n",
              "   annoprimoaccesso  annodecesso  label  \n",
              "0            1990.0       2014.0      1  \n",
              "1            1997.0       2018.0      1  \n",
              "2            1996.0       2013.0      0  \n",
              "3            1991.0       2015.0      0  \n",
              "4            1988.0       2012.0      1  "
            ]
          },
          "execution_count": 3,
          "metadata": {},
          "output_type": "execute_result"
        }
      ],
      "source": [
        "print(ap.shape)\n",
        "ap.head()"
      ]
    },
    {
      "cell_type": "code",
      "execution_count": 4,
      "metadata": {
        "colab": {
          "base_uri": "https://localhost:8080/",
          "height": 223
        },
        "id": "m3mErt_9CkH3",
        "outputId": "895e117b-b843-48f1-be74-104555b14175"
      },
      "outputs": [
        {
          "name": "stdout",
          "output_type": "stream",
          "text": [
            "(106999, 5)\n"
          ]
        },
        {
          "data": {
            "text/html": [
              "<div>\n",
              "<style scoped>\n",
              "    .dataframe tbody tr th:only-of-type {\n",
              "        vertical-align: middle;\n",
              "    }\n",
              "\n",
              "    .dataframe tbody tr th {\n",
              "        vertical-align: top;\n",
              "    }\n",
              "\n",
              "    .dataframe thead th {\n",
              "        text-align: right;\n",
              "    }\n",
              "</style>\n",
              "<table border=\"1\" class=\"dataframe\">\n",
              "  <thead>\n",
              "    <tr style=\"text-align: right;\">\n",
              "      <th></th>\n",
              "      <th>idcentro</th>\n",
              "      <th>idana</th>\n",
              "      <th>data</th>\n",
              "      <th>codiceamd</th>\n",
              "      <th>valore</th>\n",
              "    </tr>\n",
              "  </thead>\n",
              "  <tbody>\n",
              "    <tr>\n",
              "      <th>0</th>\n",
              "      <td>1</td>\n",
              "      <td>5</td>\n",
              "      <td>1997-12-01</td>\n",
              "      <td>AMD247</td>\n",
              "      <td>410</td>\n",
              "    </tr>\n",
              "    <tr>\n",
              "      <th>1</th>\n",
              "      <td>1</td>\n",
              "      <td>5</td>\n",
              "      <td>2000-06-01</td>\n",
              "      <td>AMD247</td>\n",
              "      <td>434.01</td>\n",
              "    </tr>\n",
              "    <tr>\n",
              "      <th>2</th>\n",
              "      <td>1</td>\n",
              "      <td>5</td>\n",
              "      <td>2000-06-01</td>\n",
              "      <td>AMD247</td>\n",
              "      <td>434.91</td>\n",
              "    </tr>\n",
              "    <tr>\n",
              "      <th>3</th>\n",
              "      <td>1</td>\n",
              "      <td>5</td>\n",
              "      <td>2000-12-02</td>\n",
              "      <td>AMD049</td>\n",
              "      <td>S</td>\n",
              "    </tr>\n",
              "    <tr>\n",
              "      <th>4</th>\n",
              "      <td>1</td>\n",
              "      <td>5</td>\n",
              "      <td>2000-12-02</td>\n",
              "      <td>AMD247</td>\n",
              "      <td>36.10</td>\n",
              "    </tr>\n",
              "  </tbody>\n",
              "</table>\n",
              "</div>"
            ],
            "text/plain": [
              "   idcentro  idana        data codiceamd  valore\n",
              "0         1      5  1997-12-01    AMD247     410\n",
              "1         1      5  2000-06-01    AMD247  434.01\n",
              "2         1      5  2000-06-01    AMD247  434.91\n",
              "3         1      5  2000-12-02    AMD049       S\n",
              "4         1      5  2000-12-02    AMD247   36.10"
            ]
          },
          "execution_count": 4,
          "metadata": {},
          "output_type": "execute_result"
        }
      ],
      "source": [
        "print(diag.shape)\n",
        "diag.head()"
      ]
    },
    {
      "cell_type": "code",
      "execution_count": 5,
      "metadata": {
        "colab": {
          "base_uri": "https://localhost:8080/",
          "height": 223
        },
        "id": "1OtzBQNcCkH3",
        "outputId": "626f1382-8a04-4138-ee72-530449ec7565"
      },
      "outputs": [
        {
          "name": "stdout",
          "output_type": "stream",
          "text": [
            "(312389, 5)\n"
          ]
        },
        {
          "data": {
            "text/html": [
              "<div>\n",
              "<style scoped>\n",
              "    .dataframe tbody tr th:only-of-type {\n",
              "        vertical-align: middle;\n",
              "    }\n",
              "\n",
              "    .dataframe tbody tr th {\n",
              "        vertical-align: top;\n",
              "    }\n",
              "\n",
              "    .dataframe thead th {\n",
              "        text-align: right;\n",
              "    }\n",
              "</style>\n",
              "<table border=\"1\" class=\"dataframe\">\n",
              "  <thead>\n",
              "    <tr style=\"text-align: right;\">\n",
              "      <th></th>\n",
              "      <th>idcentro</th>\n",
              "      <th>idana</th>\n",
              "      <th>data</th>\n",
              "      <th>codiceamd</th>\n",
              "      <th>valore</th>\n",
              "    </tr>\n",
              "  </thead>\n",
              "  <tbody>\n",
              "    <tr>\n",
              "      <th>0</th>\n",
              "      <td>1</td>\n",
              "      <td>5</td>\n",
              "      <td>2005-01-18</td>\n",
              "      <td>AMD001</td>\n",
              "      <td>169.000000</td>\n",
              "    </tr>\n",
              "    <tr>\n",
              "      <th>1</th>\n",
              "      <td>1</td>\n",
              "      <td>5</td>\n",
              "      <td>2005-01-18</td>\n",
              "      <td>AMD002</td>\n",
              "      <td>76.000000</td>\n",
              "    </tr>\n",
              "    <tr>\n",
              "      <th>2</th>\n",
              "      <td>1</td>\n",
              "      <td>5</td>\n",
              "      <td>2005-01-18</td>\n",
              "      <td>AMD004</td>\n",
              "      <td>90.232558</td>\n",
              "    </tr>\n",
              "    <tr>\n",
              "      <th>3</th>\n",
              "      <td>1</td>\n",
              "      <td>5</td>\n",
              "      <td>2005-01-18</td>\n",
              "      <td>AMD005</td>\n",
              "      <td>49.600000</td>\n",
              "    </tr>\n",
              "    <tr>\n",
              "      <th>4</th>\n",
              "      <td>1</td>\n",
              "      <td>5</td>\n",
              "      <td>2005-06-06</td>\n",
              "      <td>AMD007</td>\n",
              "      <td>138.225058</td>\n",
              "    </tr>\n",
              "  </tbody>\n",
              "</table>\n",
              "</div>"
            ],
            "text/plain": [
              "   idcentro  idana        data codiceamd      valore\n",
              "0         1      5  2005-01-18    AMD001  169.000000\n",
              "1         1      5  2005-01-18    AMD002   76.000000\n",
              "2         1      5  2005-01-18    AMD004   90.232558\n",
              "3         1      5  2005-01-18    AMD005   49.600000\n",
              "4         1      5  2005-06-06    AMD007  138.225058"
            ]
          },
          "execution_count": 5,
          "metadata": {},
          "output_type": "execute_result"
        }
      ],
      "source": [
        "print(elp.shape)\n",
        "elp.head()"
      ]
    },
    {
      "cell_type": "code",
      "execution_count": 6,
      "metadata": {
        "colab": {
          "base_uri": "https://localhost:8080/",
          "height": 223
        },
        "id": "J6AW3XhFCkH3",
        "outputId": "23239c62-de32-407d-b06b-62f50af222f1"
      },
      "outputs": [
        {
          "name": "stdout",
          "output_type": "stream",
          "text": [
            "(15114, 5)\n"
          ]
        },
        {
          "data": {
            "text/html": [
              "<div>\n",
              "<style scoped>\n",
              "    .dataframe tbody tr th:only-of-type {\n",
              "        vertical-align: middle;\n",
              "    }\n",
              "\n",
              "    .dataframe tbody tr th {\n",
              "        vertical-align: top;\n",
              "    }\n",
              "\n",
              "    .dataframe thead th {\n",
              "        text-align: right;\n",
              "    }\n",
              "</style>\n",
              "<table border=\"1\" class=\"dataframe\">\n",
              "  <thead>\n",
              "    <tr style=\"text-align: right;\">\n",
              "      <th></th>\n",
              "      <th>idcentro</th>\n",
              "      <th>idana</th>\n",
              "      <th>data</th>\n",
              "      <th>codiceamd</th>\n",
              "      <th>valore</th>\n",
              "    </tr>\n",
              "  </thead>\n",
              "  <tbody>\n",
              "    <tr>\n",
              "      <th>0</th>\n",
              "      <td>1</td>\n",
              "      <td>5</td>\n",
              "      <td>2006-01-04</td>\n",
              "      <td>AMD051</td>\n",
              "      <td>N</td>\n",
              "    </tr>\n",
              "    <tr>\n",
              "      <th>1</th>\n",
              "      <td>1</td>\n",
              "      <td>5</td>\n",
              "      <td>2006-11-14</td>\n",
              "      <td>AMD041</td>\n",
              "      <td>P</td>\n",
              "    </tr>\n",
              "    <tr>\n",
              "      <th>2</th>\n",
              "      <td>1</td>\n",
              "      <td>5</td>\n",
              "      <td>2006-11-20</td>\n",
              "      <td>AMD040</td>\n",
              "      <td>P</td>\n",
              "    </tr>\n",
              "    <tr>\n",
              "      <th>3</th>\n",
              "      <td>1</td>\n",
              "      <td>5</td>\n",
              "      <td>2007-06-01</td>\n",
              "      <td>AMD040</td>\n",
              "      <td>N</td>\n",
              "    </tr>\n",
              "    <tr>\n",
              "      <th>4</th>\n",
              "      <td>1</td>\n",
              "      <td>5</td>\n",
              "      <td>2008-01-16</td>\n",
              "      <td>AMD040</td>\n",
              "      <td>N</td>\n",
              "    </tr>\n",
              "  </tbody>\n",
              "</table>\n",
              "</div>"
            ],
            "text/plain": [
              "   idcentro  idana        data codiceamd valore\n",
              "0         1      5  2006-01-04    AMD051      N\n",
              "1         1      5  2006-11-14    AMD041      P\n",
              "2         1      5  2006-11-20    AMD040      P\n",
              "3         1      5  2007-06-01    AMD040      N\n",
              "4         1      5  2008-01-16    AMD040      N"
            ]
          },
          "execution_count": 6,
          "metadata": {},
          "output_type": "execute_result"
        }
      ],
      "source": [
        "print(ei.shape)\n",
        "ei.head()"
      ]
    },
    {
      "cell_type": "code",
      "execution_count": 7,
      "metadata": {
        "colab": {
          "base_uri": "https://localhost:8080/",
          "height": 223
        },
        "id": "I3mo2u0MCkH4",
        "outputId": "16c65127-8d64-41c2-dbb5-91834b837d57"
      },
      "outputs": [
        {
          "name": "stdout",
          "output_type": "stream",
          "text": [
            "(94228, 7)\n"
          ]
        },
        {
          "data": {
            "text/html": [
              "<div>\n",
              "<style scoped>\n",
              "    .dataframe tbody tr th:only-of-type {\n",
              "        vertical-align: middle;\n",
              "    }\n",
              "\n",
              "    .dataframe tbody tr th {\n",
              "        vertical-align: top;\n",
              "    }\n",
              "\n",
              "    .dataframe thead th {\n",
              "        text-align: right;\n",
              "    }\n",
              "</style>\n",
              "<table border=\"1\" class=\"dataframe\">\n",
              "  <thead>\n",
              "    <tr style=\"text-align: right;\">\n",
              "      <th></th>\n",
              "      <th>idcentro</th>\n",
              "      <th>idana</th>\n",
              "      <th>data</th>\n",
              "      <th>codiceatc</th>\n",
              "      <th>quantita</th>\n",
              "      <th>idpasto</th>\n",
              "      <th>descrizionefarmaco</th>\n",
              "    </tr>\n",
              "  </thead>\n",
              "  <tbody>\n",
              "    <tr>\n",
              "      <th>0</th>\n",
              "      <td>1</td>\n",
              "      <td>5</td>\n",
              "      <td>2005-01-18</td>\n",
              "      <td>A10BA02</td>\n",
              "      <td>2.0</td>\n",
              "      <td>1.0</td>\n",
              "      <td>METFORAL*50CPR RIV 500mg</td>\n",
              "    </tr>\n",
              "    <tr>\n",
              "      <th>1</th>\n",
              "      <td>1</td>\n",
              "      <td>5</td>\n",
              "      <td>2005-01-18</td>\n",
              "      <td>A10BA02</td>\n",
              "      <td>2.0</td>\n",
              "      <td>3.0</td>\n",
              "      <td>METFORAL*50CPR RIV 500mg</td>\n",
              "    </tr>\n",
              "    <tr>\n",
              "      <th>2</th>\n",
              "      <td>1</td>\n",
              "      <td>5</td>\n",
              "      <td>2005-01-18</td>\n",
              "      <td>A10BA02</td>\n",
              "      <td>2.0</td>\n",
              "      <td>5.0</td>\n",
              "      <td>METFORAL*50CPR RIV 500mg</td>\n",
              "    </tr>\n",
              "    <tr>\n",
              "      <th>3</th>\n",
              "      <td>1</td>\n",
              "      <td>5</td>\n",
              "      <td>2005-01-18</td>\n",
              "      <td>A10BB12</td>\n",
              "      <td>1.0</td>\n",
              "      <td>3.0</td>\n",
              "      <td>AMARYL*30CPR 2mg</td>\n",
              "    </tr>\n",
              "    <tr>\n",
              "      <th>4</th>\n",
              "      <td>1</td>\n",
              "      <td>5</td>\n",
              "      <td>2005-06-21</td>\n",
              "      <td>A10BA02</td>\n",
              "      <td>2.0</td>\n",
              "      <td>1.0</td>\n",
              "      <td>METFORAL*50CPR RIV 500mg</td>\n",
              "    </tr>\n",
              "  </tbody>\n",
              "</table>\n",
              "</div>"
            ],
            "text/plain": [
              "   idcentro  idana        data codiceatc  quantita  idpasto  \\\n",
              "0         1      5  2005-01-18   A10BA02       2.0      1.0   \n",
              "1         1      5  2005-01-18   A10BA02       2.0      3.0   \n",
              "2         1      5  2005-01-18   A10BA02       2.0      5.0   \n",
              "3         1      5  2005-01-18   A10BB12       1.0      3.0   \n",
              "4         1      5  2005-06-21   A10BA02       2.0      1.0   \n",
              "\n",
              "         descrizionefarmaco  \n",
              "0  METFORAL*50CPR RIV 500mg  \n",
              "1  METFORAL*50CPR RIV 500mg  \n",
              "2  METFORAL*50CPR RIV 500mg  \n",
              "3          AMARYL*30CPR 2mg  \n",
              "4  METFORAL*50CPR RIV 500mg  "
            ]
          },
          "execution_count": 7,
          "metadata": {},
          "output_type": "execute_result"
        }
      ],
      "source": [
        "print(pdf.shape)\n",
        "pdf.head()"
      ]
    },
    {
      "cell_type": "code",
      "execution_count": 8,
      "metadata": {
        "colab": {
          "base_uri": "https://localhost:8080/",
          "height": 223
        },
        "id": "BhA-S6tVCkH4",
        "outputId": "b7ac8ecc-13b1-4ad5-f7f6-d61de2579eef"
      },
      "outputs": [
        {
          "name": "stdout",
          "output_type": "stream",
          "text": [
            "(9954, 5)\n"
          ]
        },
        {
          "data": {
            "text/html": [
              "<div>\n",
              "<style scoped>\n",
              "    .dataframe tbody tr th:only-of-type {\n",
              "        vertical-align: middle;\n",
              "    }\n",
              "\n",
              "    .dataframe tbody tr th {\n",
              "        vertical-align: top;\n",
              "    }\n",
              "\n",
              "    .dataframe thead th {\n",
              "        text-align: right;\n",
              "    }\n",
              "</style>\n",
              "<table border=\"1\" class=\"dataframe\">\n",
              "  <thead>\n",
              "    <tr style=\"text-align: right;\">\n",
              "      <th></th>\n",
              "      <th>idcentro</th>\n",
              "      <th>idana</th>\n",
              "      <th>data</th>\n",
              "      <th>codiceamd</th>\n",
              "      <th>valore</th>\n",
              "    </tr>\n",
              "  </thead>\n",
              "  <tbody>\n",
              "    <tr>\n",
              "      <th>0</th>\n",
              "      <td>1</td>\n",
              "      <td>5</td>\n",
              "      <td>2008-06-20</td>\n",
              "      <td>AMD152</td>\n",
              "      <td>NaN</td>\n",
              "    </tr>\n",
              "    <tr>\n",
              "      <th>1</th>\n",
              "      <td>1</td>\n",
              "      <td>5</td>\n",
              "      <td>2013-08-27</td>\n",
              "      <td>AMD152</td>\n",
              "      <td>NaN</td>\n",
              "    </tr>\n",
              "    <tr>\n",
              "      <th>2</th>\n",
              "      <td>1</td>\n",
              "      <td>5</td>\n",
              "      <td>2013-12-31</td>\n",
              "      <td>AMD086</td>\n",
              "      <td>S</td>\n",
              "    </tr>\n",
              "    <tr>\n",
              "      <th>3</th>\n",
              "      <td>1</td>\n",
              "      <td>5</td>\n",
              "      <td>2013-12-31</td>\n",
              "      <td>AMD228</td>\n",
              "      <td>S</td>\n",
              "    </tr>\n",
              "    <tr>\n",
              "      <th>4</th>\n",
              "      <td>1</td>\n",
              "      <td>65</td>\n",
              "      <td>2014-12-19</td>\n",
              "      <td>AMD228</td>\n",
              "      <td>S</td>\n",
              "    </tr>\n",
              "  </tbody>\n",
              "</table>\n",
              "</div>"
            ],
            "text/plain": [
              "   idcentro  idana        data codiceamd valore\n",
              "0         1      5  2008-06-20    AMD152    NaN\n",
              "1         1      5  2013-08-27    AMD152    NaN\n",
              "2         1      5  2013-12-31    AMD086      S\n",
              "3         1      5  2013-12-31    AMD228      S\n",
              "4         1     65  2014-12-19    AMD228      S"
            ]
          },
          "execution_count": 8,
          "metadata": {},
          "output_type": "execute_result"
        }
      ],
      "source": [
        "print(pdnf.shape)\n",
        "pdnf.head()"
      ]
    },
    {
      "cell_type": "code",
      "execution_count": 9,
      "metadata": {
        "colab": {
          "base_uri": "https://localhost:8080/",
          "height": 223
        },
        "id": "PC5EAcicCkH4",
        "outputId": "d5393d4f-1157-4343-9e68-1be7819364a0"
      },
      "outputs": [
        {
          "name": "stdout",
          "output_type": "stream",
          "text": [
            "(105297, 5)\n"
          ]
        },
        {
          "data": {
            "text/html": [
              "<div>\n",
              "<style scoped>\n",
              "    .dataframe tbody tr th:only-of-type {\n",
              "        vertical-align: middle;\n",
              "    }\n",
              "\n",
              "    .dataframe tbody tr th {\n",
              "        vertical-align: top;\n",
              "    }\n",
              "\n",
              "    .dataframe thead th {\n",
              "        text-align: right;\n",
              "    }\n",
              "</style>\n",
              "<table border=\"1\" class=\"dataframe\">\n",
              "  <thead>\n",
              "    <tr style=\"text-align: right;\">\n",
              "      <th></th>\n",
              "      <th>idcentro</th>\n",
              "      <th>idana</th>\n",
              "      <th>data</th>\n",
              "      <th>codiceamd</th>\n",
              "      <th>valore</th>\n",
              "    </tr>\n",
              "  </thead>\n",
              "  <tbody>\n",
              "    <tr>\n",
              "      <th>0</th>\n",
              "      <td>1</td>\n",
              "      <td>5</td>\n",
              "      <td>2005-01-18</td>\n",
              "      <td>AMD121</td>\n",
              "      <td>C09AA05</td>\n",
              "    </tr>\n",
              "    <tr>\n",
              "      <th>1</th>\n",
              "      <td>1</td>\n",
              "      <td>5</td>\n",
              "      <td>2005-01-18</td>\n",
              "      <td>AMD124</td>\n",
              "      <td>C10AA05</td>\n",
              "    </tr>\n",
              "    <tr>\n",
              "      <th>2</th>\n",
              "      <td>1</td>\n",
              "      <td>5</td>\n",
              "      <td>2005-01-18</td>\n",
              "      <td>AMD124</td>\n",
              "      <td>C10AX06</td>\n",
              "    </tr>\n",
              "    <tr>\n",
              "      <th>3</th>\n",
              "      <td>1</td>\n",
              "      <td>5</td>\n",
              "      <td>2005-06-21</td>\n",
              "      <td>AMD121</td>\n",
              "      <td>C09AA05</td>\n",
              "    </tr>\n",
              "    <tr>\n",
              "      <th>4</th>\n",
              "      <td>1</td>\n",
              "      <td>5</td>\n",
              "      <td>2005-06-21</td>\n",
              "      <td>AMD124</td>\n",
              "      <td>C10AA05</td>\n",
              "    </tr>\n",
              "  </tbody>\n",
              "</table>\n",
              "</div>"
            ],
            "text/plain": [
              "   idcentro  idana        data codiceamd   valore\n",
              "0         1      5  2005-01-18    AMD121  C09AA05\n",
              "1         1      5  2005-01-18    AMD124  C10AA05\n",
              "2         1      5  2005-01-18    AMD124  C10AX06\n",
              "3         1      5  2005-06-21    AMD121  C09AA05\n",
              "4         1      5  2005-06-21    AMD124  C10AA05"
            ]
          },
          "execution_count": 9,
          "metadata": {},
          "output_type": "execute_result"
        }
      ],
      "source": [
        "print(pnd.shape)\n",
        "pnd.head()"
      ]
    },
    {
      "attachments": {},
      "cell_type": "markdown",
      "metadata": {
        "id": "8p0tysWcCkH5"
      },
      "source": [
        "## Exercise 1"
      ]
    },
    {
      "attachments": {},
      "cell_type": "markdown",
      "metadata": {
        "id": "nI9RslMbCkH5"
      },
      "source": [
        "*Class imbalance #1* - not all patients will have a cardiovascular event within the stabilised six-month period. Thus, we would expect that the class distribution is highly imbalanced. \n",
        "\n",
        "- For each patient $p_i$ such that $y(p_i)=0$, eliminate the last six months of history to avoid giving the model prediction hints into the future. \n",
        "- For each patient $p_i$ such that $y(p_i)=1$, create $m$ copies $\\lbrace p_i^1, \\cdots, p_i^m \\rbrace$ such that all the cardiovascular events in the last six months are eliminated, and the other events are shuffled and cancelled at random.\n",
        "\n",
        "In this way, you have a sort of balancing criterion (i.e., up-sampling the minority class)."
      ]
    },
    {
      "attachments": {},
      "cell_type": "markdown",
      "metadata": {
        "id": "SWCDqbYvCkH6"
      },
      "source": [
        "First we divide the **ap** dataframe into:\n",
        "- **ap_class0** each patient $p_i$ has $y(p_i)=0$\n",
        "- **ap_class1** each patient $p_i$ has $y(p_i)=1$"
      ]
    },
    {
      "cell_type": "code",
      "execution_count": 10,
      "metadata": {
        "colab": {
          "base_uri": "https://localhost:8080/"
        },
        "id": "jsXscj6ICkH6",
        "outputId": "3d9a7a33-16e2-4a72-bb70-a79314291bf3"
      },
      "outputs": [
        {
          "name": "stdout",
          "output_type": "stream",
          "text": [
            "ap has size        => (1555, 9)\n",
            "ap_class0 has size => (868, 9)\n",
            "ap_class1 has size => (687, 9)\n"
          ]
        }
      ],
      "source": [
        "print(f\"ap has size        => {ap.shape}\")\n",
        "ap_class0 = ap[ap.label == 0]\n",
        "print(f\"ap_class0 has size => {ap_class0.shape}\")\n",
        "ap_class1 = ap[ap.label == 1]\n",
        "print(f\"ap_class1 has size => {ap_class1.shape}\")\n"
      ]
    },
    {
      "attachments": {},
      "cell_type": "markdown",
      "metadata": {
        "id": "0C5GFZSoCkH6"
      },
      "source": [
        "And now the rest of the dataframes are also divided into **df_class0** and **df_class1** following the same criteria:"
      ]
    },
    {
      "cell_type": "code",
      "execution_count": 11,
      "metadata": {
        "id": "HTzK_IGyCkH6"
      },
      "outputs": [],
      "source": [
        "diag_class0 = pd.merge(diag, ap_class0, on=['idcentro','idana'])[diag.columns]\n",
        "elp_class0  = pd.merge(elp, ap_class0, on=['idcentro','idana'])[elp.columns]\n",
        "ei_class0   = pd.merge(ei, ap_class0, on=['idcentro','idana'])[ei.columns]\n",
        "pdf_class0  = pd.merge(pdf, ap_class0, on=['idcentro','idana'])[pdf.columns]\n",
        "pdnf_class0 = pd.merge(pdnf, ap_class0, on=['idcentro','idana'])[pdnf.columns]\n",
        "pnd_class0  = pd.merge(pnd, ap_class0, on=['idcentro','idana'])[pnd.columns]\n",
        "\n",
        "diag_class1 = pd.merge(diag, ap_class1, on=['idcentro','idana'])[diag.columns]\n",
        "elp_class1  = pd.merge(elp, ap_class1, on=['idcentro','idana'])[elp.columns]\n",
        "ei_class1   = pd.merge(ei, ap_class1, on=['idcentro','idana'])[ei.columns]\n",
        "pdf_class1  = pd.merge(pdf, ap_class1, on=['idcentro','idana'])[pdf.columns]\n",
        "pdnf_class1 = pd.merge(pdnf, ap_class1, on=['idcentro','idana'])[pdnf.columns]\n",
        "pnd_class1  = pd.merge(pnd, ap_class1, on=['idcentro','idana'])[pnd.columns]"
      ]
    },
    {
      "attachments": {},
      "cell_type": "markdown",
      "metadata": {
        "id": "cUu5jjlBCkH6"
      },
      "source": [
        "We define a function that eliminates the events during the last 6 months for each patient"
      ]
    },
    {
      "cell_type": "code",
      "execution_count": 12,
      "metadata": {
        "id": "UO7WjuqkCkH6"
      },
      "outputs": [],
      "source": [
        "def dropLastSixMonths(df:pd.DataFrame, patients: pd.DataFrame) -> pd.DataFrame:\n",
        "\n",
        "    newDF = pd.DataFrame(columns=df.columns)\n",
        "\n",
        "    # We iterate for each patient on patients\n",
        "    for p in patients.itertuples():\n",
        "        # Take the cardiovascular events of the patient p\n",
        "        aux = df[(df.idcentro==p.idcentro) & (df.idana==p.idana)]\n",
        "\n",
        "        # Calculate the last valid data\n",
        "        aux = aux.sort_values('data', ascending=False)\n",
        "        lastData = next(aux.itertuples()).data\n",
        "        lastData = dt.date.fromisoformat(lastData)\n",
        "        limitData = lastData - dt.timedelta(days=30*6)\n",
        "\n",
        "        # Take only the events before this limit data\n",
        "        aux = aux[aux.data < limitData.strftime(\"%Y-%m-%d\")]\n",
        "        \n",
        "        # We concatenate this with the new DataFrame\n",
        "        newDF = pd.concat([newDF, aux])\n",
        "\n",
        "    return newDF"
      ]
    },
    {
      "attachments": {},
      "cell_type": "markdown",
      "metadata": {
        "id": "gVa3pGIhCkH7"
      },
      "source": [
        "Now we execute the function to every dataframe in our preprocessed dataset for the **ap_class0** patients:"
      ]
    },
    {
      "cell_type": "code",
      "execution_count": 13,
      "metadata": {
        "colab": {
          "base_uri": "https://localhost:8080/"
        },
        "id": "P1vjYhAyCkH7",
        "outputId": "05e69bc0-3a0b-44ca-e2c5-9d184ccb4499"
      },
      "outputs": [
        {
          "name": "stdout",
          "output_type": "stream",
          "text": [
            "Diag_class0: 49914 => 44071\n",
            "Elp_class0: 168320 => 146637\n",
            "Ei_class0: 7825 => 6291\n",
            "Pdf_class0: 49264 => 44101\n",
            "Pdnf_class0: 5718 => 4299\n",
            "Pnd_class0: 51834 => 45656\n"
          ]
        }
      ],
      "source": [
        "aux = diag_class0.shape[0]\n",
        "diag_class0 = dropLastSixMonths(diag_class0, ap_class0)\n",
        "print(f\"Diag_class0: {aux} => {diag_class0.shape[0]}\")\n",
        "\n",
        "aux = elp_class0.shape[0]\n",
        "elp_class0 = dropLastSixMonths(elp_class0, ap_class0)\n",
        "print(f\"Elp_class0: {aux} => {elp_class0.shape[0]}\")\n",
        "\n",
        "aux = ei_class0.shape[0]\n",
        "ei_class0 = dropLastSixMonths(ei_class0, ap_class0)\n",
        "print(f\"Ei_class0: {aux} => {ei_class0.shape[0]}\")\n",
        "\n",
        "aux = pdf_class0.shape[0]\n",
        "pdf_class0 = dropLastSixMonths(pdf_class0, ap_class0)\n",
        "print(f\"Pdf_class0: {aux} => {pdf_class0.shape[0]}\")\n",
        "\n",
        "aux = pdnf_class0.shape[0]\n",
        "pdnf_class0 = dropLastSixMonths(pdnf_class0, ap_class0)\n",
        "print(f\"Pdnf_class0: {aux} => {pdnf_class0.shape[0]}\")\n",
        "\n",
        "aux = pnd_class0.shape[0]\n",
        "pnd_class0 = dropLastSixMonths(pnd_class0, ap_class0)\n",
        "print(f\"Pnd_class0: {aux} => {pnd_class0.shape[0]}\")"
      ]
    },
    {
      "attachments": {},
      "cell_type": "markdown",
      "metadata": {
        "id": "FDQwMhUrCkH7"
      },
      "source": [
        "Now for the **ap_class1** patients:"
      ]
    },
    {
      "cell_type": "code",
      "execution_count": 14,
      "metadata": {
        "colab": {
          "base_uri": "https://localhost:8080/"
        },
        "id": "GLtI5k5lCkH7",
        "outputId": "65914d67-99b3-4cfe-9840-263e5218b564"
      },
      "outputs": [
        {
          "name": "stdout",
          "output_type": "stream",
          "text": [
            "Diag_class1: 57085 => 49112\n",
            "Elp_class1: 144069 => 126055\n",
            "Ei_class1: 7289 => 5822\n",
            "Pdf_class1: 44964 => 40007\n",
            "Pdnf_class1: 4236 => 3153\n",
            "Pnd_class1: 53463 => 47128\n"
          ]
        }
      ],
      "source": [
        "aux = diag_class1.shape[0]\n",
        "diag_class1 = dropLastSixMonths(diag_class1, ap_class1)\n",
        "print(f\"Diag_class1: {aux} => {diag_class1.shape[0]}\")\n",
        "\n",
        "aux = elp_class1.shape[0]\n",
        "elp_class1 = dropLastSixMonths(elp_class1, ap_class1)\n",
        "print(f\"Elp_class1: {aux} => {elp_class1.shape[0]}\")\n",
        "\n",
        "aux = ei_class1.shape[0]\n",
        "ei_class1 = dropLastSixMonths(ei_class1, ap_class1)\n",
        "print(f\"Ei_class1: {aux} => {ei_class1.shape[0]}\")\n",
        "\n",
        "aux = pdf_class1.shape[0]\n",
        "pdf_class1 = dropLastSixMonths(pdf_class1, ap_class1)\n",
        "print(f\"Pdf_class1: {aux} => {pdf_class1.shape[0]}\")\n",
        "\n",
        "aux = pdnf_class1.shape[0]\n",
        "pdnf_class1 = dropLastSixMonths(pdnf_class1, ap_class1)\n",
        "print(f\"Pdnf_class1: {aux} => {pdnf_class1.shape[0]}\")\n",
        "\n",
        "aux = pnd_class1.shape[0]\n",
        "pnd_class1 = dropLastSixMonths(pnd_class1, ap_class1)\n",
        "print(f\"Pnd_class1: {aux} => {pnd_class1.shape[0]}\")"
      ]
    },
    {
      "attachments": {},
      "cell_type": "markdown",
      "metadata": {},
      "source": [
        "Now let's assign idcopy = 1 to every single patient on ap_class0"
      ]
    },
    {
      "cell_type": "code",
      "execution_count": 15,
      "metadata": {},
      "outputs": [],
      "source": [
        "def insertIdCopyClass0(df:pd.DataFrame) -> pd.DataFrame:\n",
        "\n",
        "    cols = list(df.columns)\n",
        "    if not(np.isin('idcopy',cols)):\n",
        "        cols.insert(2,'idcopy')\n",
        "        df['idcopy'] = 1\n",
        "        df = df[cols]\n",
        "    return df"
      ]
    },
    {
      "cell_type": "code",
      "execution_count": 16,
      "metadata": {},
      "outputs": [],
      "source": [
        "pd.options.mode.chained_assignment = None  # default='warn'\n",
        "\n",
        "ap_class0   = insertIdCopyClass0(ap_class0)\n",
        "diag_class0 = insertIdCopyClass0(diag_class0)\n",
        "elp_class0  = insertIdCopyClass0(elp_class0)\n",
        "ei_class0   = insertIdCopyClass0(ei_class0)\n",
        "pdf_class0  = insertIdCopyClass0(pdf_class0)\n",
        "pdnf_class0 = insertIdCopyClass0(pdnf_class0)\n",
        "pnd_class0  = insertIdCopyClass0(pnd_class0)\n",
        "\n",
        "diag_class0.head()\n",
        "pd.options.mode.chained_assignment = 'warn'  # default='warn'"
      ]
    },
    {
      "attachments": {},
      "cell_type": "markdown",
      "metadata": {
        "id": "3ISWFDuVCkH7"
      },
      "source": [
        "At this point, we are done with the **ap_class0** patients and their events, so we focus on the **ap_class1** ones. We now have to create $m$ (= 3 for example) copies of each patient $p_i$ such that $y(p_i)=1$, and we shuffle or eliminate cardiovascular events randomly just to *oversample* the dataset:"
      ]
    },
    {
      "cell_type": "code",
      "execution_count": 17,
      "metadata": {
        "id": "GnJ4zgCJCkH8"
      },
      "outputs": [],
      "source": [
        "def newMCopies(patients:pd.DataFrame, copies:int) -> pd.DataFrame:\n",
        "\n",
        "    cols = patients.columns.tolist()\n",
        "    cols = cols[0:2]+['idcopy']+cols[2:]\n",
        "    newPatients = pd.DataFrame(columns=cols)\n",
        "\n",
        "    for p in patients.iterrows():\n",
        "        for i in range(copies):\n",
        "            newP = dict(p[1])\n",
        "            newP['idcopy'] = i+1\n",
        "            newPatients.loc[newPatients.shape[0]] = newP\n",
        "\n",
        "    return newPatients"
      ]
    },
    {
      "cell_type": "code",
      "execution_count": 18,
      "metadata": {
        "id": "vX8xRTPzCkH8"
      },
      "outputs": [],
      "source": [
        "M = 3\n",
        "ap_class1_copies = newMCopies(ap_class1, M)"
      ]
    },
    {
      "attachments": {},
      "cell_type": "markdown",
      "metadata": {
        "id": "brAlkmP4CkH8"
      },
      "source": [
        "We can check that every patient has been cloned M times, and the only identification for each clone $p_i^j$ is $i=\\lbrace$ idcentro, idana $\\rbrace$ and $j = \\lbrace$ idcopy $\\rbrace$"
      ]
    },
    {
      "cell_type": "code",
      "execution_count": 19,
      "metadata": {
        "colab": {
          "base_uri": "https://localhost:8080/",
          "height": 161
        },
        "id": "rzE7Iw23CkH8",
        "outputId": "ef05f8aa-fde3-4217-90f3-dcd70b62577b"
      },
      "outputs": [
        {
          "name": "stdout",
          "output_type": "stream",
          "text": [
            "Copies of Patient 1:\n"
          ]
        },
        {
          "data": {
            "text/html": [
              "<div>\n",
              "<style scoped>\n",
              "    .dataframe tbody tr th:only-of-type {\n",
              "        vertical-align: middle;\n",
              "    }\n",
              "\n",
              "    .dataframe tbody tr th {\n",
              "        vertical-align: top;\n",
              "    }\n",
              "\n",
              "    .dataframe thead th {\n",
              "        text-align: right;\n",
              "    }\n",
              "</style>\n",
              "<table border=\"1\" class=\"dataframe\">\n",
              "  <thead>\n",
              "    <tr style=\"text-align: right;\">\n",
              "      <th></th>\n",
              "      <th>idcentro</th>\n",
              "      <th>idana</th>\n",
              "      <th>idcopy</th>\n",
              "      <th>sesso</th>\n",
              "      <th>annodiagnosidiabete</th>\n",
              "      <th>tipodiabete</th>\n",
              "      <th>annonascita</th>\n",
              "      <th>annoprimoaccesso</th>\n",
              "      <th>annodecesso</th>\n",
              "      <th>label</th>\n",
              "    </tr>\n",
              "  </thead>\n",
              "  <tbody>\n",
              "    <tr>\n",
              "      <th>0</th>\n",
              "      <td>1</td>\n",
              "      <td>5</td>\n",
              "      <td>1</td>\n",
              "      <td>M</td>\n",
              "      <td>1986.0</td>\n",
              "      <td>5</td>\n",
              "      <td>1942</td>\n",
              "      <td>1990.0</td>\n",
              "      <td>2014.0</td>\n",
              "      <td>1</td>\n",
              "    </tr>\n",
              "    <tr>\n",
              "      <th>1</th>\n",
              "      <td>1</td>\n",
              "      <td>5</td>\n",
              "      <td>2</td>\n",
              "      <td>M</td>\n",
              "      <td>1986.0</td>\n",
              "      <td>5</td>\n",
              "      <td>1942</td>\n",
              "      <td>1990.0</td>\n",
              "      <td>2014.0</td>\n",
              "      <td>1</td>\n",
              "    </tr>\n",
              "    <tr>\n",
              "      <th>2</th>\n",
              "      <td>1</td>\n",
              "      <td>5</td>\n",
              "      <td>3</td>\n",
              "      <td>M</td>\n",
              "      <td>1986.0</td>\n",
              "      <td>5</td>\n",
              "      <td>1942</td>\n",
              "      <td>1990.0</td>\n",
              "      <td>2014.0</td>\n",
              "      <td>1</td>\n",
              "    </tr>\n",
              "  </tbody>\n",
              "</table>\n",
              "</div>"
            ],
            "text/plain": [
              "   idcentro  idana  idcopy sesso  annodiagnosidiabete  tipodiabete  \\\n",
              "0         1      5       1     M               1986.0            5   \n",
              "1         1      5       2     M               1986.0            5   \n",
              "2         1      5       3     M               1986.0            5   \n",
              "\n",
              "   annonascita  annoprimoaccesso  annodecesso  label  \n",
              "0         1942            1990.0       2014.0      1  \n",
              "1         1942            1990.0       2014.0      1  \n",
              "2         1942            1990.0       2014.0      1  "
            ]
          },
          "execution_count": 19,
          "metadata": {},
          "output_type": "execute_result"
        }
      ],
      "source": [
        "print(\"Copies of Patient 1:\")\n",
        "ap_class1_copies.iloc[0:1*M]"
      ]
    },
    {
      "cell_type": "code",
      "execution_count": 20,
      "metadata": {
        "colab": {
          "base_uri": "https://localhost:8080/",
          "height": 161
        },
        "id": "tPWx3aRpCkH8",
        "outputId": "a81cf5a2-d6b3-4cc2-f2f6-b5a23a9314e4"
      },
      "outputs": [
        {
          "name": "stdout",
          "output_type": "stream",
          "text": [
            "Copies of Patient 2:\n"
          ]
        },
        {
          "data": {
            "text/html": [
              "<div>\n",
              "<style scoped>\n",
              "    .dataframe tbody tr th:only-of-type {\n",
              "        vertical-align: middle;\n",
              "    }\n",
              "\n",
              "    .dataframe tbody tr th {\n",
              "        vertical-align: top;\n",
              "    }\n",
              "\n",
              "    .dataframe thead th {\n",
              "        text-align: right;\n",
              "    }\n",
              "</style>\n",
              "<table border=\"1\" class=\"dataframe\">\n",
              "  <thead>\n",
              "    <tr style=\"text-align: right;\">\n",
              "      <th></th>\n",
              "      <th>idcentro</th>\n",
              "      <th>idana</th>\n",
              "      <th>idcopy</th>\n",
              "      <th>sesso</th>\n",
              "      <th>annodiagnosidiabete</th>\n",
              "      <th>tipodiabete</th>\n",
              "      <th>annonascita</th>\n",
              "      <th>annoprimoaccesso</th>\n",
              "      <th>annodecesso</th>\n",
              "      <th>label</th>\n",
              "    </tr>\n",
              "  </thead>\n",
              "  <tbody>\n",
              "    <tr>\n",
              "      <th>3</th>\n",
              "      <td>1</td>\n",
              "      <td>65</td>\n",
              "      <td>1</td>\n",
              "      <td>M</td>\n",
              "      <td>1997.0</td>\n",
              "      <td>5</td>\n",
              "      <td>1942</td>\n",
              "      <td>1997.0</td>\n",
              "      <td>2018.0</td>\n",
              "      <td>1</td>\n",
              "    </tr>\n",
              "    <tr>\n",
              "      <th>4</th>\n",
              "      <td>1</td>\n",
              "      <td>65</td>\n",
              "      <td>2</td>\n",
              "      <td>M</td>\n",
              "      <td>1997.0</td>\n",
              "      <td>5</td>\n",
              "      <td>1942</td>\n",
              "      <td>1997.0</td>\n",
              "      <td>2018.0</td>\n",
              "      <td>1</td>\n",
              "    </tr>\n",
              "    <tr>\n",
              "      <th>5</th>\n",
              "      <td>1</td>\n",
              "      <td>65</td>\n",
              "      <td>3</td>\n",
              "      <td>M</td>\n",
              "      <td>1997.0</td>\n",
              "      <td>5</td>\n",
              "      <td>1942</td>\n",
              "      <td>1997.0</td>\n",
              "      <td>2018.0</td>\n",
              "      <td>1</td>\n",
              "    </tr>\n",
              "  </tbody>\n",
              "</table>\n",
              "</div>"
            ],
            "text/plain": [
              "   idcentro  idana  idcopy sesso  annodiagnosidiabete  tipodiabete  \\\n",
              "3         1     65       1     M               1997.0            5   \n",
              "4         1     65       2     M               1997.0            5   \n",
              "5         1     65       3     M               1997.0            5   \n",
              "\n",
              "   annonascita  annoprimoaccesso  annodecesso  label  \n",
              "3         1942            1997.0       2018.0      1  \n",
              "4         1942            1997.0       2018.0      1  \n",
              "5         1942            1997.0       2018.0      1  "
            ]
          },
          "execution_count": 20,
          "metadata": {},
          "output_type": "execute_result"
        }
      ],
      "source": [
        "print(\"Copies of Patient 2:\")\n",
        "ap_class1_copies.iloc[M:2*M]"
      ]
    },
    {
      "cell_type": "code",
      "execution_count": 21,
      "metadata": {},
      "outputs": [],
      "source": [
        "def newMCopiesRandom(df: pd.DataFrame, copies:int) -> pd.DataFrame:\n",
        "  \n",
        "  list_of_dataframes = []   \n",
        "\n",
        "  # We iterate over the patients with class = 1\n",
        "  for i in ap_class1.itertuples():\n",
        "\n",
        "    # We get the events of df associated with the patient p\n",
        "    events_patient = df.loc[(df['idcentro'] == i.idcentro) & (df['idana'] == i.idana)]\n",
        "    events_patient['idcopy']=0\n",
        "\n",
        "    cols = list(df.columns)\n",
        "    cols.insert(2,'idcopy')\n",
        "    events_patient = events_patient[cols]\n",
        "\n",
        "    for j in range(copies):\n",
        "      \n",
        "      # We create a new dataframe with the events of patient (p_i^j) and assign the idcopy to (j+1)\n",
        "      events_patient['idcopy'] = j+1\n",
        "\n",
        "      # Now we decide randomly if each copy of the patient p is going to have the events generating a boolean decision list\n",
        "      # We also include a random parameter weight in order to become False choice more probable than True.\n",
        "      weight = random.randint(50,70)/100\n",
        "      choice = random.choices([False,True],weights=[weight,1-weight], k=events_patient.shape[0])\n",
        "      \n",
        "      # And add the new dataframe to the list of dataframes\n",
        "      list_of_dataframes.append(events_patient[choice])\n",
        "   \n",
        "  newDf = pd.concat(list_of_dataframes, axis=0)\n",
        "  return newDf.reset_index(drop=True)"
      ]
    },
    {
      "cell_type": "code",
      "execution_count": 22,
      "metadata": {
        "id": "9uHNekWsDw-b"
      },
      "outputs": [],
      "source": [
        "pd.options.mode.chained_assignment = None  # default='warn'\n",
        "diag_class1_copies = newMCopiesRandom(diag_class1, M)"
      ]
    },
    {
      "cell_type": "code",
      "execution_count": 23,
      "metadata": {
        "colab": {
          "base_uri": "https://localhost:8080/",
          "height": 1000
        },
        "id": "r_EzJibTD46B",
        "outputId": "aa9a8a6f-c5fc-4814-aee8-e0c6371c69de"
      },
      "outputs": [
        {
          "name": "stdout",
          "output_type": "stream",
          "text": [
            "Events of Patient 1 Copy 1: 70\n",
            "Events of Patient 1 Copy 2: 52\n",
            "Events of Patient 1 Copy 3: 62\n"
          ]
        }
      ],
      "source": [
        "print(\"Events of Patient 1 Copy 1:\", diag_class1_copies.loc[(diag_class1_copies['idcentro']==1)&\n",
        "                                                            (diag_class1_copies['idana']==5)&\n",
        "                                                            (diag_class1_copies['idcopy']==1)].shape[0])\n",
        "print(\"Events of Patient 1 Copy 2:\", diag_class1_copies.loc[(diag_class1_copies['idcentro']==1)&\n",
        "                                                            (diag_class1_copies['idana']==5)&\n",
        "                                                            (diag_class1_copies['idcopy']==2)].shape[0])\n",
        "print(\"Events of Patient 1 Copy 3:\", diag_class1_copies.loc[(diag_class1_copies['idcentro']==1)&\n",
        "                                                            (diag_class1_copies['idana']==5)&\n",
        "                                                            (diag_class1_copies['idcopy']==3)].shape[0])"
      ]
    },
    {
      "cell_type": "code",
      "execution_count": 24,
      "metadata": {},
      "outputs": [],
      "source": [
        "elp_class1_copies  = newMCopiesRandom(df=elp_class1, copies=M)\n"
      ]
    },
    {
      "cell_type": "code",
      "execution_count": 25,
      "metadata": {},
      "outputs": [],
      "source": [
        "ei_class1_copies   = newMCopiesRandom(df=ei_class1, copies=M)"
      ]
    },
    {
      "cell_type": "code",
      "execution_count": 26,
      "metadata": {},
      "outputs": [],
      "source": [
        "pdf_class1_copies  = newMCopiesRandom(df=pdf_class1, copies=M)\n"
      ]
    },
    {
      "cell_type": "code",
      "execution_count": 27,
      "metadata": {},
      "outputs": [],
      "source": [
        "pdnf_class1_copies = newMCopiesRandom(df=pdnf_class1, copies=M)\n"
      ]
    },
    {
      "cell_type": "code",
      "execution_count": 28,
      "metadata": {
        "colab": {
          "base_uri": "https://localhost:8080/",
          "height": 501
        },
        "id": "TB-8uFKCCkH9",
        "outputId": "1541a37b-a8ff-4874-fd04-7ffeb8cb5b70"
      },
      "outputs": [],
      "source": [
        "pnd_class1_copies  = newMCopiesRandom(df=pnd_class1, copies=M)\n",
        "pd.options.mode.chained_assignment = 'warn'"
      ]
    },
    {
      "attachments": {},
      "cell_type": "markdown",
      "metadata": {
        "id": "DnxAA1ehCkH9"
      },
      "source": [
        "## Exercise 2"
      ]
    },
    {
      "attachments": {},
      "cell_type": "markdown",
      "metadata": {
        "id": "QwGUNOL8CkH9"
      },
      "source": [
        "*Class Imbalance #2* - Action item *#1* isn't going to be sufficient for balancing purposes. Propose your balancing strategy - possibly an advanced approach - and evaluate: \n",
        "- **vanilla-LTSM** (*Exercise 2.1*)\n",
        "- **T-LTSM** (*Exercise 2.2*)\n",
        "- **PubMedBert** (*Exercise 2.3*) \n",
        "\n",
        "on the balanced version of the dataset."
      ]
    },
    {
      "attachments": {},
      "cell_type": "markdown",
      "metadata": {
        "id": "Hw0NJRXZCkH9"
      },
      "source": [
        "### Balancing Strategy Definition"
      ]
    },
    {
      "attachments": {},
      "cell_type": "markdown",
      "metadata": {},
      "source": [
        "We are going to keep only the events that are directly related to cardiovascular problems, this means for example:\n",
        "\n",
        "- Cholesterol\n",
        "- Diabetes\n",
        "- Glycemia\n",
        "- Smoking Patient\n",
        "- Patient's Weight \n",
        "- $\\hspace{1cm}\\vdots$"
      ]
    },
    {
      "cell_type": "code",
      "execution_count": 29,
      "metadata": {},
      "outputs": [
        {
          "name": "stdout",
          "output_type": "stream",
          "text": [
            "diag: 106999 ==>  28094\n",
            "pnd:  105297 ==>  58533\n",
            "pdnf:   9954 ==>   9030\n",
            "ei:    15114 ==>   6513\n",
            "elp:  106999 ==> 142648\n"
          ]
        }
      ],
      "source": [
        "# We make a list with the events that we are going to take into account\n",
        "codes = ['AMD001', 'AMD002', 'AMD003', 'AMD004', 'AMD005', 'AMD007', 'AMD010', 'AMD022', 'AMD034', 'AMD040', 'AMD042', 'AMD043', 'AMD044', 'AMD045', 'AMD046', 'AMD047', 'AMD048', 'AMD049', 'AMD055', 'AMD066', 'AMD069', 'AMD070', 'AMD071', 'AMD081', 'AMD082', 'AMD083', 'AMD086', 'AMD096', 'AMD097', 'AMD116', 'AMD118', 'AMD121', 'AMD132', 'AMD152', 'AMD204', 'AMD205', 'AMD208', 'AMD300', 'AMD303', 'AMD306', 'AMD307']\n",
        "\n",
        "def selectEvents(df:pd.DataFrame, events_codes:list) -> pd.DataFrame:\n",
        "    return df[df.codiceamd.isin(events_codes)]\n",
        "\n",
        "# We select from the tables only the events with codes in the list\n",
        "diag_cardEvents = selectEvents(diag,codes)\n",
        "\n",
        "pnd_cardEvents = selectEvents(pnd,codes)\n",
        "\n",
        "pdnf_cardEvents = selectEvents(pdnf,codes)\n",
        "\n",
        "ei_cardEvents = selectEvents(ei,codes)\n",
        "\n",
        "elp_cardEvents = selectEvents(elp,codes)\n",
        "\n",
        "print(f\"diag: {diag.shape[0]:6d} ==> {diag_cardEvents.shape[0]:6d}\")\n",
        "print(f\"pnd:  {pnd.shape[0]:6d} ==> {pnd_cardEvents.shape[0]:6d}\")\n",
        "print(f\"pdnf: {pdnf.shape[0]:6d} ==> {pdnf_cardEvents.shape[0]:6d}\")\n",
        "print(f\"ei:   {ei.shape[0]:6d} ==> {ei_cardEvents.shape[0]:6d}\")\n",
        "print(f\"elp:  {diag.shape[0]:6d} ==> {elp_cardEvents.shape[0]:6d}\")"
      ]
    },
    {
      "cell_type": "code",
      "execution_count": 30,
      "metadata": {},
      "outputs": [
        {
          "name": "stdout",
          "output_type": "stream",
          "text": [
            "Patients with class = 0: 868\n",
            "Patients with class = 1: 2061\n"
          ]
        }
      ],
      "source": [
        "print(f\"Patients with class = 0: {ap_class0.shape[0]}\")\n",
        "print(f\"Patients with class = 1: {ap_class1_copies.shape[0]}\")"
      ]
    },
    {
      "cell_type": "code",
      "execution_count": 31,
      "metadata": {},
      "outputs": [],
      "source": [
        "diag_aux = diag_cardEvents.filter(items=['idcentro', 'idana', 'codiceamd']).drop_duplicates()\n",
        "diag_aux = diag_aux.filter(items=['idcentro', 'idana'])\n",
        "\n",
        "pnd_aux = pnd_cardEvents.filter(items=['idcentro', 'idana', 'codiceamd']).drop_duplicates()\n",
        "pnd_aux = pnd_aux.filter(items=['idcentro', 'idana'])\n",
        "\n",
        "pdnf_aux = pdnf_cardEvents.filter(items=['idcentro', 'idana', 'codiceamd']).drop_duplicates()\n",
        "pdnf_aux = pdnf_aux.filter(items=['idcentro', 'idana'])\n",
        "\n",
        "ei_aux = ei_cardEvents.filter(items=['idcentro', 'idana', 'codiceamd']).drop_duplicates()\n",
        "ei_aux = ei_aux.filter(items=['idcentro', 'idana'])\n",
        "\n",
        "elp_aux = elp_cardEvents.filter(items=['idcentro', 'idana', 'codiceamd']).drop_duplicates()\n",
        "elp_aux = elp_aux.filter(items=['idcentro', 'idana'])\n",
        "\n",
        "suma= pd.concat(\n",
        "    [diag_aux.groupby(['idcentro', 'idana']).value_counts(), \n",
        "     pnd_aux.groupby(['idcentro', 'idana']).value_counts(), \n",
        "     pdnf_aux.groupby(['idcentro', 'idana']).value_counts(), \n",
        "     ei_aux.groupby(['idcentro', 'idana']).value_counts(), \n",
        "     elp_aux.groupby(['idcentro', 'idana']).value_counts()], \n",
        "    axis=1\n",
        "    ).sum(axis=1)"
      ]
    },
    {
      "cell_type": "code",
      "execution_count": 32,
      "metadata": {},
      "outputs": [
        {
          "data": {
            "text/plain": [
              "idcentro  idana\n",
              "203       4598      6.0\n",
              "99        8027      7.0\n",
              "1         2711      7.0\n",
              "121       3031      8.0\n",
              "1         3751      8.0\n",
              "                   ... \n",
              "157       13086    23.0\n",
              "162       3332     23.0\n",
              "164       43       23.0\n",
              "162       4754     23.0\n",
              "          1399     24.0\n",
              "Length: 1555, dtype: float64"
            ]
          },
          "execution_count": 32,
          "metadata": {},
          "output_type": "execute_result"
        }
      ],
      "source": [
        "# Here we have the patients with their total number of events\n",
        "suma.sort_values()"
      ]
    },
    {
      "cell_type": "code",
      "execution_count": 33,
      "metadata": {},
      "outputs": [],
      "source": [
        "# Now we select those who have more than a certain threshold\n",
        "threshold=17\n",
        "suma=suma[suma>=threshold]\n",
        "l=suma.index"
      ]
    },
    {
      "cell_type": "code",
      "execution_count": 34,
      "metadata": {},
      "outputs": [
        {
          "data": {
            "text/html": [
              "<div>\n",
              "<style scoped>\n",
              "    .dataframe tbody tr th:only-of-type {\n",
              "        vertical-align: middle;\n",
              "    }\n",
              "\n",
              "    .dataframe tbody tr th {\n",
              "        vertical-align: top;\n",
              "    }\n",
              "\n",
              "    .dataframe thead th {\n",
              "        text-align: right;\n",
              "    }\n",
              "</style>\n",
              "<table border=\"1\" class=\"dataframe\">\n",
              "  <thead>\n",
              "    <tr style=\"text-align: right;\">\n",
              "      <th></th>\n",
              "      <th>idcentro</th>\n",
              "      <th>idana</th>\n",
              "      <th>idcopy</th>\n",
              "      <th>sesso</th>\n",
              "      <th>annodiagnosidiabete</th>\n",
              "      <th>tipodiabete</th>\n",
              "      <th>annonascita</th>\n",
              "      <th>annoprimoaccesso</th>\n",
              "      <th>annodecesso</th>\n",
              "      <th>label</th>\n",
              "    </tr>\n",
              "  </thead>\n",
              "  <tbody>\n",
              "    <tr>\n",
              "      <th>0</th>\n",
              "      <td>1</td>\n",
              "      <td>5</td>\n",
              "      <td>1</td>\n",
              "      <td>M</td>\n",
              "      <td>1986.0</td>\n",
              "      <td>5</td>\n",
              "      <td>1942</td>\n",
              "      <td>1990.0</td>\n",
              "      <td>2014.0</td>\n",
              "      <td>1</td>\n",
              "    </tr>\n",
              "    <tr>\n",
              "      <th>1</th>\n",
              "      <td>1</td>\n",
              "      <td>5</td>\n",
              "      <td>2</td>\n",
              "      <td>M</td>\n",
              "      <td>1986.0</td>\n",
              "      <td>5</td>\n",
              "      <td>1942</td>\n",
              "      <td>1990.0</td>\n",
              "      <td>2014.0</td>\n",
              "      <td>1</td>\n",
              "    </tr>\n",
              "    <tr>\n",
              "      <th>2</th>\n",
              "      <td>1</td>\n",
              "      <td>5</td>\n",
              "      <td>3</td>\n",
              "      <td>M</td>\n",
              "      <td>1986.0</td>\n",
              "      <td>5</td>\n",
              "      <td>1942</td>\n",
              "      <td>1990.0</td>\n",
              "      <td>2014.0</td>\n",
              "      <td>1</td>\n",
              "    </tr>\n",
              "    <tr>\n",
              "      <th>3</th>\n",
              "      <td>1</td>\n",
              "      <td>65</td>\n",
              "      <td>1</td>\n",
              "      <td>M</td>\n",
              "      <td>1997.0</td>\n",
              "      <td>5</td>\n",
              "      <td>1942</td>\n",
              "      <td>1997.0</td>\n",
              "      <td>2018.0</td>\n",
              "      <td>1</td>\n",
              "    </tr>\n",
              "    <tr>\n",
              "      <th>4</th>\n",
              "      <td>1</td>\n",
              "      <td>65</td>\n",
              "      <td>2</td>\n",
              "      <td>M</td>\n",
              "      <td>1997.0</td>\n",
              "      <td>5</td>\n",
              "      <td>1942</td>\n",
              "      <td>1997.0</td>\n",
              "      <td>2018.0</td>\n",
              "      <td>1</td>\n",
              "    </tr>\n",
              "  </tbody>\n",
              "</table>\n",
              "</div>"
            ],
            "text/plain": [
              "   idcentro  idana  idcopy sesso  annodiagnosidiabete  tipodiabete  \\\n",
              "0         1      5       1     M               1986.0            5   \n",
              "1         1      5       2     M               1986.0            5   \n",
              "2         1      5       3     M               1986.0            5   \n",
              "3         1     65       1     M               1997.0            5   \n",
              "4         1     65       2     M               1997.0            5   \n",
              "\n",
              "   annonascita  annoprimoaccesso  annodecesso  label  \n",
              "0         1942            1990.0       2014.0      1  \n",
              "1         1942            1990.0       2014.0      1  \n",
              "2         1942            1990.0       2014.0      1  \n",
              "3         1942            1997.0       2018.0      1  \n",
              "4         1942            1997.0       2018.0      1  "
            ]
          },
          "execution_count": 34,
          "metadata": {},
          "output_type": "execute_result"
        }
      ],
      "source": [
        "# We turn our list into a dataframe and clean the patiens table\n",
        "tupla1, tupla2 = [i for i, j in l], [j for i,j in l]\n",
        "\n",
        "df1 = pd.DataFrame()\n",
        "df1['idcentro']=tupla1\n",
        "df1['idana']=tupla2\n",
        "df1.head()\n",
        "\n",
        "ap_aux  = pd.merge(ap_class1_copies, df1, on=['idcentro','idana'])\n",
        "ap_aux.head()"
      ]
    },
    {
      "cell_type": "code",
      "execution_count": 35,
      "metadata": {},
      "outputs": [
        {
          "data": {
            "text/plain": [
              "0    868\n",
              "1    693\n",
              "Name: label, dtype: int64"
            ]
          },
          "execution_count": 35,
          "metadata": {},
          "output_type": "execute_result"
        }
      ],
      "source": [
        "# We eliminate from the other tables the events of patients that have been just eliminated from the patients table\n",
        "diag_aux = diag.merge(ap_aux, on=['idcentro', 'idana'])\n",
        "pnd_aux = pnd.merge(ap_aux, on=['idcentro', 'idana'])\n",
        "pdf_aux = pdf.merge(ap_aux, on=['idcentro', 'idana'])\n",
        "pdnf_aux = pdnf.merge(ap_aux, on=['idcentro', 'idana'])\n",
        "ei_aux = ei.merge(ap_aux, on=['idcentro', 'idana'])\n",
        "elp_aux = elp.merge(ap_aux, on=['idcentro', 'idana'])\n",
        "\n",
        "patientsOfInterest_labeled_aux = pd.concat([ap_class0,ap_aux]).filter(['idcentro','idana','idcopy','label'])\n",
        "\n",
        "# Now we see that we have more patients with label 1 than patients with label 0\n",
        "patientsOfInterest_labeled_aux['label'].value_counts()\n",
        "\n"
      ]
    },
    {
      "attachments": {},
      "cell_type": "markdown",
      "metadata": {
        "id": "iMOrJOqACkH9"
      },
      "source": [
        "### Exercise 2.1 - *Vanilla LSTM*"
      ]
    },
    {
      "attachments": {},
      "cell_type": "markdown",
      "metadata": {},
      "source": [
        "[EJEMPLO LSTM](https://youtu.be/MWrOGaYvWEY)"
      ]
    },
    {
      "attachments": {},
      "cell_type": "markdown",
      "metadata": {},
      "source": [
        "Let's try to use **cuda** (if possible) for a better performance:"
      ]
    },
    {
      "cell_type": "code",
      "execution_count": 36,
      "metadata": {},
      "outputs": [
        {
          "name": "stdout",
          "output_type": "stream",
          "text": [
            "Using NVIDIA GeForce GTX 1050\n"
          ]
        }
      ],
      "source": [
        "from torch import cuda\n",
        "DEVICE = 'cuda' if cuda.is_available() else 'cpu'\n",
        "print(f\"Using {torch.cuda.get_device_name(DEVICE)}\")"
      ]
    },
    {
      "attachments": {},
      "cell_type": "markdown",
      "metadata": {},
      "source": [
        "We are just taking into a count the macro-events and the micro-events:"
      ]
    },
    {
      "cell_type": "code",
      "execution_count": 37,
      "metadata": {},
      "outputs": [],
      "source": [
        "# First we concatenate all the dataframes, the ones with class = 0 with the others, with class = 1\n",
        "ap_class   = pd.concat([ap_class0,ap_class1_copies],    axis=0)\n",
        "diag_class = pd.concat([diag_class0,diag_class1_copies],axis=0)\n",
        "elp_class  = pd.concat([elp_class0,elp_class1_copies],  axis=0)\n",
        "ei_class   = pd.concat([ei_class0,ei_class1_copies],    axis=0)\n",
        "pdf_class  = pd.concat([pdf_class0,pdf_class1_copies],  axis=0)\n",
        "pdnf_class = pd.concat([pdnf_class0,pdnf_class1_copies],axis=0)\n",
        "pnd_class  = pd.concat([pnd_class0,pnd_class1_copies],  axis=0)"
      ]
    },
    {
      "cell_type": "code",
      "execution_count": 38,
      "metadata": {},
      "outputs": [
        {
          "data": {
            "text/html": [
              "<div>\n",
              "<style scoped>\n",
              "    .dataframe tbody tr th:only-of-type {\n",
              "        vertical-align: middle;\n",
              "    }\n",
              "\n",
              "    .dataframe tbody tr th {\n",
              "        vertical-align: top;\n",
              "    }\n",
              "\n",
              "    .dataframe thead th {\n",
              "        text-align: right;\n",
              "    }\n",
              "</style>\n",
              "<table border=\"1\" class=\"dataframe\">\n",
              "  <thead>\n",
              "    <tr style=\"text-align: right;\">\n",
              "      <th></th>\n",
              "      <th>idcentro</th>\n",
              "      <th>idana</th>\n",
              "      <th>idcopy</th>\n",
              "      <th>sesso</th>\n",
              "      <th>annodiagnosidiabete</th>\n",
              "      <th>tipodiabete</th>\n",
              "      <th>annonascita</th>\n",
              "      <th>annoprimoaccesso</th>\n",
              "      <th>annodecesso</th>\n",
              "      <th>label</th>\n",
              "    </tr>\n",
              "  </thead>\n",
              "  <tbody>\n",
              "    <tr>\n",
              "      <th>0</th>\n",
              "      <td>1</td>\n",
              "      <td>5</td>\n",
              "      <td>1</td>\n",
              "      <td>M</td>\n",
              "      <td>1986.0</td>\n",
              "      <td>5</td>\n",
              "      <td>1942</td>\n",
              "      <td>1990.0</td>\n",
              "      <td>2014.0</td>\n",
              "      <td>1</td>\n",
              "    </tr>\n",
              "    <tr>\n",
              "      <th>1</th>\n",
              "      <td>1</td>\n",
              "      <td>5</td>\n",
              "      <td>2</td>\n",
              "      <td>M</td>\n",
              "      <td>1986.0</td>\n",
              "      <td>5</td>\n",
              "      <td>1942</td>\n",
              "      <td>1990.0</td>\n",
              "      <td>2014.0</td>\n",
              "      <td>1</td>\n",
              "    </tr>\n",
              "    <tr>\n",
              "      <th>2</th>\n",
              "      <td>1</td>\n",
              "      <td>5</td>\n",
              "      <td>3</td>\n",
              "      <td>M</td>\n",
              "      <td>1986.0</td>\n",
              "      <td>5</td>\n",
              "      <td>1942</td>\n",
              "      <td>1990.0</td>\n",
              "      <td>2014.0</td>\n",
              "      <td>1</td>\n",
              "    </tr>\n",
              "    <tr>\n",
              "      <th>3</th>\n",
              "      <td>1</td>\n",
              "      <td>65</td>\n",
              "      <td>1</td>\n",
              "      <td>M</td>\n",
              "      <td>1997.0</td>\n",
              "      <td>5</td>\n",
              "      <td>1942</td>\n",
              "      <td>1997.0</td>\n",
              "      <td>2018.0</td>\n",
              "      <td>1</td>\n",
              "    </tr>\n",
              "    <tr>\n",
              "      <th>4</th>\n",
              "      <td>1</td>\n",
              "      <td>65</td>\n",
              "      <td>2</td>\n",
              "      <td>M</td>\n",
              "      <td>1997.0</td>\n",
              "      <td>5</td>\n",
              "      <td>1942</td>\n",
              "      <td>1997.0</td>\n",
              "      <td>2018.0</td>\n",
              "      <td>1</td>\n",
              "    </tr>\n",
              "  </tbody>\n",
              "</table>\n",
              "</div>"
            ],
            "text/plain": [
              "   idcentro  idana  idcopy sesso  annodiagnosidiabete  tipodiabete  \\\n",
              "0         1      5       1     M               1986.0            5   \n",
              "1         1      5       2     M               1986.0            5   \n",
              "2         1      5       3     M               1986.0            5   \n",
              "3         1     65       1     M               1997.0            5   \n",
              "4         1     65       2     M               1997.0            5   \n",
              "\n",
              "   annonascita  annoprimoaccesso  annodecesso  label  \n",
              "0         1942            1990.0       2014.0      1  \n",
              "1         1942            1990.0       2014.0      1  \n",
              "2         1942            1990.0       2014.0      1  \n",
              "3         1942            1997.0       2018.0      1  \n",
              "4         1942            1997.0       2018.0      1  "
            ]
          },
          "execution_count": 38,
          "metadata": {},
          "output_type": "execute_result"
        }
      ],
      "source": [
        "ap_class.sort_values(by=['idcentro','idana']).head(5)"
      ]
    },
    {
      "attachments": {},
      "cell_type": "markdown",
      "metadata": {},
      "source": [
        "Let's just take into a count the macro-events, so let's prepare the *diag_class* and the *ap_class* dataframe: "
      ]
    },
    {
      "cell_type": "code",
      "execution_count": 39,
      "metadata": {},
      "outputs": [
        {
          "data": {
            "text/html": [
              "<div>\n",
              "<style scoped>\n",
              "    .dataframe tbody tr th:only-of-type {\n",
              "        vertical-align: middle;\n",
              "    }\n",
              "\n",
              "    .dataframe tbody tr th {\n",
              "        vertical-align: top;\n",
              "    }\n",
              "\n",
              "    .dataframe thead th {\n",
              "        text-align: right;\n",
              "    }\n",
              "</style>\n",
              "<table border=\"1\" class=\"dataframe\">\n",
              "  <thead>\n",
              "    <tr style=\"text-align: right;\">\n",
              "      <th></th>\n",
              "      <th>id</th>\n",
              "      <th>data</th>\n",
              "      <th>codiceamd</th>\n",
              "      <th>valore</th>\n",
              "      <th>sesso</th>\n",
              "      <th>annodiagnosidiabete</th>\n",
              "      <th>tipodiabete</th>\n",
              "      <th>annonascita</th>\n",
              "      <th>annoprimoaccesso</th>\n",
              "      <th>annodecesso</th>\n",
              "      <th>label</th>\n",
              "    </tr>\n",
              "  </thead>\n",
              "  <tbody>\n",
              "    <tr>\n",
              "      <th>0</th>\n",
              "      <td>1_74_1</td>\n",
              "      <td>2011-10-19</td>\n",
              "      <td>32.0</td>\n",
              "      <td>466.0</td>\n",
              "      <td>1.0</td>\n",
              "      <td>1995.0</td>\n",
              "      <td>5.0</td>\n",
              "      <td>1930.0</td>\n",
              "      <td>1996.0</td>\n",
              "      <td>2013.0</td>\n",
              "      <td>0.0</td>\n",
              "    </tr>\n",
              "    <tr>\n",
              "      <th>1</th>\n",
              "      <td>1_74_1</td>\n",
              "      <td>2011-07-13</td>\n",
              "      <td>42.0</td>\n",
              "      <td>130.0</td>\n",
              "      <td>1.0</td>\n",
              "      <td>1995.0</td>\n",
              "      <td>5.0</td>\n",
              "      <td>1930.0</td>\n",
              "      <td>1996.0</td>\n",
              "      <td>2013.0</td>\n",
              "      <td>0.0</td>\n",
              "    </tr>\n",
              "    <tr>\n",
              "      <th>2</th>\n",
              "      <td>1_74_1</td>\n",
              "      <td>2011-07-13</td>\n",
              "      <td>42.0</td>\n",
              "      <td>201.0</td>\n",
              "      <td>1.0</td>\n",
              "      <td>1995.0</td>\n",
              "      <td>5.0</td>\n",
              "      <td>1930.0</td>\n",
              "      <td>1996.0</td>\n",
              "      <td>2013.0</td>\n",
              "      <td>0.0</td>\n",
              "    </tr>\n",
              "    <tr>\n",
              "      <th>3</th>\n",
              "      <td>1_74_1</td>\n",
              "      <td>2011-07-13</td>\n",
              "      <td>28.0</td>\n",
              "      <td>202.0</td>\n",
              "      <td>1.0</td>\n",
              "      <td>1995.0</td>\n",
              "      <td>5.0</td>\n",
              "      <td>1930.0</td>\n",
              "      <td>1996.0</td>\n",
              "      <td>2013.0</td>\n",
              "      <td>0.0</td>\n",
              "    </tr>\n",
              "    <tr>\n",
              "      <th>4</th>\n",
              "      <td>1_74_1</td>\n",
              "      <td>2011-04-28</td>\n",
              "      <td>21.0</td>\n",
              "      <td>466.0</td>\n",
              "      <td>1.0</td>\n",
              "      <td>1995.0</td>\n",
              "      <td>5.0</td>\n",
              "      <td>1930.0</td>\n",
              "      <td>1996.0</td>\n",
              "      <td>2013.0</td>\n",
              "      <td>0.0</td>\n",
              "    </tr>\n",
              "    <tr>\n",
              "      <th>5</th>\n",
              "      <td>1_74_1</td>\n",
              "      <td>2011-04-28</td>\n",
              "      <td>25.0</td>\n",
              "      <td>272.0</td>\n",
              "      <td>1.0</td>\n",
              "      <td>1995.0</td>\n",
              "      <td>5.0</td>\n",
              "      <td>1930.0</td>\n",
              "      <td>1996.0</td>\n",
              "      <td>2013.0</td>\n",
              "      <td>0.0</td>\n",
              "    </tr>\n",
              "    <tr>\n",
              "      <th>6</th>\n",
              "      <td>1_74_1</td>\n",
              "      <td>2011-04-28</td>\n",
              "      <td>26.0</td>\n",
              "      <td>191.0</td>\n",
              "      <td>1.0</td>\n",
              "      <td>1995.0</td>\n",
              "      <td>5.0</td>\n",
              "      <td>1930.0</td>\n",
              "      <td>1996.0</td>\n",
              "      <td>2013.0</td>\n",
              "      <td>0.0</td>\n",
              "    </tr>\n",
              "    <tr>\n",
              "      <th>7</th>\n",
              "      <td>1_74_1</td>\n",
              "      <td>2011-04-28</td>\n",
              "      <td>45.0</td>\n",
              "      <td>466.0</td>\n",
              "      <td>1.0</td>\n",
              "      <td>1995.0</td>\n",
              "      <td>5.0</td>\n",
              "      <td>1930.0</td>\n",
              "      <td>1996.0</td>\n",
              "      <td>2013.0</td>\n",
              "      <td>0.0</td>\n",
              "    </tr>\n",
              "    <tr>\n",
              "      <th>8</th>\n",
              "      <td>1_74_1</td>\n",
              "      <td>2011-04-28</td>\n",
              "      <td>42.0</td>\n",
              "      <td>383.0</td>\n",
              "      <td>1.0</td>\n",
              "      <td>1995.0</td>\n",
              "      <td>5.0</td>\n",
              "      <td>1930.0</td>\n",
              "      <td>1996.0</td>\n",
              "      <td>2013.0</td>\n",
              "      <td>0.0</td>\n",
              "    </tr>\n",
              "    <tr>\n",
              "      <th>9</th>\n",
              "      <td>1_74_1</td>\n",
              "      <td>2011-04-28</td>\n",
              "      <td>42.0</td>\n",
              "      <td>274.0</td>\n",
              "      <td>1.0</td>\n",
              "      <td>1995.0</td>\n",
              "      <td>5.0</td>\n",
              "      <td>1930.0</td>\n",
              "      <td>1996.0</td>\n",
              "      <td>2013.0</td>\n",
              "      <td>0.0</td>\n",
              "    </tr>\n",
              "  </tbody>\n",
              "</table>\n",
              "</div>"
            ],
            "text/plain": [
              "       id        data  codiceamd  valore  sesso  annodiagnosidiabete  \\\n",
              "0  1_74_1  2011-10-19       32.0   466.0    1.0               1995.0   \n",
              "1  1_74_1  2011-07-13       42.0   130.0    1.0               1995.0   \n",
              "2  1_74_1  2011-07-13       42.0   201.0    1.0               1995.0   \n",
              "3  1_74_1  2011-07-13       28.0   202.0    1.0               1995.0   \n",
              "4  1_74_1  2011-04-28       21.0   466.0    1.0               1995.0   \n",
              "5  1_74_1  2011-04-28       25.0   272.0    1.0               1995.0   \n",
              "6  1_74_1  2011-04-28       26.0   191.0    1.0               1995.0   \n",
              "7  1_74_1  2011-04-28       45.0   466.0    1.0               1995.0   \n",
              "8  1_74_1  2011-04-28       42.0   383.0    1.0               1995.0   \n",
              "9  1_74_1  2011-04-28       42.0   274.0    1.0               1995.0   \n",
              "\n",
              "   tipodiabete  annonascita  annoprimoaccesso  annodecesso  label  \n",
              "0          5.0       1930.0            1996.0       2013.0    0.0  \n",
              "1          5.0       1930.0            1996.0       2013.0    0.0  \n",
              "2          5.0       1930.0            1996.0       2013.0    0.0  \n",
              "3          5.0       1930.0            1996.0       2013.0    0.0  \n",
              "4          5.0       1930.0            1996.0       2013.0    0.0  \n",
              "5          5.0       1930.0            1996.0       2013.0    0.0  \n",
              "6          5.0       1930.0            1996.0       2013.0    0.0  \n",
              "7          5.0       1930.0            1996.0       2013.0    0.0  \n",
              "8          5.0       1930.0            1996.0       2013.0    0.0  \n",
              "9          5.0       1930.0            1996.0       2013.0    0.0  "
            ]
          },
          "execution_count": 39,
          "metadata": {},
          "output_type": "execute_result"
        }
      ],
      "source": [
        "\n",
        "# At first, we merge with the patient data\n",
        "features_lstm = pd.merge(diag_class, ap_class, on=['idcentro','idana','idcopy'])\n",
        "\n",
        "# We create a single ID column that combines the other three:\n",
        "features_lstm['id'] = features_lstm.apply(lambda x: f\"{x['idcentro']}_{x['idana']}_{x['idcopy']}\",axis=1)\n",
        "\n",
        "# We reorder the columns\n",
        "features_lstm = features_lstm[['id']+[x for x in features_lstm.columns if x!='id']]\n",
        "\n",
        "# We drop the other ID_columns\n",
        "features_lstm.drop(columns=['idcentro','idana','idcopy'], inplace=True)\n",
        "\n",
        "# We categorize the columns that contain text\n",
        "categorical_columns = ['codiceamd', 'valore', 'sesso']\n",
        "for col in categorical_columns:\n",
        "    features_lstm[col] = features_lstm[col].astype('category')\n",
        "    features_lstm[col] = features_lstm[col].cat.codes\n",
        "\n",
        "# We convert every columns into float type\n",
        "numerical_columns = [col for col in features_lstm.columns if col not in ['id','data']]\n",
        "for col in numerical_columns:\n",
        "    features_lstm[col] = features_lstm[col].astype('float')\n",
        "\n",
        "features_lstm.head(10)\n",
        "\n"
      ]
    },
    {
      "attachments": {},
      "cell_type": "markdown",
      "metadata": {},
      "source": [
        "Now we build our model using *Keras*:"
      ]
    },
    {
      "cell_type": "code",
      "execution_count": 80,
      "metadata": {},
      "outputs": [],
      "source": [
        "from keras.models import Sequential\n",
        "from keras.layers import LSTM, Dense\n",
        "from keras.optimizers import Adam\n",
        "from keras.losses import BinaryCrossentropy\n",
        "from keras.metrics import BinaryAccuracy\n",
        "\n",
        "X_columns = [col for col in features_lstm if col not in ['id','label','data']]\n",
        "y_columns = ['label']\n",
        "\n",
        "Vanilla_LSTM = Sequential()\n",
        "Vanilla_LSTM\n",
        "Vanilla_LSTM.add(LSTM(100, activation='tanh', return_sequences=True, input_shape=(1, len(X_columns))))\n",
        "Vanilla_LSTM.add(LSTM(49, activation='tanh'))\n",
        "Vanilla_LSTM.add(Dense(1, activation='sigmoid'))\n",
        "Vanilla_LSTM.compile(optimizer=Adam(learning_rate=1e-3),\n",
        "              loss=BinaryCrossentropy(),\n",
        "              metrics=[BinaryAccuracy()])"
      ]
    },
    {
      "attachments": {},
      "cell_type": "markdown",
      "metadata": {},
      "source": [
        "Now we create variable-size batches such that each batch contains only the events associated to the previous patients each step:"
      ]
    },
    {
      "cell_type": "code",
      "execution_count": 82,
      "metadata": {},
      "outputs": [
        {
          "name": "stdout",
          "output_type": "stream",
          "text": [
            "Patient 0/2929\n",
            "Epoch 1/10\n",
            "1/1 [==============================] - 2s 2s/step - loss: 0.6867 - binary_accuracy: 1.0000\n",
            "Epoch 2/10\n",
            "1/1 [==============================] - 0s 6ms/step - loss: 0.6554 - binary_accuracy: 1.0000\n",
            "Epoch 3/10\n",
            "1/1 [==============================] - 0s 7ms/step - loss: 0.6229 - binary_accuracy: 1.0000\n",
            "Epoch 4/10\n",
            "1/1 [==============================] - 0s 5ms/step - loss: 0.5955 - binary_accuracy: 1.0000\n",
            "Epoch 5/10\n",
            "1/1 [==============================] - 0s 7ms/step - loss: 0.5687 - binary_accuracy: 1.0000\n",
            "Epoch 6/10\n",
            "1/1 [==============================] - 0s 12ms/step - loss: 0.5421 - binary_accuracy: 1.0000\n",
            "Epoch 7/10\n",
            "1/1 [==============================] - 0s 10ms/step - loss: 0.5129 - binary_accuracy: 1.0000\n",
            "Epoch 8/10\n",
            "1/1 [==============================] - 0s 8ms/step - loss: 0.4882 - binary_accuracy: 1.0000\n",
            "Epoch 9/10\n",
            "1/1 [==============================] - 0s 9ms/step - loss: 0.4668 - binary_accuracy: 1.0000\n",
            "Epoch 10/10\n",
            "1/1 [==============================] - 0s 10ms/step - loss: 0.4411 - binary_accuracy: 1.0000\n",
            "Patient 200/2929\n",
            "Epoch 1/10\n",
            "1/1 [==============================] - 0s 9ms/step - loss: 0.8574 - binary_accuracy: 0.0000e+00\n",
            "Epoch 2/10\n",
            "1/1 [==============================] - 0s 7ms/step - loss: 0.8523 - binary_accuracy: 0.0000e+00\n",
            "Epoch 3/10\n",
            "1/1 [==============================] - 0s 10ms/step - loss: 0.8473 - binary_accuracy: 0.0000e+00\n",
            "Epoch 4/10\n",
            "1/1 [==============================] - 0s 7ms/step - loss: 0.8424 - binary_accuracy: 0.0000e+00\n",
            "Epoch 5/10\n",
            "1/1 [==============================] - 0s 14ms/step - loss: 0.8375 - binary_accuracy: 0.0000e+00\n",
            "Epoch 6/10\n",
            "1/1 [==============================] - 0s 10ms/step - loss: 0.8328 - binary_accuracy: 0.0000e+00\n",
            "Epoch 7/10\n",
            "1/1 [==============================] - 0s 10ms/step - loss: 0.8282 - binary_accuracy: 0.0000e+00\n",
            "Epoch 8/10\n",
            "1/1 [==============================] - 0s 8ms/step - loss: 0.8237 - binary_accuracy: 0.0000e+00\n",
            "Epoch 9/10\n",
            "1/1 [==============================] - 0s 14ms/step - loss: 0.8193 - binary_accuracy: 0.0000e+00\n",
            "Epoch 10/10\n",
            "1/1 [==============================] - 0s 9ms/step - loss: 0.8149 - binary_accuracy: 0.0000e+00\n",
            "Patient 400/2929\n",
            "Epoch 1/10\n",
            "1/1 [==============================] - 0s 10ms/step - loss: 0.1665 - binary_accuracy: 1.0000\n",
            "Epoch 2/10\n",
            "1/1 [==============================] - 0s 8ms/step - loss: 0.1658 - binary_accuracy: 1.0000\n",
            "Epoch 3/10\n",
            "1/1 [==============================] - 0s 12ms/step - loss: 0.1652 - binary_accuracy: 1.0000\n",
            "Epoch 4/10\n",
            "1/1 [==============================] - 0s 12ms/step - loss: 0.1645 - binary_accuracy: 1.0000\n",
            "Epoch 5/10\n",
            "1/1 [==============================] - 0s 14ms/step - loss: 0.1638 - binary_accuracy: 1.0000\n",
            "Epoch 6/10\n",
            "1/1 [==============================] - 0s 11ms/step - loss: 0.1631 - binary_accuracy: 1.0000\n",
            "Epoch 7/10\n",
            "1/1 [==============================] - 0s 6ms/step - loss: 0.1625 - binary_accuracy: 1.0000\n",
            "Epoch 8/10\n",
            "1/1 [==============================] - 0s 11ms/step - loss: 0.1618 - binary_accuracy: 1.0000\n",
            "Epoch 9/10\n",
            "1/1 [==============================] - 0s 8ms/step - loss: 0.1611 - binary_accuracy: 1.0000\n",
            "Epoch 10/10\n",
            "1/1 [==============================] - 0s 8ms/step - loss: 0.1605 - binary_accuracy: 1.0000\n",
            "Patient 600/2929\n",
            "Epoch 1/10\n",
            "1/1 [==============================] - 0s 9ms/step - loss: 0.3192 - binary_accuracy: 1.0000\n",
            "Epoch 2/10\n",
            "1/1 [==============================] - 0s 8ms/step - loss: 0.3181 - binary_accuracy: 1.0000\n",
            "Epoch 3/10\n",
            "1/1 [==============================] - 0s 11ms/step - loss: 0.3170 - binary_accuracy: 1.0000\n",
            "Epoch 4/10\n",
            "1/1 [==============================] - 0s 10ms/step - loss: 0.3159 - binary_accuracy: 1.0000\n",
            "Epoch 5/10\n",
            "1/1 [==============================] - 0s 7ms/step - loss: 0.3149 - binary_accuracy: 1.0000\n",
            "Epoch 6/10\n",
            "1/1 [==============================] - 0s 8ms/step - loss: 0.3138 - binary_accuracy: 1.0000\n",
            "Epoch 7/10\n",
            "1/1 [==============================] - 0s 9ms/step - loss: 0.3127 - binary_accuracy: 1.0000\n",
            "Epoch 8/10\n",
            "1/1 [==============================] - 0s 7ms/step - loss: 0.3117 - binary_accuracy: 1.0000\n",
            "Epoch 9/10\n",
            "1/1 [==============================] - 0s 8ms/step - loss: 0.3106 - binary_accuracy: 1.0000\n",
            "Epoch 10/10\n",
            "1/1 [==============================] - 0s 8ms/step - loss: 0.3096 - binary_accuracy: 1.0000\n",
            "Patient 800/2929\n",
            "Epoch 1/10\n",
            "1/1 [==============================] - 0s 12ms/step - loss: 1.0866 - binary_accuracy: 0.0000e+00\n",
            "Epoch 2/10\n",
            "1/1 [==============================] - 0s 12ms/step - loss: 1.0888 - binary_accuracy: 0.0000e+00\n",
            "Epoch 3/10\n",
            "1/1 [==============================] - 0s 12ms/step - loss: 1.0901 - binary_accuracy: 0.0000e+00\n",
            "Epoch 4/10\n",
            "1/1 [==============================] - 0s 14ms/step - loss: 1.0908 - binary_accuracy: 0.0000e+00\n",
            "Epoch 5/10\n",
            "1/1 [==============================] - 0s 17ms/step - loss: 1.0908 - binary_accuracy: 0.0000e+00\n",
            "Epoch 6/10\n",
            "1/1 [==============================] - 0s 13ms/step - loss: 1.0902 - binary_accuracy: 0.0000e+00\n",
            "Epoch 7/10\n",
            "1/1 [==============================] - 0s 14ms/step - loss: 1.0891 - binary_accuracy: 0.0000e+00\n",
            "Epoch 8/10\n",
            "1/1 [==============================] - 0s 12ms/step - loss: 1.0876 - binary_accuracy: 0.0000e+00\n",
            "Epoch 9/10\n",
            "1/1 [==============================] - 0s 12ms/step - loss: 1.0856 - binary_accuracy: 0.0000e+00\n",
            "Epoch 10/10\n",
            "1/1 [==============================] - 0s 12ms/step - loss: 1.0833 - binary_accuracy: 0.0000e+00\n",
            "Patient 1000/2929\n",
            "Epoch 1/10\n",
            "1/1 [==============================] - 0s 9ms/step - loss: 0.2392 - binary_accuracy: 1.0000\n",
            "Epoch 2/10\n",
            "1/1 [==============================] - 0s 8ms/step - loss: 0.2383 - binary_accuracy: 1.0000\n",
            "Epoch 3/10\n",
            "1/1 [==============================] - 0s 9ms/step - loss: 0.2374 - binary_accuracy: 1.0000\n",
            "Epoch 4/10\n",
            "1/1 [==============================] - 0s 8ms/step - loss: 0.2365 - binary_accuracy: 1.0000\n",
            "Epoch 5/10\n",
            "1/1 [==============================] - 0s 9ms/step - loss: 0.2356 - binary_accuracy: 1.0000\n",
            "Epoch 6/10\n",
            "1/1 [==============================] - 0s 9ms/step - loss: 0.2347 - binary_accuracy: 1.0000\n",
            "Epoch 7/10\n",
            "1/1 [==============================] - 0s 10ms/step - loss: 0.2338 - binary_accuracy: 1.0000\n",
            "Epoch 8/10\n",
            "1/1 [==============================] - 0s 8ms/step - loss: 0.2329 - binary_accuracy: 1.0000\n",
            "Epoch 9/10\n",
            "1/1 [==============================] - 0s 8ms/step - loss: 0.2320 - binary_accuracy: 1.0000\n",
            "Epoch 10/10\n",
            "1/1 [==============================] - 0s 9ms/step - loss: 0.2311 - binary_accuracy: 1.0000\n",
            "Patient 1200/2929\n",
            "Epoch 1/10\n",
            "1/1 [==============================] - 0s 17ms/step - loss: 0.2727 - binary_accuracy: 1.0000\n",
            "Epoch 2/10\n",
            "1/1 [==============================] - 0s 9ms/step - loss: 0.2748 - binary_accuracy: 1.0000\n",
            "Epoch 3/10\n",
            "1/1 [==============================] - 0s 8ms/step - loss: 0.2766 - binary_accuracy: 1.0000\n",
            "Epoch 4/10\n",
            "1/1 [==============================] - 0s 9ms/step - loss: 0.2782 - binary_accuracy: 1.0000\n",
            "Epoch 5/10\n",
            "1/1 [==============================] - 0s 9ms/step - loss: 0.2795 - binary_accuracy: 1.0000\n",
            "Epoch 6/10\n",
            "1/1 [==============================] - 0s 8ms/step - loss: 0.2806 - binary_accuracy: 1.0000\n",
            "Epoch 7/10\n",
            "1/1 [==============================] - 0s 9ms/step - loss: 0.2815 - binary_accuracy: 1.0000\n",
            "Epoch 8/10\n",
            "1/1 [==============================] - 0s 9ms/step - loss: 0.2822 - binary_accuracy: 1.0000\n",
            "Epoch 9/10\n",
            "1/1 [==============================] - 0s 8ms/step - loss: 0.2827 - binary_accuracy: 1.0000\n",
            "Epoch 10/10\n",
            "1/1 [==============================] - 0s 9ms/step - loss: 0.2831 - binary_accuracy: 1.0000\n",
            "Patient 1400/2929\n",
            "Epoch 1/10\n",
            "1/1 [==============================] - 0s 10ms/step - loss: 0.3650 - binary_accuracy: 1.0000\n",
            "Epoch 2/10\n",
            "1/1 [==============================] - 0s 7ms/step - loss: 0.3634 - binary_accuracy: 1.0000\n",
            "Epoch 3/10\n",
            "1/1 [==============================] - 0s 9ms/step - loss: 0.3618 - binary_accuracy: 1.0000\n",
            "Epoch 4/10\n",
            "1/1 [==============================] - 0s 12ms/step - loss: 0.3603 - binary_accuracy: 1.0000\n",
            "Epoch 5/10\n",
            "1/1 [==============================] - 0s 10ms/step - loss: 0.3587 - binary_accuracy: 1.0000\n",
            "Epoch 6/10\n",
            "1/1 [==============================] - 0s 9ms/step - loss: 0.3572 - binary_accuracy: 1.0000\n",
            "Epoch 7/10\n",
            "1/1 [==============================] - 0s 11ms/step - loss: 0.3556 - binary_accuracy: 1.0000\n",
            "Epoch 8/10\n",
            "1/1 [==============================] - 0s 8ms/step - loss: 0.3541 - binary_accuracy: 1.0000\n",
            "Epoch 9/10\n",
            "1/1 [==============================] - 0s 8ms/step - loss: 0.3526 - binary_accuracy: 1.0000\n",
            "Epoch 10/10\n",
            "1/1 [==============================] - 0s 10ms/step - loss: 0.3511 - binary_accuracy: 1.0000\n",
            "Patient 1600/2929\n",
            "Epoch 1/10\n",
            "1/1 [==============================] - 0s 10ms/step - loss: 0.3862 - binary_accuracy: 1.0000\n",
            "Epoch 2/10\n",
            "1/1 [==============================] - 0s 8ms/step - loss: 0.3847 - binary_accuracy: 1.0000\n",
            "Epoch 3/10\n",
            "1/1 [==============================] - 0s 9ms/step - loss: 0.3832 - binary_accuracy: 1.0000\n",
            "Epoch 4/10\n",
            "1/1 [==============================] - 0s 9ms/step - loss: 0.3817 - binary_accuracy: 1.0000\n",
            "Epoch 5/10\n",
            "1/1 [==============================] - 0s 9ms/step - loss: 0.3803 - binary_accuracy: 1.0000\n",
            "Epoch 6/10\n",
            "1/1 [==============================] - 0s 11ms/step - loss: 0.3788 - binary_accuracy: 1.0000\n",
            "Epoch 7/10\n",
            "1/1 [==============================] - 0s 10ms/step - loss: 0.3773 - binary_accuracy: 1.0000\n",
            "Epoch 8/10\n",
            "1/1 [==============================] - 0s 10ms/step - loss: 0.3759 - binary_accuracy: 1.0000\n",
            "Epoch 9/10\n",
            "1/1 [==============================] - 0s 10ms/step - loss: 0.3744 - binary_accuracy: 1.0000\n",
            "Epoch 10/10\n",
            "1/1 [==============================] - 0s 11ms/step - loss: 0.3730 - binary_accuracy: 1.0000\n",
            "Patient 1800/2929\n",
            "Epoch 1/10\n",
            "1/1 [==============================] - 0s 9ms/step - loss: 0.3695 - binary_accuracy: 1.0000\n",
            "Epoch 2/10\n",
            "1/1 [==============================] - 0s 8ms/step - loss: 0.3683 - binary_accuracy: 1.0000\n",
            "Epoch 3/10\n",
            "1/1 [==============================] - 0s 9ms/step - loss: 0.3671 - binary_accuracy: 1.0000\n",
            "Epoch 4/10\n",
            "1/1 [==============================] - 0s 8ms/step - loss: 0.3659 - binary_accuracy: 1.0000\n",
            "Epoch 5/10\n",
            "1/1 [==============================] - 0s 11ms/step - loss: 0.3648 - binary_accuracy: 1.0000\n",
            "Epoch 6/10\n",
            "1/1 [==============================] - 0s 10ms/step - loss: 0.3636 - binary_accuracy: 1.0000\n",
            "Epoch 7/10\n",
            "1/1 [==============================] - 0s 8ms/step - loss: 0.3624 - binary_accuracy: 1.0000\n",
            "Epoch 8/10\n",
            "1/1 [==============================] - 0s 10ms/step - loss: 0.3612 - binary_accuracy: 1.0000\n",
            "Epoch 9/10\n",
            "1/1 [==============================] - 0s 8ms/step - loss: 0.3600 - binary_accuracy: 1.0000\n",
            "Epoch 10/10\n",
            "1/1 [==============================] - 0s 10ms/step - loss: 0.3589 - binary_accuracy: 1.0000\n",
            "Patient 2000/2929\n",
            "Epoch 1/10\n",
            "1/1 [==============================] - 0s 10ms/step - loss: 0.2734 - binary_accuracy: 1.0000\n",
            "Epoch 2/10\n",
            "1/1 [==============================] - 0s 7ms/step - loss: 0.2717 - binary_accuracy: 1.0000\n",
            "Epoch 3/10\n",
            "1/1 [==============================] - 0s 10ms/step - loss: 0.2701 - binary_accuracy: 1.0000\n",
            "Epoch 4/10\n",
            "1/1 [==============================] - 0s 14ms/step - loss: 0.2685 - binary_accuracy: 1.0000\n",
            "Epoch 5/10\n",
            "1/1 [==============================] - 0s 8ms/step - loss: 0.2669 - binary_accuracy: 1.0000\n",
            "Epoch 6/10\n",
            "1/1 [==============================] - 0s 13ms/step - loss: 0.2653 - binary_accuracy: 1.0000\n",
            "Epoch 7/10\n",
            "1/1 [==============================] - 0s 8ms/step - loss: 0.2638 - binary_accuracy: 1.0000\n",
            "Epoch 8/10\n",
            "1/1 [==============================] - 0s 7ms/step - loss: 0.2623 - binary_accuracy: 1.0000\n",
            "Epoch 9/10\n",
            "1/1 [==============================] - 0s 15ms/step - loss: 0.2607 - binary_accuracy: 1.0000\n",
            "Epoch 10/10\n",
            "1/1 [==============================] - 0s 10ms/step - loss: 0.2592 - binary_accuracy: 1.0000\n",
            "Patient 2200/2929\n",
            "Epoch 1/10\n",
            "1/1 [==============================] - 0s 9ms/step - loss: 0.3692 - binary_accuracy: 1.0000\n",
            "Epoch 2/10\n",
            "1/1 [==============================] - 0s 8ms/step - loss: 0.3723 - binary_accuracy: 1.0000\n",
            "Epoch 3/10\n",
            "1/1 [==============================] - 0s 9ms/step - loss: 0.3749 - binary_accuracy: 1.0000\n",
            "Epoch 4/10\n",
            "1/1 [==============================] - 0s 10ms/step - loss: 0.3771 - binary_accuracy: 1.0000\n",
            "Epoch 5/10\n",
            "1/1 [==============================] - 0s 11ms/step - loss: 0.3789 - binary_accuracy: 1.0000\n",
            "Epoch 6/10\n",
            "1/1 [==============================] - 0s 10ms/step - loss: 0.3804 - binary_accuracy: 1.0000\n",
            "Epoch 7/10\n",
            "1/1 [==============================] - 0s 10ms/step - loss: 0.3816 - binary_accuracy: 1.0000\n",
            "Epoch 8/10\n",
            "1/1 [==============================] - 0s 8ms/step - loss: 0.3825 - binary_accuracy: 1.0000\n",
            "Epoch 9/10\n",
            "1/1 [==============================] - 0s 8ms/step - loss: 0.3831 - binary_accuracy: 1.0000\n",
            "Epoch 10/10\n",
            "1/1 [==============================] - 0s 9ms/step - loss: 0.3835 - binary_accuracy: 1.0000\n",
            "Patient 2400/2929\n",
            "Epoch 1/10\n",
            "1/1 [==============================] - 0s 10ms/step - loss: 1.5205 - binary_accuracy: 0.0000e+00\n",
            "Epoch 2/10\n",
            "1/1 [==============================] - 0s 7ms/step - loss: 1.5220 - binary_accuracy: 0.0000e+00\n",
            "Epoch 3/10\n",
            "1/1 [==============================] - 0s 10ms/step - loss: 1.5220 - binary_accuracy: 0.0000e+00\n",
            "Epoch 4/10\n",
            "1/1 [==============================] - 0s 12ms/step - loss: 1.5207 - binary_accuracy: 0.0000e+00\n",
            "Epoch 5/10\n",
            "1/1 [==============================] - 0s 15ms/step - loss: 1.5183 - binary_accuracy: 0.0000e+00\n",
            "Epoch 6/10\n",
            "1/1 [==============================] - 0s 8ms/step - loss: 1.5147 - binary_accuracy: 0.0000e+00\n",
            "Epoch 7/10\n",
            "1/1 [==============================] - 0s 10ms/step - loss: 1.5102 - binary_accuracy: 0.0000e+00\n",
            "Epoch 8/10\n",
            "1/1 [==============================] - 0s 11ms/step - loss: 1.5048 - binary_accuracy: 0.0000e+00\n",
            "Epoch 9/10\n",
            "1/1 [==============================] - 0s 8ms/step - loss: 1.4987 - binary_accuracy: 0.0000e+00\n",
            "Epoch 10/10\n",
            "1/1 [==============================] - 0s 9ms/step - loss: 1.4919 - binary_accuracy: 0.0000e+00\n",
            "Patient 2600/2929\n",
            "Epoch 1/10\n",
            "1/1 [==============================] - 0s 9ms/step - loss: 0.3843 - binary_accuracy: 1.0000\n",
            "Epoch 2/10\n",
            "1/1 [==============================] - 0s 7ms/step - loss: 0.3855 - binary_accuracy: 1.0000\n",
            "Epoch 3/10\n",
            "1/1 [==============================] - 0s 8ms/step - loss: 0.3864 - binary_accuracy: 1.0000\n",
            "Epoch 4/10\n",
            "1/1 [==============================] - 0s 10ms/step - loss: 0.3871 - binary_accuracy: 1.0000\n",
            "Epoch 5/10\n",
            "1/1 [==============================] - 0s 9ms/step - loss: 0.3876 - binary_accuracy: 1.0000\n",
            "Epoch 6/10\n",
            "1/1 [==============================] - 0s 8ms/step - loss: 0.3879 - binary_accuracy: 1.0000\n",
            "Epoch 7/10\n",
            "1/1 [==============================] - 0s 7ms/step - loss: 0.3881 - binary_accuracy: 1.0000\n",
            "Epoch 8/10\n",
            "1/1 [==============================] - 0s 8ms/step - loss: 0.3880 - binary_accuracy: 1.0000\n",
            "Epoch 9/10\n",
            "1/1 [==============================] - 0s 8ms/step - loss: 0.3879 - binary_accuracy: 1.0000\n",
            "Epoch 10/10\n",
            "1/1 [==============================] - 0s 10ms/step - loss: 0.3876 - binary_accuracy: 1.0000\n",
            "Patient 2800/2929\n",
            "Epoch 1/10\n",
            "1/1 [==============================] - 0s 10ms/step - loss: 0.3285 - binary_accuracy: 1.0000\n",
            "Epoch 2/10\n",
            "1/1 [==============================] - 0s 9ms/step - loss: 0.3274 - binary_accuracy: 1.0000\n",
            "Epoch 3/10\n",
            "1/1 [==============================] - 0s 11ms/step - loss: 0.3263 - binary_accuracy: 1.0000\n",
            "Epoch 4/10\n",
            "1/1 [==============================] - 0s 13ms/step - loss: 0.3252 - binary_accuracy: 1.0000\n",
            "Epoch 5/10\n",
            "1/1 [==============================] - 0s 11ms/step - loss: 0.3241 - binary_accuracy: 1.0000\n",
            "Epoch 6/10\n",
            "1/1 [==============================] - 0s 9ms/step - loss: 0.3230 - binary_accuracy: 1.0000\n",
            "Epoch 7/10\n",
            "1/1 [==============================] - 0s 12ms/step - loss: 0.3219 - binary_accuracy: 1.0000\n",
            "Epoch 8/10\n",
            "1/1 [==============================] - 0s 11ms/step - loss: 0.3208 - binary_accuracy: 1.0000\n",
            "Epoch 9/10\n",
            "1/1 [==============================] - 0s 8ms/step - loss: 0.3197 - binary_accuracy: 1.0000\n",
            "Epoch 10/10\n",
            "1/1 [==============================] - 0s 8ms/step - loss: 0.3186 - binary_accuracy: 1.0000\n"
          ]
        }
      ],
      "source": [
        "grouped_events = features_lstm.groupby(['id'])\n",
        "\n",
        "for it, (ids, features) in enumerate(grouped_events):\n",
        "    batch = features[features['id']==ids].sort_values(['data'])\n",
        "    X = batch[X_columns]\n",
        "    X = np.resize(X, (X.shape[0],1,X.shape[1]))\n",
        "    y = batch[y_columns]\n",
        "    if it % 200 == 0:\n",
        "        print(f\"Patient {it}/{len(ap_class)}\")\n",
        "    Vanilla_LSTM.fit(X,y,batch_size=len(X),epochs=10,verbose = 1 if it % 200 == 0 else 0)\n"
      ]
    },
    {
      "cell_type": "code",
      "execution_count": 74,
      "metadata": {},
      "outputs": [
        {
          "name": "stdout",
          "output_type": "stream",
          "text": [
            "             id        data  codiceamd  valore  sesso  annodiagnosidiabete  \\\n",
            "35586  163_83_1  2013-12-12       42.0   380.0    0.0               1969.0   \n",
            "35587  163_83_1  2013-12-12       19.0   380.0    0.0               1969.0   \n",
            "35588  163_83_1  2013-12-12       20.0   466.0    0.0               1969.0   \n",
            "35589  163_83_1  2013-12-12       42.0   379.0    0.0               1969.0   \n",
            "35590  163_83_1  2013-07-04       42.0   149.0    0.0               1969.0   \n",
            "...         ...         ...        ...     ...    ...                  ...   \n",
            "35696  163_83_1  1997-05-24       42.0   225.0    0.0               1969.0   \n",
            "35697  163_83_1  1996-09-15        6.0   207.0    0.0               1969.0   \n",
            "35698  163_83_1  1996-09-15       42.0   207.0    0.0               1969.0   \n",
            "35699  163_83_1  1994-02-21       42.0   370.0    0.0               1969.0   \n",
            "35700  163_83_1  1989-07-27       29.0   465.0    0.0               1969.0   \n",
            "\n",
            "       tipodiabete  annonascita  annoprimoaccesso  annodecesso  label  \n",
            "35586          5.0       1932.0            1989.0       2019.0    0.0  \n",
            "35587          5.0       1932.0            1989.0       2019.0    0.0  \n",
            "35588          5.0       1932.0            1989.0       2019.0    0.0  \n",
            "35589          5.0       1932.0            1989.0       2019.0    0.0  \n",
            "35590          5.0       1932.0            1989.0       2019.0    0.0  \n",
            "...            ...          ...               ...          ...    ...  \n",
            "35696          5.0       1932.0            1989.0       2019.0    0.0  \n",
            "35697          5.0       1932.0            1989.0       2019.0    0.0  \n",
            "35698          5.0       1932.0            1989.0       2019.0    0.0  \n",
            "35699          5.0       1932.0            1989.0       2019.0    0.0  \n",
            "35700          5.0       1932.0            1989.0       2019.0    0.0  \n",
            "\n",
            "[115 rows x 11 columns]\n"
          ]
        }
      ],
      "source": [
        "# We take a single batch to evaluate the model\n",
        "rand_index = random.randint(0,len(ap_class))\n",
        "rand_id = tuple(ap_class.iloc[rand_index, :3])\n",
        "rand_id = f\"{rand_id[0]}_{rand_id[1]}_{rand_id[2]}\"\n",
        "rand_batch = features_lstm[features_lstm['id']==rand_id]\n",
        "print(rand_batch)"
      ]
    },
    {
      "cell_type": "code",
      "execution_count": 75,
      "metadata": {},
      "outputs": [
        {
          "name": "stdout",
          "output_type": "stream",
          "text": [
            "1/4 [======>.......................] - ETA: 0s - loss: 1.3099 - binary_accuracy: 0.0000e+00"
          ]
        },
        {
          "name": "stdout",
          "output_type": "stream",
          "text": [
            "4/4 [==============================] - 0s 4ms/step - loss: 1.3099 - binary_accuracy: 0.0000e+00\n"
          ]
        },
        {
          "data": {
            "text/plain": [
              "[1.309880018234253, 0.0]"
            ]
          },
          "execution_count": 75,
          "metadata": {},
          "output_type": "execute_result"
        }
      ],
      "source": [
        "X = rand_batch[X_columns]\n",
        "X = np.resize(X, (X.shape[0],1,X.shape[1]))\n",
        "Vanilla_LSTM.evaluate(x=X, y=rand_batch[y_columns])"
      ]
    },
    {
      "attachments": {},
      "cell_type": "markdown",
      "metadata": {
        "id": "m9tKar1DCkH9"
      },
      "source": [
        "### Exercise 2.2 - *T-LSTM*"
      ]
    },
    {
      "attachments": {},
      "cell_type": "markdown",
      "metadata": {
        "id": "C6wiy2MpCkH9"
      },
      "source": [
        "### Exercise 2.3 - *PubMed BERT*"
      ]
    },
    {
      "attachments": {},
      "cell_type": "markdown",
      "metadata": {},
      "source": [
        "We read the *.csv* that contain all the information to translate *codiceamd* and *codiceatc* into descriptive texts"
      ]
    },
    {
      "cell_type": "code",
      "execution_count": 218,
      "metadata": {},
      "outputs": [],
      "source": [
        "read_data_path  = \"../../data/codici/\"\n",
        "\n",
        "codiciAMD = pd.read_csv(read_data_path+'/amd_codes_for_bert.csv', header=0 ,names=['codiceamd','meaning'])\n",
        "codiciATC = pd.read_csv(read_data_path+'/atc_info_nodup.csv', header=0 ,names=['codiceatc','first','last','len','numpatients','numdates','atc_nome'])\n",
        "codiciATC = codiciATC.filter(['codiceatc','atc_nome']).rename(columns={'atc_nome':'meaning'})"
      ]
    },
    {
      "cell_type": "code",
      "execution_count": 219,
      "metadata": {},
      "outputs": [
        {
          "data": {
            "text/html": [
              "<div>\n",
              "<style scoped>\n",
              "    .dataframe tbody tr th:only-of-type {\n",
              "        vertical-align: middle;\n",
              "    }\n",
              "\n",
              "    .dataframe tbody tr th {\n",
              "        vertical-align: top;\n",
              "    }\n",
              "\n",
              "    .dataframe thead th {\n",
              "        text-align: right;\n",
              "    }\n",
              "</style>\n",
              "<table border=\"1\" class=\"dataframe\">\n",
              "  <thead>\n",
              "    <tr style=\"text-align: right;\">\n",
              "      <th></th>\n",
              "      <th>codiceamd</th>\n",
              "      <th>meaning</th>\n",
              "    </tr>\n",
              "  </thead>\n",
              "  <tbody>\n",
              "    <tr>\n",
              "      <th>0</th>\n",
              "      <td>AMD090</td>\n",
              "      <td>Diet only</td>\n",
              "    </tr>\n",
              "    <tr>\n",
              "      <th>1</th>\n",
              "      <td>AMD140</td>\n",
              "      <td>Self control</td>\n",
              "    </tr>\n",
              "    <tr>\n",
              "      <th>2</th>\n",
              "      <td>AMD215</td>\n",
              "      <td>Number of strips prescribed per week</td>\n",
              "    </tr>\n",
              "    <tr>\n",
              "      <th>3</th>\n",
              "      <td>AMD228</td>\n",
              "      <td>Integrated management</td>\n",
              "    </tr>\n",
              "    <tr>\n",
              "      <th>4</th>\n",
              "      <td>AMD086</td>\n",
              "      <td>Self-monitoring of blood glucose</td>\n",
              "    </tr>\n",
              "  </tbody>\n",
              "</table>\n",
              "</div>"
            ],
            "text/plain": [
              "  codiceamd                               meaning\n",
              "0    AMD090                             Diet only\n",
              "1    AMD140                          Self control\n",
              "2    AMD215  Number of strips prescribed per week\n",
              "3    AMD228                 Integrated management\n",
              "4    AMD086      Self-monitoring of blood glucose"
            ]
          },
          "execution_count": 219,
          "metadata": {},
          "output_type": "execute_result"
        }
      ],
      "source": [
        "codiciAMD.head()"
      ]
    },
    {
      "cell_type": "code",
      "execution_count": 220,
      "metadata": {},
      "outputs": [
        {
          "data": {
            "text/html": [
              "<div>\n",
              "<style scoped>\n",
              "    .dataframe tbody tr th:only-of-type {\n",
              "        vertical-align: middle;\n",
              "    }\n",
              "\n",
              "    .dataframe tbody tr th {\n",
              "        vertical-align: top;\n",
              "    }\n",
              "\n",
              "    .dataframe thead th {\n",
              "        text-align: right;\n",
              "    }\n",
              "</style>\n",
              "<table border=\"1\" class=\"dataframe\">\n",
              "  <thead>\n",
              "    <tr style=\"text-align: right;\">\n",
              "      <th></th>\n",
              "      <th>codiceatc</th>\n",
              "      <th>meaning</th>\n",
              "    </tr>\n",
              "  </thead>\n",
              "  <tbody>\n",
              "    <tr>\n",
              "      <th>0</th>\n",
              "      <td>A10AB01</td>\n",
              "      <td>insulin (human)</td>\n",
              "    </tr>\n",
              "    <tr>\n",
              "      <th>1</th>\n",
              "      <td>A10AB04</td>\n",
              "      <td>insulin lispro</td>\n",
              "    </tr>\n",
              "    <tr>\n",
              "      <th>2</th>\n",
              "      <td>A10AB05</td>\n",
              "      <td>insulin aspart</td>\n",
              "    </tr>\n",
              "    <tr>\n",
              "      <th>3</th>\n",
              "      <td>A10AB06</td>\n",
              "      <td>insulin glulisine</td>\n",
              "    </tr>\n",
              "    <tr>\n",
              "      <th>4</th>\n",
              "      <td>A10AC01</td>\n",
              "      <td>insulin (human)</td>\n",
              "    </tr>\n",
              "  </tbody>\n",
              "</table>\n",
              "</div>"
            ],
            "text/plain": [
              "  codiceatc            meaning\n",
              "0   A10AB01    insulin (human)\n",
              "1   A10AB04     insulin lispro\n",
              "2   A10AB05     insulin aspart\n",
              "3   A10AB06  insulin glulisine\n",
              "4   A10AC01    insulin (human)"
            ]
          },
          "execution_count": 220,
          "metadata": {},
          "output_type": "execute_result"
        }
      ],
      "source": [
        "codiciATC.head()"
      ]
    },
    {
      "attachments": {},
      "cell_type": "markdown",
      "metadata": {},
      "source": [
        "We add the *comment-text* column:"
      ]
    },
    {
      "cell_type": "code",
      "execution_count": 221,
      "metadata": {},
      "outputs": [],
      "source": [
        "def addingMeaningColumn(df:pd.DataFrame, patients:pd.DataFrame) -> pd.DataFrame:\n",
        "    initialCols = df.columns.to_list()\n",
        "    # Do we have to translate AMD or ATC codes?\n",
        "    if np.isin('codiceamd',list(df.columns)):\n",
        "        codice = 'codiceamd'\n",
        "        codiciDF = codiciAMD\n",
        "    else:\n",
        "        codice = 'codiceatc'\n",
        "        codiciDF = codiciATC\n",
        "\n",
        "    # At first, we add a column into the dataframe with the descriptive text of each code\n",
        "    df = pd.merge(df, codiciDF, on=[codice]) \n",
        "\n",
        "    # Now we add the information about the patient\n",
        "    df = pd.merge(df, patients, on=['idcentro','idana','idcopy']).sort_values(by='data')\n",
        "\n",
        "    # Rename 'meaning' column to 'comment_text'\n",
        "    df = df.rename(columns={'meaning':'comment_text'})\n",
        "\n",
        "    initialCols.remove(codice)\n",
        "    initialCols.remove('data')\n",
        "    initialCols.append('comment_text')\n",
        "    return df.filter(items=initialCols)"
      ]
    },
    {
      "cell_type": "code",
      "execution_count": 222,
      "metadata": {},
      "outputs": [],
      "source": [
        "diag_class_bert = addingMeaningColumn(diag_class, ap_class)\n",
        "elp_class_bert  = addingMeaningColumn(elp_class, ap_class)\n",
        "ei_class_bert   = addingMeaningColumn(ei_class, ap_class)\n",
        "pdf_class_bert  = addingMeaningColumn(pdf_class, ap_class)\n",
        "pdnf_class_bert = addingMeaningColumn(pdnf_class, ap_class)\n",
        "pnd_class_bert  = addingMeaningColumn(pnd_class, ap_class)"
      ]
    },
    {
      "attachments": {},
      "cell_type": "markdown",
      "metadata": {},
      "source": [
        "Let's eliminate NAN values:"
      ]
    },
    {
      "cell_type": "code",
      "execution_count": 223,
      "metadata": {},
      "outputs": [],
      "source": [
        "diag_class_bert = diag_class_bert.fillna(\"\")  \n",
        "elp_class_bert  = elp_class_bert.fillna(\"\")  \n",
        "ei_class_bert   = ei_class_bert.fillna(\"\")  \n",
        "pdf_class_bert  = pdf_class_bert.fillna(\"\")  \n",
        "pdnf_class_bert = pdnf_class_bert.fillna(\"\")  \n",
        "pnd_class_bert  = pnd_class_bert.fillna(\"\") "
      ]
    },
    {
      "cell_type": "code",
      "execution_count": 224,
      "metadata": {},
      "outputs": [
        {
          "data": {
            "text/html": [
              "<div>\n",
              "<style scoped>\n",
              "    .dataframe tbody tr th:only-of-type {\n",
              "        vertical-align: middle;\n",
              "    }\n",
              "\n",
              "    .dataframe tbody tr th {\n",
              "        vertical-align: top;\n",
              "    }\n",
              "\n",
              "    .dataframe thead th {\n",
              "        text-align: right;\n",
              "    }\n",
              "</style>\n",
              "<table border=\"1\" class=\"dataframe\">\n",
              "  <thead>\n",
              "    <tr style=\"text-align: right;\">\n",
              "      <th></th>\n",
              "      <th>idcentro</th>\n",
              "      <th>idana</th>\n",
              "      <th>idcopy</th>\n",
              "      <th>valore</th>\n",
              "      <th>comment_text</th>\n",
              "    </tr>\n",
              "  </thead>\n",
              "  <tbody>\n",
              "    <tr>\n",
              "      <th>10805</th>\n",
              "      <td>74</td>\n",
              "      <td>7564</td>\n",
              "      <td>1</td>\n",
              "      <td>N</td>\n",
              "      <td>Cigarette smoke</td>\n",
              "    </tr>\n",
              "    <tr>\n",
              "      <th>92321</th>\n",
              "      <td>157</td>\n",
              "      <td>1354</td>\n",
              "      <td>1</td>\n",
              "      <td></td>\n",
              "      <td>Hypertension</td>\n",
              "    </tr>\n",
              "    <tr>\n",
              "      <th>92393</th>\n",
              "      <td>157</td>\n",
              "      <td>1354</td>\n",
              "      <td>3</td>\n",
              "      <td></td>\n",
              "      <td>Hypertension</td>\n",
              "    </tr>\n",
              "    <tr>\n",
              "      <th>68264</th>\n",
              "      <td>75</td>\n",
              "      <td>87</td>\n",
              "      <td>1</td>\n",
              "      <td>N</td>\n",
              "      <td>Cigarette smoke</td>\n",
              "    </tr>\n",
              "    <tr>\n",
              "      <th>71118</th>\n",
              "      <td>118</td>\n",
              "      <td>9024</td>\n",
              "      <td>1</td>\n",
              "      <td>51.2</td>\n",
              "      <td>Other comorbidities</td>\n",
              "    </tr>\n",
              "  </tbody>\n",
              "</table>\n",
              "</div>"
            ],
            "text/plain": [
              "       idcentro  idana  idcopy valore         comment_text\n",
              "10805        74   7564       1      N      Cigarette smoke\n",
              "92321       157   1354       1                Hypertension\n",
              "92393       157   1354       3                Hypertension\n",
              "68264        75     87       1      N      Cigarette smoke\n",
              "71118       118   9024       1   51.2  Other comorbidities"
            ]
          },
          "execution_count": 224,
          "metadata": {},
          "output_type": "execute_result"
        }
      ],
      "source": [
        "diag_class_bert.head()"
      ]
    },
    {
      "cell_type": "code",
      "execution_count": 225,
      "metadata": {},
      "outputs": [],
      "source": [
        "ap_class = ap_class.reset_index()"
      ]
    },
    {
      "attachments": {},
      "cell_type": "markdown",
      "metadata": {},
      "source": [
        "Now we create a paragraph using all the events of all tables for each patient in order to use a BERT-like model:"
      ]
    },
    {
      "cell_type": "code",
      "execution_count": 226,
      "metadata": {},
      "outputs": [],
      "source": [
        "for i in range(len(ap_class)):\n",
        "    \n",
        "    patient = dict(ap_class.loc[i])\n",
        "    patientDF = pd.DataFrame(data=patient, index=[i])\n",
        "\n",
        "    patient_text = f\"I was born in {patient['annonascita']} and I am a {'man' if patient['sesso']=='M' else 'woman'}. I was diagnosed in {patient['annodiagnosidiabete']} with diabetes of type {patient['tipodiabete']}. My first access was in {patient['annoprimoaccesso']}.\"\n",
        "    \n",
        "    # We aggregate the events to the text.\n",
        "    pdnf_class_bert_patient = pdnf_class_bert.merge(patientDF, on=['idcentro','idcopy','idana'])\n",
        "    patient_text += \" My diets and blood glucose controls have been: \"\n",
        "    for index, event in pdnf_class_bert_patient.iterrows():\n",
        "        patient_text += f\"{event.comment_text} with value {event.valore}, \"\n",
        "    patient_text = patient_text[:-2] + \".\"\n",
        "\n",
        "    pdf_class_bert_patient  = pdf_class_bert.merge(patientDF, on=['idcentro','idcopy','idana'])\n",
        "    patient_text += \" The diabetes drugs that have been prescripted to me: \"\n",
        "    for index, event in pdf_class_bert_patient.iterrows():\n",
        "        patient_text += f\"{event.comment_text} with quantity {event.quantita}, \"\n",
        "    patient_text = patient_text[:-2] + \".\"\n",
        "\n",
        "    pnd_class_bert_patient  = pnd_class_bert.merge(patientDF, on=['idcentro','idcopy','idana'])\n",
        "    patient_text += \" The non-diabetes drugs that have been prescripted to me: \"\n",
        "    for index, event in pnd_class_bert_patient.iterrows():\n",
        "        patient_text += f\"{event.comment_text} with value {event.valore}, \"\n",
        "    patient_text = patient_text[:-2] + \".\"\n",
        "\n",
        "    ei_class_bert_patient   = ei_class_bert.merge(patientDF, on=['idcentro','idcopy','idana'])\n",
        "    patient_text += \" Medical tests: \"\n",
        "    for index, event in ei_class_bert_patient.iterrows():\n",
        "        patient_text += f\"{event.comment_text} with value {event.valore}, \"\n",
        "    patient_text = patient_text[:-2] + \".\"\n",
        "\n",
        "    elp_class_bert_patient  = elp_class_bert.merge(patientDF, on=['idcentro','idcopy','idana'])\n",
        "    patient_text += \" Laboratory tests: \"\n",
        "    for index, event in elp_class_bert_patient.iterrows():\n",
        "        patient_text += f\"{event.comment_text} with value {event.valore}, \"\n",
        "    patient_text = patient_text[:-2] + \".\"\n",
        "    \n",
        "    diag_class_bert_patient = diag_class_bert.merge(patientDF, on=['idcentro','idcopy','idana'])\n",
        "    patient_text += \" Diagnosis tests: \"\n",
        "    for index, event in diag_class_bert_patient.iterrows():\n",
        "        patient_text += f\"{event.comment_text} with value {event.valore}, \"\n",
        "    patient_text = patient_text[:-2] + \".\"\n",
        "\n",
        "    patient_text += f\" Finally i died in {patient['annodecesso']}.\"\n",
        "    ap_class.loc[i, 'text'] = patient_text"
      ]
    },
    {
      "cell_type": "code",
      "execution_count": 227,
      "metadata": {},
      "outputs": [],
      "source": [
        "ap_class_bert = ap_class.filter(items=['text','label'])"
      ]
    },
    {
      "cell_type": "code",
      "execution_count": 228,
      "metadata": {},
      "outputs": [
        {
          "data": {
            "text/html": [
              "<div>\n",
              "<style scoped>\n",
              "    .dataframe tbody tr th:only-of-type {\n",
              "        vertical-align: middle;\n",
              "    }\n",
              "\n",
              "    .dataframe tbody tr th {\n",
              "        vertical-align: top;\n",
              "    }\n",
              "\n",
              "    .dataframe thead th {\n",
              "        text-align: right;\n",
              "    }\n",
              "</style>\n",
              "<table border=\"1\" class=\"dataframe\">\n",
              "  <thead>\n",
              "    <tr style=\"text-align: right;\">\n",
              "      <th></th>\n",
              "      <th>text</th>\n",
              "      <th>label</th>\n",
              "    </tr>\n",
              "  </thead>\n",
              "  <tbody>\n",
              "    <tr>\n",
              "      <th>0</th>\n",
              "      <td>I was born in 1930 and I am a man. I was diagn...</td>\n",
              "      <td>0</td>\n",
              "    </tr>\n",
              "    <tr>\n",
              "      <th>1</th>\n",
              "      <td>I was born in 1934 and I am a man. I was diagn...</td>\n",
              "      <td>0</td>\n",
              "    </tr>\n",
              "    <tr>\n",
              "      <th>2</th>\n",
              "      <td>I was born in 1936 and I am a woman. I was dia...</td>\n",
              "      <td>0</td>\n",
              "    </tr>\n",
              "    <tr>\n",
              "      <th>3</th>\n",
              "      <td>I was born in 1923 and I am a woman. I was dia...</td>\n",
              "      <td>0</td>\n",
              "    </tr>\n",
              "    <tr>\n",
              "      <th>4</th>\n",
              "      <td>I was born in 1936 and I am a woman. I was dia...</td>\n",
              "      <td>0</td>\n",
              "    </tr>\n",
              "  </tbody>\n",
              "</table>\n",
              "</div>"
            ],
            "text/plain": [
              "                                                text  label\n",
              "0  I was born in 1930 and I am a man. I was diagn...      0\n",
              "1  I was born in 1934 and I am a man. I was diagn...      0\n",
              "2  I was born in 1936 and I am a woman. I was dia...      0\n",
              "3  I was born in 1923 and I am a woman. I was dia...      0\n",
              "4  I was born in 1936 and I am a woman. I was dia...      0"
            ]
          },
          "execution_count": 228,
          "metadata": {},
          "output_type": "execute_result"
        }
      ],
      "source": [
        "ap_class_bert.head()"
      ]
    },
    {
      "attachments": {},
      "cell_type": "markdown",
      "metadata": {},
      "source": [
        "Now let's apply the PubMedBert:"
      ]
    },
    {
      "cell_type": "code",
      "execution_count": 229,
      "metadata": {},
      "outputs": [],
      "source": [
        "# !pip install transformers"
      ]
    },
    {
      "cell_type": "code",
      "execution_count": 230,
      "metadata": {},
      "outputs": [
        {
          "name": "stderr",
          "output_type": "stream",
          "text": [
            "Some weights of the model checkpoint at microsoft/BiomedNLP-PubMedBERT-base-uncased-abstract-fulltext were not used when initializing BertForMaskedLM: ['cls.seq_relationship.weight', 'cls.seq_relationship.bias']\n",
            "- This IS expected if you are initializing BertForMaskedLM from the checkpoint of a model trained on another task or with another architecture (e.g. initializing a BertForSequenceClassification model from a BertForPreTraining model).\n",
            "- This IS NOT expected if you are initializing BertForMaskedLM from the checkpoint of a model that you expect to be exactly identical (initializing a BertForSequenceClassification model from a BertForSequenceClassification model).\n"
          ]
        }
      ],
      "source": [
        "from transformers import AutoTokenizer, AutoModelForMaskedLM\n",
        "\n",
        "tokenizer = AutoTokenizer.from_pretrained(\"microsoft/BiomedNLP-PubMedBERT-base-uncased-abstract-fulltext\")\n",
        "\n",
        "model = AutoModelForMaskedLM.from_pretrained(\"microsoft/BiomedNLP-PubMedBERT-base-uncased-abstract-fulltext\")\n",
        "\n",
        "model = model.to(DEVICE)"
      ]
    },
    {
      "attachments": {},
      "cell_type": "markdown",
      "metadata": {},
      "source": [
        "We define some model HyperParameters:"
      ]
    },
    {
      "cell_type": "code",
      "execution_count": 231,
      "metadata": {},
      "outputs": [],
      "source": [
        "BATCH_SIZE = 32\n",
        "LEARNING_RATE = 1e-5\n",
        "EPOCHS = 4"
      ]
    },
    {
      "cell_type": "code",
      "execution_count": 232,
      "metadata": {},
      "outputs": [],
      "source": [
        "# Let's use a maximum length of 200.\n",
        "max_len = 200"
      ]
    },
    {
      "cell_type": "code",
      "execution_count": 233,
      "metadata": {},
      "outputs": [
        {
          "name": "stdout",
          "output_type": "stream",
          "text": [
            "DONE.\n"
          ]
        }
      ],
      "source": [
        "# Tokenize all of the sentences and map the tokens to their word IDs.\n",
        "input_ids = []\n",
        "attention_masks = []\n",
        "\n",
        "for i in range(len(ap_class_bert)):\n",
        "    paragraph = ap_class_bert.loc[i,'text']\n",
        "    encoded_dict = tokenizer.encode_plus(paragraph,\n",
        "                                         add_special_tokens=True,\n",
        "                                         max_length=max_len,\n",
        "                                         truncation=True,\n",
        "                                         padding='max_length',\n",
        "                                         return_attention_mask=True,\n",
        "                                         return_tensors='pt')\n",
        "    input_ids.append(encoded_dict['input_ids'])\n",
        "    attention_masks.append(encoded_dict['attention_mask'])\n",
        "\n",
        "input_ids=torch.cat(input_ids, dim=0)\n",
        "attention_masks = torch.cat(attention_masks, dim=0)\n",
        "labels = torch.tensor(ap_class_bert['label'].to_list())\n",
        "\n",
        "print('DONE.')"
      ]
    },
    {
      "attachments": {},
      "cell_type": "markdown",
      "metadata": {},
      "source": [
        "Now that it’s done, we can divide up the samples into the three splits."
      ]
    },
    {
      "cell_type": "code",
      "execution_count": 234,
      "metadata": {},
      "outputs": [],
      "source": [
        "train_size = int(0.8 * len(ap_class_bert))\n",
        "val_size = int(0.1 * len(ap_class_bert))\n",
        "test_size = len(ap_class_bert) - (train_size + val_size)"
      ]
    },
    {
      "cell_type": "code",
      "execution_count": 235,
      "metadata": {},
      "outputs": [],
      "source": [
        "indexes = np.arange(0, len(ap_class_bert))\n",
        "random.shuffle(indexes)"
      ]
    },
    {
      "cell_type": "code",
      "execution_count": 236,
      "metadata": {},
      "outputs": [],
      "source": [
        "train_idx = indexes[0:train_size]\n",
        "val_idx = indexes[train_size:(train_size + val_size)]\n",
        "test_idx = indexes[(train_size + val_size):]"
      ]
    },
    {
      "cell_type": "code",
      "execution_count": 237,
      "metadata": {},
      "outputs": [
        {
          "name": "stdout",
          "output_type": "stream",
          "text": [
            "Training Size:   2343\n",
            "Validation Size: 292\n",
            "Test Size:       294\n"
          ]
        }
      ],
      "source": [
        "print(f\"Training Size:   {train_size}\")\n",
        "print(f\"Validation Size: {val_size}\")\n",
        "print(f\"Test Size:       {test_size}\")"
      ]
    },
    {
      "cell_type": "code",
      "execution_count": 238,
      "metadata": {},
      "outputs": [],
      "source": [
        "from torch.utils.data import TensorDataset\n",
        "\n",
        "# Split the samples, and create TensorDatasets for each split. \n",
        "train_dataset = TensorDataset(input_ids[train_idx], attention_masks[train_idx], labels[train_idx])\n",
        "val_dataset = TensorDataset(input_ids[val_idx], attention_masks[val_idx], labels[val_idx])\n",
        "test_dataset = TensorDataset(input_ids[test_idx], attention_masks[test_idx], labels[test_idx])"
      ]
    },
    {
      "attachments": {},
      "cell_type": "markdown",
      "metadata": {},
      "source": [
        "Prepare the Data Loader:"
      ]
    },
    {
      "cell_type": "code",
      "execution_count": 239,
      "metadata": {},
      "outputs": [],
      "source": [
        "from torch.utils.data import DataLoader, RandomSampler, SequentialSampler\n",
        "\n",
        "# Create the DataLoaders for our training and validation sets.\n",
        "# We'll take training samples in random order. \n",
        "train_dataloader = DataLoader(\n",
        "            train_dataset,  # The training samples.\n",
        "            sampler = RandomSampler(train_dataset), # Select batches randomly\n",
        "            batch_size = BATCH_SIZE # Trains with this batch size.\n",
        "        )\n",
        "\n",
        "# For validation the order doesn't matter, so we'll just read them sequentially.\n",
        "validation_dataloader = DataLoader(\n",
        "            val_dataset, # The validation samples.\n",
        "            sampler = SequentialSampler(val_dataset), # Pull out batches sequentially.\n",
        "            batch_size = BATCH_SIZE # Evaluate with this batch size.\n",
        ")"
      ]
    },
    {
      "cell_type": "code",
      "execution_count": 240,
      "metadata": {},
      "outputs": [],
      "source": [
        "from torch.optim import AdamW\n",
        "\n",
        "# Note: AdamW is a class from the huggingface library (as opposed to pytorch) \n",
        "# I believe the 'W' stands for 'Weight Decay fix\"\n",
        "optimizer = AdamW(model.parameters(),\n",
        "                  lr = LEARNING_RATE, \n",
        "                  eps = 1e-8 \n",
        "                )"
      ]
    },
    {
      "attachments": {},
      "cell_type": "markdown",
      "metadata": {},
      "source": [
        "We also implemet a LR scheduler so as to implement learning rate decay:"
      ]
    },
    {
      "cell_type": "code",
      "execution_count": 241,
      "metadata": {},
      "outputs": [],
      "source": [
        "from transformers import get_linear_schedule_with_warmup\n",
        "\n",
        "# Total number of training steps is [number of batches] x [number of epochs]. \n",
        "# (Note that this is not the same as the number of training samples!)\n",
        "total_steps = len(train_dataloader) * EPOCHS\n",
        "\n",
        "# Create the learning rate scheduler.\n",
        "scheduler = get_linear_schedule_with_warmup(optimizer, \n",
        "                                            num_warmup_steps = 0, # Default value in run_glue.py\n",
        "                                            num_training_steps = total_steps)"
      ]
    },
    {
      "cell_type": "code",
      "execution_count": 242,
      "metadata": {},
      "outputs": [],
      "source": [
        "# Function to calculate the accuracy of our predictions vs labels\n",
        "def flat_accuracy(preds, labels):\n",
        "    pred_flat = np.argmax(preds, axis=1).flatten()\n",
        "    labels_flat = labels.flatten()\n",
        "    return np.sum(pred_flat == labels_flat) / len(labels_flat)"
      ]
    },
    {
      "cell_type": "code",
      "execution_count": 243,
      "metadata": {},
      "outputs": [],
      "source": [
        "def format_time(elapsed):\n",
        "    '''\n",
        "    Takes a time in seconds and returns a string hh:mm:ss\n",
        "    '''\n",
        "    # Round to the nearest second.\n",
        "    elapsed_rounded = int(round((elapsed)))\n",
        "    \n",
        "    # Format as hh:mm:ss\n",
        "    return str(datetime.timedelta(seconds=elapsed_rounded))"
      ]
    },
    {
      "cell_type": "code",
      "execution_count": 244,
      "metadata": {},
      "outputs": [
        {
          "name": "stdout",
          "output_type": "stream",
          "text": [
            "\n",
            "======== Epoch 0 / 4 ========\n",
            "Training...\n"
          ]
        },
        {
          "ename": "OutOfMemoryError",
          "evalue": "CUDA out of memory. Tried to allocate 76.00 MiB (GPU 0; 4.00 GiB total capacity; 3.30 GiB already allocated; 0 bytes free; 3.45 GiB reserved in total by PyTorch) If reserved memory is >> allocated memory try setting max_split_size_mb to avoid fragmentation.  See documentation for Memory Management and PYTORCH_CUDA_ALLOC_CONF",
          "output_type": "error",
          "traceback": [
            "\u001b[1;31m---------------------------------------------------------------------------\u001b[0m",
            "\u001b[1;31mOutOfMemoryError\u001b[0m                          Traceback (most recent call last)",
            "\u001b[1;32m~\\AppData\\Local\\Temp\\ipykernel_5892\\2990800725.py\u001b[0m in \u001b[0;36m<module>\u001b[1;34m\u001b[0m\n\u001b[0;32m     58\u001b[0m \u001b[1;33m\u001b[0m\u001b[0m\n\u001b[0;32m     59\u001b[0m         \u001b[1;31m# Perform a forward pass (evaluate the model on this training batch).\u001b[0m\u001b[1;33m\u001b[0m\u001b[1;33m\u001b[0m\u001b[0m\n\u001b[1;32m---> 60\u001b[1;33m         result = model(b_input_ids, \n\u001b[0m\u001b[0;32m     61\u001b[0m                        \u001b[0mtoken_type_ids\u001b[0m\u001b[1;33m=\u001b[0m\u001b[1;32mNone\u001b[0m\u001b[1;33m,\u001b[0m\u001b[1;33m\u001b[0m\u001b[1;33m\u001b[0m\u001b[0m\n\u001b[0;32m     62\u001b[0m                        \u001b[0mattention_mask\u001b[0m\u001b[1;33m=\u001b[0m\u001b[0mb_input_mask\u001b[0m\u001b[1;33m,\u001b[0m\u001b[1;33m\u001b[0m\u001b[1;33m\u001b[0m\u001b[0m\n",
            "\u001b[1;32mc:\\Users\\naxet\\anaconda3\\lib\\site-packages\\torch\\nn\\modules\\module.py\u001b[0m in \u001b[0;36m_call_impl\u001b[1;34m(self, *input, **kwargs)\u001b[0m\n\u001b[0;32m   1192\u001b[0m         if not (self._backward_hooks or self._forward_hooks or self._forward_pre_hooks or _global_backward_hooks\n\u001b[0;32m   1193\u001b[0m                 or _global_forward_hooks or _global_forward_pre_hooks):\n\u001b[1;32m-> 1194\u001b[1;33m             \u001b[1;32mreturn\u001b[0m \u001b[0mforward_call\u001b[0m\u001b[1;33m(\u001b[0m\u001b[1;33m*\u001b[0m\u001b[0minput\u001b[0m\u001b[1;33m,\u001b[0m \u001b[1;33m**\u001b[0m\u001b[0mkwargs\u001b[0m\u001b[1;33m)\u001b[0m\u001b[1;33m\u001b[0m\u001b[1;33m\u001b[0m\u001b[0m\n\u001b[0m\u001b[0;32m   1195\u001b[0m         \u001b[1;31m# Do not call functions when jit is used\u001b[0m\u001b[1;33m\u001b[0m\u001b[1;33m\u001b[0m\u001b[0m\n\u001b[0;32m   1196\u001b[0m         \u001b[0mfull_backward_hooks\u001b[0m\u001b[1;33m,\u001b[0m \u001b[0mnon_full_backward_hooks\u001b[0m \u001b[1;33m=\u001b[0m \u001b[1;33m[\u001b[0m\u001b[1;33m]\u001b[0m\u001b[1;33m,\u001b[0m \u001b[1;33m[\u001b[0m\u001b[1;33m]\u001b[0m\u001b[1;33m\u001b[0m\u001b[1;33m\u001b[0m\u001b[0m\n",
            "\u001b[1;32mc:\\Users\\naxet\\anaconda3\\lib\\site-packages\\transformers\\models\\bert\\modeling_bert.py\u001b[0m in \u001b[0;36mforward\u001b[1;34m(self, input_ids, attention_mask, token_type_ids, position_ids, head_mask, inputs_embeds, encoder_hidden_states, encoder_attention_mask, labels, output_attentions, output_hidden_states, return_dict)\u001b[0m\n\u001b[0;32m   1356\u001b[0m         \u001b[0mreturn_dict\u001b[0m \u001b[1;33m=\u001b[0m \u001b[0mreturn_dict\u001b[0m \u001b[1;32mif\u001b[0m \u001b[0mreturn_dict\u001b[0m \u001b[1;32mis\u001b[0m \u001b[1;32mnot\u001b[0m \u001b[1;32mNone\u001b[0m \u001b[1;32melse\u001b[0m \u001b[0mself\u001b[0m\u001b[1;33m.\u001b[0m\u001b[0mconfig\u001b[0m\u001b[1;33m.\u001b[0m\u001b[0muse_return_dict\u001b[0m\u001b[1;33m\u001b[0m\u001b[1;33m\u001b[0m\u001b[0m\n\u001b[0;32m   1357\u001b[0m \u001b[1;33m\u001b[0m\u001b[0m\n\u001b[1;32m-> 1358\u001b[1;33m         outputs = self.bert(\n\u001b[0m\u001b[0;32m   1359\u001b[0m             \u001b[0minput_ids\u001b[0m\u001b[1;33m,\u001b[0m\u001b[1;33m\u001b[0m\u001b[1;33m\u001b[0m\u001b[0m\n\u001b[0;32m   1360\u001b[0m             \u001b[0mattention_mask\u001b[0m\u001b[1;33m=\u001b[0m\u001b[0mattention_mask\u001b[0m\u001b[1;33m,\u001b[0m\u001b[1;33m\u001b[0m\u001b[1;33m\u001b[0m\u001b[0m\n",
            "\u001b[1;32mc:\\Users\\naxet\\anaconda3\\lib\\site-packages\\torch\\nn\\modules\\module.py\u001b[0m in \u001b[0;36m_call_impl\u001b[1;34m(self, *input, **kwargs)\u001b[0m\n\u001b[0;32m   1192\u001b[0m         if not (self._backward_hooks or self._forward_hooks or self._forward_pre_hooks or _global_backward_hooks\n\u001b[0;32m   1193\u001b[0m                 or _global_forward_hooks or _global_forward_pre_hooks):\n\u001b[1;32m-> 1194\u001b[1;33m             \u001b[1;32mreturn\u001b[0m \u001b[0mforward_call\u001b[0m\u001b[1;33m(\u001b[0m\u001b[1;33m*\u001b[0m\u001b[0minput\u001b[0m\u001b[1;33m,\u001b[0m \u001b[1;33m**\u001b[0m\u001b[0mkwargs\u001b[0m\u001b[1;33m)\u001b[0m\u001b[1;33m\u001b[0m\u001b[1;33m\u001b[0m\u001b[0m\n\u001b[0m\u001b[0;32m   1195\u001b[0m         \u001b[1;31m# Do not call functions when jit is used\u001b[0m\u001b[1;33m\u001b[0m\u001b[1;33m\u001b[0m\u001b[0m\n\u001b[0;32m   1196\u001b[0m         \u001b[0mfull_backward_hooks\u001b[0m\u001b[1;33m,\u001b[0m \u001b[0mnon_full_backward_hooks\u001b[0m \u001b[1;33m=\u001b[0m \u001b[1;33m[\u001b[0m\u001b[1;33m]\u001b[0m\u001b[1;33m,\u001b[0m \u001b[1;33m[\u001b[0m\u001b[1;33m]\u001b[0m\u001b[1;33m\u001b[0m\u001b[1;33m\u001b[0m\u001b[0m\n",
            "\u001b[1;32mc:\\Users\\naxet\\anaconda3\\lib\\site-packages\\transformers\\models\\bert\\modeling_bert.py\u001b[0m in \u001b[0;36mforward\u001b[1;34m(self, input_ids, attention_mask, token_type_ids, position_ids, head_mask, inputs_embeds, encoder_hidden_states, encoder_attention_mask, past_key_values, use_cache, output_attentions, output_hidden_states, return_dict)\u001b[0m\n\u001b[0;32m   1018\u001b[0m             \u001b[0mpast_key_values_length\u001b[0m\u001b[1;33m=\u001b[0m\u001b[0mpast_key_values_length\u001b[0m\u001b[1;33m,\u001b[0m\u001b[1;33m\u001b[0m\u001b[1;33m\u001b[0m\u001b[0m\n\u001b[0;32m   1019\u001b[0m         )\n\u001b[1;32m-> 1020\u001b[1;33m         encoder_outputs = self.encoder(\n\u001b[0m\u001b[0;32m   1021\u001b[0m             \u001b[0membedding_output\u001b[0m\u001b[1;33m,\u001b[0m\u001b[1;33m\u001b[0m\u001b[1;33m\u001b[0m\u001b[0m\n\u001b[0;32m   1022\u001b[0m             \u001b[0mattention_mask\u001b[0m\u001b[1;33m=\u001b[0m\u001b[0mextended_attention_mask\u001b[0m\u001b[1;33m,\u001b[0m\u001b[1;33m\u001b[0m\u001b[1;33m\u001b[0m\u001b[0m\n",
            "\u001b[1;32mc:\\Users\\naxet\\anaconda3\\lib\\site-packages\\torch\\nn\\modules\\module.py\u001b[0m in \u001b[0;36m_call_impl\u001b[1;34m(self, *input, **kwargs)\u001b[0m\n\u001b[0;32m   1192\u001b[0m         if not (self._backward_hooks or self._forward_hooks or self._forward_pre_hooks or _global_backward_hooks\n\u001b[0;32m   1193\u001b[0m                 or _global_forward_hooks or _global_forward_pre_hooks):\n\u001b[1;32m-> 1194\u001b[1;33m             \u001b[1;32mreturn\u001b[0m \u001b[0mforward_call\u001b[0m\u001b[1;33m(\u001b[0m\u001b[1;33m*\u001b[0m\u001b[0minput\u001b[0m\u001b[1;33m,\u001b[0m \u001b[1;33m**\u001b[0m\u001b[0mkwargs\u001b[0m\u001b[1;33m)\u001b[0m\u001b[1;33m\u001b[0m\u001b[1;33m\u001b[0m\u001b[0m\n\u001b[0m\u001b[0;32m   1195\u001b[0m         \u001b[1;31m# Do not call functions when jit is used\u001b[0m\u001b[1;33m\u001b[0m\u001b[1;33m\u001b[0m\u001b[0m\n\u001b[0;32m   1196\u001b[0m         \u001b[0mfull_backward_hooks\u001b[0m\u001b[1;33m,\u001b[0m \u001b[0mnon_full_backward_hooks\u001b[0m \u001b[1;33m=\u001b[0m \u001b[1;33m[\u001b[0m\u001b[1;33m]\u001b[0m\u001b[1;33m,\u001b[0m \u001b[1;33m[\u001b[0m\u001b[1;33m]\u001b[0m\u001b[1;33m\u001b[0m\u001b[1;33m\u001b[0m\u001b[0m\n",
            "\u001b[1;32mc:\\Users\\naxet\\anaconda3\\lib\\site-packages\\transformers\\models\\bert\\modeling_bert.py\u001b[0m in \u001b[0;36mforward\u001b[1;34m(self, hidden_states, attention_mask, head_mask, encoder_hidden_states, encoder_attention_mask, past_key_values, use_cache, output_attentions, output_hidden_states, return_dict)\u001b[0m\n\u001b[0;32m    608\u001b[0m                 )\n\u001b[0;32m    609\u001b[0m             \u001b[1;32melse\u001b[0m\u001b[1;33m:\u001b[0m\u001b[1;33m\u001b[0m\u001b[1;33m\u001b[0m\u001b[0m\n\u001b[1;32m--> 610\u001b[1;33m                 layer_outputs = layer_module(\n\u001b[0m\u001b[0;32m    611\u001b[0m                     \u001b[0mhidden_states\u001b[0m\u001b[1;33m,\u001b[0m\u001b[1;33m\u001b[0m\u001b[1;33m\u001b[0m\u001b[0m\n\u001b[0;32m    612\u001b[0m                     \u001b[0mattention_mask\u001b[0m\u001b[1;33m,\u001b[0m\u001b[1;33m\u001b[0m\u001b[1;33m\u001b[0m\u001b[0m\n",
            "\u001b[1;32mc:\\Users\\naxet\\anaconda3\\lib\\site-packages\\torch\\nn\\modules\\module.py\u001b[0m in \u001b[0;36m_call_impl\u001b[1;34m(self, *input, **kwargs)\u001b[0m\n\u001b[0;32m   1192\u001b[0m         if not (self._backward_hooks or self._forward_hooks or self._forward_pre_hooks or _global_backward_hooks\n\u001b[0;32m   1193\u001b[0m                 or _global_forward_hooks or _global_forward_pre_hooks):\n\u001b[1;32m-> 1194\u001b[1;33m             \u001b[1;32mreturn\u001b[0m \u001b[0mforward_call\u001b[0m\u001b[1;33m(\u001b[0m\u001b[1;33m*\u001b[0m\u001b[0minput\u001b[0m\u001b[1;33m,\u001b[0m \u001b[1;33m**\u001b[0m\u001b[0mkwargs\u001b[0m\u001b[1;33m)\u001b[0m\u001b[1;33m\u001b[0m\u001b[1;33m\u001b[0m\u001b[0m\n\u001b[0m\u001b[0;32m   1195\u001b[0m         \u001b[1;31m# Do not call functions when jit is used\u001b[0m\u001b[1;33m\u001b[0m\u001b[1;33m\u001b[0m\u001b[0m\n\u001b[0;32m   1196\u001b[0m         \u001b[0mfull_backward_hooks\u001b[0m\u001b[1;33m,\u001b[0m \u001b[0mnon_full_backward_hooks\u001b[0m \u001b[1;33m=\u001b[0m \u001b[1;33m[\u001b[0m\u001b[1;33m]\u001b[0m\u001b[1;33m,\u001b[0m \u001b[1;33m[\u001b[0m\u001b[1;33m]\u001b[0m\u001b[1;33m\u001b[0m\u001b[1;33m\u001b[0m\u001b[0m\n",
            "\u001b[1;32mc:\\Users\\naxet\\anaconda3\\lib\\site-packages\\transformers\\models\\bert\\modeling_bert.py\u001b[0m in \u001b[0;36mforward\u001b[1;34m(self, hidden_states, attention_mask, head_mask, encoder_hidden_states, encoder_attention_mask, past_key_value, output_attentions)\u001b[0m\n\u001b[0;32m    535\u001b[0m             \u001b[0mpresent_key_value\u001b[0m \u001b[1;33m=\u001b[0m \u001b[0mpresent_key_value\u001b[0m \u001b[1;33m+\u001b[0m \u001b[0mcross_attn_present_key_value\u001b[0m\u001b[1;33m\u001b[0m\u001b[1;33m\u001b[0m\u001b[0m\n\u001b[0;32m    536\u001b[0m \u001b[1;33m\u001b[0m\u001b[0m\n\u001b[1;32m--> 537\u001b[1;33m         layer_output = apply_chunking_to_forward(\n\u001b[0m\u001b[0;32m    538\u001b[0m             \u001b[0mself\u001b[0m\u001b[1;33m.\u001b[0m\u001b[0mfeed_forward_chunk\u001b[0m\u001b[1;33m,\u001b[0m \u001b[0mself\u001b[0m\u001b[1;33m.\u001b[0m\u001b[0mchunk_size_feed_forward\u001b[0m\u001b[1;33m,\u001b[0m \u001b[0mself\u001b[0m\u001b[1;33m.\u001b[0m\u001b[0mseq_len_dim\u001b[0m\u001b[1;33m,\u001b[0m \u001b[0mattention_output\u001b[0m\u001b[1;33m\u001b[0m\u001b[1;33m\u001b[0m\u001b[0m\n\u001b[0;32m    539\u001b[0m         )\n",
            "\u001b[1;32mc:\\Users\\naxet\\anaconda3\\lib\\site-packages\\transformers\\pytorch_utils.py\u001b[0m in \u001b[0;36mapply_chunking_to_forward\u001b[1;34m(forward_fn, chunk_size, chunk_dim, *input_tensors)\u001b[0m\n\u001b[0;32m    234\u001b[0m         \u001b[1;32mreturn\u001b[0m \u001b[0mtorch\u001b[0m\u001b[1;33m.\u001b[0m\u001b[0mcat\u001b[0m\u001b[1;33m(\u001b[0m\u001b[0moutput_chunks\u001b[0m\u001b[1;33m,\u001b[0m \u001b[0mdim\u001b[0m\u001b[1;33m=\u001b[0m\u001b[0mchunk_dim\u001b[0m\u001b[1;33m)\u001b[0m\u001b[1;33m\u001b[0m\u001b[1;33m\u001b[0m\u001b[0m\n\u001b[0;32m    235\u001b[0m \u001b[1;33m\u001b[0m\u001b[0m\n\u001b[1;32m--> 236\u001b[1;33m     \u001b[1;32mreturn\u001b[0m \u001b[0mforward_fn\u001b[0m\u001b[1;33m(\u001b[0m\u001b[1;33m*\u001b[0m\u001b[0minput_tensors\u001b[0m\u001b[1;33m)\u001b[0m\u001b[1;33m\u001b[0m\u001b[1;33m\u001b[0m\u001b[0m\n\u001b[0m\u001b[0;32m    237\u001b[0m \u001b[1;33m\u001b[0m\u001b[0m\n\u001b[0;32m    238\u001b[0m \u001b[1;33m\u001b[0m\u001b[0m\n",
            "\u001b[1;32mc:\\Users\\naxet\\anaconda3\\lib\\site-packages\\transformers\\models\\bert\\modeling_bert.py\u001b[0m in \u001b[0;36mfeed_forward_chunk\u001b[1;34m(self, attention_output)\u001b[0m\n\u001b[0;32m    547\u001b[0m \u001b[1;33m\u001b[0m\u001b[0m\n\u001b[0;32m    548\u001b[0m     \u001b[1;32mdef\u001b[0m \u001b[0mfeed_forward_chunk\u001b[0m\u001b[1;33m(\u001b[0m\u001b[0mself\u001b[0m\u001b[1;33m,\u001b[0m \u001b[0mattention_output\u001b[0m\u001b[1;33m)\u001b[0m\u001b[1;33m:\u001b[0m\u001b[1;33m\u001b[0m\u001b[1;33m\u001b[0m\u001b[0m\n\u001b[1;32m--> 549\u001b[1;33m         \u001b[0mintermediate_output\u001b[0m \u001b[1;33m=\u001b[0m \u001b[0mself\u001b[0m\u001b[1;33m.\u001b[0m\u001b[0mintermediate\u001b[0m\u001b[1;33m(\u001b[0m\u001b[0mattention_output\u001b[0m\u001b[1;33m)\u001b[0m\u001b[1;33m\u001b[0m\u001b[1;33m\u001b[0m\u001b[0m\n\u001b[0m\u001b[0;32m    550\u001b[0m         \u001b[0mlayer_output\u001b[0m \u001b[1;33m=\u001b[0m \u001b[0mself\u001b[0m\u001b[1;33m.\u001b[0m\u001b[0moutput\u001b[0m\u001b[1;33m(\u001b[0m\u001b[0mintermediate_output\u001b[0m\u001b[1;33m,\u001b[0m \u001b[0mattention_output\u001b[0m\u001b[1;33m)\u001b[0m\u001b[1;33m\u001b[0m\u001b[1;33m\u001b[0m\u001b[0m\n\u001b[0;32m    551\u001b[0m         \u001b[1;32mreturn\u001b[0m \u001b[0mlayer_output\u001b[0m\u001b[1;33m\u001b[0m\u001b[1;33m\u001b[0m\u001b[0m\n",
            "\u001b[1;32mc:\\Users\\naxet\\anaconda3\\lib\\site-packages\\torch\\nn\\modules\\module.py\u001b[0m in \u001b[0;36m_call_impl\u001b[1;34m(self, *input, **kwargs)\u001b[0m\n\u001b[0;32m   1192\u001b[0m         if not (self._backward_hooks or self._forward_hooks or self._forward_pre_hooks or _global_backward_hooks\n\u001b[0;32m   1193\u001b[0m                 or _global_forward_hooks or _global_forward_pre_hooks):\n\u001b[1;32m-> 1194\u001b[1;33m             \u001b[1;32mreturn\u001b[0m \u001b[0mforward_call\u001b[0m\u001b[1;33m(\u001b[0m\u001b[1;33m*\u001b[0m\u001b[0minput\u001b[0m\u001b[1;33m,\u001b[0m \u001b[1;33m**\u001b[0m\u001b[0mkwargs\u001b[0m\u001b[1;33m)\u001b[0m\u001b[1;33m\u001b[0m\u001b[1;33m\u001b[0m\u001b[0m\n\u001b[0m\u001b[0;32m   1195\u001b[0m         \u001b[1;31m# Do not call functions when jit is used\u001b[0m\u001b[1;33m\u001b[0m\u001b[1;33m\u001b[0m\u001b[0m\n\u001b[0;32m   1196\u001b[0m         \u001b[0mfull_backward_hooks\u001b[0m\u001b[1;33m,\u001b[0m \u001b[0mnon_full_backward_hooks\u001b[0m \u001b[1;33m=\u001b[0m \u001b[1;33m[\u001b[0m\u001b[1;33m]\u001b[0m\u001b[1;33m,\u001b[0m \u001b[1;33m[\u001b[0m\u001b[1;33m]\u001b[0m\u001b[1;33m\u001b[0m\u001b[1;33m\u001b[0m\u001b[0m\n",
            "\u001b[1;32mc:\\Users\\naxet\\anaconda3\\lib\\site-packages\\transformers\\models\\bert\\modeling_bert.py\u001b[0m in \u001b[0;36mforward\u001b[1;34m(self, hidden_states)\u001b[0m\n\u001b[0;32m    447\u001b[0m \u001b[1;33m\u001b[0m\u001b[0m\n\u001b[0;32m    448\u001b[0m     \u001b[1;32mdef\u001b[0m \u001b[0mforward\u001b[0m\u001b[1;33m(\u001b[0m\u001b[0mself\u001b[0m\u001b[1;33m,\u001b[0m \u001b[0mhidden_states\u001b[0m\u001b[1;33m:\u001b[0m \u001b[0mtorch\u001b[0m\u001b[1;33m.\u001b[0m\u001b[0mTensor\u001b[0m\u001b[1;33m)\u001b[0m \u001b[1;33m->\u001b[0m \u001b[0mtorch\u001b[0m\u001b[1;33m.\u001b[0m\u001b[0mTensor\u001b[0m\u001b[1;33m:\u001b[0m\u001b[1;33m\u001b[0m\u001b[1;33m\u001b[0m\u001b[0m\n\u001b[1;32m--> 449\u001b[1;33m         \u001b[0mhidden_states\u001b[0m \u001b[1;33m=\u001b[0m \u001b[0mself\u001b[0m\u001b[1;33m.\u001b[0m\u001b[0mdense\u001b[0m\u001b[1;33m(\u001b[0m\u001b[0mhidden_states\u001b[0m\u001b[1;33m)\u001b[0m\u001b[1;33m\u001b[0m\u001b[1;33m\u001b[0m\u001b[0m\n\u001b[0m\u001b[0;32m    450\u001b[0m         \u001b[0mhidden_states\u001b[0m \u001b[1;33m=\u001b[0m \u001b[0mself\u001b[0m\u001b[1;33m.\u001b[0m\u001b[0mintermediate_act_fn\u001b[0m\u001b[1;33m(\u001b[0m\u001b[0mhidden_states\u001b[0m\u001b[1;33m)\u001b[0m\u001b[1;33m\u001b[0m\u001b[1;33m\u001b[0m\u001b[0m\n\u001b[0;32m    451\u001b[0m         \u001b[1;32mreturn\u001b[0m \u001b[0mhidden_states\u001b[0m\u001b[1;33m\u001b[0m\u001b[1;33m\u001b[0m\u001b[0m\n",
            "\u001b[1;32mc:\\Users\\naxet\\anaconda3\\lib\\site-packages\\torch\\nn\\modules\\module.py\u001b[0m in \u001b[0;36m_call_impl\u001b[1;34m(self, *input, **kwargs)\u001b[0m\n\u001b[0;32m   1192\u001b[0m         if not (self._backward_hooks or self._forward_hooks or self._forward_pre_hooks or _global_backward_hooks\n\u001b[0;32m   1193\u001b[0m                 or _global_forward_hooks or _global_forward_pre_hooks):\n\u001b[1;32m-> 1194\u001b[1;33m             \u001b[1;32mreturn\u001b[0m \u001b[0mforward_call\u001b[0m\u001b[1;33m(\u001b[0m\u001b[1;33m*\u001b[0m\u001b[0minput\u001b[0m\u001b[1;33m,\u001b[0m \u001b[1;33m**\u001b[0m\u001b[0mkwargs\u001b[0m\u001b[1;33m)\u001b[0m\u001b[1;33m\u001b[0m\u001b[1;33m\u001b[0m\u001b[0m\n\u001b[0m\u001b[0;32m   1195\u001b[0m         \u001b[1;31m# Do not call functions when jit is used\u001b[0m\u001b[1;33m\u001b[0m\u001b[1;33m\u001b[0m\u001b[0m\n\u001b[0;32m   1196\u001b[0m         \u001b[0mfull_backward_hooks\u001b[0m\u001b[1;33m,\u001b[0m \u001b[0mnon_full_backward_hooks\u001b[0m \u001b[1;33m=\u001b[0m \u001b[1;33m[\u001b[0m\u001b[1;33m]\u001b[0m\u001b[1;33m,\u001b[0m \u001b[1;33m[\u001b[0m\u001b[1;33m]\u001b[0m\u001b[1;33m\u001b[0m\u001b[1;33m\u001b[0m\u001b[0m\n",
            "\u001b[1;32mc:\\Users\\naxet\\anaconda3\\lib\\site-packages\\torch\\nn\\modules\\linear.py\u001b[0m in \u001b[0;36mforward\u001b[1;34m(self, input)\u001b[0m\n\u001b[0;32m    112\u001b[0m \u001b[1;33m\u001b[0m\u001b[0m\n\u001b[0;32m    113\u001b[0m     \u001b[1;32mdef\u001b[0m \u001b[0mforward\u001b[0m\u001b[1;33m(\u001b[0m\u001b[0mself\u001b[0m\u001b[1;33m,\u001b[0m \u001b[0minput\u001b[0m\u001b[1;33m:\u001b[0m \u001b[0mTensor\u001b[0m\u001b[1;33m)\u001b[0m \u001b[1;33m->\u001b[0m \u001b[0mTensor\u001b[0m\u001b[1;33m:\u001b[0m\u001b[1;33m\u001b[0m\u001b[1;33m\u001b[0m\u001b[0m\n\u001b[1;32m--> 114\u001b[1;33m         \u001b[1;32mreturn\u001b[0m \u001b[0mF\u001b[0m\u001b[1;33m.\u001b[0m\u001b[0mlinear\u001b[0m\u001b[1;33m(\u001b[0m\u001b[0minput\u001b[0m\u001b[1;33m,\u001b[0m \u001b[0mself\u001b[0m\u001b[1;33m.\u001b[0m\u001b[0mweight\u001b[0m\u001b[1;33m,\u001b[0m \u001b[0mself\u001b[0m\u001b[1;33m.\u001b[0m\u001b[0mbias\u001b[0m\u001b[1;33m)\u001b[0m\u001b[1;33m\u001b[0m\u001b[1;33m\u001b[0m\u001b[0m\n\u001b[0m\u001b[0;32m    115\u001b[0m \u001b[1;33m\u001b[0m\u001b[0m\n\u001b[0;32m    116\u001b[0m     \u001b[1;32mdef\u001b[0m \u001b[0mextra_repr\u001b[0m\u001b[1;33m(\u001b[0m\u001b[0mself\u001b[0m\u001b[1;33m)\u001b[0m \u001b[1;33m->\u001b[0m \u001b[0mstr\u001b[0m\u001b[1;33m:\u001b[0m\u001b[1;33m\u001b[0m\u001b[1;33m\u001b[0m\u001b[0m\n",
            "\u001b[1;31mOutOfMemoryError\u001b[0m: CUDA out of memory. Tried to allocate 76.00 MiB (GPU 0; 4.00 GiB total capacity; 3.30 GiB already allocated; 0 bytes free; 3.45 GiB reserved in total by PyTorch) If reserved memory is >> allocated memory try setting max_split_size_mb to avoid fragmentation.  See documentation for Memory Management and PYTORCH_CUDA_ALLOC_CONF"
          ]
        }
      ],
      "source": [
        "import time\n",
        "\n",
        "# We'll store a number of quantities such as training and validation loss, \n",
        "# validation accuracy, and timings.\n",
        "training_stats = []\n",
        "\n",
        "# Measure the total training time for the whole run.\n",
        "total_t0 = time.time()\n",
        "\n",
        "# For each epoch...\n",
        "for epoch_i in range(0, EPOCHS):\n",
        "    \n",
        "    # ========================================\n",
        "    #               Training\n",
        "    # ========================================\n",
        "    \n",
        "    # Perform one full pass over the training set.\n",
        "\n",
        "    print(\"\")\n",
        "    print(f'======== Epoch {epoch_i} / {EPOCHS} ========')\n",
        "    print('Training...')\n",
        "\n",
        "    # Measure how long the training epoch takes.\n",
        "    t0 = time.time()\n",
        "\n",
        "    # Reset the total loss for this epoch.\n",
        "    total_train_loss = 0\n",
        "\n",
        "    # Put the model into training mode\n",
        "    model.train()\n",
        "\n",
        "    # For each batch of training data...\n",
        "    for step, batch in enumerate(train_dataloader):\n",
        "\n",
        "        # Progress update every 40 batches.\n",
        "        if step % 40 == 0 and not step == 0:\n",
        "            # Calculate elapsed time in minutes.\n",
        "            elapsed = format_time(time.time() - t0)\n",
        "            \n",
        "            # Report progress.\n",
        "            print(f'  Batch {step:>5,}  of  {len(train_dataloader):>5,}.    Elapsed: {elapsed}.')\n",
        "\n",
        "        # Unpack this training batch from our dataloader. \n",
        "        #\n",
        "        # As we unpack the batch, we'll also copy each tensor to the GPU using the \n",
        "        # `to` method.\n",
        "        #\n",
        "        # `batch` contains three pytorch tensors:\n",
        "        #   [0]: input ids \n",
        "        #   [1]: attention masks\n",
        "        #   [2]: labels \n",
        "        b_input_ids = batch[0].to(DEVICE)\n",
        "        b_input_mask = batch[1].to(DEVICE)\n",
        "        b_labels = batch[2].to(DEVICE)\n",
        "\n",
        "        # Always clear any previously calculated gradients before performing a backward pass\n",
        "        model.zero_grad()        \n",
        "\n",
        "        # Perform a forward pass (evaluate the model on this training batch).\n",
        "        result = model(b_input_ids, \n",
        "                       token_type_ids=None, \n",
        "                       attention_mask=b_input_mask, \n",
        "                       labels=b_labels,\n",
        "                       return_dict=True)\n",
        "\n",
        "        loss = result.loss\n",
        "        logits = result.logits\n",
        "\n",
        "        # Accumulate the training loss over all of the batches so that we can calculate the average loss at the end.\n",
        "        total_train_loss += loss.item()\n",
        "\n",
        "        # Perform a backward pass to calculate the gradients.\n",
        "        loss.backward()\n",
        "\n",
        "        # Clip the norm of the gradients to 1.0.\n",
        "        # This is to help prevent the \"exploding gradients\" problem.\n",
        "        torch.nn.utils.clip_grad_norm_(model.parameters(), 1.0)\n",
        "\n",
        "        # Update parameters and take a step using the computed gradient.\n",
        "        # The optimizer dictates the \"update rule\"--how the parameters are\n",
        "        # modified based on their gradients, the learning rate, etc.\n",
        "        optimizer.step()\n",
        "\n",
        "        # Update the learning rate.\n",
        "        scheduler.step()\n",
        "\n",
        "    # Calculate the average loss over all of the batches.\n",
        "    avg_train_loss = total_train_loss / len(train_dataloader)            \n",
        "    \n",
        "    # Measure how long this epoch took.\n",
        "    training_time = format_time(time.time() - t0)\n",
        "\n",
        "    print(\"\")\n",
        "    print(f\"  Average training loss: {avg_train_loss:.2f}\")\n",
        "    print(f\"  Training epcoh took: {training_time}\")\n",
        "        \n",
        "    # ========================================\n",
        "    #               Validation\n",
        "    # ========================================\n",
        "    # After the completion of each training epoch, measure our performance on\n",
        "    # our validation set.\n",
        "\n",
        "    print(\"\")\n",
        "    print(\"Running Validation...\")\n",
        "\n",
        "    t0 = time.time()\n",
        "\n",
        "    # Put the model in evaluation mode--the dropout layers behave differently\n",
        "    # during evaluation.\n",
        "    model.eval()\n",
        "\n",
        "    # Tracking variables \n",
        "    total_eval_accuracy = 0\n",
        "    total_eval_loss = 0\n",
        "    nb_eval_steps = 0\n",
        "\n",
        "    # Evaluate data for one epoch\n",
        "    for batch in validation_dataloader:\n",
        "        \n",
        "        # Unpack this training batch from our dataloader. \n",
        "        #\n",
        "        # As we unpack the batch, we'll also copy each tensor to the GPU using \n",
        "        # the `to` method.\n",
        "        #\n",
        "        # `batch` contains three pytorch tensors:\n",
        "        #   [0]: input ids \n",
        "        #   [1]: attention masks\n",
        "        #   [2]: labels \n",
        "        b_input_ids = batch[0].to(DEVICE)\n",
        "        b_input_mask = batch[1].to(DEVICE)\n",
        "        b_labels = batch[2].to(DEVICE)\n",
        "        \n",
        "        # Tell pytorch not to bother with constructing the compute graph during\n",
        "        # the forward pass, since this is only needed for backprop (training).\n",
        "        with torch.no_grad():        \n",
        "\n",
        "            # Forward pass, calculate logit predictions.\n",
        "            # token_type_ids is the same as the \"segment ids\", which \n",
        "            # differentiates sentence 1 and 2 in 2-sentence tasks.\n",
        "            result = model(b_input_ids, \n",
        "                           token_type_ids=None, \n",
        "                           attention_mask=b_input_mask,\n",
        "                           labels=b_labels,\n",
        "                           return_dict=True)\n",
        "\n",
        "        # Get the loss and \"logits\" output by the model. The \"logits\" are the \n",
        "        # output values prior to applying an activation function like the \n",
        "        # softmax.\n",
        "        loss = result.loss\n",
        "        logits = result.logits\n",
        "            \n",
        "        # Accumulate the validation loss.\n",
        "        total_eval_loss += loss.item()\n",
        "\n",
        "        # Move logits and labels to CPU\n",
        "        logits = logits.detach().cpu().numpy()\n",
        "        label_ids = b_labels.to('cpu').numpy()\n",
        "\n",
        "        # Calculate the accuracy for this batch of test sentences, and\n",
        "        # accumulate it over all batches.\n",
        "        total_eval_accuracy += flat_accuracy(logits, label_ids)\n",
        "        \n",
        "\n",
        "    # Report the final accuracy for this validation run.\n",
        "    avg_val_accuracy = total_eval_accuracy / len(validation_dataloader)\n",
        "    print(f\"  Accuracy: {avg_val_accuracy:.2f}\")\n",
        "\n",
        "    # Calculate the average loss over all of the batches.\n",
        "    avg_val_loss = total_eval_loss / len(validation_dataloader)\n",
        "    \n",
        "    # Measure how long the validation run took.\n",
        "    validation_time = format_time(time.time() - t0)\n",
        "    \n",
        "    print(\"  Validation Loss: {avg_val_loss:.2f}\")\n",
        "    print(\"  Validation took: {validation_time}\")\n",
        "\n",
        "    # Record all statistics from this epoch.\n",
        "    training_stats.append(\n",
        "        {\n",
        "            'epoch': epoch_i + 1,\n",
        "            'Training Loss': avg_train_loss,\n",
        "            'Valid. Loss': avg_val_loss,\n",
        "            'Valid. Accur.': avg_val_accuracy,\n",
        "            'Training Time': training_time,\n",
        "            'Validation Time': validation_time\n",
        "        }\n",
        "    )\n",
        "\n",
        "print(\"\")\n",
        "print(\"Training complete!\")\n",
        "\n",
        "print(f\"Total training took {format_time(time.time()-total_t0)} (h:mm:ss)\")"
      ]
    }
  ],
  "metadata": {
    "colab": {
      "provenance": []
    },
    "kernelspec": {
      "display_name": "base",
      "language": "python",
      "name": "python3"
    },
    "language_info": {
      "codemirror_mode": {
        "name": "ipython",
        "version": 3
      },
      "file_extension": ".py",
      "mimetype": "text/x-python",
      "name": "python",
      "nbconvert_exporter": "python",
      "pygments_lexer": "ipython3",
      "version": "3.9.13"
    },
    "orig_nbformat": 4
  },
  "nbformat": 4,
  "nbformat_minor": 0
}
