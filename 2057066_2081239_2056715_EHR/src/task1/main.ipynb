{
 "cells": [
  {
   "attachments": {},
   "cell_type": "markdown",
   "metadata": {},
   "source": [
    "[Professor GitHub Repository](https://github.com/bardhprenkaj/ML_labs/blob/main/resources/project/project_description.pdf)\n",
    "\n",
    "[Project GitHub Repository](https://github.com/Naxetee/ML_FinalProject)"
   ]
  },
  {
   "attachments": {},
   "cell_type": "markdown",
   "metadata": {},
   "source": [
    "# Index\n",
    "\n",
    "- **Python Libraries**\n",
    "- **Task 1**\n",
    "    - *Reading Datasets*\n",
    "    - *Exercise 1*\n",
    "    - *Exercise 2*\n",
    "    - *Exercise 3*\n",
    "    - *Exercise 4*\n",
    "    - *Exercise 5*\n"
   ]
  },
  {
   "attachments": {},
   "cell_type": "markdown",
   "metadata": {},
   "source": [
    "# Python Libraries\n"
   ]
  },
  {
   "cell_type": "code",
   "execution_count": 41,
   "metadata": {},
   "outputs": [],
   "source": [
    "import pandas as pd\n",
    "import numpy as np\n",
    "import datetime as dt"
   ]
  },
  {
   "attachments": {},
   "cell_type": "markdown",
   "metadata": {},
   "source": [
    "# Task 1\n",
    "\n",
    "During this first task we will apply some **pre-processing** operations to our raw data. So we will directly modify the data in *data/dataset/*, so that the data in *data/dataset_fixed/* will always remain unmodified."
   ]
  },
  {
   "attachments": {},
   "cell_type": "markdown",
   "metadata": {},
   "source": [
    "## Reading the Datasets"
   ]
  },
  {
   "attachments": {},
   "cell_type": "markdown",
   "metadata": {},
   "source": [
    "At first, let's read the **.csv** files using a *pandas* function called **read_csv** whose parameters are:\n",
    "- *filepath*: the path of the .csv files.\n",
    "- *header*: will be always 0 to skip the columns' name row.\n",
    "- *names*: gives a name to each column of the table.\n"
   ]
  },
  {
   "cell_type": "code",
   "execution_count": 42,
   "metadata": {},
   "outputs": [],
   "source": [
    "data_path = \"../../data/dataset/sample\"\n",
    "\n",
    "ap_fixed = pd.read_csv(data_path+'/anagraficapazientiattivi.csv', header=0 ,names=['idcentro','idana','sesso','annodiagnosidiabete','tipodiabete','scolarita','statocivile','professione','origine','annonascita','annoprimoaccesso','annodecesso'])\n",
    "diag_fixed = pd.read_csv(data_path+'/diagnosi.csv', header=0 ,names=['idcentro','idana','data','codiceamd','valore'])\n",
    "elp_fixed = pd.read_csv(data_path+'/esamilaboratorioparametri.csv', header=0 ,names=['idcentro','idana','data','codiceamd','valore'])\n",
    "ei_fixed = pd.read_csv(data_path+'/esamistrumentali.csv', header=0 ,names=['idcentro','idana','data','codiceamd','valore'])\n",
    "pdf_fixed = pd.read_csv(data_path+'/prescrizionidiabetefarmaci.csv', header=0 ,names=['idcentro','idana','data','codiceatc','quantita','idpasto','descrizionefarmaco'])\n",
    "pdnf_fixed = pd.read_csv(data_path+'/prescrizionidiabetenonfarmaci.csv', header=0 ,names=['idcentro','idana','data','codiceamd','valore'])\n",
    "pnd_fixed = pd.read_csv(data_path+'/prescrizioninondiabete.csv', header=0 ,names=['idcentro','idana','data','codiceamd','valore'])"
   ]
  },
  {
   "cell_type": "code",
   "execution_count": 43,
   "metadata": {},
   "outputs": [],
   "source": [
    "ap = ap_fixed.copy(deep=True)\n",
    "diag = diag_fixed.copy(deep=True)\n",
    "elp = elp_fixed.copy(deep=True)\n",
    "ei = ei_fixed.copy(deep=True)\n",
    "pdf = pdf_fixed.copy(deep=True)\n",
    "pdnf = pdnf_fixed.copy(deep=True)\n",
    "pnd = pnd_fixed.copy(deep=True)"
   ]
  },
  {
   "cell_type": "code",
   "execution_count": 44,
   "metadata": {},
   "outputs": [
    {
     "name": "stdout",
     "output_type": "stream",
     "text": [
      "(250000, 12)\n"
     ]
    },
    {
     "data": {
      "text/html": [
       "<div>\n",
       "<style scoped>\n",
       "    .dataframe tbody tr th:only-of-type {\n",
       "        vertical-align: middle;\n",
       "    }\n",
       "\n",
       "    .dataframe tbody tr th {\n",
       "        vertical-align: top;\n",
       "    }\n",
       "\n",
       "    .dataframe thead th {\n",
       "        text-align: right;\n",
       "    }\n",
       "</style>\n",
       "<table border=\"1\" class=\"dataframe\">\n",
       "  <thead>\n",
       "    <tr style=\"text-align: right;\">\n",
       "      <th></th>\n",
       "      <th>idcentro</th>\n",
       "      <th>idana</th>\n",
       "      <th>sesso</th>\n",
       "      <th>annodiagnosidiabete</th>\n",
       "      <th>tipodiabete</th>\n",
       "      <th>scolarita</th>\n",
       "      <th>statocivile</th>\n",
       "      <th>professione</th>\n",
       "      <th>origine</th>\n",
       "      <th>annonascita</th>\n",
       "      <th>annoprimoaccesso</th>\n",
       "      <th>annodecesso</th>\n",
       "    </tr>\n",
       "  </thead>\n",
       "  <tbody>\n",
       "    <tr>\n",
       "      <th>0</th>\n",
       "      <td>234</td>\n",
       "      <td>5697</td>\n",
       "      <td>M</td>\n",
       "      <td>2009.0</td>\n",
       "      <td>5</td>\n",
       "      <td>NaN</td>\n",
       "      <td>NaN</td>\n",
       "      <td>NaN</td>\n",
       "      <td>NaN</td>\n",
       "      <td>1949</td>\n",
       "      <td>2011.0</td>\n",
       "      <td>NaN</td>\n",
       "    </tr>\n",
       "    <tr>\n",
       "      <th>1</th>\n",
       "      <td>66</td>\n",
       "      <td>3539</td>\n",
       "      <td>M</td>\n",
       "      <td>2011.0</td>\n",
       "      <td>5</td>\n",
       "      <td>NaN</td>\n",
       "      <td>NaN</td>\n",
       "      <td>NaN</td>\n",
       "      <td>NaN</td>\n",
       "      <td>1933</td>\n",
       "      <td>2012.0</td>\n",
       "      <td>2015.0</td>\n",
       "    </tr>\n",
       "    <tr>\n",
       "      <th>2</th>\n",
       "      <td>100</td>\n",
       "      <td>3080</td>\n",
       "      <td>M</td>\n",
       "      <td>1988.0</td>\n",
       "      <td>5</td>\n",
       "      <td>NaN</td>\n",
       "      <td>NaN</td>\n",
       "      <td>NaN</td>\n",
       "      <td>NaN</td>\n",
       "      <td>1936</td>\n",
       "      <td>1991.0</td>\n",
       "      <td>NaN</td>\n",
       "    </tr>\n",
       "    <tr>\n",
       "      <th>3</th>\n",
       "      <td>112</td>\n",
       "      <td>3261</td>\n",
       "      <td>F</td>\n",
       "      <td>2014.0</td>\n",
       "      <td>5</td>\n",
       "      <td>NaN</td>\n",
       "      <td>NaN</td>\n",
       "      <td>NaN</td>\n",
       "      <td>NaN</td>\n",
       "      <td>1945</td>\n",
       "      <td>2014.0</td>\n",
       "      <td>NaN</td>\n",
       "    </tr>\n",
       "    <tr>\n",
       "      <th>4</th>\n",
       "      <td>160</td>\n",
       "      <td>9460</td>\n",
       "      <td>F</td>\n",
       "      <td>2014.0</td>\n",
       "      <td>5</td>\n",
       "      <td>NaN</td>\n",
       "      <td>NaN</td>\n",
       "      <td>NaN</td>\n",
       "      <td>NaN</td>\n",
       "      <td>1970</td>\n",
       "      <td>2016.0</td>\n",
       "      <td>NaN</td>\n",
       "    </tr>\n",
       "  </tbody>\n",
       "</table>\n",
       "</div>"
      ],
      "text/plain": [
       "   idcentro  idana sesso  annodiagnosidiabete  tipodiabete  scolarita  \\\n",
       "0       234   5697     M               2009.0            5        NaN   \n",
       "1        66   3539     M               2011.0            5        NaN   \n",
       "2       100   3080     M               1988.0            5        NaN   \n",
       "3       112   3261     F               2014.0            5        NaN   \n",
       "4       160   9460     F               2014.0            5        NaN   \n",
       "\n",
       "   statocivile  professione  origine  annonascita  annoprimoaccesso  \\\n",
       "0          NaN          NaN      NaN         1949            2011.0   \n",
       "1          NaN          NaN      NaN         1933            2012.0   \n",
       "2          NaN          NaN      NaN         1936            1991.0   \n",
       "3          NaN          NaN      NaN         1945            2014.0   \n",
       "4          NaN          NaN      NaN         1970            2016.0   \n",
       "\n",
       "   annodecesso  \n",
       "0          NaN  \n",
       "1       2015.0  \n",
       "2          NaN  \n",
       "3          NaN  \n",
       "4          NaN  "
      ]
     },
     "execution_count": 44,
     "metadata": {},
     "output_type": "execute_result"
    }
   ],
   "source": [
    "# Display example observations\n",
    "print(ap.shape)\n",
    "ap.head()"
   ]
  },
  {
   "cell_type": "code",
   "execution_count": 45,
   "metadata": {},
   "outputs": [
    {
     "name": "stdout",
     "output_type": "stream",
     "text": [
      "(4978504, 5)\n"
     ]
    },
    {
     "data": {
      "text/html": [
       "<div>\n",
       "<style scoped>\n",
       "    .dataframe tbody tr th:only-of-type {\n",
       "        vertical-align: middle;\n",
       "    }\n",
       "\n",
       "    .dataframe tbody tr th {\n",
       "        vertical-align: top;\n",
       "    }\n",
       "\n",
       "    .dataframe thead th {\n",
       "        text-align: right;\n",
       "    }\n",
       "</style>\n",
       "<table border=\"1\" class=\"dataframe\">\n",
       "  <thead>\n",
       "    <tr style=\"text-align: right;\">\n",
       "      <th></th>\n",
       "      <th>idcentro</th>\n",
       "      <th>idana</th>\n",
       "      <th>data</th>\n",
       "      <th>codiceamd</th>\n",
       "      <th>valore</th>\n",
       "    </tr>\n",
       "  </thead>\n",
       "  <tbody>\n",
       "    <tr>\n",
       "      <th>0</th>\n",
       "      <td>1</td>\n",
       "      <td>5</td>\n",
       "      <td>1980-01-01</td>\n",
       "      <td>AMD247</td>\n",
       "      <td>491.20</td>\n",
       "    </tr>\n",
       "    <tr>\n",
       "      <th>1</th>\n",
       "      <td>1</td>\n",
       "      <td>5</td>\n",
       "      <td>1986-01-01</td>\n",
       "      <td>AMD247</td>\n",
       "      <td>272.0</td>\n",
       "    </tr>\n",
       "    <tr>\n",
       "      <th>2</th>\n",
       "      <td>1</td>\n",
       "      <td>5</td>\n",
       "      <td>1987-01-01</td>\n",
       "      <td>AMD083</td>\n",
       "      <td>NaN</td>\n",
       "    </tr>\n",
       "    <tr>\n",
       "      <th>3</th>\n",
       "      <td>1</td>\n",
       "      <td>5</td>\n",
       "      <td>1987-01-01</td>\n",
       "      <td>AMD247</td>\n",
       "      <td>401</td>\n",
       "    </tr>\n",
       "    <tr>\n",
       "      <th>4</th>\n",
       "      <td>1</td>\n",
       "      <td>5</td>\n",
       "      <td>1997-12-01</td>\n",
       "      <td>AMD247</td>\n",
       "      <td>410</td>\n",
       "    </tr>\n",
       "  </tbody>\n",
       "</table>\n",
       "</div>"
      ],
      "text/plain": [
       "   idcentro  idana        data codiceamd  valore\n",
       "0         1      5  1980-01-01    AMD247  491.20\n",
       "1         1      5  1986-01-01    AMD247   272.0\n",
       "2         1      5  1987-01-01    AMD083     NaN\n",
       "3         1      5  1987-01-01    AMD247     401\n",
       "4         1      5  1997-12-01    AMD247     410"
      ]
     },
     "execution_count": 45,
     "metadata": {},
     "output_type": "execute_result"
    }
   ],
   "source": [
    "print(diag.shape)\n",
    "diag.head()"
   ]
  },
  {
   "cell_type": "code",
   "execution_count": 46,
   "metadata": {},
   "outputs": [
    {
     "name": "stdout",
     "output_type": "stream",
     "text": [
      "(29398377, 5)\n"
     ]
    },
    {
     "data": {
      "text/html": [
       "<div>\n",
       "<style scoped>\n",
       "    .dataframe tbody tr th:only-of-type {\n",
       "        vertical-align: middle;\n",
       "    }\n",
       "\n",
       "    .dataframe tbody tr th {\n",
       "        vertical-align: top;\n",
       "    }\n",
       "\n",
       "    .dataframe thead th {\n",
       "        text-align: right;\n",
       "    }\n",
       "</style>\n",
       "<table border=\"1\" class=\"dataframe\">\n",
       "  <thead>\n",
       "    <tr style=\"text-align: right;\">\n",
       "      <th></th>\n",
       "      <th>idcentro</th>\n",
       "      <th>idana</th>\n",
       "      <th>data</th>\n",
       "      <th>codiceamd</th>\n",
       "      <th>valore</th>\n",
       "    </tr>\n",
       "  </thead>\n",
       "  <tbody>\n",
       "    <tr>\n",
       "      <th>0</th>\n",
       "      <td>1</td>\n",
       "      <td>5</td>\n",
       "      <td>2005-01-18</td>\n",
       "      <td>AMD001</td>\n",
       "      <td>169.0</td>\n",
       "    </tr>\n",
       "    <tr>\n",
       "      <th>1</th>\n",
       "      <td>1</td>\n",
       "      <td>5</td>\n",
       "      <td>2005-01-18</td>\n",
       "      <td>AMD002</td>\n",
       "      <td>76.0</td>\n",
       "    </tr>\n",
       "    <tr>\n",
       "      <th>2</th>\n",
       "      <td>1</td>\n",
       "      <td>5</td>\n",
       "      <td>2005-01-18</td>\n",
       "      <td>AMD004</td>\n",
       "      <td>135.0</td>\n",
       "    </tr>\n",
       "    <tr>\n",
       "      <th>3</th>\n",
       "      <td>1</td>\n",
       "      <td>5</td>\n",
       "      <td>2005-01-18</td>\n",
       "      <td>AMD005</td>\n",
       "      <td>80.0</td>\n",
       "    </tr>\n",
       "    <tr>\n",
       "      <th>4</th>\n",
       "      <td>1</td>\n",
       "      <td>5</td>\n",
       "      <td>2005-06-06</td>\n",
       "      <td>AMD007</td>\n",
       "      <td>169.0</td>\n",
       "    </tr>\n",
       "  </tbody>\n",
       "</table>\n",
       "</div>"
      ],
      "text/plain": [
       "   idcentro  idana        data codiceamd  valore\n",
       "0         1      5  2005-01-18    AMD001   169.0\n",
       "1         1      5  2005-01-18    AMD002    76.0\n",
       "2         1      5  2005-01-18    AMD004   135.0\n",
       "3         1      5  2005-01-18    AMD005    80.0\n",
       "4         1      5  2005-06-06    AMD007   169.0"
      ]
     },
     "execution_count": 46,
     "metadata": {},
     "output_type": "execute_result"
    }
   ],
   "source": [
    "print(elp.shape)\n",
    "elp.head()"
   ]
  },
  {
   "cell_type": "code",
   "execution_count": 47,
   "metadata": {},
   "outputs": [
    {
     "name": "stdout",
     "output_type": "stream",
     "text": [
      "(1062856, 5)\n"
     ]
    },
    {
     "data": {
      "text/html": [
       "<div>\n",
       "<style scoped>\n",
       "    .dataframe tbody tr th:only-of-type {\n",
       "        vertical-align: middle;\n",
       "    }\n",
       "\n",
       "    .dataframe tbody tr th {\n",
       "        vertical-align: top;\n",
       "    }\n",
       "\n",
       "    .dataframe thead th {\n",
       "        text-align: right;\n",
       "    }\n",
       "</style>\n",
       "<table border=\"1\" class=\"dataframe\">\n",
       "  <thead>\n",
       "    <tr style=\"text-align: right;\">\n",
       "      <th></th>\n",
       "      <th>idcentro</th>\n",
       "      <th>idana</th>\n",
       "      <th>data</th>\n",
       "      <th>codiceamd</th>\n",
       "      <th>valore</th>\n",
       "    </tr>\n",
       "  </thead>\n",
       "  <tbody>\n",
       "    <tr>\n",
       "      <th>0</th>\n",
       "      <td>1</td>\n",
       "      <td>5</td>\n",
       "      <td>2006-01-04</td>\n",
       "      <td>AMD051</td>\n",
       "      <td>N</td>\n",
       "    </tr>\n",
       "    <tr>\n",
       "      <th>1</th>\n",
       "      <td>1</td>\n",
       "      <td>5</td>\n",
       "      <td>2006-11-14</td>\n",
       "      <td>AMD041</td>\n",
       "      <td>P</td>\n",
       "    </tr>\n",
       "    <tr>\n",
       "      <th>2</th>\n",
       "      <td>1</td>\n",
       "      <td>5</td>\n",
       "      <td>2006-11-20</td>\n",
       "      <td>AMD040</td>\n",
       "      <td>P</td>\n",
       "    </tr>\n",
       "    <tr>\n",
       "      <th>3</th>\n",
       "      <td>1</td>\n",
       "      <td>5</td>\n",
       "      <td>2007-06-01</td>\n",
       "      <td>AMD040</td>\n",
       "      <td>N</td>\n",
       "    </tr>\n",
       "    <tr>\n",
       "      <th>4</th>\n",
       "      <td>1</td>\n",
       "      <td>5</td>\n",
       "      <td>2008-01-16</td>\n",
       "      <td>AMD040</td>\n",
       "      <td>N</td>\n",
       "    </tr>\n",
       "  </tbody>\n",
       "</table>\n",
       "</div>"
      ],
      "text/plain": [
       "   idcentro  idana        data codiceamd valore\n",
       "0         1      5  2006-01-04    AMD051      N\n",
       "1         1      5  2006-11-14    AMD041      P\n",
       "2         1      5  2006-11-20    AMD040      P\n",
       "3         1      5  2007-06-01    AMD040      N\n",
       "4         1      5  2008-01-16    AMD040      N"
      ]
     },
     "execution_count": 47,
     "metadata": {},
     "output_type": "execute_result"
    }
   ],
   "source": [
    "print(ei.shape)\n",
    "ei.head()"
   ]
  },
  {
   "cell_type": "code",
   "execution_count": 48,
   "metadata": {},
   "outputs": [
    {
     "name": "stdout",
     "output_type": "stream",
     "text": [
      "(7289926, 7)\n"
     ]
    },
    {
     "data": {
      "text/html": [
       "<div>\n",
       "<style scoped>\n",
       "    .dataframe tbody tr th:only-of-type {\n",
       "        vertical-align: middle;\n",
       "    }\n",
       "\n",
       "    .dataframe tbody tr th {\n",
       "        vertical-align: top;\n",
       "    }\n",
       "\n",
       "    .dataframe thead th {\n",
       "        text-align: right;\n",
       "    }\n",
       "</style>\n",
       "<table border=\"1\" class=\"dataframe\">\n",
       "  <thead>\n",
       "    <tr style=\"text-align: right;\">\n",
       "      <th></th>\n",
       "      <th>idcentro</th>\n",
       "      <th>idana</th>\n",
       "      <th>data</th>\n",
       "      <th>codiceatc</th>\n",
       "      <th>quantita</th>\n",
       "      <th>idpasto</th>\n",
       "      <th>descrizionefarmaco</th>\n",
       "    </tr>\n",
       "  </thead>\n",
       "  <tbody>\n",
       "    <tr>\n",
       "      <th>0</th>\n",
       "      <td>82</td>\n",
       "      <td>782</td>\n",
       "      <td>2008-04-02</td>\n",
       "      <td>A10BA02</td>\n",
       "      <td>1.0</td>\n",
       "      <td>1</td>\n",
       "      <td>GLUCOPHAGE*60CPR RIV 1000MG</td>\n",
       "    </tr>\n",
       "    <tr>\n",
       "      <th>1</th>\n",
       "      <td>82</td>\n",
       "      <td>782</td>\n",
       "      <td>2008-04-02</td>\n",
       "      <td>A10BA02</td>\n",
       "      <td>1.0</td>\n",
       "      <td>3</td>\n",
       "      <td>GLUCOPHAGE*60CPR RIV 1000MG</td>\n",
       "    </tr>\n",
       "    <tr>\n",
       "      <th>2</th>\n",
       "      <td>82</td>\n",
       "      <td>782</td>\n",
       "      <td>2008-04-02</td>\n",
       "      <td>A10BA02</td>\n",
       "      <td>1.0</td>\n",
       "      <td>5</td>\n",
       "      <td>GLUCOPHAGE*60CPR RIV 1000MG</td>\n",
       "    </tr>\n",
       "    <tr>\n",
       "      <th>3</th>\n",
       "      <td>82</td>\n",
       "      <td>782</td>\n",
       "      <td>2008-04-02</td>\n",
       "      <td>A10BB09</td>\n",
       "      <td>3.0</td>\n",
       "      <td>1</td>\n",
       "      <td>DIAMICRON*60CPR R.M. 30MG</td>\n",
       "    </tr>\n",
       "    <tr>\n",
       "      <th>4</th>\n",
       "      <td>82</td>\n",
       "      <td>782</td>\n",
       "      <td>2008-05-02</td>\n",
       "      <td>A10BA02</td>\n",
       "      <td>1.0</td>\n",
       "      <td>1</td>\n",
       "      <td>GLUCOPHAGE*60CPR RIV 1000MG</td>\n",
       "    </tr>\n",
       "  </tbody>\n",
       "</table>\n",
       "</div>"
      ],
      "text/plain": [
       "   idcentro  idana        data codiceatc  quantita  idpasto  \\\n",
       "0        82    782  2008-04-02   A10BA02       1.0        1   \n",
       "1        82    782  2008-04-02   A10BA02       1.0        3   \n",
       "2        82    782  2008-04-02   A10BA02       1.0        5   \n",
       "3        82    782  2008-04-02   A10BB09       3.0        1   \n",
       "4        82    782  2008-05-02   A10BA02       1.0        1   \n",
       "\n",
       "            descrizionefarmaco  \n",
       "0  GLUCOPHAGE*60CPR RIV 1000MG  \n",
       "1  GLUCOPHAGE*60CPR RIV 1000MG  \n",
       "2  GLUCOPHAGE*60CPR RIV 1000MG  \n",
       "3    DIAMICRON*60CPR R.M. 30MG  \n",
       "4  GLUCOPHAGE*60CPR RIV 1000MG  "
      ]
     },
     "execution_count": 48,
     "metadata": {},
     "output_type": "execute_result"
    }
   ],
   "source": [
    "print(pdf.shape)\n",
    "pdf.head()"
   ]
  },
  {
   "cell_type": "code",
   "execution_count": 49,
   "metadata": {},
   "outputs": [
    {
     "name": "stdout",
     "output_type": "stream",
     "text": [
      "(569353, 5)\n"
     ]
    },
    {
     "data": {
      "text/html": [
       "<div>\n",
       "<style scoped>\n",
       "    .dataframe tbody tr th:only-of-type {\n",
       "        vertical-align: middle;\n",
       "    }\n",
       "\n",
       "    .dataframe tbody tr th {\n",
       "        vertical-align: top;\n",
       "    }\n",
       "\n",
       "    .dataframe thead th {\n",
       "        text-align: right;\n",
       "    }\n",
       "</style>\n",
       "<table border=\"1\" class=\"dataframe\">\n",
       "  <thead>\n",
       "    <tr style=\"text-align: right;\">\n",
       "      <th></th>\n",
       "      <th>idcentro</th>\n",
       "      <th>idana</th>\n",
       "      <th>data</th>\n",
       "      <th>codiceamd</th>\n",
       "      <th>valore</th>\n",
       "    </tr>\n",
       "  </thead>\n",
       "  <tbody>\n",
       "    <tr>\n",
       "      <th>0</th>\n",
       "      <td>1</td>\n",
       "      <td>5</td>\n",
       "      <td>2008-06-20</td>\n",
       "      <td>AMD152</td>\n",
       "      <td>NaN</td>\n",
       "    </tr>\n",
       "    <tr>\n",
       "      <th>1</th>\n",
       "      <td>1</td>\n",
       "      <td>5</td>\n",
       "      <td>2013-08-27</td>\n",
       "      <td>AMD152</td>\n",
       "      <td>NaN</td>\n",
       "    </tr>\n",
       "    <tr>\n",
       "      <th>2</th>\n",
       "      <td>1</td>\n",
       "      <td>5</td>\n",
       "      <td>2013-12-31</td>\n",
       "      <td>AMD086</td>\n",
       "      <td>S</td>\n",
       "    </tr>\n",
       "    <tr>\n",
       "      <th>3</th>\n",
       "      <td>1</td>\n",
       "      <td>5</td>\n",
       "      <td>2013-12-31</td>\n",
       "      <td>AMD228</td>\n",
       "      <td>S</td>\n",
       "    </tr>\n",
       "    <tr>\n",
       "      <th>4</th>\n",
       "      <td>1</td>\n",
       "      <td>34</td>\n",
       "      <td>2005-01-07</td>\n",
       "      <td>AMD090</td>\n",
       "      <td>S</td>\n",
       "    </tr>\n",
       "  </tbody>\n",
       "</table>\n",
       "</div>"
      ],
      "text/plain": [
       "   idcentro  idana        data codiceamd valore\n",
       "0         1      5  2008-06-20    AMD152    NaN\n",
       "1         1      5  2013-08-27    AMD152    NaN\n",
       "2         1      5  2013-12-31    AMD086      S\n",
       "3         1      5  2013-12-31    AMD228      S\n",
       "4         1     34  2005-01-07    AMD090      S"
      ]
     },
     "execution_count": 49,
     "metadata": {},
     "output_type": "execute_result"
    }
   ],
   "source": [
    "print(pdnf.shape)\n",
    "pdnf.head()"
   ]
  },
  {
   "cell_type": "code",
   "execution_count": 50,
   "metadata": {},
   "outputs": [
    {
     "name": "stdout",
     "output_type": "stream",
     "text": [
      "(5573033, 5)\n"
     ]
    },
    {
     "data": {
      "text/html": [
       "<div>\n",
       "<style scoped>\n",
       "    .dataframe tbody tr th:only-of-type {\n",
       "        vertical-align: middle;\n",
       "    }\n",
       "\n",
       "    .dataframe tbody tr th {\n",
       "        vertical-align: top;\n",
       "    }\n",
       "\n",
       "    .dataframe thead th {\n",
       "        text-align: right;\n",
       "    }\n",
       "</style>\n",
       "<table border=\"1\" class=\"dataframe\">\n",
       "  <thead>\n",
       "    <tr style=\"text-align: right;\">\n",
       "      <th></th>\n",
       "      <th>idcentro</th>\n",
       "      <th>idana</th>\n",
       "      <th>data</th>\n",
       "      <th>codiceamd</th>\n",
       "      <th>valore</th>\n",
       "    </tr>\n",
       "  </thead>\n",
       "  <tbody>\n",
       "    <tr>\n",
       "      <th>0</th>\n",
       "      <td>1</td>\n",
       "      <td>5</td>\n",
       "      <td>2005-01-18</td>\n",
       "      <td>AMD121</td>\n",
       "      <td>C09AA05</td>\n",
       "    </tr>\n",
       "    <tr>\n",
       "      <th>1</th>\n",
       "      <td>1</td>\n",
       "      <td>5</td>\n",
       "      <td>2005-01-18</td>\n",
       "      <td>AMD124</td>\n",
       "      <td>C10AA05</td>\n",
       "    </tr>\n",
       "    <tr>\n",
       "      <th>2</th>\n",
       "      <td>1</td>\n",
       "      <td>5</td>\n",
       "      <td>2005-01-18</td>\n",
       "      <td>AMD124</td>\n",
       "      <td>C10AX06</td>\n",
       "    </tr>\n",
       "    <tr>\n",
       "      <th>3</th>\n",
       "      <td>1</td>\n",
       "      <td>5</td>\n",
       "      <td>2005-06-21</td>\n",
       "      <td>AMD121</td>\n",
       "      <td>C09AA05</td>\n",
       "    </tr>\n",
       "    <tr>\n",
       "      <th>4</th>\n",
       "      <td>1</td>\n",
       "      <td>5</td>\n",
       "      <td>2005-06-21</td>\n",
       "      <td>AMD124</td>\n",
       "      <td>C10AA05</td>\n",
       "    </tr>\n",
       "  </tbody>\n",
       "</table>\n",
       "</div>"
      ],
      "text/plain": [
       "   idcentro  idana        data codiceamd   valore\n",
       "0         1      5  2005-01-18    AMD121  C09AA05\n",
       "1         1      5  2005-01-18    AMD124  C10AA05\n",
       "2         1      5  2005-01-18    AMD124  C10AX06\n",
       "3         1      5  2005-06-21    AMD121  C09AA05\n",
       "4         1      5  2005-06-21    AMD124  C10AA05"
      ]
     },
     "execution_count": 50,
     "metadata": {},
     "output_type": "execute_result"
    }
   ],
   "source": [
    "print(pnd.shape)\n",
    "pnd.head()"
   ]
  },
  {
   "attachments": {},
   "cell_type": "markdown",
   "metadata": {},
   "source": [
    "## Exercise 1"
   ]
  },
  {
   "attachments": {},
   "cell_type": "markdown",
   "metadata": {},
   "source": [
    "**Select Events of Interest -**\n",
    "We want only patients with at leats one cardiovascular event in their trajectories. These events have the folloging codes:\n",
    "- **AMD047**: Myocardial infarction\n",
    "- **AMD048**: Coronary angioplasty\n",
    "- **AMD049**: Coronary bypass\n",
    "- **AMD071**: Ictus\n",
    "- **AMD081**: Lower limb angioplasty\n",
    "- **AMD082**: Peripheral By-pass Lower Limbs\n",
    "- **AMD208**: Revascularization of intracranial and neck vessels\n",
    "- **AMD303**: Ischemic stroke\n",
    "\n",
    "Now let's try to filter all the tables containing the parameter **codiceamd** so as to select just the rows describing one cardio-vascular event.\n"
   ]
  },
  {
   "cell_type": "code",
   "execution_count": 51,
   "metadata": {},
   "outputs": [
    {
     "name": "stdout",
     "output_type": "stream",
     "text": [
      "BEFORE pre-processing:  (4978504, 5)\n",
      "AFTER  pre-processing:  (328478, 5)\n"
     ]
    },
    {
     "data": {
      "text/html": [
       "<div>\n",
       "<style scoped>\n",
       "    .dataframe tbody tr th:only-of-type {\n",
       "        vertical-align: middle;\n",
       "    }\n",
       "\n",
       "    .dataframe tbody tr th {\n",
       "        vertical-align: top;\n",
       "    }\n",
       "\n",
       "    .dataframe thead th {\n",
       "        text-align: right;\n",
       "    }\n",
       "</style>\n",
       "<table border=\"1\" class=\"dataframe\">\n",
       "  <thead>\n",
       "    <tr style=\"text-align: right;\">\n",
       "      <th></th>\n",
       "      <th>idcentro</th>\n",
       "      <th>idana</th>\n",
       "      <th>data</th>\n",
       "      <th>codiceamd</th>\n",
       "      <th>valore</th>\n",
       "    </tr>\n",
       "  </thead>\n",
       "  <tbody>\n",
       "    <tr>\n",
       "      <th>7</th>\n",
       "      <td>1</td>\n",
       "      <td>5</td>\n",
       "      <td>2000-12-02</td>\n",
       "      <td>AMD049</td>\n",
       "      <td>S</td>\n",
       "    </tr>\n",
       "    <tr>\n",
       "      <th>9</th>\n",
       "      <td>1</td>\n",
       "      <td>5</td>\n",
       "      <td>2001-03-22</td>\n",
       "      <td>AMD049</td>\n",
       "      <td>S</td>\n",
       "    </tr>\n",
       "    <tr>\n",
       "      <th>13</th>\n",
       "      <td>1</td>\n",
       "      <td>5</td>\n",
       "      <td>2002-02-11</td>\n",
       "      <td>AMD049</td>\n",
       "      <td>S</td>\n",
       "    </tr>\n",
       "    <tr>\n",
       "      <th>15</th>\n",
       "      <td>1</td>\n",
       "      <td>5</td>\n",
       "      <td>2002-02-14</td>\n",
       "      <td>AMD049</td>\n",
       "      <td>S</td>\n",
       "    </tr>\n",
       "    <tr>\n",
       "      <th>17</th>\n",
       "      <td>1</td>\n",
       "      <td>5</td>\n",
       "      <td>2003-01-17</td>\n",
       "      <td>AMD049</td>\n",
       "      <td>S</td>\n",
       "    </tr>\n",
       "  </tbody>\n",
       "</table>\n",
       "</div>"
      ],
      "text/plain": [
       "    idcentro  idana        data codiceamd valore\n",
       "7          1      5  2000-12-02    AMD049      S\n",
       "9          1      5  2001-03-22    AMD049      S\n",
       "13         1      5  2002-02-11    AMD049      S\n",
       "15         1      5  2002-02-14    AMD049      S\n",
       "17         1      5  2003-01-17    AMD049      S"
      ]
     },
     "execution_count": 51,
     "metadata": {},
     "output_type": "execute_result"
    }
   ],
   "source": [
    "codes = ['AMD047', 'AMD048', 'AMD049', 'AMD071', 'AMD081', 'AMD082', 'AMD208', 'AMD303']\n",
    "\n",
    "def selectEvents(df:pd.DataFrame, events_codes:list) -> pd.DataFrame:\n",
    "    return df[df.codiceamd.isin(events_codes)]\n",
    "\n",
    "## pnd_cardEvents = selectEvents(pnd,codes)\n",
    "\n",
    "## pdnf_cardEvents = selectEvents(pdnf,codes)\n",
    "\n",
    "## ei_cardEvents = selectEvents(ei,codes)\n",
    "\n",
    "## elp_cardEvents = selectEvents(elp,codes)\n",
    "\n",
    "diag_cardEvents = selectEvents(diag,codes)\n",
    "print(\"BEFORE pre-processing: \", diag.shape)\n",
    "print(\"AFTER  pre-processing: \", diag_cardEvents.shape)\n",
    "diag_cardEvents.head()\n"
   ]
  },
  {
   "attachments": {},
   "cell_type": "markdown",
   "metadata": {},
   "source": [
    "We realise that the only table with these cardio-vascular events is **diagnosi**, so we create a new DataFrame with all the rows that has one of these events, and we call it: **diag_cardEvents**. And from this table, we extract the id's of the patients that have suffered at least one cardio-vascular event during his life:"
   ]
  },
  {
   "cell_type": "code",
   "execution_count": 52,
   "metadata": {},
   "outputs": [
    {
     "name": "stdout",
     "output_type": "stream",
     "text": [
      "Number of patients with at least one cardio-vascular event:  70193 / 250000 patients.\n"
     ]
    }
   ],
   "source": [
    "patientsOfInterest = diag_cardEvents.filter(['idcentro','idana']).drop_duplicates()\n",
    "print(\"Number of patients with at least one cardio-vascular event: \", patientsOfInterest.shape[0], \"/\", ap.shape[0] , \"patients.\")"
   ]
  },
  {
   "attachments": {},
   "cell_type": "markdown",
   "metadata": {},
   "source": []
  },
  {
   "attachments": {},
   "cell_type": "markdown",
   "metadata": {},
   "source": [
    "Finally, we have to delete from the rest of the tables all the information which is not associated to the remaining patients:"
   ]
  },
  {
   "cell_type": "code",
   "execution_count": 53,
   "metadata": {},
   "outputs": [],
   "source": [
    "ap = pd.merge(ap, patientsOfInterest, on=['idcentro','idana'], how='right')[ap.columns]\n",
    "diag = pd.merge(diag, patientsOfInterest, on=['idcentro','idana'], how='right')[diag.columns]\n",
    "elp = pd.merge(elp, patientsOfInterest, on=['idcentro','idana'], how='right')[elp.columns]\n",
    "ei = pd.merge(ei, patientsOfInterest, on=['idcentro','idana'], how='right')[ei.columns]\n",
    "pdf = pd.merge(pdf, patientsOfInterest, on=['idcentro','idana'], how='right')[pdf.columns]\n",
    "pdnf = pd.merge(pdnf, patientsOfInterest, on=['idcentro','idana'], how='right')[pdnf.columns]\n",
    "pnd = pd.merge(pnd, patientsOfInterest, on=['idcentro','idana'], how='right')[pnd.columns]"
   ]
  },
  {
   "attachments": {},
   "cell_type": "markdown",
   "metadata": {},
   "source": [
    "## Exercise 2"
   ]
  },
  {
   "attachments": {},
   "cell_type": "markdown",
   "metadata": {},
   "source": [
    "Borrar pacientes que:\n",
    "  - fecha nacimiento > fecha primo accessso || fecha nacimiento > fecha muerte || fecha nacimiento > fecha diagnostico\n",
    "  - fecha primo accesso > fecha muerte || fecha primo accesso > fecha diagnostico\n",
    "  - fecha diagnostico > fecha muerte\n",
    "\n",
    "Resto tablas, borrar pacientes que:\n",
    "  - fecha < fecha nacimiento || fecha < fecha primo accesso || fecha > fecha muerte\n",
    "\n",
    "En tablas de medicamentos:\n",
    "  - fecha entre fecha diagnostico y fecha muerte"
   ]
  },
  {
   "attachments": {},
   "cell_type": "markdown",
   "metadata": {},
   "source": [
    "First we want to select from our tables the patients with dates that are valid (with the birth year smaller than the death year, the birth year smaller than the year of first access and so on)"
   ]
  },
  {
   "cell_type": "code",
   "execution_count": 54,
   "metadata": {},
   "outputs": [
    {
     "data": {
      "text/plain": [
       "(70193, 12)"
      ]
     },
     "execution_count": 54,
     "metadata": {},
     "output_type": "execute_result"
    }
   ],
   "source": [
    "ap.shape"
   ]
  },
  {
   "cell_type": "code",
   "execution_count": 55,
   "metadata": {},
   "outputs": [
    {
     "name": "stdout",
     "output_type": "stream",
     "text": [
      "(6745, 12)\n",
      "(6745, 12)\n",
      "(6745, 12)\n"
     ]
    }
   ],
   "source": [
    "ap = ap[(ap['annonascita'].notna()) & (ap['annoprimoaccesso'].notna()) & (ap['annodiagnosidiabete'].notna()) & (ap['annonascita']<=ap['annodecesso']) & (ap['annoprimoaccesso']<=ap['annodecesso']) & (ap['annodiagnosidiabete']<=ap['annodecesso'])]\n",
    "print(ap.shape)\n",
    "\n",
    "ap = pd.concat([ap, ap[ap['annodecesso'].isna()]])\n",
    "print(ap.shape)\n",
    "\n",
    "ap = ap[(ap['annonascita']<=ap['annodiagnosidiabete']) & (ap['annonascita']<=ap['annoprimoaccesso'])]\n",
    "print(ap.shape)"
   ]
  },
  {
   "cell_type": "code",
   "execution_count": 56,
   "metadata": {},
   "outputs": [
    {
     "name": "stdout",
     "output_type": "stream",
     "text": [
      "(6745, 2)\n",
      "(6745, 2)\n"
     ]
    }
   ],
   "source": [
    "ap_test = ap.filter(items=['idcentro', 'idana'])\n",
    "print(ap_test.shape)\n",
    "ap_test.drop_duplicates()\n",
    "print(ap_test.shape)"
   ]
  },
  {
   "cell_type": "code",
   "execution_count": 59,
   "metadata": {},
   "outputs": [],
   "source": [
    "def exercise2(df:pd.DataFrame, test:pd.DataFrame) -> pd.DataFrame:\n",
    "    # First we eliminate the patients that are no longer in the first table and the dates that do not exist\n",
    "    df = df.merge(test, on=['idcentro', 'idana'])\n",
    "    df = df[df['data'].notna()]\n",
    "\n",
    "    # We assure that the dates are valid and that the year is first\n",
    "    df['data'] = pd.to_datetime(df['data'], yearfirst=True)\n",
    "\n",
    "    # Now we create a new table with the dates from the first and the second table\n",
    "    ap_filter = ap.filter(items=['idcentro', 'idana', 'annonascita', 'annoprimoaccesso', 'annodecesso'])\n",
    "    df = df.merge(ap_filter, on=['idcentro', 'idana'])\n",
    "\n",
    "    # Now we take the rows of this table that have valid dates\n",
    "    df = df[df['data'].dt.strftime(\"%Y\").astype(float) <= df['annodecesso']]\n",
    "    df = pd.concat([df, ap_filter[ap_filter['annodecesso'].isna()]])\n",
    "    df = df[(df['data'].dt.strftime(\"%Y\").astype(float) >= df['annoprimoaccesso']) & (df['data'].dt.strftime(\"%Y\").astype(float) >= df['annonascita'])]\n",
    "    if 'annodiagnosidiabete' in df.columns:\n",
    "        df = df[(df['data'].dt.strftime(\"%Y\").astype(float) >= df['annodiagnosidiabete'])]\n",
    "\n",
    "    # Now we take into account only the new diagnosis but we need to delete the extra columns\n",
    "    return df.filter(items=df.columns)"
   ]
  },
  {
   "cell_type": "code",
   "execution_count": 60,
   "metadata": {},
   "outputs": [
    {
     "name": "stdout",
     "output_type": "stream",
     "text": [
      "Diag: 2732801 => 276585\n"
     ]
    }
   ],
   "source": [
    "aux = diag.shape[0]\n",
    "diag = exercise2(diag,ap_test)\n",
    "print(f\"Diag: {aux} => {diag.shape[0]}\")"
   ]
  },
  {
   "cell_type": "code",
   "execution_count": 61,
   "metadata": {},
   "outputs": [
    {
     "name": "stdout",
     "output_type": "stream",
     "text": [
      "Elp: 10373351 => 957438\n"
     ]
    }
   ],
   "source": [
    "aux = elp.shape[0]\n",
    "elp = exercise2(elp,ap_test)\n",
    "print(f\"Elp: {aux} => {elp.shape[0]}\")"
   ]
  },
  {
   "cell_type": "code",
   "execution_count": 62,
   "metadata": {},
   "outputs": [
    {
     "name": "stdout",
     "output_type": "stream",
     "text": [
      "Ei: 425604 => 35024\n"
     ]
    }
   ],
   "source": [
    "aux = ei.shape[0]\n",
    "ei = exercise2(ei,ap_test)\n",
    "print(f\"Ei: {aux} => {ei.shape[0]}\")"
   ]
  },
  {
   "cell_type": "code",
   "execution_count": 63,
   "metadata": {},
   "outputs": [
    {
     "name": "stdout",
     "output_type": "stream",
     "text": [
      "Pdf: 2797426 => 269148\n"
     ]
    }
   ],
   "source": [
    "aux = pdf.shape[0]\n",
    "pdf = exercise2(pdf,ap_test)\n",
    "print(f\"Pdf: {aux} => {pdf.shape[0]}\")"
   ]
  },
  {
   "cell_type": "code",
   "execution_count": 64,
   "metadata": {},
   "outputs": [
    {
     "name": "stdout",
     "output_type": "stream",
     "text": [
      "Pdnf: 242508 => 23834\n"
     ]
    }
   ],
   "source": [
    "aux = pdnf.shape[0]\n",
    "pdnf = exercise2(pdnf,ap_test)\n",
    "print(f\"Pdnf: {aux} => {pdnf.shape[0]}\")"
   ]
  },
  {
   "cell_type": "code",
   "execution_count": 65,
   "metadata": {},
   "outputs": [
    {
     "name": "stdout",
     "output_type": "stream",
     "text": [
      "Pnd: 2801883 => 271339\n"
     ]
    }
   ],
   "source": [
    "aux = pnd.shape[0]\n",
    "pnd = exercise2(pnd,ap_test)\n",
    "print(f\"Pnd: {aux} => {pnd.shape[0]}\")"
   ]
  },
  {
   "attachments": {},
   "cell_type": "markdown",
   "metadata": {},
   "source": [
    "## Exercise 4"
   ]
  },
  {
   "attachments": {},
   "cell_type": "markdown",
   "metadata": {},
   "source": [
    "**Modify the actual ranges of** ***esamilaboratorioparameteri*** **-** see this Table:\n",
    "\n",
    "| Code | Descriptive Name | True Range |\n",
    "|----------|----------|----------|\n",
    "| AMD004 | Systolic blood pressure | 40 <= x <= 200 |\n",
    "| AMD005 | Diastolic blood pressure | 40 <= x <= 130 |\n",
    "| AMD007 | Fasting blood glucose | 50 <= x <= 500 |\n",
    "| AMD008 | HbAlc | 5 <= x <= 15 |\n",
    "| AMD009 | Creatininemia | Not Available |\n",
    "| AMD111 | Microalbuminuria | Not Available |\n",
    "| STITCH001 | BMI | Not Available |\n",
    "| STITCH002 | LDL Choresterlo | 30 <= x <= 30|\n",
    "| STITCH003 | Non-HDL Cholesterlo | 60 <= x <= 330 |\n",
    "| STITCH004 | eGFR MDRD | Not Available |\n",
    "| STITCH005 | eGFR CKD-EPI | Not Available |"
   ]
  },
  {
   "attachments": {},
   "cell_type": "markdown",
   "metadata": {},
   "source": [
    "What we are doing is to use a **MinMaxScaler** from *sklearn* library so as to make the values described in the upper table fit into the true ranges. For the **NAN** ranges, we do nothing."
   ]
  },
  {
   "cell_type": "code",
   "execution_count": 66,
   "metadata": {},
   "outputs": [
    {
     "name": "stdout",
     "output_type": "stream",
     "text": [
      "BEFORE RE-SCALING:\n",
      "\n",
      "    AMD    Min  /  Max\n",
      "========================\n",
      "AMD004:    0.0 / 701.0\n",
      "AMD005:    0.0 / 980.0\n",
      "AMD007:    0.0 / 978.0\n",
      "AMD008:    0.0 / 98.0\n",
      "AMD009:    nan / nan\n",
      "AMD111:    -1.0 / 8950.0\n",
      "STITCH001:  is null\n",
      "STITCH002:  is null\n",
      "STITCH003:  is null\n",
      "STITCH004:  is null\n",
      "STITCH005:  is null\n"
     ]
    }
   ],
   "source": [
    "labels = ['AMD004', 'AMD005', 'AMD007', 'AMD008', 'AMD009', 'AMD111', 'STITCH001', 'STITCH002', 'STITCH003', 'STITCH004', 'STITCH005']\n",
    "\n",
    "print(\"BEFORE RE-SCALING:\\n\")\n",
    "print(\"    AMD    Min  /  Max\")\n",
    "print(\"========================\")\n",
    "\n",
    "for label in labels:\n",
    "    aux = elp[elp.codiceamd == label].filter(['valore']).values.tolist()\n",
    "    if len(aux) > 0:\n",
    "        print(f\"{label}:    {np.min(aux):.1f} / {np.max(aux):.1f}\")\n",
    "    else:\n",
    "        print(f\"{label}:  is null\")"
   ]
  },
  {
   "cell_type": "code",
   "execution_count": 67,
   "metadata": {},
   "outputs": [],
   "source": [
    "from sklearn.preprocessing import MinMaxScaler\n",
    "\n",
    "NAN = np.nan\n",
    "newRanges = [['AMD004', 'AMD005', 'AMD007', 'AMD008', 'AMD009', 'AMD111', 'STITCH001', 'STITCH002', 'STITCH003', 'STITCH004', 'STITCH005'],\n",
    "            [40.0,40.0,50.0,5.0,NAN,NAN,NAN,30.0,60.0,NAN,NAN],\n",
    "            [200.0,130.0,500.0,15.0,NAN,NAN,NAN,300.0,330.0,NAN,NAN]]\n",
    "\n",
    "def scaling(df:pd.DataFrame, label:str, minValue:float, maxValue:float) -> pd.DataFrame:\n",
    "    if (minValue != NAN) and (maxValue != NAN) and (df[df.codiceamd == label].shape[0]>0):\n",
    "        aux = df[df.codiceamd == label].copy()\n",
    "        min_max_scaler = MinMaxScaler(feature_range=(minValue,maxValue))\n",
    "        aux[['valore']] = min_max_scaler.fit_transform(aux[['valore']])\n",
    "        df[df.codiceamd == label] = aux\n",
    "    return df\n",
    "\n",
    "\n",
    "# Let's apply the function to a new DataFrame copied from elp_new\n",
    "for k in range(len(newRanges[0])):\n",
    "    elp = scaling(elp, newRanges[0][k], newRanges[1][k], newRanges[2][k])"
   ]
  },
  {
   "attachments": {},
   "cell_type": "markdown",
   "metadata": {},
   "source": [
    "Now we ensure manually that it has worked by printing the maximum and minimum values for each AMD Code"
   ]
  },
  {
   "cell_type": "code",
   "execution_count": 68,
   "metadata": {},
   "outputs": [
    {
     "name": "stdout",
     "output_type": "stream",
     "text": [
      "\n",
      "\n",
      "AFTER RE-SCALING:\n",
      "\n",
      "    AMD    Min  /  Max\n",
      "========================\n",
      "AMD004:    40.0 / 200.0\n",
      "AMD005:    40.0 / 130.0\n",
      "AMD007:    50.0 / 500.0\n",
      "AMD008:    5.0 / 15.0\n",
      "AMD009:    nan / nan\n",
      "AMD111:    nan / nan\n",
      "STITCH001:  is null\n",
      "STITCH002:  is null\n",
      "STITCH003:  is null\n",
      "STITCH004:  is null\n",
      "STITCH005:  is null\n"
     ]
    }
   ],
   "source": [
    "print(\"\\n\\nAFTER RE-SCALING:\\n\")\n",
    "print(\"    AMD    Min  /  Max\")\n",
    "print(\"========================\")\n",
    "\n",
    "for label in labels:\n",
    "    aux = elp[elp.codiceamd == label].filter(['valore']).values.tolist()\n",
    "    if len(aux) > 0:\n",
    "        print(f\"{label}:    {np.min(aux):.1f} / {np.max(aux):.1f}\")\n",
    "    else:\n",
    "        print(f\"{label}:  is null\")\n"
   ]
  },
  {
   "attachments": {},
   "cell_type": "markdown",
   "metadata": {},
   "source": [
    "So it matches with the table given by the exercise"
   ]
  },
  {
   "attachments": {},
   "cell_type": "markdown",
   "metadata": {},
   "source": [
    "## Exercise 5"
   ]
  },
  {
   "attachments": {},
   "cell_type": "markdown",
   "metadata": {},
   "source": [
    "**Cohort selection and label definition** - use only those patients that after all the previous steps contain at least two events before calculating the label. Let $\\mathcal{P}=\\lbrace p_1, \\cdots,p_n\\rbrace$ be the set of all patients in the dataset. Let $d(e^i_k)$ be the date of the last event $e_k$ for patient $p_i\\in\\mathcal{P}$. The label of the patient $p_i$ is calculated as follows:\n",
    "\n",
    "$y(p_i)=\\begin{dcases}\n",
    "                1 & \\text{if, within }d(e^i_k)-6 \\text{ months, }p_i\\text{ has a cardiovascular event}\\\\\n",
    "                0 & \\text{otherwise}\n",
    "        \\end{dcases}$\n",
    "\n",
    "Eliminate the patients that have a trajectory shorten or equal to 6 months.\n"
   ]
  },
  {
   "attachments": {},
   "cell_type": "markdown",
   "metadata": {},
   "source": [
    "We first create a DataFrame that contains all the patients and their cardiovascular events, each one with its date (it's already computed as **diag_cardEvents**):"
   ]
  },
  {
   "cell_type": "code",
   "execution_count": 69,
   "metadata": {},
   "outputs": [
    {
     "data": {
      "text/html": [
       "<div>\n",
       "<style scoped>\n",
       "    .dataframe tbody tr th:only-of-type {\n",
       "        vertical-align: middle;\n",
       "    }\n",
       "\n",
       "    .dataframe tbody tr th {\n",
       "        vertical-align: top;\n",
       "    }\n",
       "\n",
       "    .dataframe thead th {\n",
       "        text-align: right;\n",
       "    }\n",
       "</style>\n",
       "<table border=\"1\" class=\"dataframe\">\n",
       "  <thead>\n",
       "    <tr style=\"text-align: right;\">\n",
       "      <th></th>\n",
       "      <th>idcentro</th>\n",
       "      <th>idana</th>\n",
       "      <th>data</th>\n",
       "      <th>codiceamd</th>\n",
       "      <th>valore</th>\n",
       "    </tr>\n",
       "  </thead>\n",
       "  <tbody>\n",
       "    <tr>\n",
       "      <th>7</th>\n",
       "      <td>1</td>\n",
       "      <td>5</td>\n",
       "      <td>2000-12-02</td>\n",
       "      <td>AMD049</td>\n",
       "      <td>S</td>\n",
       "    </tr>\n",
       "    <tr>\n",
       "      <th>9</th>\n",
       "      <td>1</td>\n",
       "      <td>5</td>\n",
       "      <td>2001-03-22</td>\n",
       "      <td>AMD049</td>\n",
       "      <td>S</td>\n",
       "    </tr>\n",
       "    <tr>\n",
       "      <th>13</th>\n",
       "      <td>1</td>\n",
       "      <td>5</td>\n",
       "      <td>2002-02-11</td>\n",
       "      <td>AMD049</td>\n",
       "      <td>S</td>\n",
       "    </tr>\n",
       "    <tr>\n",
       "      <th>15</th>\n",
       "      <td>1</td>\n",
       "      <td>5</td>\n",
       "      <td>2002-02-14</td>\n",
       "      <td>AMD049</td>\n",
       "      <td>S</td>\n",
       "    </tr>\n",
       "    <tr>\n",
       "      <th>17</th>\n",
       "      <td>1</td>\n",
       "      <td>5</td>\n",
       "      <td>2003-01-17</td>\n",
       "      <td>AMD049</td>\n",
       "      <td>S</td>\n",
       "    </tr>\n",
       "  </tbody>\n",
       "</table>\n",
       "</div>"
      ],
      "text/plain": [
       "    idcentro  idana        data codiceamd valore\n",
       "7          1      5  2000-12-02    AMD049      S\n",
       "9          1      5  2001-03-22    AMD049      S\n",
       "13         1      5  2002-02-11    AMD049      S\n",
       "15         1      5  2002-02-14    AMD049      S\n",
       "17         1      5  2003-01-17    AMD049      S"
      ]
     },
     "execution_count": 69,
     "metadata": {},
     "output_type": "execute_result"
    }
   ],
   "source": [
    "diag_cardEvents.head()"
   ]
  },
  {
   "attachments": {},
   "cell_type": "markdown",
   "metadata": {},
   "source": [
    "Now for each patient of the frame **diag_cardEvents**, we are going to take its two last cardiovascular events dates, so as to check if they happened with less than 6 months of difference. For this, we define the function **labeling**"
   ]
  },
  {
   "cell_type": "code",
   "execution_count": 70,
   "metadata": {},
   "outputs": [],
   "source": [
    "def labeling(df:pd.DataFrame) -> pd.DataFrame:\n",
    "\n",
    "    # First we define a dataframe that contains the ids and the dates of every cardiovascular event, sorted by descending date\n",
    "    cardEvents_sorted = df.sort_values('data',ascending=False)\n",
    "\n",
    "    # Now we create a new dataset called classes, that represents the result of the function y(p_i) defined previously:\n",
    "    classes = pd.DataFrame(columns=['idcentro','idana','class'])\n",
    "\n",
    "    # Now for each patient (idcentro,idana), we check if it verify the condition explained previously:\n",
    "    for label, subDataframe in cardEvents_sorted.groupby(['idcentro','idana']):\n",
    "\n",
    "        dates = subDataframe['data'].dropna().values\n",
    "\n",
    "        # We ignore those patients who have just one event\n",
    "        if len(dates) > 1:\n",
    "\n",
    "            # We extract the first and the 2 lastest dates and convert them into datetime objects\n",
    "            minDate = dates[-1]\n",
    "            maxDates = dates[0:2]\n",
    "            minDate = dt.date.fromisoformat(minDate)\n",
    "            maxDates = dt.date.fromisoformat(maxDates[0]), dt.date.fromisoformat(maxDates[1])\n",
    "\n",
    "            # We ignore patients with a trajectory shorter than 6 months (6*30 days)\n",
    "            if maxDates[0]-minDate > dt.timedelta(days=6*30):\n",
    "\n",
    "                # We calculate the difference between the latest 2 dates and compare it with 6 months\n",
    "                c = maxDates[0]-maxDates[1] < dt.timedelta(days=6*30)\n",
    "\n",
    "                # We add a new column with the label and the class of the patient\n",
    "                classes.loc[classes.count()[0]] = [label[0], label[1], int(c)]\n",
    "\n",
    "    return classes\n",
    "\n",
    "\n"
   ]
  },
  {
   "attachments": {},
   "cell_type": "markdown",
   "metadata": {},
   "source": [
    "Now, in the **classes** dataframe, we have labeled the patients that have more than one event and a trajectory larger than 6 months"
   ]
  },
  {
   "cell_type": "code",
   "execution_count": 71,
   "metadata": {},
   "outputs": [],
   "source": [
    "labels = labeling(diag_cardEvents)"
   ]
  },
  {
   "cell_type": "code",
   "execution_count": 72,
   "metadata": {},
   "outputs": [
    {
     "name": "stdout",
     "output_type": "stream",
     "text": [
      "We still have: 44550/70193 patients\n"
     ]
    }
   ],
   "source": [
    "print(f\"We still have: {labels.shape[0]}/{patientsOfInterest.shape[0]} patients\")"
   ]
  },
  {
   "attachments": {},
   "cell_type": "markdown",
   "metadata": {},
   "source": [
    "So we do an inner merge operation again with every dataframe to take just the patients of the frame **classes**"
   ]
  },
  {
   "cell_type": "code",
   "execution_count": 73,
   "metadata": {},
   "outputs": [],
   "source": [
    "ap = pd.merge(ap, labels, on=['idcentro','idana'], how='right')[ap_fixed.columns]\n",
    "diag = pd.merge(diag, labels, on=['idcentro','idana'], how='right')[diag_fixed.columns]\n",
    "elp = pd.merge(elp, labels, on=['idcentro','idana'], how='right')[elp_fixed.columns]\n",
    "ei = pd.merge(ei, labels, on=['idcentro','idana'], how='right')[ei_fixed.columns]\n",
    "pdf = pd.merge(pdf, labels, on=['idcentro','idana'], how='right')[pdf_fixed.columns]\n",
    "pdnf = pd.merge(pdnf, labels, on=['idcentro','idana'], how='right')[pdnf_fixed.columns]\n",
    "pnd = pd.merge(pnd, labels, on=['idcentro','idana'], how='right')[pnd_fixed.columns]\n",
    "patientsOfInterest_labeled = pd.merge(patientsOfInterest, labels, on=['idcentro','idana'], how='right')\n"
   ]
  }
 ],
 "metadata": {
  "kernelspec": {
   "display_name": "base",
   "language": "python",
   "name": "python3"
  },
  "language_info": {
   "codemirror_mode": {
    "name": "ipython",
    "version": 3
   },
   "file_extension": ".py",
   "mimetype": "text/x-python",
   "name": "python",
   "nbconvert_exporter": "python",
   "pygments_lexer": "ipython3",
   "version": "3.9.13"
  },
  "orig_nbformat": 4
 },
 "nbformat": 4,
 "nbformat_minor": 2
}
