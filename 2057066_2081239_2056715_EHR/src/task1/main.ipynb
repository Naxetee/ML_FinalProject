{
  "cells": [
    {
      "attachments": {},
      "cell_type": "markdown",
      "metadata": {
        "id": "vsO8ulcxOsrZ"
      },
      "source": [
        "# Task 1"
      ]
    },
    {
      "cell_type": "code",
      "execution_count": null,
      "metadata": {
        "id": "3pQZQAywvWEc"
      },
      "outputs": [],
      "source": [
        "import numpy as np\n",
        "import pandas as pd\n",
        "from datetime import datetime"
      ]
    },
    {
      "cell_type": "code",
      "execution_count": null,
      "metadata": {
        "id": "9BB1AzKpOsra"
      },
      "outputs": [],
      "source": [
        "\n",
        "data_path = \"../../data/dataset/sample/\"\n",
        "\n",
        "ap = pd.read_csv(data_path+'/anagraficapazientiattivi.csv', header=0 ,names=['idcentro','idana','sesso','annodiagnosidiabete','tipodiabete','scolarita','statocivile','professione','origine','annonascita','annoprimoaccesso','annodecesso'])\n",
        "diag = pd.read_csv(data_path+'/diagnosi.csv', header=0 ,names=['idcentro','idana','data','codiceamd','valore'])\n",
        "elp  = pd.read_csv(data_path+'/esamilaboratorioparametri.csv', header=0 ,names=['idcentro','idana','data','codiceamd','valore'])\n",
        "ei = pd.read_csv(data_path+'/esamistrumentali.csv', header=0 ,names=['idcentro','idana','data','codiceamd','valore'])\n",
        "pdf = pd.read_csv(data_path+'/prescrizionidiabetefarmaci.csv', header=0 ,names=['idcentro','idana','data','codiceatc','quantita','idpasto','descrizionefarmaco'])\n",
        "pdnf = pd.read_csv(data_path+'/prescrizionidiabetenonfarmaci.csv', header=0 ,names=['idcentro','idana','data','codiceamd','valore'])\n",
        "pnd = pd.read_csv(data_path+'/prescrizioninondiabete.csv', header=0 ,names=['idcentro','idana','data','codiceamd','valore'])"
      ]
    },
    {
      "cell_type": "code",
      "execution_count": null,
      "metadata": {
        "colab": {
          "base_uri": "https://localhost:8080/",
          "height": 206
        },
        "id": "kWNqxIxtOsra",
        "outputId": "91ae7ac6-0f1d-4f08-c8b9-953a22c6ddaa"
      },
      "outputs": [],
      "source": [
        "# Display example observations\n",
        "ap.head()"
      ]
    },
    {
      "cell_type": "code",
      "execution_count": null,
      "metadata": {
        "colab": {
          "base_uri": "https://localhost:8080/",
          "height": 206
        },
        "id": "AD7DNbrzOsrb",
        "outputId": "b2679f98-14f8-425e-852b-1bf8fdcf2500"
      },
      "outputs": [],
      "source": [
        "diag.head()"
      ]
    },
    {
      "cell_type": "code",
      "execution_count": null,
      "metadata": {
        "colab": {
          "base_uri": "https://localhost:8080/",
          "height": 206
        },
        "id": "8X9O7aSaOsrb",
        "outputId": "40b97bfb-b552-4d12-d13e-bda2d766dfb1"
      },
      "outputs": [],
      "source": [
        "elp.head()"
      ]
    },
    {
      "cell_type": "code",
      "execution_count": null,
      "metadata": {
        "colab": {
          "base_uri": "https://localhost:8080/",
          "height": 206
        },
        "id": "PgLiatH3Osrb",
        "outputId": "32775de9-37a5-4df0-ad00-fdfbd141a64d"
      },
      "outputs": [],
      "source": [
        "ei.head()"
      ]
    },
    {
      "cell_type": "code",
      "execution_count": null,
      "metadata": {
        "colab": {
          "base_uri": "https://localhost:8080/",
          "height": 206
        },
        "id": "_2wif7CuOsrb",
        "outputId": "f815515b-8271-4e4e-e618-3a388f06d876"
      },
      "outputs": [],
      "source": [
        "pdf.head()"
      ]
    },
    {
      "cell_type": "code",
      "execution_count": null,
      "metadata": {
        "colab": {
          "base_uri": "https://localhost:8080/",
          "height": 206
        },
        "id": "Myw-RSysOsrc",
        "outputId": "b4164fc3-1892-4f95-f460-fdc5b1649bf3"
      },
      "outputs": [],
      "source": [
        "pdnf.head()"
      ]
    },
    {
      "cell_type": "code",
      "execution_count": null,
      "metadata": {
        "colab": {
          "base_uri": "https://localhost:8080/",
          "height": 206
        },
        "id": "hqxAzGnvOsrc",
        "outputId": "b417efac-1c90-432a-eacd-db7a6a9408ee"
      },
      "outputs": [],
      "source": [
        "pnd.head()"
      ]
    },
    {
      "attachments": {},
      "cell_type": "markdown",
      "metadata": {
        "id": "1mTfN8VFXHtp"
      },
      "source": [
        "Borrar pacientes que:\n",
        "  - fecha nacimiento > fecha primo accessso || fecha nacimiento > fecha muerte || fecha nacimiento > fecha diagnostico\n",
        "  - fecha primo accesso > fecha muerte || fecha primo accesso > fecha diagnostico\n",
        "  - fecha diagnostico > fecha muerte\n",
        "\n",
        "Resto tablas, borrar pacientes que:\n",
        "  - fecha < fecha nacimiento || fecha < fecha primo accesso || fecha > fecha muerte\n",
        "\n",
        "En tablas de medicamentos:\n",
        "  - fecha entre fecha diagnostico y fecha muerte"
      ]
    },
    {
      "attachments": {},
      "cell_type": "markdown",
      "metadata": {
        "id": "RXF63TUemqL-"
      },
      "source": [
        "First we want to select from our tables the patients with dates that are valid (with the birth year smaller than the death year, the birth year smaller than the year of first access and so on)"
      ]
    },
    {
      "cell_type": "code",
      "execution_count": null,
      "metadata": {
        "colab": {
          "base_uri": "https://localhost:8080/"
        },
        "id": "wi7r-LDcfOz0",
        "outputId": "2901ff22-1ab1-48f6-d3a1-afa6c3d9aea5"
      },
      "outputs": [],
      "source": [
        "ap.shape"
      ]
    },
    {
      "cell_type": "code",
      "execution_count": null,
      "metadata": {
        "colab": {
          "base_uri": "https://localhost:8080/"
        },
        "id": "BiB-fgkdavS6",
        "outputId": "44f95fe1-cc18-4b9b-d1fc-48633e81a357"
      },
      "outputs": [],
      "source": [
        "def exercise2_1 (df) -> pd.DataFrame:\n",
        "    aux = df[(df['annonascita'].notna()) & (df['annoprimoaccesso'].notna()) & (df['annodiagnosidiabete'].notna()) & (df['annonascita']<=df['annodecesso']) & (df['annoprimoaccesso']<=df['annodecesso']) & (df['annodiagnosidiabete']<=df['annodecesso'])]\n",
        "    aux = pd.concat([aux, df[df['annodecesso'].isna()]])\n",
        "    return aux[(aux['annonascita']<=aux['annodiagnosidiabete']) & (aux['annonascita']<=aux['annoprimoaccesso'])]\n",
        "\n",
        "ap_ex2 = exercise2_1(ap)\n",
        "print(ap_ex2.shape)    "
      ]
    },
    {
      "cell_type": "code",
      "execution_count": null,
      "metadata": {
        "colab": {
          "base_uri": "https://localhost:8080/"
        },
        "id": "XfEi6LuU04Ff",
        "outputId": "61d166e4-ed57-4a0a-9dff-5c89a3f46ed2"
      },
      "outputs": [],
      "source": [
        "# Let's ensure that there aren't duplicate rows:\n",
        "ap_test = ap_ex2.filter(items=['idcentro', 'idana'])\n",
        "print(ap_test.shape)\n",
        "ap_test.drop_duplicates()\n",
        "print(ap_test.shape)"
      ]
    },
    {
      "cell_type": "code",
      "execution_count": null,
      "metadata": {
        "colab": {
          "base_uri": "https://localhost:8080/"
        },
        "id": "W3Eg4DL1qPM8",
        "outputId": "87985e0f-1a78-4d37-a4f9-da6cf34ef9a6"
      },
      "outputs": [],
      "source": [
        "def exercise2_2(df) -> pd.DataFrame:\n",
        "    initial_columns = df.columns\n",
        "    # First we eliminate the patients that are no longer in the first table and the dates that do not exist\n",
        "    df = df.merge(ap_test, on=['idcentro', 'idana'], how='inner')\n",
        "    df = df[df['data'].notna()]\n",
        "\n",
        "    # We assure that the dates are valid and that the year is first\n",
        "    df['data'] = pd.to_datetime(df['data'], yearfirst=True)\n",
        "\n",
        "    #Now we create a new table with the dates from the first and the second table\n",
        "    ap_filter = ap_ex2.filter(items=['idcentro', 'idana', 'annonascita', 'annoprimoaccesso', 'annodecesso'])\n",
        "    aux = df.merge(ap_filter, on=['idcentro', 'idana'])\n",
        "\n",
        "    # Now we take the rows of this table that have valid dates\n",
        "    aux = aux[aux['data'].dt.strftime(\"%Y\").astype(float) <= aux['annodecesso']]\n",
        "    aux = pd.concat([aux, ap_filter[ap_filter['annodecesso'].isna()]])\n",
        "    aux = aux[(aux['data'].dt.strftime(\"%Y\").astype(float) >= aux['annoprimoaccesso']) & (aux['data'].dt.strftime(\"%Y\").astype(float) >= aux['annonascita'])]\n",
        "\n",
        "    if 'annodiagnosidiabete' in df.columns:\n",
        "        aux = aux[(aux['data'].dt.strftime(\"%Y\").astype(float) >= aux['annodiagnosidiabete'])]\n",
        "\n",
        "    # Now we take into account only the new diagnosis but we need to delete the extra columns\n",
        "    return aux.filter(df.columns)\n",
        "\n"
      ]
    },
    {
      "cell_type": "code",
      "execution_count": null,
      "metadata": {},
      "outputs": [],
      "source": [
        "diag_ex2 = exercise2_2(diag)\n",
        "print(\"Diag:\",diag_ex2.shape)\n",
        "\n",
        "elp_ex2 = exercise2_2(elp)\n",
        "print(\"Elp:\",elp_ex2.shape)\n",
        "\n",
        "ei_ex2 = exercise2_2(ei)\n",
        "print(\"Ei:\",ei_ex2.shape)\n",
        "\n",
        "pdf_ex2 = exercise2_2(pdf)\n",
        "print(\"Pdf:\",pdf_ex2.shape)\n",
        "\n",
        "pdnf_ex2 = exercise2_2(pdnf)\n",
        "print(\"Pdnf:\",pdnf_ex2.shape)\n",
        "\n",
        "pnd_ex2 = exercise2_2(pnd)\n",
        "print(\"Pdnf:\",pnd_ex2.shape)"
      ]
    }
  ],
  "metadata": {
    "accelerator": "GPU",
    "colab": {
      "provenance": []
    },
    "gpuClass": "standard",
    "kernelspec": {
      "display_name": "base",
      "language": "python",
      "name": "python3"
    },
    "language_info": {
      "codemirror_mode": {
        "name": "ipython",
        "version": 3
      },
      "file_extension": ".py",
      "mimetype": "text/x-python",
      "name": "python",
      "nbconvert_exporter": "python",
      "pygments_lexer": "ipython3",
      "version": "3.9.13"
    },
    "orig_nbformat": 4
  },
  "nbformat": 4,
  "nbformat_minor": 0
}
