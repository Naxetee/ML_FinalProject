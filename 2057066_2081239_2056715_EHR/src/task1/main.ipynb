{
 "cells": [
  {
   "attachments": {},
   "cell_type": "markdown",
   "metadata": {},
   "source": [
    "[Professor GitHub Repository](https://github.com/bardhprenkaj/ML_labs/blob/main/resources/project/project_description.pdf)\n",
    "\n",
    "[Project GitHub Repository](https://github.com/Naxetee/ML_FinalProject)"
   ]
  },
  {
   "attachments": {},
   "cell_type": "markdown",
   "metadata": {},
   "source": [
    "# Index\n",
    "\n",
    "- **Python Libraries**\n",
    "- **Task 1**\n",
    "    - *Reading Datasets*\n",
    "    - *Exercise 1*\n",
    "    - *Exercise 2*\n",
    "    - *Exercise 3*\n",
    "    - *Exercise 4*\n",
    "    - *Exercise 5*\n"
   ]
  },
  {
   "attachments": {},
   "cell_type": "markdown",
   "metadata": {},
   "source": [
    "# Python Libraries\n"
   ]
  },
  {
   "cell_type": "code",
   "execution_count": 36,
   "metadata": {},
   "outputs": [],
   "source": [
    "import pandas as pd\n",
    "import numpy as np\n",
    "import datetime as dt"
   ]
  },
  {
   "attachments": {},
   "cell_type": "markdown",
   "metadata": {},
   "source": [
    "# Task 1\n",
    "\n",
    "During this first task we will apply some **pre-processing** operations to our raw data. So we will directly modify the data in *data/dataset/*, so that the data in *data/dataset_fixed/* will always remain unmodified."
   ]
  },
  {
   "attachments": {},
   "cell_type": "markdown",
   "metadata": {},
   "source": [
    "## Reading the Datasets"
   ]
  },
  {
   "attachments": {},
   "cell_type": "markdown",
   "metadata": {},
   "source": [
    "At first, let's read the **.csv** files using a *pandas* function called **read_csv** whose parameters are:\n",
    "- *filepath*: the path of the .csv files.\n",
    "- *header*: will be always 0 to skip the columns' name row.\n",
    "- *names*: gives a name to each column of the table.\n"
   ]
  },
  {
   "cell_type": "code",
   "execution_count": 37,
   "metadata": {},
   "outputs": [
    {
     "ename": "KeyboardInterrupt",
     "evalue": "",
     "output_type": "error",
     "traceback": [
      "\u001b[1;31m---------------------------------------------------------------------------\u001b[0m",
      "\u001b[1;31mKeyboardInterrupt\u001b[0m                         Traceback (most recent call last)",
      "\u001b[1;32m~\\AppData\\Local\\Temp\\ipykernel_22996\\2468540047.py\u001b[0m in \u001b[0;36m<module>\u001b[1;34m\u001b[0m\n\u001b[0;32m      3\u001b[0m \u001b[0map_fixed\u001b[0m \u001b[1;33m=\u001b[0m \u001b[0mpd\u001b[0m\u001b[1;33m.\u001b[0m\u001b[0mread_csv\u001b[0m\u001b[1;33m(\u001b[0m\u001b[0mdata_path\u001b[0m\u001b[1;33m+\u001b[0m\u001b[1;34m'/anagraficapazientiattivi.csv'\u001b[0m\u001b[1;33m,\u001b[0m \u001b[0mheader\u001b[0m\u001b[1;33m=\u001b[0m\u001b[1;36m0\u001b[0m \u001b[1;33m,\u001b[0m\u001b[0mnames\u001b[0m\u001b[1;33m=\u001b[0m\u001b[1;33m[\u001b[0m\u001b[1;34m'idcentro'\u001b[0m\u001b[1;33m,\u001b[0m\u001b[1;34m'idana'\u001b[0m\u001b[1;33m,\u001b[0m\u001b[1;34m'sesso'\u001b[0m\u001b[1;33m,\u001b[0m\u001b[1;34m'annodiagnosidiabete'\u001b[0m\u001b[1;33m,\u001b[0m\u001b[1;34m'tipodiabete'\u001b[0m\u001b[1;33m,\u001b[0m\u001b[1;34m'scolarita'\u001b[0m\u001b[1;33m,\u001b[0m\u001b[1;34m'statocivile'\u001b[0m\u001b[1;33m,\u001b[0m\u001b[1;34m'professione'\u001b[0m\u001b[1;33m,\u001b[0m\u001b[1;34m'origine'\u001b[0m\u001b[1;33m,\u001b[0m\u001b[1;34m'annonascita'\u001b[0m\u001b[1;33m,\u001b[0m\u001b[1;34m'annoprimoaccesso'\u001b[0m\u001b[1;33m,\u001b[0m\u001b[1;34m'annodecesso'\u001b[0m\u001b[1;33m]\u001b[0m\u001b[1;33m)\u001b[0m\u001b[1;33m\u001b[0m\u001b[1;33m\u001b[0m\u001b[0m\n\u001b[0;32m      4\u001b[0m \u001b[0mdiag_fixed\u001b[0m \u001b[1;33m=\u001b[0m \u001b[0mpd\u001b[0m\u001b[1;33m.\u001b[0m\u001b[0mread_csv\u001b[0m\u001b[1;33m(\u001b[0m\u001b[0mdata_path\u001b[0m\u001b[1;33m+\u001b[0m\u001b[1;34m'/diagnosi.csv'\u001b[0m\u001b[1;33m,\u001b[0m \u001b[0mheader\u001b[0m\u001b[1;33m=\u001b[0m\u001b[1;36m0\u001b[0m \u001b[1;33m,\u001b[0m\u001b[0mnames\u001b[0m\u001b[1;33m=\u001b[0m\u001b[1;33m[\u001b[0m\u001b[1;34m'idcentro'\u001b[0m\u001b[1;33m,\u001b[0m\u001b[1;34m'idana'\u001b[0m\u001b[1;33m,\u001b[0m\u001b[1;34m'data'\u001b[0m\u001b[1;33m,\u001b[0m\u001b[1;34m'codiceamd'\u001b[0m\u001b[1;33m,\u001b[0m\u001b[1;34m'valore'\u001b[0m\u001b[1;33m]\u001b[0m\u001b[1;33m)\u001b[0m\u001b[1;33m\u001b[0m\u001b[1;33m\u001b[0m\u001b[0m\n\u001b[1;32m----> 5\u001b[1;33m \u001b[0melp_fixed\u001b[0m \u001b[1;33m=\u001b[0m \u001b[0mpd\u001b[0m\u001b[1;33m.\u001b[0m\u001b[0mread_csv\u001b[0m\u001b[1;33m(\u001b[0m\u001b[0mdata_path\u001b[0m\u001b[1;33m+\u001b[0m\u001b[1;34m'/esamilaboratorioparametri.csv'\u001b[0m\u001b[1;33m,\u001b[0m \u001b[0mheader\u001b[0m\u001b[1;33m=\u001b[0m\u001b[1;36m0\u001b[0m \u001b[1;33m,\u001b[0m\u001b[0mnames\u001b[0m\u001b[1;33m=\u001b[0m\u001b[1;33m[\u001b[0m\u001b[1;34m'idcentro'\u001b[0m\u001b[1;33m,\u001b[0m\u001b[1;34m'idana'\u001b[0m\u001b[1;33m,\u001b[0m\u001b[1;34m'data'\u001b[0m\u001b[1;33m,\u001b[0m\u001b[1;34m'codiceamd'\u001b[0m\u001b[1;33m,\u001b[0m\u001b[1;34m'valore'\u001b[0m\u001b[1;33m]\u001b[0m\u001b[1;33m)\u001b[0m\u001b[1;33m\u001b[0m\u001b[1;33m\u001b[0m\u001b[0m\n\u001b[0m\u001b[0;32m      6\u001b[0m \u001b[0mei_fixed\u001b[0m \u001b[1;33m=\u001b[0m \u001b[0mpd\u001b[0m\u001b[1;33m.\u001b[0m\u001b[0mread_csv\u001b[0m\u001b[1;33m(\u001b[0m\u001b[0mdata_path\u001b[0m\u001b[1;33m+\u001b[0m\u001b[1;34m'/esamistrumentali.csv'\u001b[0m\u001b[1;33m,\u001b[0m \u001b[0mheader\u001b[0m\u001b[1;33m=\u001b[0m\u001b[1;36m0\u001b[0m \u001b[1;33m,\u001b[0m\u001b[0mnames\u001b[0m\u001b[1;33m=\u001b[0m\u001b[1;33m[\u001b[0m\u001b[1;34m'idcentro'\u001b[0m\u001b[1;33m,\u001b[0m\u001b[1;34m'idana'\u001b[0m\u001b[1;33m,\u001b[0m\u001b[1;34m'data'\u001b[0m\u001b[1;33m,\u001b[0m\u001b[1;34m'codiceamd'\u001b[0m\u001b[1;33m,\u001b[0m\u001b[1;34m'valore'\u001b[0m\u001b[1;33m]\u001b[0m\u001b[1;33m)\u001b[0m\u001b[1;33m\u001b[0m\u001b[1;33m\u001b[0m\u001b[0m\n\u001b[0;32m      7\u001b[0m \u001b[0mpdf_fixed\u001b[0m \u001b[1;33m=\u001b[0m \u001b[0mpd\u001b[0m\u001b[1;33m.\u001b[0m\u001b[0mread_csv\u001b[0m\u001b[1;33m(\u001b[0m\u001b[0mdata_path\u001b[0m\u001b[1;33m+\u001b[0m\u001b[1;34m'/prescrizionidiabetefarmaci.csv'\u001b[0m\u001b[1;33m,\u001b[0m \u001b[0mheader\u001b[0m\u001b[1;33m=\u001b[0m\u001b[1;36m0\u001b[0m \u001b[1;33m,\u001b[0m\u001b[0mnames\u001b[0m\u001b[1;33m=\u001b[0m\u001b[1;33m[\u001b[0m\u001b[1;34m'idcentro'\u001b[0m\u001b[1;33m,\u001b[0m\u001b[1;34m'idana'\u001b[0m\u001b[1;33m,\u001b[0m\u001b[1;34m'data'\u001b[0m\u001b[1;33m,\u001b[0m\u001b[1;34m'codiceatc'\u001b[0m\u001b[1;33m,\u001b[0m\u001b[1;34m'quantita'\u001b[0m\u001b[1;33m,\u001b[0m\u001b[1;34m'idpasto'\u001b[0m\u001b[1;33m,\u001b[0m\u001b[1;34m'descrizionefarmaco'\u001b[0m\u001b[1;33m]\u001b[0m\u001b[1;33m)\u001b[0m\u001b[1;33m\u001b[0m\u001b[1;33m\u001b[0m\u001b[0m\n",
      "\u001b[1;32mc:\\Users\\naxet\\anaconda3\\lib\\site-packages\\pandas\\util\\_decorators.py\u001b[0m in \u001b[0;36mwrapper\u001b[1;34m(*args, **kwargs)\u001b[0m\n\u001b[0;32m    309\u001b[0m                     \u001b[0mstacklevel\u001b[0m\u001b[1;33m=\u001b[0m\u001b[0mstacklevel\u001b[0m\u001b[1;33m,\u001b[0m\u001b[1;33m\u001b[0m\u001b[1;33m\u001b[0m\u001b[0m\n\u001b[0;32m    310\u001b[0m                 )\n\u001b[1;32m--> 311\u001b[1;33m             \u001b[1;32mreturn\u001b[0m \u001b[0mfunc\u001b[0m\u001b[1;33m(\u001b[0m\u001b[1;33m*\u001b[0m\u001b[0margs\u001b[0m\u001b[1;33m,\u001b[0m \u001b[1;33m**\u001b[0m\u001b[0mkwargs\u001b[0m\u001b[1;33m)\u001b[0m\u001b[1;33m\u001b[0m\u001b[1;33m\u001b[0m\u001b[0m\n\u001b[0m\u001b[0;32m    312\u001b[0m \u001b[1;33m\u001b[0m\u001b[0m\n\u001b[0;32m    313\u001b[0m         \u001b[1;32mreturn\u001b[0m \u001b[0mwrapper\u001b[0m\u001b[1;33m\u001b[0m\u001b[1;33m\u001b[0m\u001b[0m\n",
      "\u001b[1;32mc:\\Users\\naxet\\anaconda3\\lib\\site-packages\\pandas\\io\\parsers\\readers.py\u001b[0m in \u001b[0;36mread_csv\u001b[1;34m(filepath_or_buffer, sep, delimiter, header, names, index_col, usecols, squeeze, prefix, mangle_dupe_cols, dtype, engine, converters, true_values, false_values, skipinitialspace, skiprows, skipfooter, nrows, na_values, keep_default_na, na_filter, verbose, skip_blank_lines, parse_dates, infer_datetime_format, keep_date_col, date_parser, dayfirst, cache_dates, iterator, chunksize, compression, thousands, decimal, lineterminator, quotechar, quoting, doublequote, escapechar, comment, encoding, encoding_errors, dialect, error_bad_lines, warn_bad_lines, on_bad_lines, delim_whitespace, low_memory, memory_map, float_precision, storage_options)\u001b[0m\n\u001b[0;32m    676\u001b[0m     \u001b[0mkwds\u001b[0m\u001b[1;33m.\u001b[0m\u001b[0mupdate\u001b[0m\u001b[1;33m(\u001b[0m\u001b[0mkwds_defaults\u001b[0m\u001b[1;33m)\u001b[0m\u001b[1;33m\u001b[0m\u001b[1;33m\u001b[0m\u001b[0m\n\u001b[0;32m    677\u001b[0m \u001b[1;33m\u001b[0m\u001b[0m\n\u001b[1;32m--> 678\u001b[1;33m     \u001b[1;32mreturn\u001b[0m \u001b[0m_read\u001b[0m\u001b[1;33m(\u001b[0m\u001b[0mfilepath_or_buffer\u001b[0m\u001b[1;33m,\u001b[0m \u001b[0mkwds\u001b[0m\u001b[1;33m)\u001b[0m\u001b[1;33m\u001b[0m\u001b[1;33m\u001b[0m\u001b[0m\n\u001b[0m\u001b[0;32m    679\u001b[0m \u001b[1;33m\u001b[0m\u001b[0m\n\u001b[0;32m    680\u001b[0m \u001b[1;33m\u001b[0m\u001b[0m\n",
      "\u001b[1;32mc:\\Users\\naxet\\anaconda3\\lib\\site-packages\\pandas\\io\\parsers\\readers.py\u001b[0m in \u001b[0;36m_read\u001b[1;34m(filepath_or_buffer, kwds)\u001b[0m\n\u001b[0;32m    579\u001b[0m \u001b[1;33m\u001b[0m\u001b[0m\n\u001b[0;32m    580\u001b[0m     \u001b[1;32mwith\u001b[0m \u001b[0mparser\u001b[0m\u001b[1;33m:\u001b[0m\u001b[1;33m\u001b[0m\u001b[1;33m\u001b[0m\u001b[0m\n\u001b[1;32m--> 581\u001b[1;33m         \u001b[1;32mreturn\u001b[0m \u001b[0mparser\u001b[0m\u001b[1;33m.\u001b[0m\u001b[0mread\u001b[0m\u001b[1;33m(\u001b[0m\u001b[0mnrows\u001b[0m\u001b[1;33m)\u001b[0m\u001b[1;33m\u001b[0m\u001b[1;33m\u001b[0m\u001b[0m\n\u001b[0m\u001b[0;32m    582\u001b[0m \u001b[1;33m\u001b[0m\u001b[0m\n\u001b[0;32m    583\u001b[0m \u001b[1;33m\u001b[0m\u001b[0m\n",
      "\u001b[1;32mc:\\Users\\naxet\\anaconda3\\lib\\site-packages\\pandas\\io\\parsers\\readers.py\u001b[0m in \u001b[0;36mread\u001b[1;34m(self, nrows)\u001b[0m\n\u001b[0;32m   1251\u001b[0m             \u001b[0mnrows\u001b[0m \u001b[1;33m=\u001b[0m \u001b[0mvalidate_integer\u001b[0m\u001b[1;33m(\u001b[0m\u001b[1;34m\"nrows\"\u001b[0m\u001b[1;33m,\u001b[0m \u001b[0mnrows\u001b[0m\u001b[1;33m)\u001b[0m\u001b[1;33m\u001b[0m\u001b[1;33m\u001b[0m\u001b[0m\n\u001b[0;32m   1252\u001b[0m             \u001b[1;32mtry\u001b[0m\u001b[1;33m:\u001b[0m\u001b[1;33m\u001b[0m\u001b[1;33m\u001b[0m\u001b[0m\n\u001b[1;32m-> 1253\u001b[1;33m                 \u001b[0mindex\u001b[0m\u001b[1;33m,\u001b[0m \u001b[0mcolumns\u001b[0m\u001b[1;33m,\u001b[0m \u001b[0mcol_dict\u001b[0m \u001b[1;33m=\u001b[0m \u001b[0mself\u001b[0m\u001b[1;33m.\u001b[0m\u001b[0m_engine\u001b[0m\u001b[1;33m.\u001b[0m\u001b[0mread\u001b[0m\u001b[1;33m(\u001b[0m\u001b[0mnrows\u001b[0m\u001b[1;33m)\u001b[0m\u001b[1;33m\u001b[0m\u001b[1;33m\u001b[0m\u001b[0m\n\u001b[0m\u001b[0;32m   1254\u001b[0m             \u001b[1;32mexcept\u001b[0m \u001b[0mException\u001b[0m\u001b[1;33m:\u001b[0m\u001b[1;33m\u001b[0m\u001b[1;33m\u001b[0m\u001b[0m\n\u001b[0;32m   1255\u001b[0m                 \u001b[0mself\u001b[0m\u001b[1;33m.\u001b[0m\u001b[0mclose\u001b[0m\u001b[1;33m(\u001b[0m\u001b[1;33m)\u001b[0m\u001b[1;33m\u001b[0m\u001b[1;33m\u001b[0m\u001b[0m\n",
      "\u001b[1;32mc:\\Users\\naxet\\anaconda3\\lib\\site-packages\\pandas\\io\\parsers\\c_parser_wrapper.py\u001b[0m in \u001b[0;36mread\u001b[1;34m(self, nrows)\u001b[0m\n\u001b[0;32m    223\u001b[0m         \u001b[1;32mtry\u001b[0m\u001b[1;33m:\u001b[0m\u001b[1;33m\u001b[0m\u001b[1;33m\u001b[0m\u001b[0m\n\u001b[0;32m    224\u001b[0m             \u001b[1;32mif\u001b[0m \u001b[0mself\u001b[0m\u001b[1;33m.\u001b[0m\u001b[0mlow_memory\u001b[0m\u001b[1;33m:\u001b[0m\u001b[1;33m\u001b[0m\u001b[1;33m\u001b[0m\u001b[0m\n\u001b[1;32m--> 225\u001b[1;33m                 \u001b[0mchunks\u001b[0m \u001b[1;33m=\u001b[0m \u001b[0mself\u001b[0m\u001b[1;33m.\u001b[0m\u001b[0m_reader\u001b[0m\u001b[1;33m.\u001b[0m\u001b[0mread_low_memory\u001b[0m\u001b[1;33m(\u001b[0m\u001b[0mnrows\u001b[0m\u001b[1;33m)\u001b[0m\u001b[1;33m\u001b[0m\u001b[1;33m\u001b[0m\u001b[0m\n\u001b[0m\u001b[0;32m    226\u001b[0m                 \u001b[1;31m# destructive to chunks\u001b[0m\u001b[1;33m\u001b[0m\u001b[1;33m\u001b[0m\u001b[0m\n\u001b[0;32m    227\u001b[0m                 \u001b[0mdata\u001b[0m \u001b[1;33m=\u001b[0m \u001b[0m_concatenate_chunks\u001b[0m\u001b[1;33m(\u001b[0m\u001b[0mchunks\u001b[0m\u001b[1;33m)\u001b[0m\u001b[1;33m\u001b[0m\u001b[1;33m\u001b[0m\u001b[0m\n",
      "\u001b[1;32mc:\\Users\\naxet\\anaconda3\\lib\\site-packages\\pandas\\_libs\\parsers.pyx\u001b[0m in \u001b[0;36mpandas._libs.parsers.TextReader.read_low_memory\u001b[1;34m()\u001b[0m\n",
      "\u001b[1;32mc:\\Users\\naxet\\anaconda3\\lib\\site-packages\\pandas\\_libs\\parsers.pyx\u001b[0m in \u001b[0;36mpandas._libs.parsers.TextReader._read_rows\u001b[1;34m()\u001b[0m\n",
      "\u001b[1;32mc:\\Users\\naxet\\anaconda3\\lib\\site-packages\\pandas\\_libs\\parsers.pyx\u001b[0m in \u001b[0;36mpandas._libs.parsers.TextReader._convert_column_data\u001b[1;34m()\u001b[0m\n",
      "\u001b[1;32mc:\\Users\\naxet\\anaconda3\\lib\\site-packages\\pandas\\_libs\\parsers.pyx\u001b[0m in \u001b[0;36mpandas._libs.parsers.TextReader._convert_tokens\u001b[1;34m()\u001b[0m\n",
      "\u001b[1;32mc:\\Users\\naxet\\anaconda3\\lib\\site-packages\\pandas\\_libs\\parsers.pyx\u001b[0m in \u001b[0;36mpandas._libs.parsers.TextReader._convert_with_dtype\u001b[1;34m()\u001b[0m\n",
      "\u001b[1;32mc:\\Users\\naxet\\anaconda3\\lib\\site-packages\\pandas\\core\\dtypes\\common.py\u001b[0m in \u001b[0;36mis_extension_array_dtype\u001b[1;34m(arr_or_dtype)\u001b[0m\n\u001b[0;32m   1427\u001b[0m \u001b[1;33m\u001b[0m\u001b[0m\n\u001b[0;32m   1428\u001b[0m \u001b[1;33m\u001b[0m\u001b[0m\n\u001b[1;32m-> 1429\u001b[1;33m \u001b[1;32mdef\u001b[0m \u001b[0mis_extension_array_dtype\u001b[0m\u001b[1;33m(\u001b[0m\u001b[0marr_or_dtype\u001b[0m\u001b[1;33m)\u001b[0m \u001b[1;33m->\u001b[0m \u001b[0mbool\u001b[0m\u001b[1;33m:\u001b[0m\u001b[1;33m\u001b[0m\u001b[1;33m\u001b[0m\u001b[0m\n\u001b[0m\u001b[0;32m   1430\u001b[0m     \"\"\"\n\u001b[0;32m   1431\u001b[0m     \u001b[0mCheck\u001b[0m \u001b[1;32mif\u001b[0m \u001b[0man\u001b[0m \u001b[0mobject\u001b[0m \u001b[1;32mis\u001b[0m \u001b[0ma\u001b[0m \u001b[0mpandas\u001b[0m \u001b[0mextension\u001b[0m \u001b[0marray\u001b[0m \u001b[0mtype\u001b[0m\u001b[1;33m.\u001b[0m\u001b[1;33m\u001b[0m\u001b[1;33m\u001b[0m\u001b[0m\n",
      "\u001b[1;31mKeyboardInterrupt\u001b[0m: "
     ]
    }
   ],
   "source": [
    "data_path = \"../../data/dataset/sample\"\n",
    "\n",
    "ap_fixed = pd.read_csv(data_path+'/anagraficapazientiattivi.csv', header=0 ,names=['idcentro','idana','sesso','annodiagnosidiabete','tipodiabete','scolarita','statocivile','professione','origine','annonascita','annoprimoaccesso','annodecesso'])\n",
    "diag_fixed = pd.read_csv(data_path+'/diagnosi.csv', header=0 ,names=['idcentro','idana','data','codiceamd','valore'])\n",
    "elp_fixed = pd.read_csv(data_path+'/esamilaboratorioparametri.csv', header=0 ,names=['idcentro','idana','data','codiceamd','valore'])\n",
    "ei_fixed = pd.read_csv(data_path+'/esamistrumentali.csv', header=0 ,names=['idcentro','idana','data','codiceamd','valore'])\n",
    "pdf_fixed = pd.read_csv(data_path+'/prescrizionidiabetefarmaci.csv', header=0 ,names=['idcentro','idana','data','codiceatc','quantita','idpasto','descrizionefarmaco'])\n",
    "pdnf_fixed = pd.read_csv(data_path+'/prescrizionidiabetenonfarmaci.csv', header=0 ,names=['idcentro','idana','data','codiceamd','valore'])\n",
    "pnd_fixed = pd.read_csv(data_path+'/prescrizioninondiabete.csv', header=0 ,names=['idcentro','idana','data','codiceamd','valore'])"
   ]
  },
  {
   "cell_type": "code",
   "execution_count": null,
   "metadata": {},
   "outputs": [],
   "source": [
    "ap   = ap_fixed.copy(deep=True)\n",
    "diag = diag_fixed.copy(deep=True)\n",
    "elp  = elp_fixed.copy(deep=True)\n",
    "ei   = ei_fixed.copy(deep=True)\n",
    "pdf  = pdf_fixed.copy(deep=True)\n",
    "pdnf = pdnf_fixed.copy(deep=True)\n",
    "pnd  = pnd_fixed.copy(deep=True)"
   ]
  },
  {
   "cell_type": "code",
   "execution_count": null,
   "metadata": {},
   "outputs": [
    {
     "name": "stdout",
     "output_type": "stream",
     "text": [
      "(250000, 12)\n"
     ]
    },
    {
     "data": {
      "text/html": [
       "<div>\n",
       "<style scoped>\n",
       "    .dataframe tbody tr th:only-of-type {\n",
       "        vertical-align: middle;\n",
       "    }\n",
       "\n",
       "    .dataframe tbody tr th {\n",
       "        vertical-align: top;\n",
       "    }\n",
       "\n",
       "    .dataframe thead th {\n",
       "        text-align: right;\n",
       "    }\n",
       "</style>\n",
       "<table border=\"1\" class=\"dataframe\">\n",
       "  <thead>\n",
       "    <tr style=\"text-align: right;\">\n",
       "      <th></th>\n",
       "      <th>idcentro</th>\n",
       "      <th>idana</th>\n",
       "      <th>sesso</th>\n",
       "      <th>annodiagnosidiabete</th>\n",
       "      <th>tipodiabete</th>\n",
       "      <th>scolarita</th>\n",
       "      <th>statocivile</th>\n",
       "      <th>professione</th>\n",
       "      <th>origine</th>\n",
       "      <th>annonascita</th>\n",
       "      <th>annoprimoaccesso</th>\n",
       "      <th>annodecesso</th>\n",
       "    </tr>\n",
       "  </thead>\n",
       "  <tbody>\n",
       "    <tr>\n",
       "      <th>0</th>\n",
       "      <td>234</td>\n",
       "      <td>5697</td>\n",
       "      <td>M</td>\n",
       "      <td>2009.0</td>\n",
       "      <td>5</td>\n",
       "      <td>NaN</td>\n",
       "      <td>NaN</td>\n",
       "      <td>NaN</td>\n",
       "      <td>NaN</td>\n",
       "      <td>1949</td>\n",
       "      <td>2011.0</td>\n",
       "      <td>NaN</td>\n",
       "    </tr>\n",
       "    <tr>\n",
       "      <th>1</th>\n",
       "      <td>66</td>\n",
       "      <td>3539</td>\n",
       "      <td>M</td>\n",
       "      <td>2011.0</td>\n",
       "      <td>5</td>\n",
       "      <td>NaN</td>\n",
       "      <td>NaN</td>\n",
       "      <td>NaN</td>\n",
       "      <td>NaN</td>\n",
       "      <td>1933</td>\n",
       "      <td>2012.0</td>\n",
       "      <td>2015.0</td>\n",
       "    </tr>\n",
       "    <tr>\n",
       "      <th>2</th>\n",
       "      <td>100</td>\n",
       "      <td>3080</td>\n",
       "      <td>M</td>\n",
       "      <td>1988.0</td>\n",
       "      <td>5</td>\n",
       "      <td>NaN</td>\n",
       "      <td>NaN</td>\n",
       "      <td>NaN</td>\n",
       "      <td>NaN</td>\n",
       "      <td>1936</td>\n",
       "      <td>1991.0</td>\n",
       "      <td>NaN</td>\n",
       "    </tr>\n",
       "    <tr>\n",
       "      <th>3</th>\n",
       "      <td>112</td>\n",
       "      <td>3261</td>\n",
       "      <td>F</td>\n",
       "      <td>2014.0</td>\n",
       "      <td>5</td>\n",
       "      <td>NaN</td>\n",
       "      <td>NaN</td>\n",
       "      <td>NaN</td>\n",
       "      <td>NaN</td>\n",
       "      <td>1945</td>\n",
       "      <td>2014.0</td>\n",
       "      <td>NaN</td>\n",
       "    </tr>\n",
       "    <tr>\n",
       "      <th>4</th>\n",
       "      <td>160</td>\n",
       "      <td>9460</td>\n",
       "      <td>F</td>\n",
       "      <td>2014.0</td>\n",
       "      <td>5</td>\n",
       "      <td>NaN</td>\n",
       "      <td>NaN</td>\n",
       "      <td>NaN</td>\n",
       "      <td>NaN</td>\n",
       "      <td>1970</td>\n",
       "      <td>2016.0</td>\n",
       "      <td>NaN</td>\n",
       "    </tr>\n",
       "  </tbody>\n",
       "</table>\n",
       "</div>"
      ],
      "text/plain": [
       "   idcentro  idana sesso  annodiagnosidiabete  tipodiabete  scolarita  \\\n",
       "0       234   5697     M               2009.0            5        NaN   \n",
       "1        66   3539     M               2011.0            5        NaN   \n",
       "2       100   3080     M               1988.0            5        NaN   \n",
       "3       112   3261     F               2014.0            5        NaN   \n",
       "4       160   9460     F               2014.0            5        NaN   \n",
       "\n",
       "   statocivile  professione  origine  annonascita  annoprimoaccesso  \\\n",
       "0          NaN          NaN      NaN         1949            2011.0   \n",
       "1          NaN          NaN      NaN         1933            2012.0   \n",
       "2          NaN          NaN      NaN         1936            1991.0   \n",
       "3          NaN          NaN      NaN         1945            2014.0   \n",
       "4          NaN          NaN      NaN         1970            2016.0   \n",
       "\n",
       "   annodecesso  \n",
       "0          NaN  \n",
       "1       2015.0  \n",
       "2          NaN  \n",
       "3          NaN  \n",
       "4          NaN  "
      ]
     },
     "execution_count": 4,
     "metadata": {},
     "output_type": "execute_result"
    }
   ],
   "source": [
    "# Display example observations\n",
    "print(ap.shape)\n",
    "ap.head()"
   ]
  },
  {
   "cell_type": "code",
   "execution_count": null,
   "metadata": {},
   "outputs": [
    {
     "name": "stdout",
     "output_type": "stream",
     "text": [
      "(4978504, 5)\n"
     ]
    },
    {
     "data": {
      "text/html": [
       "<div>\n",
       "<style scoped>\n",
       "    .dataframe tbody tr th:only-of-type {\n",
       "        vertical-align: middle;\n",
       "    }\n",
       "\n",
       "    .dataframe tbody tr th {\n",
       "        vertical-align: top;\n",
       "    }\n",
       "\n",
       "    .dataframe thead th {\n",
       "        text-align: right;\n",
       "    }\n",
       "</style>\n",
       "<table border=\"1\" class=\"dataframe\">\n",
       "  <thead>\n",
       "    <tr style=\"text-align: right;\">\n",
       "      <th></th>\n",
       "      <th>idcentro</th>\n",
       "      <th>idana</th>\n",
       "      <th>data</th>\n",
       "      <th>codiceamd</th>\n",
       "      <th>valore</th>\n",
       "    </tr>\n",
       "  </thead>\n",
       "  <tbody>\n",
       "    <tr>\n",
       "      <th>0</th>\n",
       "      <td>1</td>\n",
       "      <td>5</td>\n",
       "      <td>1980-01-01</td>\n",
       "      <td>AMD247</td>\n",
       "      <td>491.20</td>\n",
       "    </tr>\n",
       "    <tr>\n",
       "      <th>1</th>\n",
       "      <td>1</td>\n",
       "      <td>5</td>\n",
       "      <td>1986-01-01</td>\n",
       "      <td>AMD247</td>\n",
       "      <td>272.0</td>\n",
       "    </tr>\n",
       "    <tr>\n",
       "      <th>2</th>\n",
       "      <td>1</td>\n",
       "      <td>5</td>\n",
       "      <td>1987-01-01</td>\n",
       "      <td>AMD083</td>\n",
       "      <td>NaN</td>\n",
       "    </tr>\n",
       "    <tr>\n",
       "      <th>3</th>\n",
       "      <td>1</td>\n",
       "      <td>5</td>\n",
       "      <td>1987-01-01</td>\n",
       "      <td>AMD247</td>\n",
       "      <td>401</td>\n",
       "    </tr>\n",
       "    <tr>\n",
       "      <th>4</th>\n",
       "      <td>1</td>\n",
       "      <td>5</td>\n",
       "      <td>1997-12-01</td>\n",
       "      <td>AMD247</td>\n",
       "      <td>410</td>\n",
       "    </tr>\n",
       "  </tbody>\n",
       "</table>\n",
       "</div>"
      ],
      "text/plain": [
       "   idcentro  idana        data codiceamd  valore\n",
       "0         1      5  1980-01-01    AMD247  491.20\n",
       "1         1      5  1986-01-01    AMD247   272.0\n",
       "2         1      5  1987-01-01    AMD083     NaN\n",
       "3         1      5  1987-01-01    AMD247     401\n",
       "4         1      5  1997-12-01    AMD247     410"
      ]
     },
     "execution_count": 5,
     "metadata": {},
     "output_type": "execute_result"
    }
   ],
   "source": [
    "print(diag.shape)\n",
    "diag.head()"
   ]
  },
  {
   "cell_type": "code",
   "execution_count": null,
   "metadata": {},
   "outputs": [
    {
     "name": "stdout",
     "output_type": "stream",
     "text": [
      "(29398377, 5)\n"
     ]
    },
    {
     "data": {
      "text/html": [
       "<div>\n",
       "<style scoped>\n",
       "    .dataframe tbody tr th:only-of-type {\n",
       "        vertical-align: middle;\n",
       "    }\n",
       "\n",
       "    .dataframe tbody tr th {\n",
       "        vertical-align: top;\n",
       "    }\n",
       "\n",
       "    .dataframe thead th {\n",
       "        text-align: right;\n",
       "    }\n",
       "</style>\n",
       "<table border=\"1\" class=\"dataframe\">\n",
       "  <thead>\n",
       "    <tr style=\"text-align: right;\">\n",
       "      <th></th>\n",
       "      <th>idcentro</th>\n",
       "      <th>idana</th>\n",
       "      <th>data</th>\n",
       "      <th>codiceamd</th>\n",
       "      <th>valore</th>\n",
       "    </tr>\n",
       "  </thead>\n",
       "  <tbody>\n",
       "    <tr>\n",
       "      <th>0</th>\n",
       "      <td>1</td>\n",
       "      <td>5</td>\n",
       "      <td>2005-01-18</td>\n",
       "      <td>AMD001</td>\n",
       "      <td>169.0</td>\n",
       "    </tr>\n",
       "    <tr>\n",
       "      <th>1</th>\n",
       "      <td>1</td>\n",
       "      <td>5</td>\n",
       "      <td>2005-01-18</td>\n",
       "      <td>AMD002</td>\n",
       "      <td>76.0</td>\n",
       "    </tr>\n",
       "    <tr>\n",
       "      <th>2</th>\n",
       "      <td>1</td>\n",
       "      <td>5</td>\n",
       "      <td>2005-01-18</td>\n",
       "      <td>AMD004</td>\n",
       "      <td>135.0</td>\n",
       "    </tr>\n",
       "    <tr>\n",
       "      <th>3</th>\n",
       "      <td>1</td>\n",
       "      <td>5</td>\n",
       "      <td>2005-01-18</td>\n",
       "      <td>AMD005</td>\n",
       "      <td>80.0</td>\n",
       "    </tr>\n",
       "    <tr>\n",
       "      <th>4</th>\n",
       "      <td>1</td>\n",
       "      <td>5</td>\n",
       "      <td>2005-06-06</td>\n",
       "      <td>AMD007</td>\n",
       "      <td>169.0</td>\n",
       "    </tr>\n",
       "  </tbody>\n",
       "</table>\n",
       "</div>"
      ],
      "text/plain": [
       "   idcentro  idana        data codiceamd  valore\n",
       "0         1      5  2005-01-18    AMD001   169.0\n",
       "1         1      5  2005-01-18    AMD002    76.0\n",
       "2         1      5  2005-01-18    AMD004   135.0\n",
       "3         1      5  2005-01-18    AMD005    80.0\n",
       "4         1      5  2005-06-06    AMD007   169.0"
      ]
     },
     "execution_count": 6,
     "metadata": {},
     "output_type": "execute_result"
    }
   ],
   "source": [
    "print(elp.shape)\n",
    "elp.head()"
   ]
  },
  {
   "cell_type": "code",
   "execution_count": null,
   "metadata": {},
   "outputs": [
    {
     "name": "stdout",
     "output_type": "stream",
     "text": [
      "(1062856, 5)\n"
     ]
    },
    {
     "data": {
      "text/html": [
       "<div>\n",
       "<style scoped>\n",
       "    .dataframe tbody tr th:only-of-type {\n",
       "        vertical-align: middle;\n",
       "    }\n",
       "\n",
       "    .dataframe tbody tr th {\n",
       "        vertical-align: top;\n",
       "    }\n",
       "\n",
       "    .dataframe thead th {\n",
       "        text-align: right;\n",
       "    }\n",
       "</style>\n",
       "<table border=\"1\" class=\"dataframe\">\n",
       "  <thead>\n",
       "    <tr style=\"text-align: right;\">\n",
       "      <th></th>\n",
       "      <th>idcentro</th>\n",
       "      <th>idana</th>\n",
       "      <th>data</th>\n",
       "      <th>codiceamd</th>\n",
       "      <th>valore</th>\n",
       "    </tr>\n",
       "  </thead>\n",
       "  <tbody>\n",
       "    <tr>\n",
       "      <th>0</th>\n",
       "      <td>1</td>\n",
       "      <td>5</td>\n",
       "      <td>2006-01-04</td>\n",
       "      <td>AMD051</td>\n",
       "      <td>N</td>\n",
       "    </tr>\n",
       "    <tr>\n",
       "      <th>1</th>\n",
       "      <td>1</td>\n",
       "      <td>5</td>\n",
       "      <td>2006-11-14</td>\n",
       "      <td>AMD041</td>\n",
       "      <td>P</td>\n",
       "    </tr>\n",
       "    <tr>\n",
       "      <th>2</th>\n",
       "      <td>1</td>\n",
       "      <td>5</td>\n",
       "      <td>2006-11-20</td>\n",
       "      <td>AMD040</td>\n",
       "      <td>P</td>\n",
       "    </tr>\n",
       "    <tr>\n",
       "      <th>3</th>\n",
       "      <td>1</td>\n",
       "      <td>5</td>\n",
       "      <td>2007-06-01</td>\n",
       "      <td>AMD040</td>\n",
       "      <td>N</td>\n",
       "    </tr>\n",
       "    <tr>\n",
       "      <th>4</th>\n",
       "      <td>1</td>\n",
       "      <td>5</td>\n",
       "      <td>2008-01-16</td>\n",
       "      <td>AMD040</td>\n",
       "      <td>N</td>\n",
       "    </tr>\n",
       "  </tbody>\n",
       "</table>\n",
       "</div>"
      ],
      "text/plain": [
       "   idcentro  idana        data codiceamd valore\n",
       "0         1      5  2006-01-04    AMD051      N\n",
       "1         1      5  2006-11-14    AMD041      P\n",
       "2         1      5  2006-11-20    AMD040      P\n",
       "3         1      5  2007-06-01    AMD040      N\n",
       "4         1      5  2008-01-16    AMD040      N"
      ]
     },
     "execution_count": 7,
     "metadata": {},
     "output_type": "execute_result"
    }
   ],
   "source": [
    "print(ei.shape)\n",
    "ei.head()"
   ]
  },
  {
   "cell_type": "code",
   "execution_count": null,
   "metadata": {},
   "outputs": [
    {
     "name": "stdout",
     "output_type": "stream",
     "text": [
      "(7289926, 7)\n"
     ]
    },
    {
     "data": {
      "text/html": [
       "<div>\n",
       "<style scoped>\n",
       "    .dataframe tbody tr th:only-of-type {\n",
       "        vertical-align: middle;\n",
       "    }\n",
       "\n",
       "    .dataframe tbody tr th {\n",
       "        vertical-align: top;\n",
       "    }\n",
       "\n",
       "    .dataframe thead th {\n",
       "        text-align: right;\n",
       "    }\n",
       "</style>\n",
       "<table border=\"1\" class=\"dataframe\">\n",
       "  <thead>\n",
       "    <tr style=\"text-align: right;\">\n",
       "      <th></th>\n",
       "      <th>idcentro</th>\n",
       "      <th>idana</th>\n",
       "      <th>data</th>\n",
       "      <th>codiceatc</th>\n",
       "      <th>quantita</th>\n",
       "      <th>idpasto</th>\n",
       "      <th>descrizionefarmaco</th>\n",
       "    </tr>\n",
       "  </thead>\n",
       "  <tbody>\n",
       "    <tr>\n",
       "      <th>0</th>\n",
       "      <td>82</td>\n",
       "      <td>782</td>\n",
       "      <td>2008-04-02</td>\n",
       "      <td>A10BA02</td>\n",
       "      <td>1.0</td>\n",
       "      <td>1</td>\n",
       "      <td>GLUCOPHAGE*60CPR RIV 1000MG</td>\n",
       "    </tr>\n",
       "    <tr>\n",
       "      <th>1</th>\n",
       "      <td>82</td>\n",
       "      <td>782</td>\n",
       "      <td>2008-04-02</td>\n",
       "      <td>A10BA02</td>\n",
       "      <td>1.0</td>\n",
       "      <td>3</td>\n",
       "      <td>GLUCOPHAGE*60CPR RIV 1000MG</td>\n",
       "    </tr>\n",
       "    <tr>\n",
       "      <th>2</th>\n",
       "      <td>82</td>\n",
       "      <td>782</td>\n",
       "      <td>2008-04-02</td>\n",
       "      <td>A10BA02</td>\n",
       "      <td>1.0</td>\n",
       "      <td>5</td>\n",
       "      <td>GLUCOPHAGE*60CPR RIV 1000MG</td>\n",
       "    </tr>\n",
       "    <tr>\n",
       "      <th>3</th>\n",
       "      <td>82</td>\n",
       "      <td>782</td>\n",
       "      <td>2008-04-02</td>\n",
       "      <td>A10BB09</td>\n",
       "      <td>3.0</td>\n",
       "      <td>1</td>\n",
       "      <td>DIAMICRON*60CPR R.M. 30MG</td>\n",
       "    </tr>\n",
       "    <tr>\n",
       "      <th>4</th>\n",
       "      <td>82</td>\n",
       "      <td>782</td>\n",
       "      <td>2008-05-02</td>\n",
       "      <td>A10BA02</td>\n",
       "      <td>1.0</td>\n",
       "      <td>1</td>\n",
       "      <td>GLUCOPHAGE*60CPR RIV 1000MG</td>\n",
       "    </tr>\n",
       "  </tbody>\n",
       "</table>\n",
       "</div>"
      ],
      "text/plain": [
       "   idcentro  idana        data codiceatc  quantita  idpasto  \\\n",
       "0        82    782  2008-04-02   A10BA02       1.0        1   \n",
       "1        82    782  2008-04-02   A10BA02       1.0        3   \n",
       "2        82    782  2008-04-02   A10BA02       1.0        5   \n",
       "3        82    782  2008-04-02   A10BB09       3.0        1   \n",
       "4        82    782  2008-05-02   A10BA02       1.0        1   \n",
       "\n",
       "            descrizionefarmaco  \n",
       "0  GLUCOPHAGE*60CPR RIV 1000MG  \n",
       "1  GLUCOPHAGE*60CPR RIV 1000MG  \n",
       "2  GLUCOPHAGE*60CPR RIV 1000MG  \n",
       "3    DIAMICRON*60CPR R.M. 30MG  \n",
       "4  GLUCOPHAGE*60CPR RIV 1000MG  "
      ]
     },
     "execution_count": 8,
     "metadata": {},
     "output_type": "execute_result"
    }
   ],
   "source": [
    "print(pdf.shape)\n",
    "pdf.head()"
   ]
  },
  {
   "cell_type": "code",
   "execution_count": null,
   "metadata": {},
   "outputs": [
    {
     "name": "stdout",
     "output_type": "stream",
     "text": [
      "(569353, 5)\n"
     ]
    },
    {
     "data": {
      "text/html": [
       "<div>\n",
       "<style scoped>\n",
       "    .dataframe tbody tr th:only-of-type {\n",
       "        vertical-align: middle;\n",
       "    }\n",
       "\n",
       "    .dataframe tbody tr th {\n",
       "        vertical-align: top;\n",
       "    }\n",
       "\n",
       "    .dataframe thead th {\n",
       "        text-align: right;\n",
       "    }\n",
       "</style>\n",
       "<table border=\"1\" class=\"dataframe\">\n",
       "  <thead>\n",
       "    <tr style=\"text-align: right;\">\n",
       "      <th></th>\n",
       "      <th>idcentro</th>\n",
       "      <th>idana</th>\n",
       "      <th>data</th>\n",
       "      <th>codiceamd</th>\n",
       "      <th>valore</th>\n",
       "    </tr>\n",
       "  </thead>\n",
       "  <tbody>\n",
       "    <tr>\n",
       "      <th>0</th>\n",
       "      <td>1</td>\n",
       "      <td>5</td>\n",
       "      <td>2008-06-20</td>\n",
       "      <td>AMD152</td>\n",
       "      <td>NaN</td>\n",
       "    </tr>\n",
       "    <tr>\n",
       "      <th>1</th>\n",
       "      <td>1</td>\n",
       "      <td>5</td>\n",
       "      <td>2013-08-27</td>\n",
       "      <td>AMD152</td>\n",
       "      <td>NaN</td>\n",
       "    </tr>\n",
       "    <tr>\n",
       "      <th>2</th>\n",
       "      <td>1</td>\n",
       "      <td>5</td>\n",
       "      <td>2013-12-31</td>\n",
       "      <td>AMD086</td>\n",
       "      <td>S</td>\n",
       "    </tr>\n",
       "    <tr>\n",
       "      <th>3</th>\n",
       "      <td>1</td>\n",
       "      <td>5</td>\n",
       "      <td>2013-12-31</td>\n",
       "      <td>AMD228</td>\n",
       "      <td>S</td>\n",
       "    </tr>\n",
       "    <tr>\n",
       "      <th>4</th>\n",
       "      <td>1</td>\n",
       "      <td>34</td>\n",
       "      <td>2005-01-07</td>\n",
       "      <td>AMD090</td>\n",
       "      <td>S</td>\n",
       "    </tr>\n",
       "  </tbody>\n",
       "</table>\n",
       "</div>"
      ],
      "text/plain": [
       "   idcentro  idana        data codiceamd valore\n",
       "0         1      5  2008-06-20    AMD152    NaN\n",
       "1         1      5  2013-08-27    AMD152    NaN\n",
       "2         1      5  2013-12-31    AMD086      S\n",
       "3         1      5  2013-12-31    AMD228      S\n",
       "4         1     34  2005-01-07    AMD090      S"
      ]
     },
     "execution_count": 9,
     "metadata": {},
     "output_type": "execute_result"
    }
   ],
   "source": [
    "print(pdnf.shape)\n",
    "pdnf.head()"
   ]
  },
  {
   "cell_type": "code",
   "execution_count": null,
   "metadata": {},
   "outputs": [
    {
     "name": "stdout",
     "output_type": "stream",
     "text": [
      "(5573033, 5)\n"
     ]
    },
    {
     "data": {
      "text/html": [
       "<div>\n",
       "<style scoped>\n",
       "    .dataframe tbody tr th:only-of-type {\n",
       "        vertical-align: middle;\n",
       "    }\n",
       "\n",
       "    .dataframe tbody tr th {\n",
       "        vertical-align: top;\n",
       "    }\n",
       "\n",
       "    .dataframe thead th {\n",
       "        text-align: right;\n",
       "    }\n",
       "</style>\n",
       "<table border=\"1\" class=\"dataframe\">\n",
       "  <thead>\n",
       "    <tr style=\"text-align: right;\">\n",
       "      <th></th>\n",
       "      <th>idcentro</th>\n",
       "      <th>idana</th>\n",
       "      <th>data</th>\n",
       "      <th>codiceamd</th>\n",
       "      <th>valore</th>\n",
       "    </tr>\n",
       "  </thead>\n",
       "  <tbody>\n",
       "    <tr>\n",
       "      <th>0</th>\n",
       "      <td>1</td>\n",
       "      <td>5</td>\n",
       "      <td>2005-01-18</td>\n",
       "      <td>AMD121</td>\n",
       "      <td>C09AA05</td>\n",
       "    </tr>\n",
       "    <tr>\n",
       "      <th>1</th>\n",
       "      <td>1</td>\n",
       "      <td>5</td>\n",
       "      <td>2005-01-18</td>\n",
       "      <td>AMD124</td>\n",
       "      <td>C10AA05</td>\n",
       "    </tr>\n",
       "    <tr>\n",
       "      <th>2</th>\n",
       "      <td>1</td>\n",
       "      <td>5</td>\n",
       "      <td>2005-01-18</td>\n",
       "      <td>AMD124</td>\n",
       "      <td>C10AX06</td>\n",
       "    </tr>\n",
       "    <tr>\n",
       "      <th>3</th>\n",
       "      <td>1</td>\n",
       "      <td>5</td>\n",
       "      <td>2005-06-21</td>\n",
       "      <td>AMD121</td>\n",
       "      <td>C09AA05</td>\n",
       "    </tr>\n",
       "    <tr>\n",
       "      <th>4</th>\n",
       "      <td>1</td>\n",
       "      <td>5</td>\n",
       "      <td>2005-06-21</td>\n",
       "      <td>AMD124</td>\n",
       "      <td>C10AA05</td>\n",
       "    </tr>\n",
       "  </tbody>\n",
       "</table>\n",
       "</div>"
      ],
      "text/plain": [
       "   idcentro  idana        data codiceamd   valore\n",
       "0         1      5  2005-01-18    AMD121  C09AA05\n",
       "1         1      5  2005-01-18    AMD124  C10AA05\n",
       "2         1      5  2005-01-18    AMD124  C10AX06\n",
       "3         1      5  2005-06-21    AMD121  C09AA05\n",
       "4         1      5  2005-06-21    AMD124  C10AA05"
      ]
     },
     "execution_count": 10,
     "metadata": {},
     "output_type": "execute_result"
    }
   ],
   "source": [
    "print(pnd.shape)\n",
    "pnd.head()"
   ]
  },
  {
   "attachments": {},
   "cell_type": "markdown",
   "metadata": {},
   "source": [
    "## Exercise 1"
   ]
  },
  {
   "attachments": {},
   "cell_type": "markdown",
   "metadata": {},
   "source": [
    "**Select Events of Interest -**\n",
    "We want only patients with at leats one cardiovascular event in their trajectories. These events have the folloging codes:\n",
    "- **AMD047**: Myocardial infarction\n",
    "- **AMD048**: Coronary angioplasty\n",
    "- **AMD049**: Coronary bypass\n",
    "- **AMD071**: Ictus\n",
    "- **AMD081**: Lower limb angioplasty\n",
    "- **AMD082**: Peripheral By-pass Lower Limbs\n",
    "- **AMD208**: Revascularization of intracranial and neck vessels\n",
    "- **AMD303**: Ischemic stroke\n",
    "\n",
    "Now let's try to filter all the tables containing the parameter **codiceamd** so as to select just the rows describing one cardio-vascular event.\n"
   ]
  },
  {
   "cell_type": "code",
   "execution_count": null,
   "metadata": {},
   "outputs": [
    {
     "name": "stdout",
     "output_type": "stream",
     "text": [
      "BEFORE pre-processing:  (4978504, 5)\n",
      "AFTER  pre-processing:  (328478, 5)\n"
     ]
    },
    {
     "data": {
      "text/html": [
       "<div>\n",
       "<style scoped>\n",
       "    .dataframe tbody tr th:only-of-type {\n",
       "        vertical-align: middle;\n",
       "    }\n",
       "\n",
       "    .dataframe tbody tr th {\n",
       "        vertical-align: top;\n",
       "    }\n",
       "\n",
       "    .dataframe thead th {\n",
       "        text-align: right;\n",
       "    }\n",
       "</style>\n",
       "<table border=\"1\" class=\"dataframe\">\n",
       "  <thead>\n",
       "    <tr style=\"text-align: right;\">\n",
       "      <th></th>\n",
       "      <th>idcentro</th>\n",
       "      <th>idana</th>\n",
       "      <th>data</th>\n",
       "      <th>codiceamd</th>\n",
       "      <th>valore</th>\n",
       "    </tr>\n",
       "  </thead>\n",
       "  <tbody>\n",
       "    <tr>\n",
       "      <th>7</th>\n",
       "      <td>1</td>\n",
       "      <td>5</td>\n",
       "      <td>2000-12-02</td>\n",
       "      <td>AMD049</td>\n",
       "      <td>S</td>\n",
       "    </tr>\n",
       "    <tr>\n",
       "      <th>9</th>\n",
       "      <td>1</td>\n",
       "      <td>5</td>\n",
       "      <td>2001-03-22</td>\n",
       "      <td>AMD049</td>\n",
       "      <td>S</td>\n",
       "    </tr>\n",
       "    <tr>\n",
       "      <th>13</th>\n",
       "      <td>1</td>\n",
       "      <td>5</td>\n",
       "      <td>2002-02-11</td>\n",
       "      <td>AMD049</td>\n",
       "      <td>S</td>\n",
       "    </tr>\n",
       "    <tr>\n",
       "      <th>15</th>\n",
       "      <td>1</td>\n",
       "      <td>5</td>\n",
       "      <td>2002-02-14</td>\n",
       "      <td>AMD049</td>\n",
       "      <td>S</td>\n",
       "    </tr>\n",
       "    <tr>\n",
       "      <th>17</th>\n",
       "      <td>1</td>\n",
       "      <td>5</td>\n",
       "      <td>2003-01-17</td>\n",
       "      <td>AMD049</td>\n",
       "      <td>S</td>\n",
       "    </tr>\n",
       "  </tbody>\n",
       "</table>\n",
       "</div>"
      ],
      "text/plain": [
       "    idcentro  idana        data codiceamd valore\n",
       "7          1      5  2000-12-02    AMD049      S\n",
       "9          1      5  2001-03-22    AMD049      S\n",
       "13         1      5  2002-02-11    AMD049      S\n",
       "15         1      5  2002-02-14    AMD049      S\n",
       "17         1      5  2003-01-17    AMD049      S"
      ]
     },
     "execution_count": 11,
     "metadata": {},
     "output_type": "execute_result"
    }
   ],
   "source": [
    "codes = ['AMD047', 'AMD048', 'AMD049', 'AMD071', 'AMD081', 'AMD082', 'AMD208', 'AMD303']\n",
    "\n",
    "def selectEvents(df:pd.DataFrame, events_codes:list) -> pd.DataFrame:\n",
    "    return df[df.codiceamd.isin(events_codes)]\n",
    "\n",
    "## pnd_cardEvents = selectEvents(pnd,codes)\n",
    "\n",
    "## pdnf_cardEvents = selectEvents(pdnf,codes)\n",
    "\n",
    "## ei_cardEvents = selectEvents(ei,codes)\n",
    "\n",
    "## elp_cardEvents = selectEvents(elp,codes)\n",
    "\n",
    "diag_cardEvents = selectEvents(diag,codes)\n",
    "print(\"BEFORE pre-processing: \", diag.shape)\n",
    "print(\"AFTER  pre-processing: \", diag_cardEvents.shape)\n",
    "diag_cardEvents.head()\n"
   ]
  },
  {
   "attachments": {},
   "cell_type": "markdown",
   "metadata": {},
   "source": [
    "We realise that the only table with these cardio-vascular events is **diagnosi**, so we create a new DataFrame with all the rows that has one of these events, and we call it: **diag_cardEvents**. And from this table, we extract the id's of the patients that have suffered at least one cardio-vascular event during his life:"
   ]
  },
  {
   "cell_type": "code",
   "execution_count": null,
   "metadata": {},
   "outputs": [
    {
     "name": "stdout",
     "output_type": "stream",
     "text": [
      "Number of patients with at least one cardio-vascular event:  70193 / 250000 patients.\n"
     ]
    }
   ],
   "source": [
    "patientsOfInterest = diag_cardEvents.filter(['idcentro','idana']).drop_duplicates()\n",
    "print(\"Number of patients with at least one cardio-vascular event: \", patientsOfInterest.shape[0], \"/\", ap.shape[0] , \"patients.\")"
   ]
  },
  {
   "attachments": {},
   "cell_type": "markdown",
   "metadata": {},
   "source": [
    "Finally, we have to delete from the rest of the tables all the information which is not associated to the remaining patients:"
   ]
  },
  {
   "cell_type": "code",
   "execution_count": null,
   "metadata": {},
   "outputs": [],
   "source": [
    "ap   = pd.merge(ap, patientsOfInterest,   on=['idcentro','idana'], how='right')[ap_fixed.columns]\n",
    "diag = pd.merge(diag, patientsOfInterest, on=['idcentro','idana'], how='right')[diag_fixed.columns]\n",
    "elp  = pd.merge(elp, patientsOfInterest,  on=['idcentro','idana'], how='right')[elp_fixed.columns]\n",
    "ei   = pd.merge(ei, patientsOfInterest,   on=['idcentro','idana'], how='right')[ei_fixed.columns]\n",
    "pdf  = pd.merge(pdf, patientsOfInterest,  on=['idcentro','idana'], how='right')[pdf_fixed.columns]\n",
    "pdnf = pd.merge(pdnf, patientsOfInterest, on=['idcentro','idana'], how='right')[pdnf_fixed.columns]\n",
    "pnd  = pd.merge(pnd, patientsOfInterest,  on=['idcentro','idana'], how='right')[pnd_fixed.columns]"
   ]
  },
  {
   "attachments": {},
   "cell_type": "markdown",
   "metadata": {},
   "source": [
    "## Exercise 2 FALTA COMENTAR"
   ]
  },
  {
   "attachments": {},
   "cell_type": "markdown",
   "metadata": {},
   "source": [
    "Borrar pacientes que:\n",
    "  - fecha nacimiento > fecha primo accessso || fecha nacimiento > fecha muerte || fecha nacimiento > fecha diagnostico\n",
    "  - fecha primo accesso > fecha muerte || fecha primo accesso > fecha diagnostico\n",
    "  - fecha diagnostico > fecha muerte\n",
    "\n",
    "Resto tablas, borrar pacientes que:\n",
    "  - fecha < fecha nacimiento || fecha < fecha primo accesso || fecha > fecha muerte\n",
    "\n",
    "En tablas de medicamentos:\n",
    "  - fecha entre fecha diagnostico y fecha muerte"
   ]
  },
  {
   "attachments": {},
   "cell_type": "markdown",
   "metadata": {},
   "source": [
    "First we want to select from our tables the patients with dates that are valid (with the birth year smaller than the death year, the birth year smaller than the year of first access and so on)"
   ]
  },
  {
   "cell_type": "code",
   "execution_count": null,
   "metadata": {},
   "outputs": [
    {
     "data": {
      "text/plain": [
       "(70193, 12)"
      ]
     },
     "execution_count": 14,
     "metadata": {},
     "output_type": "execute_result"
    }
   ],
   "source": [
    "ap.shape"
   ]
  },
  {
   "cell_type": "code",
   "execution_count": null,
   "metadata": {},
   "outputs": [
    {
     "name": "stdout",
     "output_type": "stream",
     "text": [
      "(6745, 12)\n",
      "(6745, 12)\n",
      "(6745, 12)\n"
     ]
    }
   ],
   "source": [
    "ap = ap[(ap['annonascita'].notna()) & (ap['annoprimoaccesso'].notna()) & (ap['annodiagnosidiabete'].notna()) & (ap['annonascita']<=ap['annodecesso']) & (ap['annoprimoaccesso']<=ap['annodecesso']) & (ap['annodiagnosidiabete']<=ap['annodecesso'])]\n",
    "print(ap.shape)\n",
    "\n",
    "ap = pd.concat([ap, ap[ap['annodecesso'].isna()]])\n",
    "print(ap.shape)\n",
    "\n",
    "ap = ap[(ap['annonascita']<=ap['annodiagnosidiabete']) & (ap['annonascita']<=ap['annoprimoaccesso'])]\n",
    "print(ap.shape)"
   ]
  },
  {
   "cell_type": "code",
   "execution_count": null,
   "metadata": {},
   "outputs": [
    {
     "name": "stdout",
     "output_type": "stream",
     "text": [
      "(6745, 2)\n",
      "(6745, 2)\n"
     ]
    }
   ],
   "source": [
    "ap_test = ap.filter(items=['idcentro', 'idana'])\n",
    "print(ap_test.shape)\n",
    "ap_test.drop_duplicates()\n",
    "print(ap_test.shape)"
   ]
  },
  {
   "cell_type": "code",
   "execution_count": null,
   "metadata": {},
   "outputs": [],
   "source": [
    "def exercise2(df:pd.DataFrame, test:pd.DataFrame) -> pd.DataFrame:\n",
    "    # First we eliminate the patients that are no longer in the first table and the dates that do not exist\n",
    "    df = df.merge(test, on=['idcentro', 'idana'])\n",
    "    df = df[df['data'].notna()]\n",
    "\n",
    "    # We assure that the dates are valid and that the year is first\n",
    "    df['data'] = pd.to_datetime(df['data'], yearfirst=True)\n",
    "\n",
    "    # Now we create a new table with the dates from the first and the second table\n",
    "    ap_filter = ap.filter(items=['idcentro', 'idana', 'annonascita', 'annoprimoaccesso', 'annodecesso'])\n",
    "    df = df.merge(ap_filter, on=['idcentro', 'idana'])\n",
    "\n",
    "    # Now we take the rows of this table that have valid dates\n",
    "    df = df[df['data'].dt.strftime(\"%Y\").astype(float) <= df['annodecesso']]\n",
    "    df = pd.concat([df, ap_filter[ap_filter['annodecesso'].isna()]])\n",
    "    df = df[(df['data'].dt.strftime(\"%Y\").astype(float) >= df['annoprimoaccesso']) & (df['data'].dt.strftime(\"%Y\").astype(float) >= df['annonascita'])]\n",
    "    if 'annodiagnosidiabete' in df.columns:\n",
    "        df = df[(df['data'].dt.strftime(\"%Y\").astype(float) >= df['annodiagnosidiabete'])]\n",
    "\n",
    "    # Now we take into account only the new diagnosis but we need to delete the extra columns\n",
    "    return df.filter(items=df.columns)"
   ]
  },
  {
   "cell_type": "code",
   "execution_count": null,
   "metadata": {},
   "outputs": [
    {
     "name": "stdout",
     "output_type": "stream",
     "text": [
      "Diag: 2732801 => 276585\n"
     ]
    }
   ],
   "source": [
    "aux = diag.shape[0]\n",
    "diag = exercise2(diag,ap_test)\n",
    "print(f\"Diag: {aux} => {diag.shape[0]}\")"
   ]
  },
  {
   "cell_type": "code",
   "execution_count": null,
   "metadata": {},
   "outputs": [
    {
     "name": "stdout",
     "output_type": "stream",
     "text": [
      "Elp: 10373351 => 957438\n"
     ]
    }
   ],
   "source": [
    "aux = elp.shape[0]\n",
    "elp = exercise2(elp,ap_test)\n",
    "print(f\"Elp: {aux} => {elp.shape[0]}\")"
   ]
  },
  {
   "cell_type": "code",
   "execution_count": null,
   "metadata": {},
   "outputs": [
    {
     "name": "stdout",
     "output_type": "stream",
     "text": [
      "Ei: 425604 => 35024\n"
     ]
    }
   ],
   "source": [
    "aux = ei.shape[0]\n",
    "ei = exercise2(ei,ap_test)\n",
    "print(f\"Ei: {aux} => {ei.shape[0]}\")"
   ]
  },
  {
   "cell_type": "code",
   "execution_count": null,
   "metadata": {},
   "outputs": [
    {
     "name": "stdout",
     "output_type": "stream",
     "text": [
      "Pdf: 2797426 => 269148\n"
     ]
    }
   ],
   "source": [
    "aux = pdf.shape[0]\n",
    "pdf = exercise2(pdf,ap_test)\n",
    "print(f\"Pdf: {aux} => {pdf.shape[0]}\")"
   ]
  },
  {
   "cell_type": "code",
   "execution_count": null,
   "metadata": {},
   "outputs": [
    {
     "name": "stdout",
     "output_type": "stream",
     "text": [
      "Pdnf: 242508 => 23834\n"
     ]
    }
   ],
   "source": [
    "aux = pdnf.shape[0]\n",
    "pdnf = exercise2(pdnf,ap_test)\n",
    "print(f\"Pdnf: {aux} => {pdnf.shape[0]}\")"
   ]
  },
  {
   "cell_type": "code",
   "execution_count": null,
   "metadata": {},
   "outputs": [
    {
     "name": "stdout",
     "output_type": "stream",
     "text": [
      "Pnd: 2801883 => 271339\n"
     ]
    }
   ],
   "source": [
    "aux = pnd.shape[0]\n",
    "pnd = exercise2(pnd,ap_test)\n",
    "print(f\"Pnd: {aux} => {pnd.shape[0]}\")"
   ]
  },
  {
   "attachments": {},
   "cell_type": "markdown",
   "metadata": {},
   "source": [
    "## Exercise 3 FALTA COMENTAR y CONVERTIR EN FUNCIONES"
   ]
  },
  {
   "cell_type": "code",
   "execution_count": null,
   "metadata": {},
   "outputs": [],
   "source": [
    "pnd['data']  = pd.to_datetime(pnd['data'],  format=\"%Y-%m-%d\")\n",
    "diag['data'] = pd.to_datetime(diag['data'], format=\"%Y-%m-%d\")\n",
    "elp['data']  = pd.to_datetime(elp['data'],  format=\"%Y-%m-%d\")\n",
    "pdf['data']  = pd.to_datetime(pdf['data'],  format=\"%Y-%m-%d\")\n",
    "pdnf['data'] = pd.to_datetime(pdnf['data'], format=\"%Y-%m-%d\")\n",
    "ei['data']   = pd.to_datetime(ei['data'],   format=\"%Y-%m-%d\")"
   ]
  },
  {
   "cell_type": "code",
   "execution_count": null,
   "metadata": {},
   "outputs": [
    {
     "data": {
      "text/html": [
       "<div>\n",
       "<style scoped>\n",
       "    .dataframe tbody tr th:only-of-type {\n",
       "        vertical-align: middle;\n",
       "    }\n",
       "\n",
       "    .dataframe tbody tr th {\n",
       "        vertical-align: top;\n",
       "    }\n",
       "\n",
       "    .dataframe thead tr th {\n",
       "        text-align: left;\n",
       "    }\n",
       "\n",
       "    .dataframe thead tr:last-of-type th {\n",
       "        text-align: right;\n",
       "    }\n",
       "</style>\n",
       "<table border=\"1\" class=\"dataframe\">\n",
       "  <thead>\n",
       "    <tr>\n",
       "      <th></th>\n",
       "      <th>data</th>\n",
       "    </tr>\n",
       "    <tr>\n",
       "      <th></th>\n",
       "      <th>max</th>\n",
       "    </tr>\n",
       "    <tr>\n",
       "      <th>idana</th>\n",
       "      <th></th>\n",
       "    </tr>\n",
       "  </thead>\n",
       "  <tbody>\n",
       "    <tr>\n",
       "      <th>1</th>\n",
       "      <td>2006-04-21</td>\n",
       "    </tr>\n",
       "    <tr>\n",
       "      <th>2</th>\n",
       "      <td>2018-05-21</td>\n",
       "    </tr>\n",
       "    <tr>\n",
       "      <th>4</th>\n",
       "      <td>2018-10-29</td>\n",
       "    </tr>\n",
       "    <tr>\n",
       "      <th>5</th>\n",
       "      <td>2016-12-01</td>\n",
       "    </tr>\n",
       "    <tr>\n",
       "      <th>6</th>\n",
       "      <td>2018-06-04</td>\n",
       "    </tr>\n",
       "  </tbody>\n",
       "</table>\n",
       "</div>"
      ],
      "text/plain": [
       "            data\n",
       "             max\n",
       "idana           \n",
       "1     2006-04-21\n",
       "2     2018-05-21\n",
       "4     2018-10-29\n",
       "5     2016-12-01\n",
       "6     2018-06-04"
      ]
     },
     "execution_count": 26,
     "metadata": {},
     "output_type": "execute_result"
    }
   ],
   "source": [
    "pndMax  = pnd.groupby(\"idana\").agg({'data' : ['max']})\n",
    "diagMax = diag.groupby(\"idana\").agg({'data' : ['max']})\n",
    "elpMax  = elp.groupby(\"idana\").agg({'data' : ['max']})\n",
    "pdfMax  = pdf.groupby(\"idana\").agg({'data' : ['max']})\n",
    "pdnfMax = pdnf.groupby(\"idana\").agg({'data' : ['max']})\n",
    "eiMax   = ei.groupby(\"idana\").agg({'data' : ['max']})\n",
    "\n",
    "\n",
    "pndMin  = pnd.groupby(\"idana\").agg({'data' : ['min']})\n",
    "diagMin = diag.groupby(\"idana\").agg({'data' : ['min']})\n",
    "elpMin  = elp.groupby(\"idana\").agg({'data' : ['min']})\n",
    "pdfMin  = pdf.groupby(\"idana\").agg({'data' : ['min']})\n",
    "pdnfMin = pdnf.groupby(\"idana\").agg({'data' : ['min']})\n",
    "eiMin   = ei.groupby(\"idana\").agg({'data' : ['min']})\n",
    "pndMax.head()"
   ]
  },
  {
   "cell_type": "code",
   "execution_count": null,
   "metadata": {},
   "outputs": [
    {
     "data": {
      "text/plain": [
       "idana\n",
       "1   2006-04-21\n",
       "2   2018-05-21\n",
       "4   2018-10-29\n",
       "5   2016-12-01\n",
       "6   2018-06-04\n",
       "Name: data, dtype: datetime64[ns]"
      ]
     },
     "execution_count": 27,
     "metadata": {},
     "output_type": "execute_result"
    }
   ],
   "source": [
    "pndMax  = pnd.groupby(\"idana\")['data'].max()\n",
    "diagMax = diag.groupby(\"idana\")['data'].max()\n",
    "elpMax  = elp.groupby(\"idana\")['data'].max()\n",
    "pdfMax  = pdf.groupby(\"idana\")['data'].max()\n",
    "pdnfMax = pdnf.groupby(\"idana\")['data'].max()\n",
    "eiMax   = ei.groupby(\"idana\")['data'].max()\n",
    "\n",
    "\n",
    "pndMin  = pnd.groupby(\"idana\")['data'].min()\n",
    "diagMin = diag.groupby(\"idana\")['data'].min()\n",
    "elpMin  = elp.groupby(\"idana\")['data'].min()\n",
    "pdfMin  = pdf.groupby(\"idana\")['data'].min()\n",
    "pdnfMin = pdnf.groupby(\"idana\")['data'].min()\n",
    "eiMin   = ei.groupby(\"idana\")['data'].min()\n",
    "pndMax.head()"
   ]
  },
  {
   "cell_type": "code",
   "execution_count": null,
   "metadata": {},
   "outputs": [],
   "source": [
    "maxim = pd.merge(pndMax,diagMax,on='idana')\n",
    "maxim = pd.merge(maxim,elpMax,on='idana')\n",
    "max2  = pd.merge(pdnfMax,pdfMax,on='idana')\n",
    "max2  = pd.merge(eiMax,max2,on='idana')\n",
    "maxim = pd.merge(maxim,max2,on='idana')\n",
    "maxim = maxim.max(axis=1)"
   ]
  },
  {
   "cell_type": "code",
   "execution_count": null,
   "metadata": {},
   "outputs": [
    {
     "data": {
      "text/plain": [
       "idana\n",
       "2   13608 days\n",
       "4   10893 days\n",
       "5   11904 days\n",
       "7    5319 days\n",
       "8    5911 days\n",
       "dtype: timedelta64[ns]"
      ]
     },
     "execution_count": 29,
     "metadata": {},
     "output_type": "execute_result"
    }
   ],
   "source": [
    "minim = pd.merge(pndMin,diagMin,on='idana')\n",
    "minim = pd.merge(minim,elpMin,on='idana')\n",
    "min2  = pd.merge(pdnfMin,pdfMin,on='idana')\n",
    "min2  = pd.merge(eiMin,min2,on='idana')\n",
    "minim = pd.merge(minim,min2,on='idana')\n",
    "minim = minim.min(axis=1)\n",
    "minim.head()\n",
    "\n",
    "dif = maxim-minim\n",
    "dif.head()"
   ]
  },
  {
   "cell_type": "code",
   "execution_count": null,
   "metadata": {},
   "outputs": [
    {
     "name": "stdout",
     "output_type": "stream",
     "text": [
      "[2, 4, 5, 7, 8, 11, 13, 16, 19, 20, 21, 22, 23, 24, 29, 30, 37, 38, 39, 40, 42, 43, 44, 45, 46, 47, 49, 50, 51, 52, 54, 55, 60, 61, 62, 64, 65, 67, 68, 69, 71, 73, 74, 78, 79, 80, 82, 83, 85, 86, 87, 90, 91, 97, 98, 99, 100, 101, 103, 104, 108, 112, 113, 115, 116, 117, 121, 122, 124, 132, 133, 134, 135, 136, 137, 138, 140, 141, 143, 145, 147, 148, 151, 152, 153, 154, 155, 156, 157, 158, 159, 160, 161, 162, 163, 164, 169, 172, 173, 177, 178, 180, 181, 183, 185, 186, 187, 188, 191, 193, 195, 196, 197, 198, 200, 201, 202, 203, 204, 206, 207, 208, 209, 212, 213, 216, 218, 219, 221, 224, 225, 226, 230, 232, 236, 240, 242, 243, 246, 247, 250, 251, 253, 255, 256, 257, 258, 261, 262, 264, 265, 267, 271, 272, 275, 276, 278, 280, 282, 283, 284, 287, 289, 291, 292, 294, 295, 296, 298, 301, 303, 305, 306, 308, 310, 314, 315, 316, 318, 322, 323, 324, 325, 326, 329, 330, 331, 332, 334, 337, 342, 345, 346, 350, 353, 355, 362, 365, 366, 367, 369, 373, 374, 376, 380, 382, 384, 385, 392, 393, 395, 396, 398, 399, 400, 405, 406, 408, 409, 410, 411, 412, 415, 416, 417, 419, 421, 422, 423, 425, 427, 428, 429, 430, 434, 435, 436, 437, 439, 440, 443, 444, 446, 448, 450, 451, 452, 455, 457, 458, 466, 470, 471, 472, 473, 475, 476, 477, 478, 482, 483, 484, 485, 487, 489, 491, 492, 497, 501, 503, 505, 506, 507, 508, 510, 512, 513, 515, 517, 520, 521, 522, 523, 524, 525, 527, 528, 532, 533, 534, 538, 540, 541, 542, 543, 544, 545, 546, 547, 548, 549, 550, 553, 555, 557, 559, 561, 562, 563, 564, 566, 567, 569, 570, 571, 572, 575, 578, 580, 581, 583, 584, 586, 587, 588, 589, 590, 594, 595, 596, 598, 603, 605, 606, 611, 612, 613, 614, 615, 616, 618, 619, 620, 621, 622, 623, 624, 633, 634, 636, 639, 641, 642, 644, 645, 648, 649, 653, 657, 658, 660, 663, 664, 669, 672, 676, 677, 678, 679, 680, 681, 683, 684, 686, 687, 688, 690, 691, 693, 694, 696, 702, 703, 704, 705, 707, 708, 709, 712, 713, 714, 716, 719, 721, 727, 730, 731, 734, 735, 736, 737, 738, 739, 742, 744, 745, 746, 748, 749, 753, 754, 760, 761, 765, 766, 767, 771, 773, 774, 775, 777, 779, 780, 781, 782, 784, 785, 788, 789, 790, 796, 797, 799, 800, 802, 803, 804, 805, 807, 808, 809, 810, 811, 815, 818, 819, 826, 830, 831, 837, 840, 844, 846, 847, 848, 849, 851, 853, 856, 858, 860, 862, 866, 867, 868, 871, 872, 874, 875, 877, 878, 880, 881, 886, 887, 893, 894, 897, 898, 899, 903, 906, 907, 909, 910, 911, 912, 913, 916, 918, 921, 922, 923, 924, 925, 926, 927, 928, 929, 930, 931, 933, 935, 941, 943, 946, 947, 948, 950, 951, 953, 955, 956, 958, 959, 960, 963, 965, 971, 972, 973, 976, 980, 983, 991, 997, 998, 999, 1000, 1001, 1004, 1005, 1007, 1012, 1013, 1018, 1019, 1024, 1029, 1032, 1033, 1034, 1036, 1043, 1044, 1047, 1048, 1049, 1050, 1051, 1056, 1058, 1060, 1063, 1064, 1065, 1067, 1068, 1071, 1073, 1083, 1091, 1093, 1096, 1098, 1100, 1101, 1102, 1104, 1106, 1111, 1114, 1115, 1121, 1122, 1126, 1129, 1131, 1132, 1133, 1134, 1135, 1137, 1152, 1153, 1158, 1163, 1164, 1165, 1171, 1175, 1177, 1178, 1180, 1185, 1187, 1188, 1190, 1193, 1195, 1196, 1197, 1198, 1199, 1201, 1202, 1205, 1206, 1207, 1208, 1211, 1213, 1215, 1216, 1217, 1221, 1223, 1228, 1229, 1230, 1235, 1237, 1240, 1243, 1250, 1258, 1259, 1261, 1262, 1263, 1265, 1266, 1267, 1269, 1271, 1272, 1274, 1275, 1276, 1284, 1285, 1286, 1289, 1291, 1299, 1305, 1307, 1309, 1310, 1313, 1314, 1315, 1319, 1321, 1322, 1324, 1325, 1331, 1334, 1343, 1344, 1348, 1349, 1350, 1351, 1354, 1355, 1356, 1363, 1369, 1371, 1372, 1375, 1376, 1380, 1381, 1384, 1386, 1388, 1389, 1391, 1394, 1397, 1398, 1399, 1402, 1408, 1412, 1415, 1416, 1419, 1421, 1428, 1429, 1434, 1438, 1443, 1447, 1449, 1450, 1451, 1453, 1455, 1456, 1458, 1459, 1461, 1463, 1464, 1468, 1470, 1474, 1476, 1477, 1479, 1485, 1488, 1490, 1491, 1493, 1494, 1498, 1499, 1501, 1503, 1505, 1507, 1509, 1513, 1514, 1518, 1523, 1525, 1530, 1531, 1536, 1537, 1541, 1545, 1546, 1550, 1553, 1556, 1557, 1558, 1559, 1561, 1564, 1567, 1568, 1574, 1575, 1576, 1578, 1579, 1580, 1583, 1585, 1587, 1589, 1590, 1594, 1597, 1605, 1606, 1611, 1612, 1613, 1617, 1623, 1625, 1628, 1629, 1631, 1632, 1634, 1635, 1638, 1639, 1641, 1642, 1644, 1646, 1649, 1650, 1652, 1655, 1658, 1659, 1660, 1662, 1664, 1671, 1672, 1673, 1674, 1677, 1680, 1682, 1685, 1686, 1687, 1693, 1694, 1698, 1699, 1700, 1707, 1708, 1710, 1713, 1717, 1719, 1723, 1725, 1727, 1735, 1741, 1745, 1747, 1749, 1750, 1755, 1756, 1757, 1758, 1763, 1765, 1766, 1770, 1773, 1783, 1786, 1787, 1788, 1789, 1791, 1795, 1796, 1798, 1802, 1803, 1804, 1806, 1807, 1808, 1810, 1813, 1815, 1816, 1820, 1823, 1824, 1825, 1826, 1828, 1829, 1830, 1833, 1836, 1837, 1839, 1840, 1841, 1849, 1856, 1862, 1866, 1869, 1870, 1871, 1873, 1874, 1875, 1876, 1877, 1878, 1881, 1886, 1889, 1892, 1902, 1903, 1904, 1906, 1908, 1909, 1910, 1912, 1914, 1916, 1918, 1919, 1925, 1926, 1934, 1935, 1936, 1937, 1942, 1943, 1945, 1946, 1948, 1952, 1956, 1964, 1967, 1974, 1977, 1981, 1985, 1990, 1995, 1997, 2001, 2003, 2005, 2007, 2010, 2016, 2017, 2025, 2027, 2032, 2034, 2035, 2037, 2039, 2043, 2044, 2045, 2046, 2053, 2058, 2060, 2061, 2064, 2066, 2071, 2072, 2073, 2074, 2075, 2077, 2078, 2080, 2081, 2084, 2086, 2089, 2090, 2091, 2092, 2097, 2098, 2099, 2100, 2106, 2108, 2109, 2121, 2124, 2127, 2130, 2131, 2132, 2134, 2138, 2143, 2144, 2147, 2152, 2158, 2160, 2163, 2167, 2169, 2170, 2174, 2176, 2177, 2185, 2186, 2188, 2193, 2195, 2196, 2198, 2201, 2203, 2208, 2209, 2210, 2213, 2214, 2218, 2219, 2222, 2223, 2225, 2229, 2230, 2240, 2242, 2245, 2248, 2249, 2250, 2251, 2252, 2253, 2257, 2260, 2261, 2262, 2264, 2265, 2268, 2275, 2277, 2278, 2279, 2282, 2283, 2286, 2287, 2288, 2289, 2291, 2293, 2295, 2300, 2301, 2302, 2306, 2309, 2310, 2316, 2317, 2318, 2320, 2321, 2322, 2324, 2330, 2331, 2337, 2338, 2341, 2342, 2346, 2349, 2352, 2353, 2361, 2367, 2368, 2369, 2370, 2372, 2375, 2378, 2380, 2381, 2382, 2383, 2384, 2386, 2390, 2394, 2397, 2398, 2403, 2404, 2405, 2408, 2413, 2414, 2415, 2416, 2417, 2419, 2427, 2433, 2437, 2445, 2446, 2447, 2449, 2450, 2454, 2455, 2457, 2459, 2463, 2467, 2471, 2477, 2478, 2486, 2487, 2488, 2491, 2492, 2495, 2497, 2499, 2500, 2501, 2504, 2508, 2509, 2515, 2516, 2517, 2521, 2523, 2527, 2529, 2542, 2546, 2548, 2553, 2555, 2556, 2557, 2561, 2562, 2565, 2566, 2568, 2574, 2575, 2576, 2580, 2582, 2586, 2587, 2588, 2595, 2597, 2600, 2602, 2603, 2608, 2609, 2611, 2612, 2613, 2617, 2619, 2624, 2625, 2626, 2627, 2628, 2633, 2637, 2646, 2649, 2651, 2653, 2656, 2658, 2661, 2662, 2665, 2666, 2667, 2668, 2670, 2673, 2674, 2677, 2678, 2679, 2682, 2683, 2685, 2686, 2689, 2690, 2696, 2703, 2705, 2709, 2711, 2712, 2714, 2720, 2723, 2725, 2728, 2732, 2733, 2735, 2737, 2743, 2746, 2751, 2753, 2755, 2758, 2762, 2763, 2764, 2768, 2770, 2773, 2774, 2780, 2784, 2786, 2788, 2789, 2794, 2795, 2796, 2798, 2806, 2809, 2810, 2811, 2814, 2816, 2818, 2819, 2822, 2825, 2830, 2832, 2835, 2836, 2839, 2849, 2852, 2857, 2858, 2865, 2867, 2870, 2871, 2878, 2881, 2882, 2887, 2889, 2892, 2900, 2909, 2910, 2911, 2912, 2919, 2921, 2926, 2927, 2929, 2931, 2934, 2935, 2939, 2940, 2942, 2943, 2950, 2953, 2955, 2959, 2960, 2969, 2972, 2981, 2983, 2986, 2989, 2990, 2992, 2994, 3009, 3011, 3012, 3015, 3021, 3023, 3030, 3031, 3032, 3034, 3035, 3036, 3044, 3045, 3046, 3051, 3053, 3057, 3058, 3059, 3061, 3066, 3067, 3071, 3073, 3086, 3089, 3099, 3100, 3103, 3106, 3107, 3108, 3109, 3111, 3117, 3136, 3138, 3142, 3147, 3154, 3155, 3157, 3159, 3160, 3165, 3167, 3169, 3179, 3181, 3184, 3188, 3193, 3198, 3203, 3207, 3211, 3213, 3216, 3217, 3218, 3220, 3222, 3225, 3227, 3232, 3245, 3250, 3251, 3252, 3255, 3256, 3260, 3263, 3264, 3265, 3266, 3269, 3271, 3274, 3283, 3286, 3287, 3290, 3293, 3295, 3297, 3299, 3302, 3305, 3314, 3316, 3318, 3321, 3328, 3332, 3334, 3338, 3340, 3341, 3343, 3346, 3347, 3351, 3353, 3355, 3373, 3376, 3378, 3379, 3380, 3381, 3383, 3387, 3388, 3389, 3391, 3394, 3397, 3398, 3399, 3402, 3407, 3409, 3410, 3411, 3415, 3418, 3420, 3427, 3432, 3435, 3438, 3439, 3440, 3444, 3447, 3449, 3450, 3454, 3461, 3463, 3466, 3467, 3471, 3473, 3479, 3487, 3488, 3490, 3493, 3496, 3500, 3504, 3505, 3509, 3511, 3517, 3518, 3521, 3522, 3524, 3525, 3527, 3528, 3538, 3539, 3545, 3546, 3551, 3552, 3554, 3560, 3564, 3568, 3570, 3582, 3584, 3587, 3588, 3589, 3593, 3594, 3598, 3599, 3600, 3601, 3603, 3606, 3614, 3617, 3620, 3621, 3623, 3629, 3630, 3633, 3636, 3637, 3643, 3651, 3654, 3656, 3657, 3659, 3662, 3663, 3671, 3680, 3682, 3692, 3693, 3694, 3697, 3699, 3701, 3704, 3713, 3715, 3719, 3721, 3725, 3729, 3730, 3731, 3733, 3734, 3736, 3740, 3751, 3755, 3756, 3759, 3764, 3766, 3768, 3771, 3772, 3777, 3778, 3781, 3788, 3789, 3802, 3804, 3805, 3812, 3813, 3814, 3815, 3816, 3817, 3820, 3830, 3831, 3832, 3838, 3843, 3846, 3847, 3854, 3860, 3862, 3864, 3869, 3873, 3875, 3877, 3879, 3882, 3884, 3891, 3892, 3904, 3916, 3921, 3923, 3925, 3929, 3932, 3935, 3936, 3937, 3940, 3942, 3949, 3951, 3952, 3954, 3963, 3975, 3978, 3980, 3982, 3983, 3985, 3987, 3993, 3995, 3996, 3999, 4000, 4003, 4004, 4005, 4006, 4009, 4013, 4016, 4022, 4025, 4035, 4036, 4040, 4041, 4042, 4043, 4046, 4051, 4055, 4056, 4057, 4058, 4079, 4081, 4084, 4087, 4094, 4097, 4098, 4100, 4105, 4114, 4118, 4119, 4120, 4127, 4138, 4140, 4143, 4144, 4147, 4148, 4149, 4154, 4155, 4156, 4157, 4159, 4162, 4164, 4165, 4167, 4175, 4186, 4189, 4193, 4213, 4214, 4222, 4224, 4228, 4232, 4236, 4240, 4243, 4248, 4257, 4258, 4263, 4270, 4271, 4272, 4274, 4276, 4287, 4294, 4315, 4325, 4327, 4334, 4345, 4346, 4355, 4358, 4368, 4374, 4392, 4395, 4397, 4401, 4408, 4410, 4416, 4421, 4426, 4428, 4431, 4433, 4438, 4439, 4443, 4446, 4448, 4454, 4457, 4461, 4464, 4470, 4471, 4474, 4475, 4476, 4484, 4487, 4490, 4495, 4503, 4507, 4515, 4521, 4528, 4533, 4543, 4544, 4554, 4558, 4559, 4560, 4564, 4565, 4570, 4571, 4575, 4584, 4592, 4598, 4602, 4609, 4614, 4616, 4619, 4621, 4622, 4625, 4627, 4628, 4634, 4636, 4637, 4638, 4648, 4651, 4654, 4659, 4664, 4673, 4679, 4681, 4686, 4687, 4693, 4697, 4698, 4699, 4703, 4706, 4708, 4711, 4726, 4728, 4734, 4737, 4738, 4739, 4740, 4741, 4745, 4746, 4749, 4750, 4754, 4755, 4758, 4759, 4764, 4766, 4772, 4789, 4791, 4798, 4801, 4802, 4807, 4812, 4814, 4830, 4835, 4836, 4839, 4845, 4846, 4848, 4850, 4851, 4853, 4866, 4867, 4869, 4872, 4874, 4879, 4881, 4882, 4891, 4892, 4895, 4896, 4897, 4901, 4910, 4912, 4913, 4918, 4920, 4927, 4934, 4939, 4944, 4952, 4953, 4956, 4959, 4962, 4967, 4970, 4974, 4980, 4983, 4989, 4990, 4991, 4994, 5012, 5033, 5034, 5038, 5040, 5046, 5048, 5058, 5075, 5080, 5085, 5107, 5108, 5112, 5113, 5114, 5116, 5117, 5119, 5121, 5128, 5143, 5160, 5161, 5168, 5175, 5179, 5180, 5182, 5192, 5203, 5204, 5207, 5208, 5214, 5232, 5235, 5237, 5266, 5269, 5271, 5272, 5277, 5281, 5285, 5288, 5289, 5295, 5296, 5299, 5300, 5304, 5308, 5320, 5325, 5326, 5336, 5337, 5338, 5344, 5353, 5359, 5360, 5376, 5380, 5381, 5395, 5400, 5401, 5406, 5417, 5419, 5422, 5428, 5433, 5442, 5443, 5445, 5455, 5462, 5470, 5473, 5494, 5498, 5505, 5516, 5517, 5523, 5531, 5537, 5539, 5546, 5548, 5549, 5554, 5557, 5560, 5564, 5575, 5581, 5586, 5591, 5593, 5597, 5600, 5602, 5603, 5606, 5613, 5618, 5621, 5633, 5635, 5639, 5642, 5643, 5650, 5651, 5658, 5659, 5660, 5664, 5698, 5700, 5706, 5710, 5712, 5714, 5721, 5724, 5729, 5731, 5732, 5735, 5743, 5746, 5748, 5752, 5763, 5764, 5771, 5772, 5775, 5777, 5781, 5783, 5788, 5797, 5799, 5800, 5808, 5818, 5819, 5826, 5828, 5840, 5843, 5844, 5845, 5848, 5855, 5858, 5861, 5864, 5872, 5877, 5878, 5882, 5883, 5888, 5892, 5893, 5895, 5898, 5906, 5913, 5914, 5926, 5929, 5932, 5940, 5952, 5965, 5976, 5990, 6000, 6004, 6007, 6023, 6025, 6030, 6034, 6038, 6059, 6060, 6064, 6080, 6083, 6089, 6090, 6104, 6105, 6108, 6113, 6116, 6122, 6123, 6124, 6128, 6134, 6135, 6138, 6140, 6141, 6145, 6155, 6159, 6160, 6163, 6165, 6166, 6171, 6176, 6181, 6187, 6192, 6199, 6202, 6206, 6213, 6216, 6218, 6220, 6223, 6225, 6228, 6240, 6245, 6247, 6253, 6256, 6263, 6267, 6276, 6283, 6285, 6289, 6291, 6295, 6301, 6302, 6309, 6312, 6316, 6325, 6329, 6368, 6376, 6381, 6386, 6393, 6400, 6415, 6427, 6437, 6440, 6441, 6442, 6446, 6454, 6458, 6468, 6473, 6475, 6476, 6481, 6484, 6488, 6489, 6501, 6504, 6511, 6517, 6518, 6532, 6540, 6547, 6558, 6569, 6585, 6591, 6596, 6601, 6602, 6605, 6630, 6636, 6645, 6648, 6650, 6651, 6660, 6686, 6687, 6688, 6696, 6697, 6705, 6707, 6714, 6715, 6718, 6731, 6736, 6745, 6747, 6751, 6763, 6770, 6771, 6773, 6790, 6795, 6798, 6807, 6812, 6820, 6834, 6835, 6840, 6843, 6849, 6854, 6855, 6856, 6868, 6872, 6875, 6876, 6882, 6885, 6889, 6890, 6899, 6902, 6903, 6907, 6908, 6912, 6914, 6920, 6921, 6931, 6944, 6951, 6957, 6958, 6961, 6971, 6979, 7010, 7011, 7021, 7025, 7041, 7053, 7054, 7064, 7068, 7074, 7075, 7085, 7086, 7087, 7102, 7110, 7114, 7124, 7129, 7130, 7131, 7132, 7140, 7144, 7145, 7179, 7188, 7192, 7203, 7223, 7230, 7235, 7261, 7273, 7282, 7285, 7289, 7296, 7358, 7360, 7362, 7363, 7367, 7370, 7380, 7392, 7394, 7402, 7421, 7423, 7425, 7436, 7442, 7447, 7465, 7472, 7474, 7477, 7487, 7499, 7500, 7507, 7512, 7524, 7529, 7541, 7551, 7556, 7564, 7572, 7579, 7589, 7598, 7619, 7625, 7630, 7643, 7661, 7663, 7666, 7678, 7683, 7701, 7706, 7708, 7713, 7719, 7721, 7725, 7727, 7733, 7740, 7744, 7759, 7782, 7787, 7797, 7801, 7814, 7834, 7840, 7845, 7852, 7883, 7884, 7892, 7896, 7902, 7909, 7924, 7935, 7950, 7951, 7954, 7972, 7978, 7987, 7996, 8001, 8009, 8013, 8027, 8044, 8046, 8053, 8068, 8073, 8119, 8122, 8163, 8208, 8212, 8218, 8224, 8239, 8258, 8260, 8282, 8284, 8301, 8305, 8307, 8322, 8333, 8342, 8345, 8358, 8374, 8376, 8390, 8407, 8412, 8414, 8437, 8463, 8481, 8494, 8507, 8529, 8545, 8573, 8575, 8576, 8577, 8594, 8603, 8616, 8626, 8629, 8633, 8644, 8657, 8662, 8664, 8691, 8704, 8706, 8718, 8722, 8742, 8758, 8830, 8838, 8881, 8884, 8903, 8907, 8912, 8916, 8926, 8938, 8951, 8963, 8966, 8975, 8988, 8993, 9024, 9032, 9035, 9063, 9099, 9121, 9129, 9131, 9135, 9159, 9161, 9167, 9186, 9199, 9210, 9261, 9267, 9270, 9271, 9287, 9308, 9309, 9316, 9322, 9340, 9365, 9384, 9391, 9395, 9410, 9415, 9418, 9424, 9436, 9450, 9454, 9461, 9468, 9470, 9473, 9482, 9506, 9520, 9545, 9573, 9577, 9578, 9589, 9590, 9598, 9626, 9650, 9662, 9666, 9675, 9679, 9701, 9707, 9742, 9747, 9756, 9788, 9820, 9825, 9872, 9876, 9883, 9886, 9905, 9909, 9910, 9926, 9945, 9992, 10000, 10021, 10044, 10065, 10068, 10144, 10227, 10270, 10310, 10328, 10364, 10386, 10391, 10393, 10412, 10419, 10441, 10467, 10468, 10502, 10507, 10508, 10528, 10559, 10572, 10669, 10684, 10697, 10736, 10765, 10770, 10774, 10779, 10788, 10813, 10821, 10825, 10850, 10866, 10873, 10914, 10957, 10966, 10968, 11016, 11020, 11039, 11053, 11101, 11106, 11142, 11151, 11163, 11205, 11214, 11224, 11232, 11265, 11267, 11279, 11288, 11297, 11315, 11322, 11331, 11335, 11336, 11347, 11351, 11414, 11416, 11420, 11435, 11452, 11457, 11487, 11514, 11517, 11523, 11528, 11539, 11545, 11560, 11565, 11572, 11587, 11607, 11609, 11621, 11644, 11691, 11696, 11697, 11719, 11723, 11724, 11739, 11745, 11759, 11786, 11792, 11813, 11888, 11930, 11933, 11935, 11966, 12025, 12058, 12059, 12072, 12118, 12266, 12269, 12282, 12283, 12312, 12323, 12425, 12442, 12492, 12498, 12504, 12516, 12522, 12579, 12580, 12589, 12600, 12645, 12653, 12682, 12692, 12790, 12791, 12810, 12815, 12880, 12916, 12923, 12936, 12941, 13004, 13017, 13071, 13086, 13093, 13098, 13122, 13217, 13220, 13257, 13295, 13321, 13439, 13464, 13490, 13491, 13496, 13498, 13633, 13647, 13686, 13756, 13768, 13789, 13839, 13850, 13854, 13863, 13873, 13904, 13945, 13963, 13969, 13978, 13989, 14029, 14045, 14049, 14063, 14086, 14124, 14125, 14126, 14196, 14256, 14272, 14318, 14344, 14392, 14413, 14425, 14444, 14471, 14476, 14487, 14499, 14579, 14586, 14603, 14666, 14677, 14689, 14690, 14705, 14718, 14759, 14791, 14799, 14805, 14808, 14891, 14903, 14907, 14915, 14926, 15079, 15086, 15147, 15240, 15301, 15348, 15364, 15401, 15418, 15464, 15474, 15498, 15628, 15631, 15639, 15712, 15755, 15958, 16019, 16110, 16143, 16149, 16159, 16365, 16385, 16394, 16417, 16457, 16502, 16614, 16622, 16631, 16637, 16658, 16721, 16727, 16731, 16784, 16851, 16852, 16864, 16872, 16887, 16892, 17022, 17037, 17067, 17069, 17152, 17180, 17249, 17417, 17488, 17531, 17549, 17746, 17752, 17762, 17786, 17884, 17943, 18004, 18011, 18123, 18133, 18161, 18257, 18349, 18365, 18536, 18651, 18660, 18743, 18828, 18934, 19019, 19051, 19067, 19100, 19238, 19342, 19344, 19468, 19556, 19571, 19643, 19660, 19730, 19831, 19889, 19909, 20008, 20084, 20120, 20125, 20178, 20275, 20358, 20384, 20387, 20391, 20491, 20582, 20609, 20686, 20744, 20807, 20916, 21031, 21203, 21234, 21236, 21380, 21566, 21578, 21782, 21813, 22140, 22460, 22505, 22550, 22682, 22972, 23022, 23362, 23550, 24521, 24850, 26614, 27165, 27523, 27677, 32714, 51953, 1255182]\n"
     ]
    }
   ],
   "source": [
    "indexes = []\n",
    "month = pd.Timedelta(\"30 days\")\n",
    "indexes += dif[dif>=month].index.tolist();\n",
    "print(indexes)"
   ]
  },
  {
   "cell_type": "code",
   "execution_count": null,
   "metadata": {},
   "outputs": [
    {
     "data": {
      "text/html": [
       "<div>\n",
       "<style scoped>\n",
       "    .dataframe tbody tr th:only-of-type {\n",
       "        vertical-align: middle;\n",
       "    }\n",
       "\n",
       "    .dataframe tbody tr th {\n",
       "        vertical-align: top;\n",
       "    }\n",
       "\n",
       "    .dataframe thead th {\n",
       "        text-align: right;\n",
       "    }\n",
       "</style>\n",
       "<table border=\"1\" class=\"dataframe\">\n",
       "  <thead>\n",
       "    <tr style=\"text-align: right;\">\n",
       "      <th></th>\n",
       "      <th>idcentro</th>\n",
       "      <th>idana</th>\n",
       "      <th>sesso</th>\n",
       "      <th>annodiagnosidiabete</th>\n",
       "      <th>tipodiabete</th>\n",
       "      <th>scolarita</th>\n",
       "      <th>statocivile</th>\n",
       "      <th>professione</th>\n",
       "      <th>origine</th>\n",
       "      <th>annonascita</th>\n",
       "      <th>annoprimoaccesso</th>\n",
       "      <th>annodecesso</th>\n",
       "    </tr>\n",
       "  </thead>\n",
       "  <tbody>\n",
       "    <tr>\n",
       "      <th>2</th>\n",
       "      <td>1</td>\n",
       "      <td>38</td>\n",
       "      <td>F</td>\n",
       "      <td>1978.0</td>\n",
       "      <td>5</td>\n",
       "      <td>2.0</td>\n",
       "      <td>3.0</td>\n",
       "      <td>9.0</td>\n",
       "      <td>NaN</td>\n",
       "      <td>1924</td>\n",
       "      <td>1998.0</td>\n",
       "      <td>2015.0</td>\n",
       "    </tr>\n",
       "    <tr>\n",
       "      <th>4</th>\n",
       "      <td>1</td>\n",
       "      <td>60</td>\n",
       "      <td>F</td>\n",
       "      <td>1987.0</td>\n",
       "      <td>5</td>\n",
       "      <td>2.0</td>\n",
       "      <td>2.0</td>\n",
       "      <td>9.0</td>\n",
       "      <td>NaN</td>\n",
       "      <td>1923</td>\n",
       "      <td>1987.0</td>\n",
       "      <td>2010.0</td>\n",
       "    </tr>\n",
       "    <tr>\n",
       "      <th>7</th>\n",
       "      <td>1</td>\n",
       "      <td>74</td>\n",
       "      <td>M</td>\n",
       "      <td>1995.0</td>\n",
       "      <td>5</td>\n",
       "      <td>2.0</td>\n",
       "      <td>2.0</td>\n",
       "      <td>9.0</td>\n",
       "      <td>NaN</td>\n",
       "      <td>1930</td>\n",
       "      <td>1996.0</td>\n",
       "      <td>2013.0</td>\n",
       "    </tr>\n",
       "    <tr>\n",
       "      <th>8</th>\n",
       "      <td>1</td>\n",
       "      <td>90</td>\n",
       "      <td>M</td>\n",
       "      <td>2002.0</td>\n",
       "      <td>5</td>\n",
       "      <td>3.0</td>\n",
       "      <td>2.0</td>\n",
       "      <td>9.0</td>\n",
       "      <td>NaN</td>\n",
       "      <td>1943</td>\n",
       "      <td>2002.0</td>\n",
       "      <td>2013.0</td>\n",
       "    </tr>\n",
       "    <tr>\n",
       "      <th>19</th>\n",
       "      <td>1</td>\n",
       "      <td>209</td>\n",
       "      <td>F</td>\n",
       "      <td>2002.0</td>\n",
       "      <td>5</td>\n",
       "      <td>2.0</td>\n",
       "      <td>NaN</td>\n",
       "      <td>9.0</td>\n",
       "      <td>NaN</td>\n",
       "      <td>1932</td>\n",
       "      <td>2002.0</td>\n",
       "      <td>2006.0</td>\n",
       "    </tr>\n",
       "  </tbody>\n",
       "</table>\n",
       "</div>"
      ],
      "text/plain": [
       "    idcentro  idana sesso  annodiagnosidiabete  tipodiabete  scolarita  \\\n",
       "2          1     38     F               1978.0            5        2.0   \n",
       "4          1     60     F               1987.0            5        2.0   \n",
       "7          1     74     M               1995.0            5        2.0   \n",
       "8          1     90     M               2002.0            5        3.0   \n",
       "19         1    209     F               2002.0            5        2.0   \n",
       "\n",
       "    statocivile  professione  origine  annonascita  annoprimoaccesso  \\\n",
       "2           3.0          9.0      NaN         1924            1998.0   \n",
       "4           2.0          9.0      NaN         1923            1987.0   \n",
       "7           2.0          9.0      NaN         1930            1996.0   \n",
       "8           2.0          9.0      NaN         1943            2002.0   \n",
       "19          NaN          9.0      NaN         1932            2002.0   \n",
       "\n",
       "    annodecesso  \n",
       "2        2015.0  \n",
       "4        2010.0  \n",
       "7        2013.0  \n",
       "8        2013.0  \n",
       "19       2006.0  "
      ]
     },
     "execution_count": 34,
     "metadata": {},
     "output_type": "execute_result"
    }
   ],
   "source": [
    "aux  = diag.shape[0]\n",
    "ap   = ap[ap.index.isin(indexes)]\n",
    "diag = diag[diag.index.isin(indexes)]\n",
    "elp  = elp[elp.index.isin(indexes)]\n",
    "ei   = ei[ei.index.isin(indexes)]\n",
    "pdf  = pdf[pdf.index.isin(indexes)]\n",
    "pdnf = pdnf[pdnf.index.isin(indexes)]\n",
    "pnd  = pnd[pnd.index.isin(indexes)]\n",
    "ap.head()"
   ]
  },
  {
   "cell_type": "code",
   "execution_count": 35,
   "metadata": {},
   "outputs": [
    {
     "name": "stdout",
     "output_type": "stream",
     "text": [
      "Before pre-processing:  2639\n",
      "After pre-processing: 2639\n"
     ]
    }
   ],
   "source": [
    "print(\"Before pre-processing: \", aux)\n",
    "print(\"After pre-processing:\" ,diag.shape[0])"
   ]
  },
  {
   "cell_type": "code",
   "execution_count": null,
   "metadata": {},
   "outputs": [
    {
     "name": "stdout",
     "output_type": "stream",
     "text": [
      "Number of patients:  19782\n"
     ]
    }
   ],
   "source": [
    "print(\"Number of patients: \",len(indexes))"
   ]
  },
  {
   "attachments": {},
   "cell_type": "markdown",
   "metadata": {},
   "source": [
    "## Exercise 4"
   ]
  },
  {
   "attachments": {},
   "cell_type": "markdown",
   "metadata": {},
   "source": [
    "**Modify the actual ranges of** ***esamilaboratorioparameteri*** **-** see this Table:\n",
    "\n",
    "| Code | Descriptive Name | True Range |\n",
    "|----------|----------|----------|\n",
    "| AMD004 | Systolic blood pressure | 40 <= x <= 200 |\n",
    "| AMD005 | Diastolic blood pressure | 40 <= x <= 130 |\n",
    "| AMD007 | Fasting blood glucose | 50 <= x <= 500 |\n",
    "| AMD008 | HbAlc | 5 <= x <= 15 |\n",
    "| AMD009 | Creatininemia | Not Available |\n",
    "| AMD111 | Microalbuminuria | Not Available |\n",
    "| STITCH001 | BMI | Not Available |\n",
    "| STITCH002 | LDL Choresterlo | 30 <= x <= 30|\n",
    "| STITCH003 | Non-HDL Cholesterlo | 60 <= x <= 330 |\n",
    "| STITCH004 | eGFR MDRD | Not Available |\n",
    "| STITCH005 | eGFR CKD-EPI | Not Available |"
   ]
  },
  {
   "attachments": {},
   "cell_type": "markdown",
   "metadata": {},
   "source": [
    "What we are doing is to use a **MinMaxScaler** from *sklearn* library so as to make the values described in the upper table fit into the true ranges. For the **NAN** ranges, we do nothing."
   ]
  },
  {
   "cell_type": "code",
   "execution_count": 66,
   "metadata": {},
   "outputs": [
    {
     "name": "stdout",
     "output_type": "stream",
     "text": [
      "BEFORE RE-SCALING:\n",
      "\n",
      "    AMD    Min  /  Max\n",
      "========================\n",
      "AMD004:    0.0 / 701.0\n",
      "AMD005:    0.0 / 980.0\n",
      "AMD007:    0.0 / 978.0\n",
      "AMD008:    0.0 / 98.0\n",
      "AMD009:    nan / nan\n",
      "AMD111:    -1.0 / 8950.0\n",
      "STITCH001:  is null\n",
      "STITCH002:  is null\n",
      "STITCH003:  is null\n",
      "STITCH004:  is null\n",
      "STITCH005:  is null\n"
     ]
    }
   ],
   "source": [
    "labels = ['AMD004', 'AMD005', 'AMD007', 'AMD008', 'AMD009', 'AMD111', 'STITCH001', 'STITCH002', 'STITCH003', 'STITCH004', 'STITCH005']\n",
    "\n",
    "print(\"BEFORE RE-SCALING:\\n\")\n",
    "print(\"    AMD    Min  /  Max\")\n",
    "print(\"========================\")\n",
    "\n",
    "for label in labels:\n",
    "    aux = elp[elp.codiceamd == label].filter(['valore']).values.tolist()\n",
    "    if len(aux) > 0:\n",
    "        print(f\"{label}:    {np.min(aux):.1f} / {np.max(aux):.1f}\")\n",
    "    else:\n",
    "        print(f\"{label}:  is null\")"
   ]
  },
  {
   "cell_type": "code",
   "execution_count": 67,
   "metadata": {},
   "outputs": [],
   "source": [
    "from sklearn.preprocessing import MinMaxScaler\n",
    "\n",
    "NAN = np.nan\n",
    "newRanges = [['AMD004', 'AMD005', 'AMD007', 'AMD008', 'AMD009', 'AMD111', 'STITCH001', 'STITCH002', 'STITCH003', 'STITCH004', 'STITCH005'],\n",
    "            [40.0,40.0,50.0,5.0,NAN,NAN,NAN,30.0,60.0,NAN,NAN],\n",
    "            [200.0,130.0,500.0,15.0,NAN,NAN,NAN,300.0,330.0,NAN,NAN]]\n",
    "\n",
    "def scaling(df:pd.DataFrame, label:str, minValue:float, maxValue:float) -> pd.DataFrame:\n",
    "    if (minValue != NAN) and (maxValue != NAN) and (df[df.codiceamd == label].shape[0]>0):\n",
    "        aux = df[df.codiceamd == label].copy()\n",
    "        min_max_scaler = MinMaxScaler(feature_range=(minValue,maxValue))\n",
    "        aux[['valore']] = min_max_scaler.fit_transform(aux[['valore']])\n",
    "        df[df.codiceamd == label] = aux\n",
    "    return df\n",
    "\n",
    "\n",
    "# Let's apply the function to a new DataFrame copied from elp_new\n",
    "for k in range(len(newRanges[0])):\n",
    "    elp = scaling(elp, newRanges[0][k], newRanges[1][k], newRanges[2][k])"
   ]
  },
  {
   "attachments": {},
   "cell_type": "markdown",
   "metadata": {},
   "source": [
    "Now we ensure manually that it has worked by printing the maximum and minimum values for each AMD Code"
   ]
  },
  {
   "cell_type": "code",
   "execution_count": 68,
   "metadata": {},
   "outputs": [
    {
     "name": "stdout",
     "output_type": "stream",
     "text": [
      "\n",
      "\n",
      "AFTER RE-SCALING:\n",
      "\n",
      "    AMD    Min  /  Max\n",
      "========================\n",
      "AMD004:    40.0 / 200.0\n",
      "AMD005:    40.0 / 130.0\n",
      "AMD007:    50.0 / 500.0\n",
      "AMD008:    5.0 / 15.0\n",
      "AMD009:    nan / nan\n",
      "AMD111:    nan / nan\n",
      "STITCH001:  is null\n",
      "STITCH002:  is null\n",
      "STITCH003:  is null\n",
      "STITCH004:  is null\n",
      "STITCH005:  is null\n"
     ]
    }
   ],
   "source": [
    "print(\"\\n\\nAFTER RE-SCALING:\\n\")\n",
    "print(\"    AMD    Min  /  Max\")\n",
    "print(\"========================\")\n",
    "\n",
    "for label in labels:\n",
    "    aux = elp[elp.codiceamd == label].filter(['valore']).values.tolist()\n",
    "    if len(aux) > 0:\n",
    "        print(f\"{label}:    {np.min(aux):.1f} / {np.max(aux):.1f}\")\n",
    "    else:\n",
    "        print(f\"{label}:  is null\")\n"
   ]
  },
  {
   "attachments": {},
   "cell_type": "markdown",
   "metadata": {},
   "source": [
    "So it matches with the table given by the exercise"
   ]
  },
  {
   "attachments": {},
   "cell_type": "markdown",
   "metadata": {},
   "source": [
    "## Exercise 5"
   ]
  },
  {
   "attachments": {},
   "cell_type": "markdown",
   "metadata": {},
   "source": [
    "**Cohort selection and label definition** - use only those patients that after all the previous steps contain at least two events before calculating the label. Let $\\mathcal{P}=\\lbrace p_1, \\cdots,p_n\\rbrace$ be the set of all patients in the dataset. Let $d(e^i_k)$ be the date of the last event $e_k$ for patient $p_i\\in\\mathcal{P}$. The label of the patient $p_i$ is calculated as follows:\n",
    "\n",
    "$y(p_i)=\\begin{dcases}\n",
    "                1 & \\text{if, within }d(e^i_k)-6 \\text{ months, }p_i\\text{ has a cardiovascular event}\\\\\n",
    "                0 & \\text{otherwise}\n",
    "        \\end{dcases}$\n",
    "\n",
    "Eliminate the patients that have a trajectory shorten or equal to 6 months.\n"
   ]
  },
  {
   "attachments": {},
   "cell_type": "markdown",
   "metadata": {},
   "source": [
    "We first create a DataFrame that contains all the patients and their cardiovascular events, each one with its date (it's already computed as **diag_cardEvents**):"
   ]
  },
  {
   "cell_type": "code",
   "execution_count": 69,
   "metadata": {},
   "outputs": [
    {
     "data": {
      "text/html": [
       "<div>\n",
       "<style scoped>\n",
       "    .dataframe tbody tr th:only-of-type {\n",
       "        vertical-align: middle;\n",
       "    }\n",
       "\n",
       "    .dataframe tbody tr th {\n",
       "        vertical-align: top;\n",
       "    }\n",
       "\n",
       "    .dataframe thead th {\n",
       "        text-align: right;\n",
       "    }\n",
       "</style>\n",
       "<table border=\"1\" class=\"dataframe\">\n",
       "  <thead>\n",
       "    <tr style=\"text-align: right;\">\n",
       "      <th></th>\n",
       "      <th>idcentro</th>\n",
       "      <th>idana</th>\n",
       "      <th>data</th>\n",
       "      <th>codiceamd</th>\n",
       "      <th>valore</th>\n",
       "    </tr>\n",
       "  </thead>\n",
       "  <tbody>\n",
       "    <tr>\n",
       "      <th>7</th>\n",
       "      <td>1</td>\n",
       "      <td>5</td>\n",
       "      <td>2000-12-02</td>\n",
       "      <td>AMD049</td>\n",
       "      <td>S</td>\n",
       "    </tr>\n",
       "    <tr>\n",
       "      <th>9</th>\n",
       "      <td>1</td>\n",
       "      <td>5</td>\n",
       "      <td>2001-03-22</td>\n",
       "      <td>AMD049</td>\n",
       "      <td>S</td>\n",
       "    </tr>\n",
       "    <tr>\n",
       "      <th>13</th>\n",
       "      <td>1</td>\n",
       "      <td>5</td>\n",
       "      <td>2002-02-11</td>\n",
       "      <td>AMD049</td>\n",
       "      <td>S</td>\n",
       "    </tr>\n",
       "    <tr>\n",
       "      <th>15</th>\n",
       "      <td>1</td>\n",
       "      <td>5</td>\n",
       "      <td>2002-02-14</td>\n",
       "      <td>AMD049</td>\n",
       "      <td>S</td>\n",
       "    </tr>\n",
       "    <tr>\n",
       "      <th>17</th>\n",
       "      <td>1</td>\n",
       "      <td>5</td>\n",
       "      <td>2003-01-17</td>\n",
       "      <td>AMD049</td>\n",
       "      <td>S</td>\n",
       "    </tr>\n",
       "  </tbody>\n",
       "</table>\n",
       "</div>"
      ],
      "text/plain": [
       "    idcentro  idana        data codiceamd valore\n",
       "7          1      5  2000-12-02    AMD049      S\n",
       "9          1      5  2001-03-22    AMD049      S\n",
       "13         1      5  2002-02-11    AMD049      S\n",
       "15         1      5  2002-02-14    AMD049      S\n",
       "17         1      5  2003-01-17    AMD049      S"
      ]
     },
     "execution_count": 69,
     "metadata": {},
     "output_type": "execute_result"
    }
   ],
   "source": [
    "diag_cardEvents.head()"
   ]
  },
  {
   "attachments": {},
   "cell_type": "markdown",
   "metadata": {},
   "source": [
    "Now for each patient of the frame **diag_cardEvents**, we are going to take its two last cardiovascular events dates, so as to check if they happened with less than 6 months of difference. For this, we define the function **labeling**"
   ]
  },
  {
   "cell_type": "code",
   "execution_count": 70,
   "metadata": {},
   "outputs": [],
   "source": [
    "def labeling(df:pd.DataFrame) -> pd.DataFrame:\n",
    "\n",
    "    # First we define a dataframe that contains the ids and the dates of every cardiovascular event, sorted by descending date\n",
    "    cardEvents_sorted = df.sort_values('data',ascending=False)\n",
    "\n",
    "    # Now we create a new dataset called classes, that represents the result of the function y(p_i) defined previously:\n",
    "    classes = pd.DataFrame(columns=['idcentro','idana','class'])\n",
    "\n",
    "    # Now for each patient (idcentro,idana), we check if it verify the condition explained previously:\n",
    "    for label, subDataframe in cardEvents_sorted.groupby(['idcentro','idana']):\n",
    "\n",
    "        dates = subDataframe['data'].dropna().values\n",
    "\n",
    "        # We ignore those patients who have just one event\n",
    "        if len(dates) > 1:\n",
    "\n",
    "            # We extract the first and the 2 lastest dates and convert them into datetime objects\n",
    "            minDate = dates[-1]\n",
    "            maxDates = dates[0:2]\n",
    "            minDate = dt.date.fromisoformat(minDate)\n",
    "            maxDates = dt.date.fromisoformat(maxDates[0]), dt.date.fromisoformat(maxDates[1])\n",
    "\n",
    "            # We ignore patients with a trajectory shorter than 6 months (6*30 days)\n",
    "            if maxDates[0]-minDate > dt.timedelta(days=6*30):\n",
    "\n",
    "                # We calculate the difference between the latest 2 dates and compare it with 6 months\n",
    "                c = maxDates[0]-maxDates[1] < dt.timedelta(days=6*30)\n",
    "\n",
    "                # We add a new column with the label and the class of the patient\n",
    "                classes.loc[classes.count()[0]] = [label[0], label[1], int(c)]\n",
    "\n",
    "    return classes"
   ]
  },
  {
   "attachments": {},
   "cell_type": "markdown",
   "metadata": {},
   "source": [
    "Now, in the **classes** dataframe, we have labeled the patients that have more than one event and a trajectory larger than 6 months"
   ]
  },
  {
   "cell_type": "code",
   "execution_count": 71,
   "metadata": {},
   "outputs": [],
   "source": [
    "labels = labeling(diag_cardEvents)"
   ]
  },
  {
   "cell_type": "code",
   "execution_count": 72,
   "metadata": {},
   "outputs": [
    {
     "name": "stdout",
     "output_type": "stream",
     "text": [
      "We still have: 44550/70193 patients\n"
     ]
    }
   ],
   "source": [
    "print(f\"We still have: {labels.shape[0]}/{patientsOfInterest.shape[0]} patients\")"
   ]
  },
  {
   "attachments": {},
   "cell_type": "markdown",
   "metadata": {},
   "source": [
    "So we do an inner merge operation again with every dataframe to take just the patients of the frame **classes**"
   ]
  },
  {
   "cell_type": "code",
   "execution_count": 73,
   "metadata": {},
   "outputs": [],
   "source": [
    "ap   = pd.merge(ap, labels, on=['idcentro','idana'], how='right')[ap_fixed.columns]\n",
    "diag = pd.merge(diag, labels, on=['idcentro','idana'], how='right')[diag_fixed.columns]\n",
    "elp  = pd.merge(elp, labels, on=['idcentro','idana'], how='right')[elp_fixed.columns]\n",
    "ei   = pd.merge(ei, labels, on=['idcentro','idana'], how='right')[ei_fixed.columns]\n",
    "pdf  = pd.merge(pdf, labels, on=['idcentro','idana'], how='right')[pdf_fixed.columns]\n",
    "pdnf = pd.merge(pdnf, labels, on=['idcentro','idana'], how='right')[pdnf_fixed.columns]\n",
    "pnd  = pd.merge(pnd, labels, on=['idcentro','idana'], how='right')[pnd_fixed.columns]\n",
    "patientsOfInterest_labeled = pd.merge(patientsOfInterest, labels, on=['idcentro','idana'], how='right')\n"
   ]
  }
 ],
 "metadata": {
  "kernelspec": {
   "display_name": "base",
   "language": "python",
   "name": "python3"
  },
  "language_info": {
   "codemirror_mode": {
    "name": "ipython",
    "version": 3
   },
   "file_extension": ".py",
   "mimetype": "text/x-python",
   "name": "python",
   "nbconvert_exporter": "python",
   "pygments_lexer": "ipython3",
   "version": "3.9.13"
  },
  "orig_nbformat": 4
 },
 "nbformat": 4,
 "nbformat_minor": 2
}
