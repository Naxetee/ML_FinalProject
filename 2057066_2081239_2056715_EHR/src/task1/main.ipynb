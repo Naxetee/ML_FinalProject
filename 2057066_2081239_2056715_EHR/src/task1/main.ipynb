{
  "cells": [
    {
      "attachments": {},
      "cell_type": "markdown",
      "metadata": {
        "id": "ElmGgvfzWseh"
      },
      "source": [
        "[Professor GitHub Repository](https://github.com/bardhprenkaj/ML_labs/blob/main/resources/project/project_description.pdf)\n",
        "\n",
        "[Project GitHub Repository](https://github.com/Naxetee/ML_FinalProject)"
      ]
    },
    {
      "attachments": {},
      "cell_type": "markdown",
      "metadata": {
        "id": "KqASZlhrWsei"
      },
      "source": [
        "# Index\n",
        "\n",
        "- **Python Libraries**\n",
        "- **Task 1**\n",
        "    - *Reading Datasets*\n",
        "    - *Exercise 1*\n",
        "    - *Exercise 2*\n",
        "    - *Exercise 3*\n",
        "    - *Exercise 4*\n",
        "    - *Exercise 5*\n",
        "    - *Exercise 6*\n",
        "- **Writing Datasets**\n"
      ]
    },
    {
      "attachments": {},
      "cell_type": "markdown",
      "metadata": {
        "id": "Mz_yoz4IWsej"
      },
      "source": [
        "# Python Libraries\n"
      ]
    },
    {
      "cell_type": "code",
      "execution_count": null,
      "metadata": {
        "id": "7Krsb-hrWsej"
      },
      "outputs": [],
      "source": [
        "import pandas as pd\n",
        "import numpy as np\n",
        "import datetime as dt"
      ]
    },
    {
      "attachments": {},
      "cell_type": "markdown",
      "metadata": {
        "id": "uR_uJ5j1Wsek"
      },
      "source": [
        "# Task 1\n",
        "\n",
        "During this first task we will apply some **pre-processing** operations to our raw data. So we will directly modify the data in *data/dataset/*, so that the data in *data/dataset_fixed/* will always remain unmodified."
      ]
    },
    {
      "attachments": {},
      "cell_type": "markdown",
      "metadata": {
        "id": "VibHSI3EWsek"
      },
      "source": [
        "## Reading the Datasets"
      ]
    },
    {
      "attachments": {},
      "cell_type": "markdown",
      "metadata": {
        "id": "nI6KLqlWWsek"
      },
      "source": [
        "At first, let's read the **.csv** files using a *pandas* function called **read_csv** whose parameters are:\n",
        "- *filepath*: the path of the .csv files.\n",
        "- *header*: will be always 0 to skip the columns' name row.\n",
        "- *names*: gives a name to each column of the table.\n"
      ]
    },
    {
      "cell_type": "code",
      "execution_count": null,
      "metadata": {
        "id": "_opTrrNvWsel"
      },
      "outputs": [],
      "source": [
        "fixed_data_path  = \"../../data/dataset/sample\"\n",
        "\n",
        "ap_fixed   = pd.read_csv(fixed_data_path+'/anagraficapazientiattivi.csv', header=0 ,names=['idcentro','idana','sesso','annodiagnosidiabete','tipodiabete','scolarita','statocivile','professione','origine','annonascita','annoprimoaccesso','annodecesso'])\n",
        "diag_fixed = pd.read_csv(fixed_data_path+'/diagnosi.csv', header=0 ,names=['idcentro','idana','data','codiceamd','valore'])\n",
        "elp_fixed  = pd.read_csv(fixed_data_path+'/esamilaboratorioparametri.csv', header=0 ,names=['idcentro','idana','data','codiceamd','valore'])\n",
        "ei_fixed   = pd.read_csv(fixed_data_path+'/esamistrumentali.csv', header=0 ,names=['idcentro','idana','data','codiceamd','valore'])\n",
        "pdf_fixed  = pd.read_csv(fixed_data_path+'/prescrizionidiabetefarmaci.csv', header=0 ,names=['idcentro','idana','data','codiceatc','quantita','idpasto','descrizionefarmaco'])\n",
        "pdnf_fixed = pd.read_csv(fixed_data_path+'/prescrizionidiabetenonfarmaci.csv', header=0 ,names=['idcentro','idana','data','codiceamd','valore'])\n",
        "pnd_fixed  = pd.read_csv(fixed_data_path+'/prescrizioninondiabete.csv', header=0 ,names=['idcentro','idana','data','codiceamd','valore'])"
      ]
    },
    {
      "cell_type": "code",
      "execution_count": null,
      "metadata": {
        "id": "08-bIFpAWsel"
      },
      "outputs": [],
      "source": [
        "read_data_path  = \"../../data/dataset/sample\"\n",
        "\n",
        "ap   = pd.read_csv(read_data_path+'/anagraficapazientiattivi.csv', header=0 ,names=['idcentro','idana','sesso','annodiagnosidiabete','tipodiabete','scolarita','statocivile','professione','origine','annonascita','annoprimoaccesso','annodecesso'])\n",
        "diag = pd.read_csv(read_data_path+'/diagnosi.csv', header=0 ,names=['idcentro','idana','data','codiceamd','valore'])\n",
        "elp  = pd.read_csv(read_data_path+'/esamilaboratorioparametri.csv', header=0 ,names=['idcentro','idana','data','codiceamd','valore'])\n",
        "ei   = pd.read_csv(read_data_path+'/esamistrumentali.csv', header=0 ,names=['idcentro','idana','data','codiceamd','valore'])\n",
        "pdf  = pd.read_csv(read_data_path+'/prescrizionidiabetefarmaci.csv', header=0 ,names=['idcentro','idana','data','codiceatc','quantita','idpasto','descrizionefarmaco'])\n",
        "pdnf = pd.read_csv(read_data_path+'/prescrizionidiabetenonfarmaci.csv', header=0 ,names=['idcentro','idana','data','codiceamd','valore'])\n",
        "pnd  = pd.read_csv(read_data_path+'/prescrizioninondiabete.csv', header=0 ,names=['idcentro','idana','data','codiceamd','valore'])"
      ]
    },
    {
      "cell_type": "code",
      "execution_count": null,
      "metadata": {
        "colab": {
          "base_uri": "https://localhost:8080/",
          "height": 223
        },
        "id": "L6SuGrDsWsel",
        "outputId": "e251a191-34c7-4ca8-88be-43c637770b14"
      },
      "outputs": [
        {
          "name": "stdout",
          "output_type": "stream",
          "text": [
            "(250000, 12)\n"
          ]
        },
        {
          "data": {
            "text/html": [
              "\n",
              "  <div id=\"df-0241f10a-534c-4626-a9da-f87e41c52a13\">\n",
              "    <div class=\"colab-df-container\">\n",
              "      <div>\n",
              "<style scoped>\n",
              "    .dataframe tbody tr th:only-of-type {\n",
              "        vertical-align: middle;\n",
              "    }\n",
              "\n",
              "    .dataframe tbody tr th {\n",
              "        vertical-align: top;\n",
              "    }\n",
              "\n",
              "    .dataframe thead th {\n",
              "        text-align: right;\n",
              "    }\n",
              "</style>\n",
              "<table border=\"1\" class=\"dataframe\">\n",
              "  <thead>\n",
              "    <tr style=\"text-align: right;\">\n",
              "      <th></th>\n",
              "      <th>idcentro</th>\n",
              "      <th>idana</th>\n",
              "      <th>sesso</th>\n",
              "      <th>annodiagnosidiabete</th>\n",
              "      <th>tipodiabete</th>\n",
              "      <th>scolarita</th>\n",
              "      <th>statocivile</th>\n",
              "      <th>professione</th>\n",
              "      <th>origine</th>\n",
              "      <th>annonascita</th>\n",
              "      <th>annoprimoaccesso</th>\n",
              "      <th>annodecesso</th>\n",
              "    </tr>\n",
              "  </thead>\n",
              "  <tbody>\n",
              "    <tr>\n",
              "      <th>0</th>\n",
              "      <td>234</td>\n",
              "      <td>5697</td>\n",
              "      <td>M</td>\n",
              "      <td>2009.0</td>\n",
              "      <td>5</td>\n",
              "      <td>NaN</td>\n",
              "      <td>NaN</td>\n",
              "      <td>NaN</td>\n",
              "      <td>NaN</td>\n",
              "      <td>1949</td>\n",
              "      <td>2011.0</td>\n",
              "      <td>NaN</td>\n",
              "    </tr>\n",
              "    <tr>\n",
              "      <th>1</th>\n",
              "      <td>66</td>\n",
              "      <td>3539</td>\n",
              "      <td>M</td>\n",
              "      <td>2011.0</td>\n",
              "      <td>5</td>\n",
              "      <td>NaN</td>\n",
              "      <td>NaN</td>\n",
              "      <td>NaN</td>\n",
              "      <td>NaN</td>\n",
              "      <td>1933</td>\n",
              "      <td>2012.0</td>\n",
              "      <td>2015.0</td>\n",
              "    </tr>\n",
              "    <tr>\n",
              "      <th>2</th>\n",
              "      <td>100</td>\n",
              "      <td>3080</td>\n",
              "      <td>M</td>\n",
              "      <td>1988.0</td>\n",
              "      <td>5</td>\n",
              "      <td>NaN</td>\n",
              "      <td>NaN</td>\n",
              "      <td>NaN</td>\n",
              "      <td>NaN</td>\n",
              "      <td>1936</td>\n",
              "      <td>1991.0</td>\n",
              "      <td>NaN</td>\n",
              "    </tr>\n",
              "    <tr>\n",
              "      <th>3</th>\n",
              "      <td>112</td>\n",
              "      <td>3261</td>\n",
              "      <td>F</td>\n",
              "      <td>2014.0</td>\n",
              "      <td>5</td>\n",
              "      <td>NaN</td>\n",
              "      <td>NaN</td>\n",
              "      <td>NaN</td>\n",
              "      <td>NaN</td>\n",
              "      <td>1945</td>\n",
              "      <td>2014.0</td>\n",
              "      <td>NaN</td>\n",
              "    </tr>\n",
              "    <tr>\n",
              "      <th>4</th>\n",
              "      <td>160</td>\n",
              "      <td>9460</td>\n",
              "      <td>F</td>\n",
              "      <td>2014.0</td>\n",
              "      <td>5</td>\n",
              "      <td>NaN</td>\n",
              "      <td>NaN</td>\n",
              "      <td>NaN</td>\n",
              "      <td>NaN</td>\n",
              "      <td>1970</td>\n",
              "      <td>2016.0</td>\n",
              "      <td>NaN</td>\n",
              "    </tr>\n",
              "  </tbody>\n",
              "</table>\n",
              "</div>\n",
              "      <button class=\"colab-df-convert\" onclick=\"convertToInteractive('df-0241f10a-534c-4626-a9da-f87e41c52a13')\"\n",
              "              title=\"Convert this dataframe to an interactive table.\"\n",
              "              style=\"display:none;\">\n",
              "        \n",
              "  <svg xmlns=\"http://www.w3.org/2000/svg\" height=\"24px\"viewBox=\"0 0 24 24\"\n",
              "       width=\"24px\">\n",
              "    <path d=\"M0 0h24v24H0V0z\" fill=\"none\"/>\n",
              "    <path d=\"M18.56 5.44l.94 2.06.94-2.06 2.06-.94-2.06-.94-.94-2.06-.94 2.06-2.06.94zm-11 1L8.5 8.5l.94-2.06 2.06-.94-2.06-.94L8.5 2.5l-.94 2.06-2.06.94zm10 10l.94 2.06.94-2.06 2.06-.94-2.06-.94-.94-2.06-.94 2.06-2.06.94z\"/><path d=\"M17.41 7.96l-1.37-1.37c-.4-.4-.92-.59-1.43-.59-.52 0-1.04.2-1.43.59L10.3 9.45l-7.72 7.72c-.78.78-.78 2.05 0 2.83L4 21.41c.39.39.9.59 1.41.59.51 0 1.02-.2 1.41-.59l7.78-7.78 2.81-2.81c.8-.78.8-2.07 0-2.86zM5.41 20L4 18.59l7.72-7.72 1.47 1.35L5.41 20z\"/>\n",
              "  </svg>\n",
              "      </button>\n",
              "      \n",
              "  <style>\n",
              "    .colab-df-container {\n",
              "      display:flex;\n",
              "      flex-wrap:wrap;\n",
              "      gap: 12px;\n",
              "    }\n",
              "\n",
              "    .colab-df-convert {\n",
              "      background-color: #E8F0FE;\n",
              "      border: none;\n",
              "      border-radius: 50%;\n",
              "      cursor: pointer;\n",
              "      display: none;\n",
              "      fill: #1967D2;\n",
              "      height: 32px;\n",
              "      padding: 0 0 0 0;\n",
              "      width: 32px;\n",
              "    }\n",
              "\n",
              "    .colab-df-convert:hover {\n",
              "      background-color: #E2EBFA;\n",
              "      box-shadow: 0px 1px 2px rgba(60, 64, 67, 0.3), 0px 1px 3px 1px rgba(60, 64, 67, 0.15);\n",
              "      fill: #174EA6;\n",
              "    }\n",
              "\n",
              "    [theme=dark] .colab-df-convert {\n",
              "      background-color: #3B4455;\n",
              "      fill: #D2E3FC;\n",
              "    }\n",
              "\n",
              "    [theme=dark] .colab-df-convert:hover {\n",
              "      background-color: #434B5C;\n",
              "      box-shadow: 0px 1px 3px 1px rgba(0, 0, 0, 0.15);\n",
              "      filter: drop-shadow(0px 1px 2px rgba(0, 0, 0, 0.3));\n",
              "      fill: #FFFFFF;\n",
              "    }\n",
              "  </style>\n",
              "\n",
              "      <script>\n",
              "        const buttonEl =\n",
              "          document.querySelector('#df-0241f10a-534c-4626-a9da-f87e41c52a13 button.colab-df-convert');\n",
              "        buttonEl.style.display =\n",
              "          google.colab.kernel.accessAllowed ? 'block' : 'none';\n",
              "\n",
              "        async function convertToInteractive(key) {\n",
              "          const element = document.querySelector('#df-0241f10a-534c-4626-a9da-f87e41c52a13');\n",
              "          const dataTable =\n",
              "            await google.colab.kernel.invokeFunction('convertToInteractive',\n",
              "                                                     [key], {});\n",
              "          if (!dataTable) return;\n",
              "\n",
              "          const docLinkHtml = 'Like what you see? Visit the ' +\n",
              "            '<a target=\"_blank\" href=https://colab.research.google.com/notebooks/data_table.ipynb>data table notebook</a>'\n",
              "            + ' to learn more about interactive tables.';\n",
              "          element.innerHTML = '';\n",
              "          dataTable['output_type'] = 'display_data';\n",
              "          await google.colab.output.renderOutput(dataTable, element);\n",
              "          const docLink = document.createElement('div');\n",
              "          docLink.innerHTML = docLinkHtml;\n",
              "          element.appendChild(docLink);\n",
              "        }\n",
              "      </script>\n",
              "    </div>\n",
              "  </div>\n",
              "  "
            ],
            "text/plain": [
              "   idcentro  idana sesso  annodiagnosidiabete  tipodiabete  scolarita  \\\n",
              "0       234   5697     M               2009.0            5        NaN   \n",
              "1        66   3539     M               2011.0            5        NaN   \n",
              "2       100   3080     M               1988.0            5        NaN   \n",
              "3       112   3261     F               2014.0            5        NaN   \n",
              "4       160   9460     F               2014.0            5        NaN   \n",
              "\n",
              "   statocivile  professione  origine  annonascita  annoprimoaccesso  \\\n",
              "0          NaN          NaN      NaN         1949            2011.0   \n",
              "1          NaN          NaN      NaN         1933            2012.0   \n",
              "2          NaN          NaN      NaN         1936            1991.0   \n",
              "3          NaN          NaN      NaN         1945            2014.0   \n",
              "4          NaN          NaN      NaN         1970            2016.0   \n",
              "\n",
              "   annodecesso  \n",
              "0          NaN  \n",
              "1       2015.0  \n",
              "2          NaN  \n",
              "3          NaN  \n",
              "4          NaN  "
            ]
          },
          "execution_count": 6,
          "metadata": {},
          "output_type": "execute_result"
        }
      ],
      "source": [
        "# Display example observations\n",
        "print(ap.shape)\n",
        "ap.head()"
      ]
    },
    {
      "cell_type": "code",
      "execution_count": null,
      "metadata": {
        "colab": {
          "base_uri": "https://localhost:8080/",
          "height": 223
        },
        "id": "zjaQSojfWsem",
        "outputId": "11e148dc-7478-48b7-dfc0-ac02d5dda406"
      },
      "outputs": [
        {
          "name": "stdout",
          "output_type": "stream",
          "text": [
            "(4978504, 5)\n"
          ]
        },
        {
          "data": {
            "text/html": [
              "\n",
              "  <div id=\"df-a61733be-2d89-4fb4-bbeb-8b7d20052ad9\">\n",
              "    <div class=\"colab-df-container\">\n",
              "      <div>\n",
              "<style scoped>\n",
              "    .dataframe tbody tr th:only-of-type {\n",
              "        vertical-align: middle;\n",
              "    }\n",
              "\n",
              "    .dataframe tbody tr th {\n",
              "        vertical-align: top;\n",
              "    }\n",
              "\n",
              "    .dataframe thead th {\n",
              "        text-align: right;\n",
              "    }\n",
              "</style>\n",
              "<table border=\"1\" class=\"dataframe\">\n",
              "  <thead>\n",
              "    <tr style=\"text-align: right;\">\n",
              "      <th></th>\n",
              "      <th>idcentro</th>\n",
              "      <th>idana</th>\n",
              "      <th>data</th>\n",
              "      <th>codiceamd</th>\n",
              "      <th>valore</th>\n",
              "    </tr>\n",
              "  </thead>\n",
              "  <tbody>\n",
              "    <tr>\n",
              "      <th>0</th>\n",
              "      <td>1</td>\n",
              "      <td>5</td>\n",
              "      <td>1980-01-01</td>\n",
              "      <td>AMD247</td>\n",
              "      <td>491.20</td>\n",
              "    </tr>\n",
              "    <tr>\n",
              "      <th>1</th>\n",
              "      <td>1</td>\n",
              "      <td>5</td>\n",
              "      <td>1986-01-01</td>\n",
              "      <td>AMD247</td>\n",
              "      <td>272.0</td>\n",
              "    </tr>\n",
              "    <tr>\n",
              "      <th>2</th>\n",
              "      <td>1</td>\n",
              "      <td>5</td>\n",
              "      <td>1987-01-01</td>\n",
              "      <td>AMD083</td>\n",
              "      <td>NaN</td>\n",
              "    </tr>\n",
              "    <tr>\n",
              "      <th>3</th>\n",
              "      <td>1</td>\n",
              "      <td>5</td>\n",
              "      <td>1987-01-01</td>\n",
              "      <td>AMD247</td>\n",
              "      <td>401</td>\n",
              "    </tr>\n",
              "    <tr>\n",
              "      <th>4</th>\n",
              "      <td>1</td>\n",
              "      <td>5</td>\n",
              "      <td>1997-12-01</td>\n",
              "      <td>AMD247</td>\n",
              "      <td>410</td>\n",
              "    </tr>\n",
              "  </tbody>\n",
              "</table>\n",
              "</div>\n",
              "      <button class=\"colab-df-convert\" onclick=\"convertToInteractive('df-a61733be-2d89-4fb4-bbeb-8b7d20052ad9')\"\n",
              "              title=\"Convert this dataframe to an interactive table.\"\n",
              "              style=\"display:none;\">\n",
              "        \n",
              "  <svg xmlns=\"http://www.w3.org/2000/svg\" height=\"24px\"viewBox=\"0 0 24 24\"\n",
              "       width=\"24px\">\n",
              "    <path d=\"M0 0h24v24H0V0z\" fill=\"none\"/>\n",
              "    <path d=\"M18.56 5.44l.94 2.06.94-2.06 2.06-.94-2.06-.94-.94-2.06-.94 2.06-2.06.94zm-11 1L8.5 8.5l.94-2.06 2.06-.94-2.06-.94L8.5 2.5l-.94 2.06-2.06.94zm10 10l.94 2.06.94-2.06 2.06-.94-2.06-.94-.94-2.06-.94 2.06-2.06.94z\"/><path d=\"M17.41 7.96l-1.37-1.37c-.4-.4-.92-.59-1.43-.59-.52 0-1.04.2-1.43.59L10.3 9.45l-7.72 7.72c-.78.78-.78 2.05 0 2.83L4 21.41c.39.39.9.59 1.41.59.51 0 1.02-.2 1.41-.59l7.78-7.78 2.81-2.81c.8-.78.8-2.07 0-2.86zM5.41 20L4 18.59l7.72-7.72 1.47 1.35L5.41 20z\"/>\n",
              "  </svg>\n",
              "      </button>\n",
              "      \n",
              "  <style>\n",
              "    .colab-df-container {\n",
              "      display:flex;\n",
              "      flex-wrap:wrap;\n",
              "      gap: 12px;\n",
              "    }\n",
              "\n",
              "    .colab-df-convert {\n",
              "      background-color: #E8F0FE;\n",
              "      border: none;\n",
              "      border-radius: 50%;\n",
              "      cursor: pointer;\n",
              "      display: none;\n",
              "      fill: #1967D2;\n",
              "      height: 32px;\n",
              "      padding: 0 0 0 0;\n",
              "      width: 32px;\n",
              "    }\n",
              "\n",
              "    .colab-df-convert:hover {\n",
              "      background-color: #E2EBFA;\n",
              "      box-shadow: 0px 1px 2px rgba(60, 64, 67, 0.3), 0px 1px 3px 1px rgba(60, 64, 67, 0.15);\n",
              "      fill: #174EA6;\n",
              "    }\n",
              "\n",
              "    [theme=dark] .colab-df-convert {\n",
              "      background-color: #3B4455;\n",
              "      fill: #D2E3FC;\n",
              "    }\n",
              "\n",
              "    [theme=dark] .colab-df-convert:hover {\n",
              "      background-color: #434B5C;\n",
              "      box-shadow: 0px 1px 3px 1px rgba(0, 0, 0, 0.15);\n",
              "      filter: drop-shadow(0px 1px 2px rgba(0, 0, 0, 0.3));\n",
              "      fill: #FFFFFF;\n",
              "    }\n",
              "  </style>\n",
              "\n",
              "      <script>\n",
              "        const buttonEl =\n",
              "          document.querySelector('#df-a61733be-2d89-4fb4-bbeb-8b7d20052ad9 button.colab-df-convert');\n",
              "        buttonEl.style.display =\n",
              "          google.colab.kernel.accessAllowed ? 'block' : 'none';\n",
              "\n",
              "        async function convertToInteractive(key) {\n",
              "          const element = document.querySelector('#df-a61733be-2d89-4fb4-bbeb-8b7d20052ad9');\n",
              "          const dataTable =\n",
              "            await google.colab.kernel.invokeFunction('convertToInteractive',\n",
              "                                                     [key], {});\n",
              "          if (!dataTable) return;\n",
              "\n",
              "          const docLinkHtml = 'Like what you see? Visit the ' +\n",
              "            '<a target=\"_blank\" href=https://colab.research.google.com/notebooks/data_table.ipynb>data table notebook</a>'\n",
              "            + ' to learn more about interactive tables.';\n",
              "          element.innerHTML = '';\n",
              "          dataTable['output_type'] = 'display_data';\n",
              "          await google.colab.output.renderOutput(dataTable, element);\n",
              "          const docLink = document.createElement('div');\n",
              "          docLink.innerHTML = docLinkHtml;\n",
              "          element.appendChild(docLink);\n",
              "        }\n",
              "      </script>\n",
              "    </div>\n",
              "  </div>\n",
              "  "
            ],
            "text/plain": [
              "   idcentro  idana        data codiceamd  valore\n",
              "0         1      5  1980-01-01    AMD247  491.20\n",
              "1         1      5  1986-01-01    AMD247   272.0\n",
              "2         1      5  1987-01-01    AMD083     NaN\n",
              "3         1      5  1987-01-01    AMD247     401\n",
              "4         1      5  1997-12-01    AMD247     410"
            ]
          },
          "execution_count": 7,
          "metadata": {},
          "output_type": "execute_result"
        }
      ],
      "source": [
        "print(diag.shape)\n",
        "diag.head()"
      ]
    },
    {
      "cell_type": "code",
      "execution_count": null,
      "metadata": {
        "colab": {
          "base_uri": "https://localhost:8080/",
          "height": 223
        },
        "id": "S1pHA2TUWsem",
        "outputId": "72495098-167e-4c73-932e-c313f9ad5473"
      },
      "outputs": [
        {
          "name": "stdout",
          "output_type": "stream",
          "text": [
            "(29398377, 5)\n"
          ]
        },
        {
          "data": {
            "text/html": [
              "\n",
              "  <div id=\"df-b4cb0522-a0b3-4142-919f-ddc6ab6a4c4a\">\n",
              "    <div class=\"colab-df-container\">\n",
              "      <div>\n",
              "<style scoped>\n",
              "    .dataframe tbody tr th:only-of-type {\n",
              "        vertical-align: middle;\n",
              "    }\n",
              "\n",
              "    .dataframe tbody tr th {\n",
              "        vertical-align: top;\n",
              "    }\n",
              "\n",
              "    .dataframe thead th {\n",
              "        text-align: right;\n",
              "    }\n",
              "</style>\n",
              "<table border=\"1\" class=\"dataframe\">\n",
              "  <thead>\n",
              "    <tr style=\"text-align: right;\">\n",
              "      <th></th>\n",
              "      <th>idcentro</th>\n",
              "      <th>idana</th>\n",
              "      <th>data</th>\n",
              "      <th>codiceamd</th>\n",
              "      <th>valore</th>\n",
              "    </tr>\n",
              "  </thead>\n",
              "  <tbody>\n",
              "    <tr>\n",
              "      <th>0</th>\n",
              "      <td>1</td>\n",
              "      <td>5</td>\n",
              "      <td>2005-01-18</td>\n",
              "      <td>AMD001</td>\n",
              "      <td>169.0</td>\n",
              "    </tr>\n",
              "    <tr>\n",
              "      <th>1</th>\n",
              "      <td>1</td>\n",
              "      <td>5</td>\n",
              "      <td>2005-01-18</td>\n",
              "      <td>AMD002</td>\n",
              "      <td>76.0</td>\n",
              "    </tr>\n",
              "    <tr>\n",
              "      <th>2</th>\n",
              "      <td>1</td>\n",
              "      <td>5</td>\n",
              "      <td>2005-01-18</td>\n",
              "      <td>AMD004</td>\n",
              "      <td>135.0</td>\n",
              "    </tr>\n",
              "    <tr>\n",
              "      <th>3</th>\n",
              "      <td>1</td>\n",
              "      <td>5</td>\n",
              "      <td>2005-01-18</td>\n",
              "      <td>AMD005</td>\n",
              "      <td>80.0</td>\n",
              "    </tr>\n",
              "    <tr>\n",
              "      <th>4</th>\n",
              "      <td>1</td>\n",
              "      <td>5</td>\n",
              "      <td>2005-06-06</td>\n",
              "      <td>AMD007</td>\n",
              "      <td>169.0</td>\n",
              "    </tr>\n",
              "  </tbody>\n",
              "</table>\n",
              "</div>\n",
              "      <button class=\"colab-df-convert\" onclick=\"convertToInteractive('df-b4cb0522-a0b3-4142-919f-ddc6ab6a4c4a')\"\n",
              "              title=\"Convert this dataframe to an interactive table.\"\n",
              "              style=\"display:none;\">\n",
              "        \n",
              "  <svg xmlns=\"http://www.w3.org/2000/svg\" height=\"24px\"viewBox=\"0 0 24 24\"\n",
              "       width=\"24px\">\n",
              "    <path d=\"M0 0h24v24H0V0z\" fill=\"none\"/>\n",
              "    <path d=\"M18.56 5.44l.94 2.06.94-2.06 2.06-.94-2.06-.94-.94-2.06-.94 2.06-2.06.94zm-11 1L8.5 8.5l.94-2.06 2.06-.94-2.06-.94L8.5 2.5l-.94 2.06-2.06.94zm10 10l.94 2.06.94-2.06 2.06-.94-2.06-.94-.94-2.06-.94 2.06-2.06.94z\"/><path d=\"M17.41 7.96l-1.37-1.37c-.4-.4-.92-.59-1.43-.59-.52 0-1.04.2-1.43.59L10.3 9.45l-7.72 7.72c-.78.78-.78 2.05 0 2.83L4 21.41c.39.39.9.59 1.41.59.51 0 1.02-.2 1.41-.59l7.78-7.78 2.81-2.81c.8-.78.8-2.07 0-2.86zM5.41 20L4 18.59l7.72-7.72 1.47 1.35L5.41 20z\"/>\n",
              "  </svg>\n",
              "      </button>\n",
              "      \n",
              "  <style>\n",
              "    .colab-df-container {\n",
              "      display:flex;\n",
              "      flex-wrap:wrap;\n",
              "      gap: 12px;\n",
              "    }\n",
              "\n",
              "    .colab-df-convert {\n",
              "      background-color: #E8F0FE;\n",
              "      border: none;\n",
              "      border-radius: 50%;\n",
              "      cursor: pointer;\n",
              "      display: none;\n",
              "      fill: #1967D2;\n",
              "      height: 32px;\n",
              "      padding: 0 0 0 0;\n",
              "      width: 32px;\n",
              "    }\n",
              "\n",
              "    .colab-df-convert:hover {\n",
              "      background-color: #E2EBFA;\n",
              "      box-shadow: 0px 1px 2px rgba(60, 64, 67, 0.3), 0px 1px 3px 1px rgba(60, 64, 67, 0.15);\n",
              "      fill: #174EA6;\n",
              "    }\n",
              "\n",
              "    [theme=dark] .colab-df-convert {\n",
              "      background-color: #3B4455;\n",
              "      fill: #D2E3FC;\n",
              "    }\n",
              "\n",
              "    [theme=dark] .colab-df-convert:hover {\n",
              "      background-color: #434B5C;\n",
              "      box-shadow: 0px 1px 3px 1px rgba(0, 0, 0, 0.15);\n",
              "      filter: drop-shadow(0px 1px 2px rgba(0, 0, 0, 0.3));\n",
              "      fill: #FFFFFF;\n",
              "    }\n",
              "  </style>\n",
              "\n",
              "      <script>\n",
              "        const buttonEl =\n",
              "          document.querySelector('#df-b4cb0522-a0b3-4142-919f-ddc6ab6a4c4a button.colab-df-convert');\n",
              "        buttonEl.style.display =\n",
              "          google.colab.kernel.accessAllowed ? 'block' : 'none';\n",
              "\n",
              "        async function convertToInteractive(key) {\n",
              "          const element = document.querySelector('#df-b4cb0522-a0b3-4142-919f-ddc6ab6a4c4a');\n",
              "          const dataTable =\n",
              "            await google.colab.kernel.invokeFunction('convertToInteractive',\n",
              "                                                     [key], {});\n",
              "          if (!dataTable) return;\n",
              "\n",
              "          const docLinkHtml = 'Like what you see? Visit the ' +\n",
              "            '<a target=\"_blank\" href=https://colab.research.google.com/notebooks/data_table.ipynb>data table notebook</a>'\n",
              "            + ' to learn more about interactive tables.';\n",
              "          element.innerHTML = '';\n",
              "          dataTable['output_type'] = 'display_data';\n",
              "          await google.colab.output.renderOutput(dataTable, element);\n",
              "          const docLink = document.createElement('div');\n",
              "          docLink.innerHTML = docLinkHtml;\n",
              "          element.appendChild(docLink);\n",
              "        }\n",
              "      </script>\n",
              "    </div>\n",
              "  </div>\n",
              "  "
            ],
            "text/plain": [
              "   idcentro  idana        data codiceamd  valore\n",
              "0         1      5  2005-01-18    AMD001   169.0\n",
              "1         1      5  2005-01-18    AMD002    76.0\n",
              "2         1      5  2005-01-18    AMD004   135.0\n",
              "3         1      5  2005-01-18    AMD005    80.0\n",
              "4         1      5  2005-06-06    AMD007   169.0"
            ]
          },
          "execution_count": 8,
          "metadata": {},
          "output_type": "execute_result"
        }
      ],
      "source": [
        "print(elp.shape)\n",
        "elp.head()"
      ]
    },
    {
      "cell_type": "code",
      "execution_count": null,
      "metadata": {
        "colab": {
          "base_uri": "https://localhost:8080/",
          "height": 223
        },
        "id": "xSrIKrDFWsem",
        "outputId": "a2ff1927-2579-4638-a49f-908e158451a4"
      },
      "outputs": [
        {
          "name": "stdout",
          "output_type": "stream",
          "text": [
            "(1062856, 5)\n"
          ]
        },
        {
          "data": {
            "text/html": [
              "\n",
              "  <div id=\"df-468a734e-bc38-40ef-83f7-ca7f04fc98d9\">\n",
              "    <div class=\"colab-df-container\">\n",
              "      <div>\n",
              "<style scoped>\n",
              "    .dataframe tbody tr th:only-of-type {\n",
              "        vertical-align: middle;\n",
              "    }\n",
              "\n",
              "    .dataframe tbody tr th {\n",
              "        vertical-align: top;\n",
              "    }\n",
              "\n",
              "    .dataframe thead th {\n",
              "        text-align: right;\n",
              "    }\n",
              "</style>\n",
              "<table border=\"1\" class=\"dataframe\">\n",
              "  <thead>\n",
              "    <tr style=\"text-align: right;\">\n",
              "      <th></th>\n",
              "      <th>idcentro</th>\n",
              "      <th>idana</th>\n",
              "      <th>data</th>\n",
              "      <th>codiceamd</th>\n",
              "      <th>valore</th>\n",
              "    </tr>\n",
              "  </thead>\n",
              "  <tbody>\n",
              "    <tr>\n",
              "      <th>0</th>\n",
              "      <td>1</td>\n",
              "      <td>5</td>\n",
              "      <td>2006-01-04</td>\n",
              "      <td>AMD051</td>\n",
              "      <td>N</td>\n",
              "    </tr>\n",
              "    <tr>\n",
              "      <th>1</th>\n",
              "      <td>1</td>\n",
              "      <td>5</td>\n",
              "      <td>2006-11-14</td>\n",
              "      <td>AMD041</td>\n",
              "      <td>P</td>\n",
              "    </tr>\n",
              "    <tr>\n",
              "      <th>2</th>\n",
              "      <td>1</td>\n",
              "      <td>5</td>\n",
              "      <td>2006-11-20</td>\n",
              "      <td>AMD040</td>\n",
              "      <td>P</td>\n",
              "    </tr>\n",
              "    <tr>\n",
              "      <th>3</th>\n",
              "      <td>1</td>\n",
              "      <td>5</td>\n",
              "      <td>2007-06-01</td>\n",
              "      <td>AMD040</td>\n",
              "      <td>N</td>\n",
              "    </tr>\n",
              "    <tr>\n",
              "      <th>4</th>\n",
              "      <td>1</td>\n",
              "      <td>5</td>\n",
              "      <td>2008-01-16</td>\n",
              "      <td>AMD040</td>\n",
              "      <td>N</td>\n",
              "    </tr>\n",
              "  </tbody>\n",
              "</table>\n",
              "</div>\n",
              "      <button class=\"colab-df-convert\" onclick=\"convertToInteractive('df-468a734e-bc38-40ef-83f7-ca7f04fc98d9')\"\n",
              "              title=\"Convert this dataframe to an interactive table.\"\n",
              "              style=\"display:none;\">\n",
              "        \n",
              "  <svg xmlns=\"http://www.w3.org/2000/svg\" height=\"24px\"viewBox=\"0 0 24 24\"\n",
              "       width=\"24px\">\n",
              "    <path d=\"M0 0h24v24H0V0z\" fill=\"none\"/>\n",
              "    <path d=\"M18.56 5.44l.94 2.06.94-2.06 2.06-.94-2.06-.94-.94-2.06-.94 2.06-2.06.94zm-11 1L8.5 8.5l.94-2.06 2.06-.94-2.06-.94L8.5 2.5l-.94 2.06-2.06.94zm10 10l.94 2.06.94-2.06 2.06-.94-2.06-.94-.94-2.06-.94 2.06-2.06.94z\"/><path d=\"M17.41 7.96l-1.37-1.37c-.4-.4-.92-.59-1.43-.59-.52 0-1.04.2-1.43.59L10.3 9.45l-7.72 7.72c-.78.78-.78 2.05 0 2.83L4 21.41c.39.39.9.59 1.41.59.51 0 1.02-.2 1.41-.59l7.78-7.78 2.81-2.81c.8-.78.8-2.07 0-2.86zM5.41 20L4 18.59l7.72-7.72 1.47 1.35L5.41 20z\"/>\n",
              "  </svg>\n",
              "      </button>\n",
              "      \n",
              "  <style>\n",
              "    .colab-df-container {\n",
              "      display:flex;\n",
              "      flex-wrap:wrap;\n",
              "      gap: 12px;\n",
              "    }\n",
              "\n",
              "    .colab-df-convert {\n",
              "      background-color: #E8F0FE;\n",
              "      border: none;\n",
              "      border-radius: 50%;\n",
              "      cursor: pointer;\n",
              "      display: none;\n",
              "      fill: #1967D2;\n",
              "      height: 32px;\n",
              "      padding: 0 0 0 0;\n",
              "      width: 32px;\n",
              "    }\n",
              "\n",
              "    .colab-df-convert:hover {\n",
              "      background-color: #E2EBFA;\n",
              "      box-shadow: 0px 1px 2px rgba(60, 64, 67, 0.3), 0px 1px 3px 1px rgba(60, 64, 67, 0.15);\n",
              "      fill: #174EA6;\n",
              "    }\n",
              "\n",
              "    [theme=dark] .colab-df-convert {\n",
              "      background-color: #3B4455;\n",
              "      fill: #D2E3FC;\n",
              "    }\n",
              "\n",
              "    [theme=dark] .colab-df-convert:hover {\n",
              "      background-color: #434B5C;\n",
              "      box-shadow: 0px 1px 3px 1px rgba(0, 0, 0, 0.15);\n",
              "      filter: drop-shadow(0px 1px 2px rgba(0, 0, 0, 0.3));\n",
              "      fill: #FFFFFF;\n",
              "    }\n",
              "  </style>\n",
              "\n",
              "      <script>\n",
              "        const buttonEl =\n",
              "          document.querySelector('#df-468a734e-bc38-40ef-83f7-ca7f04fc98d9 button.colab-df-convert');\n",
              "        buttonEl.style.display =\n",
              "          google.colab.kernel.accessAllowed ? 'block' : 'none';\n",
              "\n",
              "        async function convertToInteractive(key) {\n",
              "          const element = document.querySelector('#df-468a734e-bc38-40ef-83f7-ca7f04fc98d9');\n",
              "          const dataTable =\n",
              "            await google.colab.kernel.invokeFunction('convertToInteractive',\n",
              "                                                     [key], {});\n",
              "          if (!dataTable) return;\n",
              "\n",
              "          const docLinkHtml = 'Like what you see? Visit the ' +\n",
              "            '<a target=\"_blank\" href=https://colab.research.google.com/notebooks/data_table.ipynb>data table notebook</a>'\n",
              "            + ' to learn more about interactive tables.';\n",
              "          element.innerHTML = '';\n",
              "          dataTable['output_type'] = 'display_data';\n",
              "          await google.colab.output.renderOutput(dataTable, element);\n",
              "          const docLink = document.createElement('div');\n",
              "          docLink.innerHTML = docLinkHtml;\n",
              "          element.appendChild(docLink);\n",
              "        }\n",
              "      </script>\n",
              "    </div>\n",
              "  </div>\n",
              "  "
            ],
            "text/plain": [
              "   idcentro  idana        data codiceamd valore\n",
              "0         1      5  2006-01-04    AMD051      N\n",
              "1         1      5  2006-11-14    AMD041      P\n",
              "2         1      5  2006-11-20    AMD040      P\n",
              "3         1      5  2007-06-01    AMD040      N\n",
              "4         1      5  2008-01-16    AMD040      N"
            ]
          },
          "execution_count": 9,
          "metadata": {},
          "output_type": "execute_result"
        }
      ],
      "source": [
        "print(ei.shape)\n",
        "ei.head()"
      ]
    },
    {
      "cell_type": "code",
      "execution_count": null,
      "metadata": {
        "colab": {
          "base_uri": "https://localhost:8080/",
          "height": 223
        },
        "id": "0wdC-BVsWsem",
        "outputId": "ec9b9592-c4c2-48db-f6b0-46cf650163ff"
      },
      "outputs": [
        {
          "name": "stdout",
          "output_type": "stream",
          "text": [
            "(7289926, 7)\n"
          ]
        },
        {
          "data": {
            "text/html": [
              "\n",
              "  <div id=\"df-f6c1069e-d24b-4fdc-8302-1fc883e1379c\">\n",
              "    <div class=\"colab-df-container\">\n",
              "      <div>\n",
              "<style scoped>\n",
              "    .dataframe tbody tr th:only-of-type {\n",
              "        vertical-align: middle;\n",
              "    }\n",
              "\n",
              "    .dataframe tbody tr th {\n",
              "        vertical-align: top;\n",
              "    }\n",
              "\n",
              "    .dataframe thead th {\n",
              "        text-align: right;\n",
              "    }\n",
              "</style>\n",
              "<table border=\"1\" class=\"dataframe\">\n",
              "  <thead>\n",
              "    <tr style=\"text-align: right;\">\n",
              "      <th></th>\n",
              "      <th>idcentro</th>\n",
              "      <th>idana</th>\n",
              "      <th>data</th>\n",
              "      <th>codiceatc</th>\n",
              "      <th>quantita</th>\n",
              "      <th>idpasto</th>\n",
              "      <th>descrizionefarmaco</th>\n",
              "    </tr>\n",
              "  </thead>\n",
              "  <tbody>\n",
              "    <tr>\n",
              "      <th>0</th>\n",
              "      <td>82</td>\n",
              "      <td>782</td>\n",
              "      <td>2008-04-02</td>\n",
              "      <td>A10BA02</td>\n",
              "      <td>1.0</td>\n",
              "      <td>1</td>\n",
              "      <td>GLUCOPHAGE*60CPR RIV 1000MG</td>\n",
              "    </tr>\n",
              "    <tr>\n",
              "      <th>1</th>\n",
              "      <td>82</td>\n",
              "      <td>782</td>\n",
              "      <td>2008-04-02</td>\n",
              "      <td>A10BA02</td>\n",
              "      <td>1.0</td>\n",
              "      <td>3</td>\n",
              "      <td>GLUCOPHAGE*60CPR RIV 1000MG</td>\n",
              "    </tr>\n",
              "    <tr>\n",
              "      <th>2</th>\n",
              "      <td>82</td>\n",
              "      <td>782</td>\n",
              "      <td>2008-04-02</td>\n",
              "      <td>A10BA02</td>\n",
              "      <td>1.0</td>\n",
              "      <td>5</td>\n",
              "      <td>GLUCOPHAGE*60CPR RIV 1000MG</td>\n",
              "    </tr>\n",
              "    <tr>\n",
              "      <th>3</th>\n",
              "      <td>82</td>\n",
              "      <td>782</td>\n",
              "      <td>2008-04-02</td>\n",
              "      <td>A10BB09</td>\n",
              "      <td>3.0</td>\n",
              "      <td>1</td>\n",
              "      <td>DIAMICRON*60CPR R.M. 30MG</td>\n",
              "    </tr>\n",
              "    <tr>\n",
              "      <th>4</th>\n",
              "      <td>82</td>\n",
              "      <td>782</td>\n",
              "      <td>2008-05-02</td>\n",
              "      <td>A10BA02</td>\n",
              "      <td>1.0</td>\n",
              "      <td>1</td>\n",
              "      <td>GLUCOPHAGE*60CPR RIV 1000MG</td>\n",
              "    </tr>\n",
              "  </tbody>\n",
              "</table>\n",
              "</div>\n",
              "      <button class=\"colab-df-convert\" onclick=\"convertToInteractive('df-f6c1069e-d24b-4fdc-8302-1fc883e1379c')\"\n",
              "              title=\"Convert this dataframe to an interactive table.\"\n",
              "              style=\"display:none;\">\n",
              "        \n",
              "  <svg xmlns=\"http://www.w3.org/2000/svg\" height=\"24px\"viewBox=\"0 0 24 24\"\n",
              "       width=\"24px\">\n",
              "    <path d=\"M0 0h24v24H0V0z\" fill=\"none\"/>\n",
              "    <path d=\"M18.56 5.44l.94 2.06.94-2.06 2.06-.94-2.06-.94-.94-2.06-.94 2.06-2.06.94zm-11 1L8.5 8.5l.94-2.06 2.06-.94-2.06-.94L8.5 2.5l-.94 2.06-2.06.94zm10 10l.94 2.06.94-2.06 2.06-.94-2.06-.94-.94-2.06-.94 2.06-2.06.94z\"/><path d=\"M17.41 7.96l-1.37-1.37c-.4-.4-.92-.59-1.43-.59-.52 0-1.04.2-1.43.59L10.3 9.45l-7.72 7.72c-.78.78-.78 2.05 0 2.83L4 21.41c.39.39.9.59 1.41.59.51 0 1.02-.2 1.41-.59l7.78-7.78 2.81-2.81c.8-.78.8-2.07 0-2.86zM5.41 20L4 18.59l7.72-7.72 1.47 1.35L5.41 20z\"/>\n",
              "  </svg>\n",
              "      </button>\n",
              "      \n",
              "  <style>\n",
              "    .colab-df-container {\n",
              "      display:flex;\n",
              "      flex-wrap:wrap;\n",
              "      gap: 12px;\n",
              "    }\n",
              "\n",
              "    .colab-df-convert {\n",
              "      background-color: #E8F0FE;\n",
              "      border: none;\n",
              "      border-radius: 50%;\n",
              "      cursor: pointer;\n",
              "      display: none;\n",
              "      fill: #1967D2;\n",
              "      height: 32px;\n",
              "      padding: 0 0 0 0;\n",
              "      width: 32px;\n",
              "    }\n",
              "\n",
              "    .colab-df-convert:hover {\n",
              "      background-color: #E2EBFA;\n",
              "      box-shadow: 0px 1px 2px rgba(60, 64, 67, 0.3), 0px 1px 3px 1px rgba(60, 64, 67, 0.15);\n",
              "      fill: #174EA6;\n",
              "    }\n",
              "\n",
              "    [theme=dark] .colab-df-convert {\n",
              "      background-color: #3B4455;\n",
              "      fill: #D2E3FC;\n",
              "    }\n",
              "\n",
              "    [theme=dark] .colab-df-convert:hover {\n",
              "      background-color: #434B5C;\n",
              "      box-shadow: 0px 1px 3px 1px rgba(0, 0, 0, 0.15);\n",
              "      filter: drop-shadow(0px 1px 2px rgba(0, 0, 0, 0.3));\n",
              "      fill: #FFFFFF;\n",
              "    }\n",
              "  </style>\n",
              "\n",
              "      <script>\n",
              "        const buttonEl =\n",
              "          document.querySelector('#df-f6c1069e-d24b-4fdc-8302-1fc883e1379c button.colab-df-convert');\n",
              "        buttonEl.style.display =\n",
              "          google.colab.kernel.accessAllowed ? 'block' : 'none';\n",
              "\n",
              "        async function convertToInteractive(key) {\n",
              "          const element = document.querySelector('#df-f6c1069e-d24b-4fdc-8302-1fc883e1379c');\n",
              "          const dataTable =\n",
              "            await google.colab.kernel.invokeFunction('convertToInteractive',\n",
              "                                                     [key], {});\n",
              "          if (!dataTable) return;\n",
              "\n",
              "          const docLinkHtml = 'Like what you see? Visit the ' +\n",
              "            '<a target=\"_blank\" href=https://colab.research.google.com/notebooks/data_table.ipynb>data table notebook</a>'\n",
              "            + ' to learn more about interactive tables.';\n",
              "          element.innerHTML = '';\n",
              "          dataTable['output_type'] = 'display_data';\n",
              "          await google.colab.output.renderOutput(dataTable, element);\n",
              "          const docLink = document.createElement('div');\n",
              "          docLink.innerHTML = docLinkHtml;\n",
              "          element.appendChild(docLink);\n",
              "        }\n",
              "      </script>\n",
              "    </div>\n",
              "  </div>\n",
              "  "
            ],
            "text/plain": [
              "   idcentro  idana        data codiceatc  quantita  idpasto  \\\n",
              "0        82    782  2008-04-02   A10BA02       1.0        1   \n",
              "1        82    782  2008-04-02   A10BA02       1.0        3   \n",
              "2        82    782  2008-04-02   A10BA02       1.0        5   \n",
              "3        82    782  2008-04-02   A10BB09       3.0        1   \n",
              "4        82    782  2008-05-02   A10BA02       1.0        1   \n",
              "\n",
              "            descrizionefarmaco  \n",
              "0  GLUCOPHAGE*60CPR RIV 1000MG  \n",
              "1  GLUCOPHAGE*60CPR RIV 1000MG  \n",
              "2  GLUCOPHAGE*60CPR RIV 1000MG  \n",
              "3    DIAMICRON*60CPR R.M. 30MG  \n",
              "4  GLUCOPHAGE*60CPR RIV 1000MG  "
            ]
          },
          "execution_count": 10,
          "metadata": {},
          "output_type": "execute_result"
        }
      ],
      "source": [
        "print(pdf.shape)\n",
        "pdf.head()"
      ]
    },
    {
      "cell_type": "code",
      "execution_count": null,
      "metadata": {
        "colab": {
          "base_uri": "https://localhost:8080/",
          "height": 223
        },
        "id": "E8L2JpALWsen",
        "outputId": "8e19c8d6-eee7-4ff4-9489-b55786df2c35"
      },
      "outputs": [
        {
          "name": "stdout",
          "output_type": "stream",
          "text": [
            "(569353, 5)\n"
          ]
        },
        {
          "data": {
            "text/html": [
              "\n",
              "  <div id=\"df-fea7cdf7-bb9a-495b-a455-8320bdb85684\">\n",
              "    <div class=\"colab-df-container\">\n",
              "      <div>\n",
              "<style scoped>\n",
              "    .dataframe tbody tr th:only-of-type {\n",
              "        vertical-align: middle;\n",
              "    }\n",
              "\n",
              "    .dataframe tbody tr th {\n",
              "        vertical-align: top;\n",
              "    }\n",
              "\n",
              "    .dataframe thead th {\n",
              "        text-align: right;\n",
              "    }\n",
              "</style>\n",
              "<table border=\"1\" class=\"dataframe\">\n",
              "  <thead>\n",
              "    <tr style=\"text-align: right;\">\n",
              "      <th></th>\n",
              "      <th>idcentro</th>\n",
              "      <th>idana</th>\n",
              "      <th>data</th>\n",
              "      <th>codiceamd</th>\n",
              "      <th>valore</th>\n",
              "    </tr>\n",
              "  </thead>\n",
              "  <tbody>\n",
              "    <tr>\n",
              "      <th>0</th>\n",
              "      <td>1</td>\n",
              "      <td>5</td>\n",
              "      <td>2008-06-20</td>\n",
              "      <td>AMD152</td>\n",
              "      <td>NaN</td>\n",
              "    </tr>\n",
              "    <tr>\n",
              "      <th>1</th>\n",
              "      <td>1</td>\n",
              "      <td>5</td>\n",
              "      <td>2013-08-27</td>\n",
              "      <td>AMD152</td>\n",
              "      <td>NaN</td>\n",
              "    </tr>\n",
              "    <tr>\n",
              "      <th>2</th>\n",
              "      <td>1</td>\n",
              "      <td>5</td>\n",
              "      <td>2013-12-31</td>\n",
              "      <td>AMD086</td>\n",
              "      <td>S</td>\n",
              "    </tr>\n",
              "    <tr>\n",
              "      <th>3</th>\n",
              "      <td>1</td>\n",
              "      <td>5</td>\n",
              "      <td>2013-12-31</td>\n",
              "      <td>AMD228</td>\n",
              "      <td>S</td>\n",
              "    </tr>\n",
              "    <tr>\n",
              "      <th>4</th>\n",
              "      <td>1</td>\n",
              "      <td>34</td>\n",
              "      <td>2005-01-07</td>\n",
              "      <td>AMD090</td>\n",
              "      <td>S</td>\n",
              "    </tr>\n",
              "  </tbody>\n",
              "</table>\n",
              "</div>\n",
              "      <button class=\"colab-df-convert\" onclick=\"convertToInteractive('df-fea7cdf7-bb9a-495b-a455-8320bdb85684')\"\n",
              "              title=\"Convert this dataframe to an interactive table.\"\n",
              "              style=\"display:none;\">\n",
              "        \n",
              "  <svg xmlns=\"http://www.w3.org/2000/svg\" height=\"24px\"viewBox=\"0 0 24 24\"\n",
              "       width=\"24px\">\n",
              "    <path d=\"M0 0h24v24H0V0z\" fill=\"none\"/>\n",
              "    <path d=\"M18.56 5.44l.94 2.06.94-2.06 2.06-.94-2.06-.94-.94-2.06-.94 2.06-2.06.94zm-11 1L8.5 8.5l.94-2.06 2.06-.94-2.06-.94L8.5 2.5l-.94 2.06-2.06.94zm10 10l.94 2.06.94-2.06 2.06-.94-2.06-.94-.94-2.06-.94 2.06-2.06.94z\"/><path d=\"M17.41 7.96l-1.37-1.37c-.4-.4-.92-.59-1.43-.59-.52 0-1.04.2-1.43.59L10.3 9.45l-7.72 7.72c-.78.78-.78 2.05 0 2.83L4 21.41c.39.39.9.59 1.41.59.51 0 1.02-.2 1.41-.59l7.78-7.78 2.81-2.81c.8-.78.8-2.07 0-2.86zM5.41 20L4 18.59l7.72-7.72 1.47 1.35L5.41 20z\"/>\n",
              "  </svg>\n",
              "      </button>\n",
              "      \n",
              "  <style>\n",
              "    .colab-df-container {\n",
              "      display:flex;\n",
              "      flex-wrap:wrap;\n",
              "      gap: 12px;\n",
              "    }\n",
              "\n",
              "    .colab-df-convert {\n",
              "      background-color: #E8F0FE;\n",
              "      border: none;\n",
              "      border-radius: 50%;\n",
              "      cursor: pointer;\n",
              "      display: none;\n",
              "      fill: #1967D2;\n",
              "      height: 32px;\n",
              "      padding: 0 0 0 0;\n",
              "      width: 32px;\n",
              "    }\n",
              "\n",
              "    .colab-df-convert:hover {\n",
              "      background-color: #E2EBFA;\n",
              "      box-shadow: 0px 1px 2px rgba(60, 64, 67, 0.3), 0px 1px 3px 1px rgba(60, 64, 67, 0.15);\n",
              "      fill: #174EA6;\n",
              "    }\n",
              "\n",
              "    [theme=dark] .colab-df-convert {\n",
              "      background-color: #3B4455;\n",
              "      fill: #D2E3FC;\n",
              "    }\n",
              "\n",
              "    [theme=dark] .colab-df-convert:hover {\n",
              "      background-color: #434B5C;\n",
              "      box-shadow: 0px 1px 3px 1px rgba(0, 0, 0, 0.15);\n",
              "      filter: drop-shadow(0px 1px 2px rgba(0, 0, 0, 0.3));\n",
              "      fill: #FFFFFF;\n",
              "    }\n",
              "  </style>\n",
              "\n",
              "      <script>\n",
              "        const buttonEl =\n",
              "          document.querySelector('#df-fea7cdf7-bb9a-495b-a455-8320bdb85684 button.colab-df-convert');\n",
              "        buttonEl.style.display =\n",
              "          google.colab.kernel.accessAllowed ? 'block' : 'none';\n",
              "\n",
              "        async function convertToInteractive(key) {\n",
              "          const element = document.querySelector('#df-fea7cdf7-bb9a-495b-a455-8320bdb85684');\n",
              "          const dataTable =\n",
              "            await google.colab.kernel.invokeFunction('convertToInteractive',\n",
              "                                                     [key], {});\n",
              "          if (!dataTable) return;\n",
              "\n",
              "          const docLinkHtml = 'Like what you see? Visit the ' +\n",
              "            '<a target=\"_blank\" href=https://colab.research.google.com/notebooks/data_table.ipynb>data table notebook</a>'\n",
              "            + ' to learn more about interactive tables.';\n",
              "          element.innerHTML = '';\n",
              "          dataTable['output_type'] = 'display_data';\n",
              "          await google.colab.output.renderOutput(dataTable, element);\n",
              "          const docLink = document.createElement('div');\n",
              "          docLink.innerHTML = docLinkHtml;\n",
              "          element.appendChild(docLink);\n",
              "        }\n",
              "      </script>\n",
              "    </div>\n",
              "  </div>\n",
              "  "
            ],
            "text/plain": [
              "   idcentro  idana        data codiceamd valore\n",
              "0         1      5  2008-06-20    AMD152    NaN\n",
              "1         1      5  2013-08-27    AMD152    NaN\n",
              "2         1      5  2013-12-31    AMD086      S\n",
              "3         1      5  2013-12-31    AMD228      S\n",
              "4         1     34  2005-01-07    AMD090      S"
            ]
          },
          "execution_count": 11,
          "metadata": {},
          "output_type": "execute_result"
        }
      ],
      "source": [
        "print(pdnf.shape)\n",
        "pdnf.head()"
      ]
    },
    {
      "cell_type": "code",
      "execution_count": null,
      "metadata": {
        "colab": {
          "base_uri": "https://localhost:8080/",
          "height": 223
        },
        "id": "XYluTxGnWsen",
        "outputId": "04877590-18a3-4340-88f4-50db7cae6a06"
      },
      "outputs": [
        {
          "name": "stdout",
          "output_type": "stream",
          "text": [
            "(5573033, 5)\n"
          ]
        },
        {
          "data": {
            "text/html": [
              "\n",
              "  <div id=\"df-c98b0796-02bc-4804-9ba1-abcef7003462\">\n",
              "    <div class=\"colab-df-container\">\n",
              "      <div>\n",
              "<style scoped>\n",
              "    .dataframe tbody tr th:only-of-type {\n",
              "        vertical-align: middle;\n",
              "    }\n",
              "\n",
              "    .dataframe tbody tr th {\n",
              "        vertical-align: top;\n",
              "    }\n",
              "\n",
              "    .dataframe thead th {\n",
              "        text-align: right;\n",
              "    }\n",
              "</style>\n",
              "<table border=\"1\" class=\"dataframe\">\n",
              "  <thead>\n",
              "    <tr style=\"text-align: right;\">\n",
              "      <th></th>\n",
              "      <th>idcentro</th>\n",
              "      <th>idana</th>\n",
              "      <th>data</th>\n",
              "      <th>codiceamd</th>\n",
              "      <th>valore</th>\n",
              "    </tr>\n",
              "  </thead>\n",
              "  <tbody>\n",
              "    <tr>\n",
              "      <th>0</th>\n",
              "      <td>1</td>\n",
              "      <td>5</td>\n",
              "      <td>2005-01-18</td>\n",
              "      <td>AMD121</td>\n",
              "      <td>C09AA05</td>\n",
              "    </tr>\n",
              "    <tr>\n",
              "      <th>1</th>\n",
              "      <td>1</td>\n",
              "      <td>5</td>\n",
              "      <td>2005-01-18</td>\n",
              "      <td>AMD124</td>\n",
              "      <td>C10AA05</td>\n",
              "    </tr>\n",
              "    <tr>\n",
              "      <th>2</th>\n",
              "      <td>1</td>\n",
              "      <td>5</td>\n",
              "      <td>2005-01-18</td>\n",
              "      <td>AMD124</td>\n",
              "      <td>C10AX06</td>\n",
              "    </tr>\n",
              "    <tr>\n",
              "      <th>3</th>\n",
              "      <td>1</td>\n",
              "      <td>5</td>\n",
              "      <td>2005-06-21</td>\n",
              "      <td>AMD121</td>\n",
              "      <td>C09AA05</td>\n",
              "    </tr>\n",
              "    <tr>\n",
              "      <th>4</th>\n",
              "      <td>1</td>\n",
              "      <td>5</td>\n",
              "      <td>2005-06-21</td>\n",
              "      <td>AMD124</td>\n",
              "      <td>C10AA05</td>\n",
              "    </tr>\n",
              "  </tbody>\n",
              "</table>\n",
              "</div>\n",
              "      <button class=\"colab-df-convert\" onclick=\"convertToInteractive('df-c98b0796-02bc-4804-9ba1-abcef7003462')\"\n",
              "              title=\"Convert this dataframe to an interactive table.\"\n",
              "              style=\"display:none;\">\n",
              "        \n",
              "  <svg xmlns=\"http://www.w3.org/2000/svg\" height=\"24px\"viewBox=\"0 0 24 24\"\n",
              "       width=\"24px\">\n",
              "    <path d=\"M0 0h24v24H0V0z\" fill=\"none\"/>\n",
              "    <path d=\"M18.56 5.44l.94 2.06.94-2.06 2.06-.94-2.06-.94-.94-2.06-.94 2.06-2.06.94zm-11 1L8.5 8.5l.94-2.06 2.06-.94-2.06-.94L8.5 2.5l-.94 2.06-2.06.94zm10 10l.94 2.06.94-2.06 2.06-.94-2.06-.94-.94-2.06-.94 2.06-2.06.94z\"/><path d=\"M17.41 7.96l-1.37-1.37c-.4-.4-.92-.59-1.43-.59-.52 0-1.04.2-1.43.59L10.3 9.45l-7.72 7.72c-.78.78-.78 2.05 0 2.83L4 21.41c.39.39.9.59 1.41.59.51 0 1.02-.2 1.41-.59l7.78-7.78 2.81-2.81c.8-.78.8-2.07 0-2.86zM5.41 20L4 18.59l7.72-7.72 1.47 1.35L5.41 20z\"/>\n",
              "  </svg>\n",
              "      </button>\n",
              "      \n",
              "  <style>\n",
              "    .colab-df-container {\n",
              "      display:flex;\n",
              "      flex-wrap:wrap;\n",
              "      gap: 12px;\n",
              "    }\n",
              "\n",
              "    .colab-df-convert {\n",
              "      background-color: #E8F0FE;\n",
              "      border: none;\n",
              "      border-radius: 50%;\n",
              "      cursor: pointer;\n",
              "      display: none;\n",
              "      fill: #1967D2;\n",
              "      height: 32px;\n",
              "      padding: 0 0 0 0;\n",
              "      width: 32px;\n",
              "    }\n",
              "\n",
              "    .colab-df-convert:hover {\n",
              "      background-color: #E2EBFA;\n",
              "      box-shadow: 0px 1px 2px rgba(60, 64, 67, 0.3), 0px 1px 3px 1px rgba(60, 64, 67, 0.15);\n",
              "      fill: #174EA6;\n",
              "    }\n",
              "\n",
              "    [theme=dark] .colab-df-convert {\n",
              "      background-color: #3B4455;\n",
              "      fill: #D2E3FC;\n",
              "    }\n",
              "\n",
              "    [theme=dark] .colab-df-convert:hover {\n",
              "      background-color: #434B5C;\n",
              "      box-shadow: 0px 1px 3px 1px rgba(0, 0, 0, 0.15);\n",
              "      filter: drop-shadow(0px 1px 2px rgba(0, 0, 0, 0.3));\n",
              "      fill: #FFFFFF;\n",
              "    }\n",
              "  </style>\n",
              "\n",
              "      <script>\n",
              "        const buttonEl =\n",
              "          document.querySelector('#df-c98b0796-02bc-4804-9ba1-abcef7003462 button.colab-df-convert');\n",
              "        buttonEl.style.display =\n",
              "          google.colab.kernel.accessAllowed ? 'block' : 'none';\n",
              "\n",
              "        async function convertToInteractive(key) {\n",
              "          const element = document.querySelector('#df-c98b0796-02bc-4804-9ba1-abcef7003462');\n",
              "          const dataTable =\n",
              "            await google.colab.kernel.invokeFunction('convertToInteractive',\n",
              "                                                     [key], {});\n",
              "          if (!dataTable) return;\n",
              "\n",
              "          const docLinkHtml = 'Like what you see? Visit the ' +\n",
              "            '<a target=\"_blank\" href=https://colab.research.google.com/notebooks/data_table.ipynb>data table notebook</a>'\n",
              "            + ' to learn more about interactive tables.';\n",
              "          element.innerHTML = '';\n",
              "          dataTable['output_type'] = 'display_data';\n",
              "          await google.colab.output.renderOutput(dataTable, element);\n",
              "          const docLink = document.createElement('div');\n",
              "          docLink.innerHTML = docLinkHtml;\n",
              "          element.appendChild(docLink);\n",
              "        }\n",
              "      </script>\n",
              "    </div>\n",
              "  </div>\n",
              "  "
            ],
            "text/plain": [
              "   idcentro  idana        data codiceamd   valore\n",
              "0         1      5  2005-01-18    AMD121  C09AA05\n",
              "1         1      5  2005-01-18    AMD124  C10AA05\n",
              "2         1      5  2005-01-18    AMD124  C10AX06\n",
              "3         1      5  2005-06-21    AMD121  C09AA05\n",
              "4         1      5  2005-06-21    AMD124  C10AA05"
            ]
          },
          "execution_count": 12,
          "metadata": {},
          "output_type": "execute_result"
        }
      ],
      "source": [
        "print(pnd.shape)\n",
        "pnd.head()"
      ]
    },
    {
      "attachments": {},
      "cell_type": "markdown",
      "metadata": {
        "id": "Lx3U7nvCWsen"
      },
      "source": [
        "## Exercise 1"
      ]
    },
    {
      "attachments": {},
      "cell_type": "markdown",
      "metadata": {
        "id": "WmZBD1u5Wsen"
      },
      "source": [
        "**Select Events of Interest -**\n",
        "We want only patients with at leats one cardiovascular event in their trajectories. These events have the folloging codes:\n",
        "- **AMD047**: *Myocardial infarction*\n",
        "- **AMD048**: *Coronary angioplasty*\n",
        "- **AMD049**: *Coronary bypass*\n",
        "- **AMD071**: *Ictus*\n",
        "- **AMD081**: *Lower limb angioplasty*\n",
        "- **AMD082**: *Peripheral By-pass Lower Limbs*\n",
        "- **AMD208**: *Revascularization of intracranial and neck vessels*\n",
        "- **AMD303**: *Ischemic stroke*\n",
        "\n",
        "Now let's try to filter all the tables containing the parameter **codiceamd** so as to select just the rows describing one cardio-vascular event.\n"
      ]
    },
    {
      "cell_type": "code",
      "execution_count": null,
      "metadata": {
        "colab": {
          "base_uri": "https://localhost:8080/",
          "height": 241
        },
        "id": "NV09LENGWsen",
        "outputId": "24b53d13-8679-48ba-b468-8288c7c9c341"
      },
      "outputs": [
        {
          "name": "stdout",
          "output_type": "stream",
          "text": [
            "BEFORE pre-processing:  (4978504, 5)\n",
            "AFTER  pre-processing:  (328478, 5)\n"
          ]
        },
        {
          "data": {
            "text/html": [
              "\n",
              "  <div id=\"df-9fc8eaca-cda7-4992-b021-bdf3b1408a2a\">\n",
              "    <div class=\"colab-df-container\">\n",
              "      <div>\n",
              "<style scoped>\n",
              "    .dataframe tbody tr th:only-of-type {\n",
              "        vertical-align: middle;\n",
              "    }\n",
              "\n",
              "    .dataframe tbody tr th {\n",
              "        vertical-align: top;\n",
              "    }\n",
              "\n",
              "    .dataframe thead th {\n",
              "        text-align: right;\n",
              "    }\n",
              "</style>\n",
              "<table border=\"1\" class=\"dataframe\">\n",
              "  <thead>\n",
              "    <tr style=\"text-align: right;\">\n",
              "      <th></th>\n",
              "      <th>idcentro</th>\n",
              "      <th>idana</th>\n",
              "      <th>data</th>\n",
              "      <th>codiceamd</th>\n",
              "      <th>valore</th>\n",
              "    </tr>\n",
              "  </thead>\n",
              "  <tbody>\n",
              "    <tr>\n",
              "      <th>7</th>\n",
              "      <td>1</td>\n",
              "      <td>5</td>\n",
              "      <td>2000-12-02</td>\n",
              "      <td>AMD049</td>\n",
              "      <td>S</td>\n",
              "    </tr>\n",
              "    <tr>\n",
              "      <th>9</th>\n",
              "      <td>1</td>\n",
              "      <td>5</td>\n",
              "      <td>2001-03-22</td>\n",
              "      <td>AMD049</td>\n",
              "      <td>S</td>\n",
              "    </tr>\n",
              "    <tr>\n",
              "      <th>13</th>\n",
              "      <td>1</td>\n",
              "      <td>5</td>\n",
              "      <td>2002-02-11</td>\n",
              "      <td>AMD049</td>\n",
              "      <td>S</td>\n",
              "    </tr>\n",
              "    <tr>\n",
              "      <th>15</th>\n",
              "      <td>1</td>\n",
              "      <td>5</td>\n",
              "      <td>2002-02-14</td>\n",
              "      <td>AMD049</td>\n",
              "      <td>S</td>\n",
              "    </tr>\n",
              "    <tr>\n",
              "      <th>17</th>\n",
              "      <td>1</td>\n",
              "      <td>5</td>\n",
              "      <td>2003-01-17</td>\n",
              "      <td>AMD049</td>\n",
              "      <td>S</td>\n",
              "    </tr>\n",
              "  </tbody>\n",
              "</table>\n",
              "</div>\n",
              "      <button class=\"colab-df-convert\" onclick=\"convertToInteractive('df-9fc8eaca-cda7-4992-b021-bdf3b1408a2a')\"\n",
              "              title=\"Convert this dataframe to an interactive table.\"\n",
              "              style=\"display:none;\">\n",
              "        \n",
              "  <svg xmlns=\"http://www.w3.org/2000/svg\" height=\"24px\"viewBox=\"0 0 24 24\"\n",
              "       width=\"24px\">\n",
              "    <path d=\"M0 0h24v24H0V0z\" fill=\"none\"/>\n",
              "    <path d=\"M18.56 5.44l.94 2.06.94-2.06 2.06-.94-2.06-.94-.94-2.06-.94 2.06-2.06.94zm-11 1L8.5 8.5l.94-2.06 2.06-.94-2.06-.94L8.5 2.5l-.94 2.06-2.06.94zm10 10l.94 2.06.94-2.06 2.06-.94-2.06-.94-.94-2.06-.94 2.06-2.06.94z\"/><path d=\"M17.41 7.96l-1.37-1.37c-.4-.4-.92-.59-1.43-.59-.52 0-1.04.2-1.43.59L10.3 9.45l-7.72 7.72c-.78.78-.78 2.05 0 2.83L4 21.41c.39.39.9.59 1.41.59.51 0 1.02-.2 1.41-.59l7.78-7.78 2.81-2.81c.8-.78.8-2.07 0-2.86zM5.41 20L4 18.59l7.72-7.72 1.47 1.35L5.41 20z\"/>\n",
              "  </svg>\n",
              "      </button>\n",
              "      \n",
              "  <style>\n",
              "    .colab-df-container {\n",
              "      display:flex;\n",
              "      flex-wrap:wrap;\n",
              "      gap: 12px;\n",
              "    }\n",
              "\n",
              "    .colab-df-convert {\n",
              "      background-color: #E8F0FE;\n",
              "      border: none;\n",
              "      border-radius: 50%;\n",
              "      cursor: pointer;\n",
              "      display: none;\n",
              "      fill: #1967D2;\n",
              "      height: 32px;\n",
              "      padding: 0 0 0 0;\n",
              "      width: 32px;\n",
              "    }\n",
              "\n",
              "    .colab-df-convert:hover {\n",
              "      background-color: #E2EBFA;\n",
              "      box-shadow: 0px 1px 2px rgba(60, 64, 67, 0.3), 0px 1px 3px 1px rgba(60, 64, 67, 0.15);\n",
              "      fill: #174EA6;\n",
              "    }\n",
              "\n",
              "    [theme=dark] .colab-df-convert {\n",
              "      background-color: #3B4455;\n",
              "      fill: #D2E3FC;\n",
              "    }\n",
              "\n",
              "    [theme=dark] .colab-df-convert:hover {\n",
              "      background-color: #434B5C;\n",
              "      box-shadow: 0px 1px 3px 1px rgba(0, 0, 0, 0.15);\n",
              "      filter: drop-shadow(0px 1px 2px rgba(0, 0, 0, 0.3));\n",
              "      fill: #FFFFFF;\n",
              "    }\n",
              "  </style>\n",
              "\n",
              "      <script>\n",
              "        const buttonEl =\n",
              "          document.querySelector('#df-9fc8eaca-cda7-4992-b021-bdf3b1408a2a button.colab-df-convert');\n",
              "        buttonEl.style.display =\n",
              "          google.colab.kernel.accessAllowed ? 'block' : 'none';\n",
              "\n",
              "        async function convertToInteractive(key) {\n",
              "          const element = document.querySelector('#df-9fc8eaca-cda7-4992-b021-bdf3b1408a2a');\n",
              "          const dataTable =\n",
              "            await google.colab.kernel.invokeFunction('convertToInteractive',\n",
              "                                                     [key], {});\n",
              "          if (!dataTable) return;\n",
              "\n",
              "          const docLinkHtml = 'Like what you see? Visit the ' +\n",
              "            '<a target=\"_blank\" href=https://colab.research.google.com/notebooks/data_table.ipynb>data table notebook</a>'\n",
              "            + ' to learn more about interactive tables.';\n",
              "          element.innerHTML = '';\n",
              "          dataTable['output_type'] = 'display_data';\n",
              "          await google.colab.output.renderOutput(dataTable, element);\n",
              "          const docLink = document.createElement('div');\n",
              "          docLink.innerHTML = docLinkHtml;\n",
              "          element.appendChild(docLink);\n",
              "        }\n",
              "      </script>\n",
              "    </div>\n",
              "  </div>\n",
              "  "
            ],
            "text/plain": [
              "    idcentro  idana        data codiceamd valore\n",
              "7          1      5  2000-12-02    AMD049      S\n",
              "9          1      5  2001-03-22    AMD049      S\n",
              "13         1      5  2002-02-11    AMD049      S\n",
              "15         1      5  2002-02-14    AMD049      S\n",
              "17         1      5  2003-01-17    AMD049      S"
            ]
          },
          "execution_count": 13,
          "metadata": {},
          "output_type": "execute_result"
        }
      ],
      "source": [
        "codes = ['AMD047', 'AMD048', 'AMD049', 'AMD071', 'AMD081', 'AMD082', 'AMD208', 'AMD303']\n",
        "\n",
        "def selectEvents(df:pd.DataFrame, events_codes:list) -> pd.DataFrame:\n",
        "    return df[df.codiceamd.isin(events_codes)]\n",
        "\n",
        "## pnd_cardEvents = selectEvents(pnd,codes)\n",
        "\n",
        "## pdnf_cardEvents = selectEvents(pdnf,codes)\n",
        "\n",
        "## ei_cardEvents = selectEvents(ei,codes)\n",
        "\n",
        "## elp_cardEvents = selectEvents(elp,codes)\n",
        "\n",
        "diag_cardEvents = selectEvents(diag,codes)\n",
        "print(\"BEFORE pre-processing: \", diag.shape)\n",
        "print(\"AFTER  pre-processing: \", diag_cardEvents.shape)\n",
        "diag_cardEvents.head()\n"
      ]
    },
    {
      "attachments": {},
      "cell_type": "markdown",
      "metadata": {
        "id": "fHYXBcvdWsen"
      },
      "source": [
        "We realise that the only table with these cardio-vascular events is **diagnosi**, so we create a new DataFrame with all the rows that has one of these events, and we call it: **diag_cardEvents**. And from this table, we extract the id's of the patients that have suffered at least one cardio-vascular event during his life:"
      ]
    },
    {
      "cell_type": "code",
      "execution_count": null,
      "metadata": {
        "colab": {
          "base_uri": "https://localhost:8080/"
        },
        "id": "z0jPqlPyWsen",
        "outputId": "fd52b316-6eef-47f2-84e1-e18fe89eacd9"
      },
      "outputs": [
        {
          "name": "stdout",
          "output_type": "stream",
          "text": [
            "Number of patients with at least one cardio-vascular event:  70193 / 250000 patients.\n"
          ]
        }
      ],
      "source": [
        "patientsOfInterest = diag_cardEvents.filter(['idcentro','idana']).drop_duplicates()\n",
        "print(\"Number of patients with at least one cardio-vascular event: \", patientsOfInterest.shape[0], \"/\", ap.shape[0] , \"patients.\")"
      ]
    },
    {
      "attachments": {},
      "cell_type": "markdown",
      "metadata": {
        "id": "Fopp_h9zWseo"
      },
      "source": [
        "Finally, we have to delete from the rest of the tables all the information which is not associated to the remaining patients:"
      ]
    },
    {
      "cell_type": "code",
      "execution_count": null,
      "metadata": {
        "id": "AELY_CmqWseo"
      },
      "outputs": [],
      "source": [
        "ap   = pd.merge(ap, patientsOfInterest,   on=['idcentro','idana'], how='right')[ap_fixed.columns]\n",
        "diag = pd.merge(diag, patientsOfInterest, on=['idcentro','idana'], how='right')[diag_fixed.columns]\n",
        "elp  = pd.merge(elp, patientsOfInterest,  on=['idcentro','idana'], how='right')[elp_fixed.columns]\n",
        "ei   = pd.merge(ei, patientsOfInterest,   on=['idcentro','idana'], how='right')[ei_fixed.columns]\n",
        "pdf  = pd.merge(pdf, patientsOfInterest,  on=['idcentro','idana'], how='right')[pdf_fixed.columns]\n",
        "pdnf = pd.merge(pdnf, patientsOfInterest, on=['idcentro','idana'], how='right')[pdnf_fixed.columns]\n",
        "pnd  = pd.merge(pnd, patientsOfInterest,  on=['idcentro','idana'], how='right')[pnd_fixed.columns]"
      ]
    },
    {
      "cell_type": "code",
      "execution_count": null,
      "metadata": {
        "colab": {
          "base_uri": "https://localhost:8080/"
        },
        "id": "9a0hw_IGWseo",
        "outputId": "c3268cb5-22c0-4a84-8c8e-2328f11567c6"
      },
      "outputs": [
        {
          "name": "stdout",
          "output_type": "stream",
          "text": [
            "We still have: 70193/250000 patients\n"
          ]
        }
      ],
      "source": [
        "print(f\"We still have: {ap.shape[0]}/{ap_fixed.shape[0]} patients\")"
      ]
    },
    {
      "attachments": {},
      "cell_type": "markdown",
      "metadata": {
        "id": "Z1jdUNRaWseo"
      },
      "source": [
        "## Exercise 2"
      ]
    },
    {
      "attachments": {},
      "cell_type": "markdown",
      "metadata": {
        "id": "U7pd_t5tWseo"
      },
      "source": [
        "**Invalid feature cleaning** - check for dates and time intervals [x, y] such that y < x and not x ≤ y.\n",
        "Check for years that do not make sense (e.g., events before the birth of a particular patient).\n"
      ]
    },
    {
      "cell_type": "code",
      "execution_count": null,
      "metadata": {
        "colab": {
          "base_uri": "https://localhost:8080/"
        },
        "id": "40Ix6u9GWseo",
        "outputId": "98298d92-818b-4a17-ae90-2bbd19185307"
      },
      "outputs": [
        {
          "data": {
            "text/plain": [
              "(70193, 12)"
            ]
          },
          "execution_count": 17,
          "metadata": {},
          "output_type": "execute_result"
        }
      ],
      "source": [
        "# We see the number of patients that we have before checking that their dates are valid\n",
        "ap.shape"
      ]
    },
    {
      "cell_type": "code",
      "execution_count": null,
      "metadata": {
        "colab": {
          "base_uri": "https://localhost:8080/"
        },
        "id": "TEg4Kzo_Wsep",
        "outputId": "3cfe216d-9a0b-476f-ede6-998f5119ee6a"
      },
      "outputs": [
        {
          "name": "stdout",
          "output_type": "stream",
          "text": [
            "(6745, 12)\n",
            "(6745, 12)\n",
            "(6745, 12)\n"
          ]
        }
      ],
      "source": [
        "# First we check that the patient's birth year, the year of the diabetes diagnosis and the year of thier first access is not NaN\n",
        "# Then, we check that the birth year, the year of first access and the year of their diabetes diagnosis are all smaller than their death year \n",
        "ap = ap[(ap['annonascita'].notna()) & (ap['annoprimoaccesso'].notna()) & (ap['annodiagnosidiabete'].notna()) & (ap['annonascita']<=ap['annodecesso']) & (ap['annoprimoaccesso']<=ap['annodecesso']) & (ap['annodiagnosidiabete']<=ap['annodecesso'])]\n",
        "print(ap.shape)\n",
        "\n",
        "# Then we add the patients that have NaN as the death year because in that case some of the previous conditions are evaluated as false but we assume taht if the death year is NaN\n",
        "# then the patient is still alive so the years would fulfill the conditions\n",
        "ap = pd.concat([ap, ap[ap['annodecesso'].isna()]])\n",
        "print(ap.shape)\n",
        "\n",
        "# Lastly, we check that the patient's birth year is smaller than the year of the diabetes diagnosis and is also smaller than the year of first access\n",
        "ap = ap[(ap['annonascita']<=ap['annodiagnosidiabete']) & (ap['annonascita']<=ap['annoprimoaccesso'])]\n",
        "print(ap.shape)"
      ]
    },
    {
      "cell_type": "code",
      "execution_count": null,
      "metadata": {
        "colab": {
          "base_uri": "https://localhost:8080/"
        },
        "id": "FpnsvZ8pWsep",
        "outputId": "125f7e90-ef98-481c-fa30-2e1e87ec3395"
      },
      "outputs": [
        {
          "name": "stdout",
          "output_type": "stream",
          "text": [
            "(6745, 2)\n",
            "(6745, 2)\n"
          ]
        }
      ],
      "source": [
        "# We then see the new number of patients that we have and check if we have made an error and there are duplicates in the table\n",
        "ap_test = ap.filter(items=['idcentro', 'idana'])\n",
        "print(ap_test.shape)\n",
        "ap_test.drop_duplicates()\n",
        "print(ap_test.shape)"
      ]
    },
    {
      "cell_type": "code",
      "execution_count": null,
      "metadata": {
        "id": "6dwV-z3pWsep"
      },
      "outputs": [],
      "source": [
        "# For the rest of the tables, we do the same checks\n",
        "def exercise2(df:pd.DataFrame, test:pd.DataFrame) -> pd.DataFrame:\n",
        "\n",
        "    # First we merge the table to obtain only the data of the patients that have valid dates in the ap table\n",
        "    df = df.merge(test, on=['idcentro', 'idana'])\n",
        "    df = df[df['data'].notna()]\n",
        "\n",
        "    # Then, we assure that the dates of the table we are purging are valid (not NaN and not a day that doesn't exist in the calendar) and that the year is first on the dates\n",
        "    df['data'] = pd.to_datetime(df['data'], yearfirst=True)\n",
        "\n",
        "    # Now we create a new table with the columns that have dates from the ap table and the table that we are purging\n",
        "    ap_filter = ap.filter(items=['idcentro', 'idana', 'annonascita', 'annoprimoaccesso', 'annodecesso'])\n",
        "    df = df.merge(ap_filter, on=['idcentro', 'idana'])\n",
        "\n",
        "    # Now we take the rows of this table that have valid dates, this means that we have to check:\n",
        "    # That all the tests performed on a patient have a smaller date than the death year of the patient\n",
        "    df = df[df['data'].dt.strftime(\"%Y\").astype(float) <= df['annodecesso']]\n",
        "\n",
        "    # Then, as we did with the ap table, we add the rows where the death year of the patient is NaN (because we assume that is still alive and therefore it fulfills the conditions)\n",
        "    df = pd.concat([df, ap_filter[ap_filter['annodecesso'].isna()]])\n",
        "\n",
        "    # Lastly, we check that the test were performed after the year of first access and after the year of birth of the patient\n",
        "    df = df[(df['data'].dt.strftime(\"%Y\").astype(float) >= df['annoprimoaccesso']) & (df['data'].dt.strftime(\"%Y\").astype(float) >= df['annonascita'])]\n",
        "\n",
        "    # In the pdf table in particular we need to check that the prescriptions were made after the year of diabetes diagnosis because the medicines prescripted are for people\n",
        "    # with diabetes\n",
        "    if 'annodiagnosidiabete' in df.columns:\n",
        "        df = df[(df['data'].dt.strftime(\"%Y\").astype(float) >= df['annodiagnosidiabete'])]\n",
        "\n",
        "    # Now, we take only the columns that were in the purged table to begin with\n",
        "    return df.filter(items=df.columns)"
      ]
    },
    {
      "attachments": {},
      "cell_type": "markdown",
      "metadata": {
        "id": "48N-dXcTcnFf"
      },
      "source": [
        "We apply the previous function to the rest of our tables"
      ]
    },
    {
      "cell_type": "code",
      "execution_count": null,
      "metadata": {
        "colab": {
          "base_uri": "https://localhost:8080/"
        },
        "id": "NJAreJBnWsep",
        "outputId": "6a28a4e8-56bc-458c-d3ff-556b38dd4c9f"
      },
      "outputs": [
        {
          "name": "stdout",
          "output_type": "stream",
          "text": [
            "Diag: 4978504 => 276585\n"
          ]
        }
      ],
      "source": [
        "diag = exercise2(diag,ap_test)\n",
        "print(f\"Diag: {diag_fixed.shape[0]} => {diag.shape[0]}\")"
      ]
    },
    {
      "cell_type": "code",
      "execution_count": null,
      "metadata": {
        "colab": {
          "base_uri": "https://localhost:8080/"
        },
        "id": "6cAGJm-VWseq",
        "outputId": "3a5bca3c-e1be-4f8b-bb38-6fddd9388071"
      },
      "outputs": [
        {
          "name": "stdout",
          "output_type": "stream",
          "text": [
            "Elp: 29398377 => 957438\n"
          ]
        }
      ],
      "source": [
        "elp = exercise2(elp,ap_test)\n",
        "print(f\"Elp: {elp_fixed.shape[0]} => {elp.shape[0]}\")"
      ]
    },
    {
      "cell_type": "code",
      "execution_count": null,
      "metadata": {
        "colab": {
          "base_uri": "https://localhost:8080/"
        },
        "id": "lLRidEoZWseq",
        "outputId": "5bac9c9b-c885-4f61-f451-18cd55bff5d6"
      },
      "outputs": [
        {
          "name": "stdout",
          "output_type": "stream",
          "text": [
            "Ei: 1062856 => 35024\n"
          ]
        }
      ],
      "source": [
        "ei = exercise2(ei,ap_test)\n",
        "print(f\"Ei: {ei_fixed.shape[0]} => {ei.shape[0]}\")"
      ]
    },
    {
      "cell_type": "code",
      "execution_count": null,
      "metadata": {
        "colab": {
          "base_uri": "https://localhost:8080/"
        },
        "id": "oM0autlFWseq",
        "outputId": "860d2900-2a04-4001-87a7-b573b744562e"
      },
      "outputs": [
        {
          "name": "stdout",
          "output_type": "stream",
          "text": [
            "Pdf: 7289926 => 269148\n"
          ]
        }
      ],
      "source": [
        "pdf = exercise2(pdf,ap_test)\n",
        "print(f\"Pdf: {pdf_fixed.shape[0]} => {pdf.shape[0]}\")"
      ]
    },
    {
      "cell_type": "code",
      "execution_count": null,
      "metadata": {
        "colab": {
          "base_uri": "https://localhost:8080/"
        },
        "id": "6XkhzN8fWseq",
        "outputId": "4e9b8f9d-48cf-463b-ce54-a502d7e6f56c"
      },
      "outputs": [
        {
          "name": "stdout",
          "output_type": "stream",
          "text": [
            "Pdnf: 569353 => 23834\n"
          ]
        }
      ],
      "source": [
        "pdnf = exercise2(pdnf,ap_test)\n",
        "print(f\"Pdnf: {pdnf_fixed.shape[0]} => {pdnf.shape[0]}\")"
      ]
    },
    {
      "cell_type": "code",
      "execution_count": null,
      "metadata": {
        "colab": {
          "base_uri": "https://localhost:8080/"
        },
        "id": "NcbMZxP4Wseq",
        "outputId": "34d435cf-0b9d-4001-9b73-4230a7452ecb"
      },
      "outputs": [
        {
          "name": "stdout",
          "output_type": "stream",
          "text": [
            "Pnd: 5573033 => 271339\n"
          ]
        }
      ],
      "source": [
        "pnd = exercise2(pnd,ap_test)\n",
        "print(f\"Pnd: {pnd_fixed.shape[0]} => {pnd.shape[0]}\")"
      ]
    },
    {
      "cell_type": "code",
      "execution_count": null,
      "metadata": {
        "colab": {
          "base_uri": "https://localhost:8080/"
        },
        "id": "4HK11-ZMWseq",
        "outputId": "4f0c865a-9aaa-46ac-8b7b-1fb184c797aa"
      },
      "outputs": [
        {
          "name": "stdout",
          "output_type": "stream",
          "text": [
            "We still have: 6745/250000 patients\n"
          ]
        }
      ],
      "source": [
        "print(f\"We still have: {ap.shape[0]}/{ap_fixed.shape[0]} patients\")"
      ]
    },
    {
      "attachments": {},
      "cell_type": "markdown",
      "metadata": {
        "id": "zJ_1KgyCWseq"
      },
      "source": [
        "## Exercise 3 FALTA COMENTAR y CONVERTIR EN FUNCIONES"
      ]
    },
    {
      "attachments": {},
      "cell_type": "markdown",
      "metadata": {
        "id": "RUMOfsBPWsev"
      },
      "source": [
        "First of all, we convert the data column of each dataframe into datetime type"
      ]
    },
    {
      "cell_type": "code",
      "execution_count": null,
      "metadata": {
        "id": "fM3pXX_IWsew"
      },
      "outputs": [],
      "source": [
        "pnd['data']  = pd.to_datetime(pnd['data'],  format=\"%Y-%m-%d\")\n",
        "diag['data'] = pd.to_datetime(diag['data'], format=\"%Y-%m-%d\")\n",
        "elp['data']  = pd.to_datetime(elp['data'],  format=\"%Y-%m-%d\")\n",
        "pdf['data']  = pd.to_datetime(pdf['data'],  format=\"%Y-%m-%d\")\n",
        "pdnf['data'] = pd.to_datetime(pdnf['data'], format=\"%Y-%m-%d\")\n",
        "ei['data']   = pd.to_datetime(ei['data'],   format=\"%Y-%m-%d\")"
      ]
    },
    {
      "cell_type": "code",
      "execution_count": null,
      "metadata": {
        "id": "zDmR4Q56Wsew"
      },
      "outputs": [],
      "source": [
        "def exercise3(df: pd.DataFrame) -> pd.DataFrame:\n",
        "    maxDates = df.groupby(['idcentro','idana']).agg({'data' : ['max']})\n",
        "    minDates = df.groupby(['idcentro','idana']).agg({'data' : ['min']})\n",
        "    return maxDates, minDates"
      ]
    },
    {
      "attachments": {},
      "cell_type": "markdown",
      "metadata": {
        "id": "lM_2NrhmWsew"
      },
      "source": [
        "We calculate maximum and minimum dates for each table and for every single patient (idcentro, idana)"
      ]
    },
    {
      "cell_type": "code",
      "execution_count": null,
      "metadata": {
        "id": "FLoaiS-BWsew"
      },
      "outputs": [],
      "source": [
        "pndMax,  pndMin  = exercise3(pnd)\n",
        "diagMax, diagMin = exercise3(diag)\n",
        "elpMax,  elpMin  = exercise3(elp)\n",
        "pdfMax,  pdfMin  = exercise3(pdf)\n",
        "pdnfMax, pdnfMin = exercise3(pdnf)\n",
        "eiMax,   eiMin   = exercise3(ei)"
      ]
    },
    {
      "attachments": {},
      "cell_type": "markdown",
      "metadata": {
        "id": "f4ZeEtAUWsew"
      },
      "source": [
        "Now we merge all the maximum dates of all dataframes, and we take **maxim** as the maximum date of all tables for each patient"
      ]
    },
    {
      "cell_type": "code",
      "execution_count": null,
      "metadata": {
        "colab": {
          "base_uri": "https://localhost:8080/"
        },
        "id": "3lrPU6fUWsew",
        "outputId": "7d3b0114-05a8-479d-e52c-391202eea48d"
      },
      "outputs": [
        {
          "data": {
            "text/plain": [
              "idcentro  idana\n",
              "1         5       2013-12-31\n",
              "          38      2015-12-18\n",
              "          46      2016-11-30\n",
              "          60      2010-08-24\n",
              "          65      2017-11-09\n",
              "dtype: datetime64[ns]"
            ]
          },
          "execution_count": 31,
          "metadata": {},
          "output_type": "execute_result"
        }
      ],
      "source": [
        "maxim = pd.merge(pndMax,diagMax,on=['idcentro','idana'])\n",
        "maxim = pd.merge(maxim,elpMax,on=['idcentro','idana'])\n",
        "max2  = pd.merge(pdnfMax,pdfMax,on=['idcentro','idana'])\n",
        "max2  = pd.merge(eiMax,max2,on=['idcentro','idana'])\n",
        "maxim = pd.merge(maxim,max2,on=['idcentro','idana'])\n",
        "maxim = maxim.max(axis=1)\n",
        "maxim.head()"
      ]
    },
    {
      "attachments": {},
      "cell_type": "markdown",
      "metadata": {
        "id": "h6sQ83GSWsew"
      },
      "source": [
        "Same with the minimum date"
      ]
    },
    {
      "cell_type": "code",
      "execution_count": null,
      "metadata": {
        "colab": {
          "base_uri": "https://localhost:8080/"
        },
        "id": "qVfp4pqWWsew",
        "outputId": "297261b4-734a-44c8-d814-41d491dfa21f"
      },
      "outputs": [
        {
          "data": {
            "text/plain": [
              "idcentro  idana\n",
              "1         5       1997-12-01\n",
              "          38      1998-01-01\n",
              "          46      1998-01-01\n",
              "          60      1990-01-01\n",
              "          65      2000-06-08\n",
              "dtype: datetime64[ns]"
            ]
          },
          "execution_count": 32,
          "metadata": {},
          "output_type": "execute_result"
        }
      ],
      "source": [
        "minim = pd.merge(pndMin,diagMin,on=['idcentro','idana'])\n",
        "minim = pd.merge(minim,elpMin,on=['idcentro','idana'])\n",
        "min2  = pd.merge(pdnfMin,pdfMin,on=['idcentro','idana'])\n",
        "min2  = pd.merge(eiMin,min2,on=['idcentro','idana'])\n",
        "minim = pd.merge(minim,min2,on=['idcentro','idana'])\n",
        "minim = minim.min(axis=1)\n",
        "minim.head()"
      ]
    },
    {
      "attachments": {},
      "cell_type": "markdown",
      "metadata": {
        "id": "sLisLIzdWsew"
      },
      "source": [
        "Now we compute the difference between the maximum dates and the minimum, this is the trajectory, and we compare it with a month (30 days)"
      ]
    },
    {
      "cell_type": "code",
      "execution_count": null,
      "metadata": {
        "colab": {
          "base_uri": "https://localhost:8080/"
        },
        "id": "C0gvS4dYWsex",
        "outputId": "f4dbaf19-78e0-4bd5-bb28-3d10f66b9202"
      },
      "outputs": [
        {
          "name": "stdout",
          "output_type": "stream",
          "text": [
            "DIFFERENCE TABLE before comparing: 3151 patients.\n",
            " idcentro  idana\n",
            "1         5       5874 days\n",
            "          38      6560 days\n",
            "          46      6908 days\n",
            "          60      7540 days\n",
            "          65      6363 days\n",
            "dtype: timedelta64[ns]\n",
            "\n",
            "DIFFERENCE TABLE after comparing: 3122 patients.\n",
            " idcentro  idana\n",
            "1         5       5874 days\n",
            "          38      6560 days\n",
            "          46      6908 days\n",
            "          60      7540 days\n",
            "          65      6363 days\n",
            "dtype: timedelta64[ns]\n",
            "\n",
            "So we have to maintain 3122/6745 patients\n"
          ]
        }
      ],
      "source": [
        "dif = maxim-minim\n",
        "print(\"DIFFERENCE TABLE before comparing:\",dif.shape[0],\"patients.\\n\",dif.head())\n",
        "\n",
        "month = pd.Timedelta(\"30 days\")\n",
        "dif = dif[dif>month]\n",
        "print(\"\\nDIFFERENCE TABLE after comparing:\",dif.shape[0],\"patients.\\n\",dif.head())\n",
        "\n",
        "print(f\"\\nSo we have to maintain {dif.shape[0]}/{ap.shape[0]} patients\")"
      ]
    },
    {
      "attachments": {},
      "cell_type": "markdown",
      "metadata": {
        "id": "GHwQrP7sWsex"
      },
      "source": [
        "Now we convert the **dif** dataframe so as to be available for the drop operation on every table"
      ]
    },
    {
      "cell_type": "code",
      "execution_count": null,
      "metadata": {
        "id": "q944ZUPlWsex"
      },
      "outputs": [],
      "source": [
        "dif = pd.DataFrame(dif.index.to_list(), columns=['idcentro','idana'])"
      ]
    },
    {
      "cell_type": "code",
      "execution_count": null,
      "metadata": {
        "colab": {
          "base_uri": "https://localhost:8080/",
          "height": 206
        },
        "id": "iWprePaTWsex",
        "outputId": "fb26a575-8994-4d90-ccfc-3ae1567df7e2"
      },
      "outputs": [
        {
          "data": {
            "text/html": [
              "\n",
              "  <div id=\"df-fa345c74-5f9c-4405-b3c1-bf4a540169ae\">\n",
              "    <div class=\"colab-df-container\">\n",
              "      <div>\n",
              "<style scoped>\n",
              "    .dataframe tbody tr th:only-of-type {\n",
              "        vertical-align: middle;\n",
              "    }\n",
              "\n",
              "    .dataframe tbody tr th {\n",
              "        vertical-align: top;\n",
              "    }\n",
              "\n",
              "    .dataframe thead th {\n",
              "        text-align: right;\n",
              "    }\n",
              "</style>\n",
              "<table border=\"1\" class=\"dataframe\">\n",
              "  <thead>\n",
              "    <tr style=\"text-align: right;\">\n",
              "      <th></th>\n",
              "      <th>idcentro</th>\n",
              "      <th>idana</th>\n",
              "      <th>sesso</th>\n",
              "      <th>annodiagnosidiabete</th>\n",
              "      <th>tipodiabete</th>\n",
              "      <th>scolarita</th>\n",
              "      <th>statocivile</th>\n",
              "      <th>professione</th>\n",
              "      <th>origine</th>\n",
              "      <th>annonascita</th>\n",
              "      <th>annoprimoaccesso</th>\n",
              "      <th>annodecesso</th>\n",
              "    </tr>\n",
              "  </thead>\n",
              "  <tbody>\n",
              "    <tr>\n",
              "      <th>0</th>\n",
              "      <td>1</td>\n",
              "      <td>5</td>\n",
              "      <td>M</td>\n",
              "      <td>1986.0</td>\n",
              "      <td>5</td>\n",
              "      <td>2.0</td>\n",
              "      <td>2.0</td>\n",
              "      <td>9.0</td>\n",
              "      <td>NaN</td>\n",
              "      <td>1942</td>\n",
              "      <td>1990.0</td>\n",
              "      <td>2014.0</td>\n",
              "    </tr>\n",
              "    <tr>\n",
              "      <th>1</th>\n",
              "      <td>1</td>\n",
              "      <td>38</td>\n",
              "      <td>F</td>\n",
              "      <td>1978.0</td>\n",
              "      <td>5</td>\n",
              "      <td>2.0</td>\n",
              "      <td>3.0</td>\n",
              "      <td>9.0</td>\n",
              "      <td>NaN</td>\n",
              "      <td>1924</td>\n",
              "      <td>1998.0</td>\n",
              "      <td>2015.0</td>\n",
              "    </tr>\n",
              "    <tr>\n",
              "      <th>2</th>\n",
              "      <td>1</td>\n",
              "      <td>46</td>\n",
              "      <td>F</td>\n",
              "      <td>1982.0</td>\n",
              "      <td>5</td>\n",
              "      <td>2.0</td>\n",
              "      <td>2.0</td>\n",
              "      <td>4.0</td>\n",
              "      <td>NaN</td>\n",
              "      <td>1937</td>\n",
              "      <td>1997.0</td>\n",
              "      <td>2016.0</td>\n",
              "    </tr>\n",
              "    <tr>\n",
              "      <th>3</th>\n",
              "      <td>1</td>\n",
              "      <td>60</td>\n",
              "      <td>F</td>\n",
              "      <td>1987.0</td>\n",
              "      <td>5</td>\n",
              "      <td>2.0</td>\n",
              "      <td>2.0</td>\n",
              "      <td>9.0</td>\n",
              "      <td>NaN</td>\n",
              "      <td>1923</td>\n",
              "      <td>1987.0</td>\n",
              "      <td>2010.0</td>\n",
              "    </tr>\n",
              "    <tr>\n",
              "      <th>4</th>\n",
              "      <td>1</td>\n",
              "      <td>65</td>\n",
              "      <td>M</td>\n",
              "      <td>1997.0</td>\n",
              "      <td>5</td>\n",
              "      <td>2.0</td>\n",
              "      <td>1.0</td>\n",
              "      <td>9.0</td>\n",
              "      <td>NaN</td>\n",
              "      <td>1942</td>\n",
              "      <td>1997.0</td>\n",
              "      <td>2018.0</td>\n",
              "    </tr>\n",
              "  </tbody>\n",
              "</table>\n",
              "</div>\n",
              "      <button class=\"colab-df-convert\" onclick=\"convertToInteractive('df-fa345c74-5f9c-4405-b3c1-bf4a540169ae')\"\n",
              "              title=\"Convert this dataframe to an interactive table.\"\n",
              "              style=\"display:none;\">\n",
              "        \n",
              "  <svg xmlns=\"http://www.w3.org/2000/svg\" height=\"24px\"viewBox=\"0 0 24 24\"\n",
              "       width=\"24px\">\n",
              "    <path d=\"M0 0h24v24H0V0z\" fill=\"none\"/>\n",
              "    <path d=\"M18.56 5.44l.94 2.06.94-2.06 2.06-.94-2.06-.94-.94-2.06-.94 2.06-2.06.94zm-11 1L8.5 8.5l.94-2.06 2.06-.94-2.06-.94L8.5 2.5l-.94 2.06-2.06.94zm10 10l.94 2.06.94-2.06 2.06-.94-2.06-.94-.94-2.06-.94 2.06-2.06.94z\"/><path d=\"M17.41 7.96l-1.37-1.37c-.4-.4-.92-.59-1.43-.59-.52 0-1.04.2-1.43.59L10.3 9.45l-7.72 7.72c-.78.78-.78 2.05 0 2.83L4 21.41c.39.39.9.59 1.41.59.51 0 1.02-.2 1.41-.59l7.78-7.78 2.81-2.81c.8-.78.8-2.07 0-2.86zM5.41 20L4 18.59l7.72-7.72 1.47 1.35L5.41 20z\"/>\n",
              "  </svg>\n",
              "      </button>\n",
              "      \n",
              "  <style>\n",
              "    .colab-df-container {\n",
              "      display:flex;\n",
              "      flex-wrap:wrap;\n",
              "      gap: 12px;\n",
              "    }\n",
              "\n",
              "    .colab-df-convert {\n",
              "      background-color: #E8F0FE;\n",
              "      border: none;\n",
              "      border-radius: 50%;\n",
              "      cursor: pointer;\n",
              "      display: none;\n",
              "      fill: #1967D2;\n",
              "      height: 32px;\n",
              "      padding: 0 0 0 0;\n",
              "      width: 32px;\n",
              "    }\n",
              "\n",
              "    .colab-df-convert:hover {\n",
              "      background-color: #E2EBFA;\n",
              "      box-shadow: 0px 1px 2px rgba(60, 64, 67, 0.3), 0px 1px 3px 1px rgba(60, 64, 67, 0.15);\n",
              "      fill: #174EA6;\n",
              "    }\n",
              "\n",
              "    [theme=dark] .colab-df-convert {\n",
              "      background-color: #3B4455;\n",
              "      fill: #D2E3FC;\n",
              "    }\n",
              "\n",
              "    [theme=dark] .colab-df-convert:hover {\n",
              "      background-color: #434B5C;\n",
              "      box-shadow: 0px 1px 3px 1px rgba(0, 0, 0, 0.15);\n",
              "      filter: drop-shadow(0px 1px 2px rgba(0, 0, 0, 0.3));\n",
              "      fill: #FFFFFF;\n",
              "    }\n",
              "  </style>\n",
              "\n",
              "      <script>\n",
              "        const buttonEl =\n",
              "          document.querySelector('#df-fa345c74-5f9c-4405-b3c1-bf4a540169ae button.colab-df-convert');\n",
              "        buttonEl.style.display =\n",
              "          google.colab.kernel.accessAllowed ? 'block' : 'none';\n",
              "\n",
              "        async function convertToInteractive(key) {\n",
              "          const element = document.querySelector('#df-fa345c74-5f9c-4405-b3c1-bf4a540169ae');\n",
              "          const dataTable =\n",
              "            await google.colab.kernel.invokeFunction('convertToInteractive',\n",
              "                                                     [key], {});\n",
              "          if (!dataTable) return;\n",
              "\n",
              "          const docLinkHtml = 'Like what you see? Visit the ' +\n",
              "            '<a target=\"_blank\" href=https://colab.research.google.com/notebooks/data_table.ipynb>data table notebook</a>'\n",
              "            + ' to learn more about interactive tables.';\n",
              "          element.innerHTML = '';\n",
              "          dataTable['output_type'] = 'display_data';\n",
              "          await google.colab.output.renderOutput(dataTable, element);\n",
              "          const docLink = document.createElement('div');\n",
              "          docLink.innerHTML = docLinkHtml;\n",
              "          element.appendChild(docLink);\n",
              "        }\n",
              "      </script>\n",
              "    </div>\n",
              "  </div>\n",
              "  "
            ],
            "text/plain": [
              "   idcentro  idana sesso  annodiagnosidiabete  tipodiabete  scolarita  \\\n",
              "0         1      5     M               1986.0            5        2.0   \n",
              "1         1     38     F               1978.0            5        2.0   \n",
              "2         1     46     F               1982.0            5        2.0   \n",
              "3         1     60     F               1987.0            5        2.0   \n",
              "4         1     65     M               1997.0            5        2.0   \n",
              "\n",
              "   statocivile  professione  origine  annonascita  annoprimoaccesso  \\\n",
              "0          2.0          9.0      NaN         1942            1990.0   \n",
              "1          3.0          9.0      NaN         1924            1998.0   \n",
              "2          2.0          4.0      NaN         1937            1997.0   \n",
              "3          2.0          9.0      NaN         1923            1987.0   \n",
              "4          1.0          9.0      NaN         1942            1997.0   \n",
              "\n",
              "   annodecesso  \n",
              "0       2014.0  \n",
              "1       2015.0  \n",
              "2       2016.0  \n",
              "3       2010.0  \n",
              "4       2018.0  "
            ]
          },
          "execution_count": 35,
          "metadata": {},
          "output_type": "execute_result"
        }
      ],
      "source": [
        "ap   = ap.merge(dif, on=['idcentro','idana'])\n",
        "diag = diag.merge(dif, on=['idcentro','idana'])\n",
        "elp  = elp.merge(dif, on=['idcentro','idana'])\n",
        "ei   = ei.merge(dif, on=['idcentro','idana'])\n",
        "pdf  = pdf.merge(dif, on=['idcentro','idana'])\n",
        "pdnf = pdnf.merge(dif, on=['idcentro','idana'])\n",
        "pnd  = pnd.merge(dif, on=['idcentro','idana'])\n",
        "ap.head()"
      ]
    },
    {
      "cell_type": "code",
      "execution_count": null,
      "metadata": {
        "colab": {
          "base_uri": "https://localhost:8080/"
        },
        "id": "cdIZ4l42Wsex",
        "outputId": "0f212d9c-e597-4141-a3ea-5a5683d8814d"
      },
      "outputs": [
        {
          "name": "stdout",
          "output_type": "stream",
          "text": [
            "We still have: 3122/250000 patients\n"
          ]
        }
      ],
      "source": [
        "print(f\"We still have: {ap.shape[0]}/{ap_fixed.shape[0]} patients\")"
      ]
    },
    {
      "attachments": {},
      "cell_type": "markdown",
      "metadata": {
        "id": "puwRkPE0Wsex"
      },
      "source": [
        "## Exercise 4"
      ]
    },
    {
      "attachments": {},
      "cell_type": "markdown",
      "metadata": {
        "id": "kQf6SoL2Wsex"
      },
      "source": [
        "**Modify the actual ranges of** ***esamilaboratorioparameteri*** **-** see this Table:\n",
        "\n",
        "| Code | Descriptive Name | True Range |\n",
        "|----------|----------|----------|\n",
        "| AMD004 | Systolic blood pressure | 40 <= x <= 200 |\n",
        "| AMD005 | Diastolic blood pressure | 40 <= x <= 130 |\n",
        "| AMD007 | Fasting blood glucose | 50 <= x <= 500 |\n",
        "| AMD008 | HbAlc | 5 <= x <= 15 |\n",
        "| AMD009 | Creatininemia | Not Available |\n",
        "| AMD111 | Microalbuminuria | Not Available |\n",
        "| STITCH001 | BMI | Not Available |\n",
        "| STITCH002 | LDL Choresterlo | 30 <= x <= 30|\n",
        "| STITCH003 | Non-HDL Cholesterlo | 60 <= x <= 330 |\n",
        "| STITCH004 | eGFR MDRD | Not Available |\n",
        "| STITCH005 | eGFR CKD-EPI | Not Available |"
      ]
    },
    {
      "attachments": {},
      "cell_type": "markdown",
      "metadata": {
        "id": "Lvg3QlgZWsex"
      },
      "source": [
        "What we are doing is to use a **MinMaxScaler** from *sklearn* library so as to make the values described in the upper table fit into the true ranges. For the **NAN** ranges, we do nothing."
      ]
    },
    {
      "cell_type": "code",
      "execution_count": null,
      "metadata": {
        "colab": {
          "base_uri": "https://localhost:8080/"
        },
        "id": "RAt0OUCFWsex",
        "outputId": "178e6094-e66c-4803-ccda-514eec7a0bbe"
      },
      "outputs": [
        {
          "name": "stdout",
          "output_type": "stream",
          "text": [
            "BEFORE RE-SCALING:\n",
            "\n",
            "    AMD    Min  /  Max\n",
            "========================\n",
            "AMD004:    0.0 / 430.0\n",
            "AMD005:    0.0 / 980.0\n",
            "AMD007:    0.0 / 862.0\n",
            "AMD008:    0.0 / 98.0\n",
            "AMD009:    nan / nan\n",
            "AMD111:    -1.0 / 8804.0\n",
            "STITCH001:  is null\n",
            "STITCH002:  is null\n",
            "STITCH003:  is null\n",
            "STITCH004:  is null\n",
            "STITCH005:  is null\n"
          ]
        }
      ],
      "source": [
        "labels = ['AMD004', 'AMD005', 'AMD007', 'AMD008', 'AMD009', 'AMD111', 'STITCH001', 'STITCH002', 'STITCH003', 'STITCH004', 'STITCH005']\n",
        "\n",
        "print(\"BEFORE RE-SCALING:\\n\")\n",
        "print(\"    AMD    Min  /  Max\")\n",
        "print(\"========================\")\n",
        "\n",
        "for label in labels:\n",
        "    aux = elp[elp.codiceamd == label].filter(['valore']).values.tolist()\n",
        "    if len(aux) > 0:\n",
        "        print(f\"{label}:    {np.min(aux):.1f} / {np.max(aux):.1f}\")\n",
        "    else:\n",
        "        print(f\"{label}:  is null\")"
      ]
    },
    {
      "cell_type": "code",
      "execution_count": null,
      "metadata": {
        "id": "mCuq8vWoWsex"
      },
      "outputs": [],
      "source": [
        "from sklearn.preprocessing import MinMaxScaler\n",
        "\n",
        "NAN = np.nan\n",
        "newRanges = [['AMD004', 'AMD005', 'AMD007', 'AMD008', 'AMD009', 'AMD111', 'STITCH001', 'STITCH002', 'STITCH003', 'STITCH004', 'STITCH005'],\n",
        "            [40.0,40.0,50.0,5.0,NAN,NAN,NAN,30.0,60.0,NAN,NAN],\n",
        "            [200.0,130.0,500.0,15.0,NAN,NAN,NAN,300.0,330.0,NAN,NAN]]\n",
        "\n",
        "def scaling(df:pd.DataFrame, label:str, minValue:float, maxValue:float) -> pd.DataFrame:\n",
        "    if (minValue != NAN) and (maxValue != NAN) and (df[df.codiceamd == label].shape[0]>0):\n",
        "        aux = df[df.codiceamd == label].copy()\n",
        "        min_max_scaler = MinMaxScaler(feature_range=(minValue,maxValue))\n",
        "        aux[['valore']] = min_max_scaler.fit_transform(aux[['valore']])\n",
        "        df[df.codiceamd == label] = aux\n",
        "    return df\n",
        "\n",
        "\n",
        "# Let's apply the function to a new DataFrame copied from elp_new\n",
        "for k in range(len(newRanges[0])):\n",
        "    elp = scaling(elp, newRanges[0][k], newRanges[1][k], newRanges[2][k])"
      ]
    },
    {
      "attachments": {},
      "cell_type": "markdown",
      "metadata": {
        "id": "mp7ADheuWsey"
      },
      "source": [
        "Now we ensure manually that it has worked by printing the maximum and minimum values for each AMD Code"
      ]
    },
    {
      "cell_type": "code",
      "execution_count": null,
      "metadata": {
        "colab": {
          "base_uri": "https://localhost:8080/"
        },
        "id": "WUvFNINIWsey",
        "outputId": "5dccf44d-fda7-4b63-8644-b2c777ec0ac1"
      },
      "outputs": [
        {
          "name": "stdout",
          "output_type": "stream",
          "text": [
            "\n",
            "\n",
            "AFTER RE-SCALING:\n",
            "\n",
            "    AMD    Min  /  Max\n",
            "========================\n",
            "AMD004:    40.0 / 200.0\n",
            "AMD005:    40.0 / 130.0\n",
            "AMD007:    50.0 / 500.0\n",
            "AMD008:    5.0 / 15.0\n",
            "AMD009:    nan / nan\n",
            "AMD111:    nan / nan\n",
            "STITCH001:  is null\n",
            "STITCH002:  is null\n",
            "STITCH003:  is null\n",
            "STITCH004:  is null\n",
            "STITCH005:  is null\n"
          ]
        }
      ],
      "source": [
        "print(\"\\n\\nAFTER RE-SCALING:\\n\")\n",
        "print(\"    AMD    Min  /  Max\")\n",
        "print(\"========================\")\n",
        "\n",
        "for label in labels:\n",
        "    aux = elp[elp.codiceamd == label].filter(['valore']).values.tolist()\n",
        "    if len(aux) > 0:\n",
        "        print(f\"{label}:    {np.min(aux):.1f} / {np.max(aux):.1f}\")\n",
        "    else:\n",
        "        print(f\"{label}:  is null\")\n"
      ]
    },
    {
      "attachments": {},
      "cell_type": "markdown",
      "metadata": {
        "id": "10kh40KSWsey"
      },
      "source": [
        "So it matches with the table given by the exercise"
      ]
    },
    {
      "attachments": {},
      "cell_type": "markdown",
      "metadata": {
        "id": "lmcekKYfWsey"
      },
      "source": [
        "## Exercise 5"
      ]
    },
    {
      "attachments": {},
      "cell_type": "markdown",
      "metadata": {
        "id": "mitEvFBlWsey"
      },
      "source": [
        "**Cohort selection and label definition** - use only those patients that after all the previous steps contain at least two events before calculating the label. Let $\\mathcal{P}=\\lbrace p_1, \\cdots,p_n\\rbrace$ be the set of all patients in the dataset. Let $d(e^i_k)$ be the date of the last event $e_k$ for patient $p_i\\in\\mathcal{P}$. The label of the patient $p_i$ is calculated as follows:\n",
        "\n",
        "$y(p_i)=\\begin{dcases}\n",
        "                1 & \\text{if, within }d(e^i_k)-6 \\text{ months, }p_i\\text{ has a cardiovascular event}\\\\\n",
        "                0 & \\text{otherwise}\n",
        "        \\end{dcases}$\n",
        "\n",
        "Eliminate the patients that have a trajectory shorten or equal to 6 months.\n"
      ]
    },
    {
      "attachments": {},
      "cell_type": "markdown",
      "metadata": {
        "id": "_wlaVmC1Wsey"
      },
      "source": [
        "We first create a DataFrame that contains all the patients and their cardiovascular events, each one with its date (it's already computed as **diag_cardEvents**):"
      ]
    },
    {
      "cell_type": "code",
      "execution_count": null,
      "metadata": {
        "colab": {
          "base_uri": "https://localhost:8080/",
          "height": 206
        },
        "id": "eRXwo6THWsey",
        "outputId": "3c815aa4-2ffa-4b0c-d7d2-adf7cbe1b143"
      },
      "outputs": [
        {
          "data": {
            "text/html": [
              "\n",
              "  <div id=\"df-e32337fa-f188-4a02-912e-4ce1fa6881be\">\n",
              "    <div class=\"colab-df-container\">\n",
              "      <div>\n",
              "<style scoped>\n",
              "    .dataframe tbody tr th:only-of-type {\n",
              "        vertical-align: middle;\n",
              "    }\n",
              "\n",
              "    .dataframe tbody tr th {\n",
              "        vertical-align: top;\n",
              "    }\n",
              "\n",
              "    .dataframe thead th {\n",
              "        text-align: right;\n",
              "    }\n",
              "</style>\n",
              "<table border=\"1\" class=\"dataframe\">\n",
              "  <thead>\n",
              "    <tr style=\"text-align: right;\">\n",
              "      <th></th>\n",
              "      <th>idcentro</th>\n",
              "      <th>idana</th>\n",
              "      <th>data</th>\n",
              "      <th>codiceamd</th>\n",
              "      <th>valore</th>\n",
              "    </tr>\n",
              "  </thead>\n",
              "  <tbody>\n",
              "    <tr>\n",
              "      <th>7</th>\n",
              "      <td>1</td>\n",
              "      <td>5</td>\n",
              "      <td>2000-12-02</td>\n",
              "      <td>AMD049</td>\n",
              "      <td>S</td>\n",
              "    </tr>\n",
              "    <tr>\n",
              "      <th>9</th>\n",
              "      <td>1</td>\n",
              "      <td>5</td>\n",
              "      <td>2001-03-22</td>\n",
              "      <td>AMD049</td>\n",
              "      <td>S</td>\n",
              "    </tr>\n",
              "    <tr>\n",
              "      <th>13</th>\n",
              "      <td>1</td>\n",
              "      <td>5</td>\n",
              "      <td>2002-02-11</td>\n",
              "      <td>AMD049</td>\n",
              "      <td>S</td>\n",
              "    </tr>\n",
              "    <tr>\n",
              "      <th>15</th>\n",
              "      <td>1</td>\n",
              "      <td>5</td>\n",
              "      <td>2002-02-14</td>\n",
              "      <td>AMD049</td>\n",
              "      <td>S</td>\n",
              "    </tr>\n",
              "    <tr>\n",
              "      <th>17</th>\n",
              "      <td>1</td>\n",
              "      <td>5</td>\n",
              "      <td>2003-01-17</td>\n",
              "      <td>AMD049</td>\n",
              "      <td>S</td>\n",
              "    </tr>\n",
              "  </tbody>\n",
              "</table>\n",
              "</div>\n",
              "      <button class=\"colab-df-convert\" onclick=\"convertToInteractive('df-e32337fa-f188-4a02-912e-4ce1fa6881be')\"\n",
              "              title=\"Convert this dataframe to an interactive table.\"\n",
              "              style=\"display:none;\">\n",
              "        \n",
              "  <svg xmlns=\"http://www.w3.org/2000/svg\" height=\"24px\"viewBox=\"0 0 24 24\"\n",
              "       width=\"24px\">\n",
              "    <path d=\"M0 0h24v24H0V0z\" fill=\"none\"/>\n",
              "    <path d=\"M18.56 5.44l.94 2.06.94-2.06 2.06-.94-2.06-.94-.94-2.06-.94 2.06-2.06.94zm-11 1L8.5 8.5l.94-2.06 2.06-.94-2.06-.94L8.5 2.5l-.94 2.06-2.06.94zm10 10l.94 2.06.94-2.06 2.06-.94-2.06-.94-.94-2.06-.94 2.06-2.06.94z\"/><path d=\"M17.41 7.96l-1.37-1.37c-.4-.4-.92-.59-1.43-.59-.52 0-1.04.2-1.43.59L10.3 9.45l-7.72 7.72c-.78.78-.78 2.05 0 2.83L4 21.41c.39.39.9.59 1.41.59.51 0 1.02-.2 1.41-.59l7.78-7.78 2.81-2.81c.8-.78.8-2.07 0-2.86zM5.41 20L4 18.59l7.72-7.72 1.47 1.35L5.41 20z\"/>\n",
              "  </svg>\n",
              "      </button>\n",
              "      \n",
              "  <style>\n",
              "    .colab-df-container {\n",
              "      display:flex;\n",
              "      flex-wrap:wrap;\n",
              "      gap: 12px;\n",
              "    }\n",
              "\n",
              "    .colab-df-convert {\n",
              "      background-color: #E8F0FE;\n",
              "      border: none;\n",
              "      border-radius: 50%;\n",
              "      cursor: pointer;\n",
              "      display: none;\n",
              "      fill: #1967D2;\n",
              "      height: 32px;\n",
              "      padding: 0 0 0 0;\n",
              "      width: 32px;\n",
              "    }\n",
              "\n",
              "    .colab-df-convert:hover {\n",
              "      background-color: #E2EBFA;\n",
              "      box-shadow: 0px 1px 2px rgba(60, 64, 67, 0.3), 0px 1px 3px 1px rgba(60, 64, 67, 0.15);\n",
              "      fill: #174EA6;\n",
              "    }\n",
              "\n",
              "    [theme=dark] .colab-df-convert {\n",
              "      background-color: #3B4455;\n",
              "      fill: #D2E3FC;\n",
              "    }\n",
              "\n",
              "    [theme=dark] .colab-df-convert:hover {\n",
              "      background-color: #434B5C;\n",
              "      box-shadow: 0px 1px 3px 1px rgba(0, 0, 0, 0.15);\n",
              "      filter: drop-shadow(0px 1px 2px rgba(0, 0, 0, 0.3));\n",
              "      fill: #FFFFFF;\n",
              "    }\n",
              "  </style>\n",
              "\n",
              "      <script>\n",
              "        const buttonEl =\n",
              "          document.querySelector('#df-e32337fa-f188-4a02-912e-4ce1fa6881be button.colab-df-convert');\n",
              "        buttonEl.style.display =\n",
              "          google.colab.kernel.accessAllowed ? 'block' : 'none';\n",
              "\n",
              "        async function convertToInteractive(key) {\n",
              "          const element = document.querySelector('#df-e32337fa-f188-4a02-912e-4ce1fa6881be');\n",
              "          const dataTable =\n",
              "            await google.colab.kernel.invokeFunction('convertToInteractive',\n",
              "                                                     [key], {});\n",
              "          if (!dataTable) return;\n",
              "\n",
              "          const docLinkHtml = 'Like what you see? Visit the ' +\n",
              "            '<a target=\"_blank\" href=https://colab.research.google.com/notebooks/data_table.ipynb>data table notebook</a>'\n",
              "            + ' to learn more about interactive tables.';\n",
              "          element.innerHTML = '';\n",
              "          dataTable['output_type'] = 'display_data';\n",
              "          await google.colab.output.renderOutput(dataTable, element);\n",
              "          const docLink = document.createElement('div');\n",
              "          docLink.innerHTML = docLinkHtml;\n",
              "          element.appendChild(docLink);\n",
              "        }\n",
              "      </script>\n",
              "    </div>\n",
              "  </div>\n",
              "  "
            ],
            "text/plain": [
              "    idcentro  idana        data codiceamd valore\n",
              "7          1      5  2000-12-02    AMD049      S\n",
              "9          1      5  2001-03-22    AMD049      S\n",
              "13         1      5  2002-02-11    AMD049      S\n",
              "15         1      5  2002-02-14    AMD049      S\n",
              "17         1      5  2003-01-17    AMD049      S"
            ]
          },
          "execution_count": 40,
          "metadata": {},
          "output_type": "execute_result"
        }
      ],
      "source": [
        "diag_cardEvents.head()"
      ]
    },
    {
      "attachments": {},
      "cell_type": "markdown",
      "metadata": {
        "id": "vGE3vlRaWsey"
      },
      "source": [
        "Now for each patient of the frame **diag_cardEvents**, we are going to take its two last cardiovascular events dates, so as to check if they happened with less than 6 months of difference. For this, we define the function **labeling**"
      ]
    },
    {
      "cell_type": "code",
      "execution_count": null,
      "metadata": {
        "id": "U_mrWADxWsey"
      },
      "outputs": [],
      "source": [
        "def exercise5(df:pd.DataFrame) -> pd.DataFrame:\n",
        "\n",
        "    # First we define a dataframe that contains the ids and the dates of every cardiovascular event, sorted by descending date\n",
        "    cardEvents_sorted = df.sort_values('data',ascending=False)\n",
        "\n",
        "    # Now we create a new dataset called classes, that represents the result of the function y(p_i) defined previously:\n",
        "    classes = pd.DataFrame(columns=['idcentro','idana','class'])\n",
        "\n",
        "    # Now for each patient (idcentro,idana), we check if it verify the condition explained previously:\n",
        "    for label, subDataframe in cardEvents_sorted.groupby(['idcentro','idana']):\n",
        "\n",
        "        dates = subDataframe['data'].dropna().values\n",
        "\n",
        "        # We ignore those patients who have just one event\n",
        "        if len(dates) > 1:\n",
        "\n",
        "            # We extract the first and the 2 lastest dates and convert them into datetime objects\n",
        "            minDate = dates[-1]\n",
        "            maxDates = dates[0:2]\n",
        "            minDate = dt.date.fromisoformat(minDate)\n",
        "            maxDates = dt.date.fromisoformat(maxDates[0]), dt.date.fromisoformat(maxDates[1])\n",
        "\n",
        "            # We ignore patients with a trajectory shorter than 6 months (6*30 days)\n",
        "            if maxDates[0]-minDate > dt.timedelta(days=6*30):\n",
        "\n",
        "                # We calculate the difference between the latest 2 dates and compare it with 6 months\n",
        "                c = maxDates[0]-maxDates[1] < dt.timedelta(days=6*30)\n",
        "\n",
        "                # We add a new column with the label and the class of the patient\n",
        "                classes.loc[classes.count()[0]] = [label[0], label[1], int(c)]\n",
        "\n",
        "    return classes"
      ]
    },
    {
      "attachments": {},
      "cell_type": "markdown",
      "metadata": {
        "id": "_mcQolPsWsey"
      },
      "source": [
        "Now, in the **classes** dataframe, we have labeled the patients that have more than one event and a trajectory larger than 6 months"
      ]
    },
    {
      "cell_type": "code",
      "execution_count": null,
      "metadata": {
        "id": "bVSYWV_mWsez"
      },
      "outputs": [],
      "source": [
        "labels = exercise5(diag_cardEvents)"
      ]
    },
    {
      "attachments": {},
      "cell_type": "markdown",
      "metadata": {
        "id": "ygJTAIN5Wsez"
      },
      "source": [
        "So we do an inner merge operation again with every dataframe to take just the patients of the frame **classes**"
      ]
    },
    {
      "cell_type": "code",
      "execution_count": null,
      "metadata": {
        "id": "kS_No1XxWsez"
      },
      "outputs": [],
      "source": [
        "ap   = pd.merge(ap, labels, on=['idcentro','idana'])[ap_fixed.columns]\n",
        "diag = pd.merge(diag, labels, on=['idcentro','idana'])[diag_fixed.columns]\n",
        "elp  = pd.merge(elp, labels, on=['idcentro','idana'])[elp_fixed.columns]\n",
        "ei   = pd.merge(ei, labels, on=['idcentro','idana'])[ei_fixed.columns]\n",
        "pdf  = pd.merge(pdf, labels, on=['idcentro','idana'])[pdf_fixed.columns]\n",
        "pdnf = pd.merge(pdnf, labels, on=['idcentro','idana'])[pdnf_fixed.columns]\n",
        "pnd  = pd.merge(pnd, labels, on=['idcentro','idana'])[pnd_fixed.columns]\n",
        "patientsOfInterest_labeled = pd.merge(patientsOfInterest, labels, on=['idcentro','idana'])\n"
      ]
    },
    {
      "cell_type": "code",
      "execution_count": null,
      "metadata": {
        "colab": {
          "base_uri": "https://localhost:8080/"
        },
        "id": "Ruu13224Wsez",
        "outputId": "097ec15d-277b-4454-be65-d1160eb4d3e7"
      },
      "outputs": [
        {
          "name": "stdout",
          "output_type": "stream",
          "text": [
            "We still have: 2242/250000 patients\n"
          ]
        }
      ],
      "source": [
        "print(f\"We still have: {ap.shape[0]}/{ap_fixed.shape[0]} patients\")"
      ]
    },
    {
      "attachments": {},
      "cell_type": "markdown",
      "metadata": {
        "id": "rKtH6Nre_ZdU"
      },
      "source": [
        "## Exercise 6"
      ]
    },
    {
      "attachments": {},
      "cell_type": "markdown",
      "metadata": {
        "id": "W6Wu6x1z_eww"
      },
      "source": [
        "Other cleaning strategies:\n",
        "We are going to keep only the events that are directly related to cardiovascular problems, this means events related:\n",
        "Cholesterol, diabetes, glycemia, if the patient smokes and weight "
      ]
    },
    {
      "cell_type": "code",
      "execution_count": null,
      "metadata": {
        "colab": {
          "base_uri": "https://localhost:8080/"
        },
        "id": "PoSMbQw__d-S",
        "outputId": "3a18c99f-2cf8-4978-aaa5-ee5a5663cfee"
      },
      "outputs": [
        {
          "name": "stdout",
          "output_type": "stream",
          "text": [
            "diag BEFORE pre-processing:  (155217, 5)\n",
            "diag AFTER  pre-processing:  (40450, 5)\n",
            "pnd BEFORE pre-processing:  (147973, 5)\n",
            "pnd AFTER  pre-processing:  (82036, 5)\n",
            "pdnf BEFORE pre-processing:  (14071, 5)\n",
            "pdnf AFTER  pre-processing:  (12729, 5)\n",
            "ei BEFORE pre-processing:  (21652, 5)\n",
            "ei AFTER  pre-processing:  (9475, 5)\n",
            "elp BEFORE pre-processing:  (451271, 5)\n",
            "elp AFTER  pre-processing:  (205641, 5)\n"
          ]
        }
      ],
      "source": [
        "# We make a list with the events that we are going to take into account\n",
        "codes = ['AMD001', 'AMD002', 'AMD003', 'AMD004', 'AMD005', 'AMD007', 'AMD010', 'AMD022', 'AMD034', 'AMD040', 'AMD042', 'AMD043', 'AMD044', 'AMD045', 'AMD046', 'AMD047', 'AMD048', 'AMD049', 'AMD055', 'AMD066', 'AMD069', 'AMD070', 'AMD071', 'AMD081', 'AMD082', 'AMD083', 'AMD086', 'AMD096', 'AMD097', 'AMD116', 'AMD118', 'AMD121', 'AMD132', 'AMD152', 'AMD204', 'AMD205', 'AMD208', 'AMD300', 'AMD303', 'AMD306', 'AMD307']\n",
        "\n",
        "def selectEvents(df:pd.DataFrame, events_codes:list) -> pd.DataFrame:\n",
        "    return df[df.codiceamd.isin(events_codes)]\n",
        "\n",
        "# We select from the tables only the events witch codes in the list\n",
        "diag_cardEvents = selectEvents(diag,codes)\n",
        "\n",
        "pnd_cardEvents = selectEvents(pnd,codes)\n",
        "\n",
        "pdnf_cardEvents = selectEvents(pdnf,codes)\n",
        "\n",
        "ei_cardEvents = selectEvents(ei,codes)\n",
        "\n",
        "elp_cardEvents = selectEvents(elp,codes)\n",
        "\n",
        "print(\"diag BEFORE pre-processing: \", diag.shape)\n",
        "print(\"diag AFTER  pre-processing: \", diag_cardEvents.shape)\n",
        "\n",
        "print(\"pnd BEFORE pre-processing: \", pnd.shape)\n",
        "print(\"pnd AFTER  pre-processing: \", pnd_cardEvents.shape)\n",
        "\n",
        "print(\"pdnf BEFORE pre-processing: \", pdnf.shape)\n",
        "print(\"pdnf AFTER  pre-processing: \", pdnf_cardEvents.shape)\n",
        "\n",
        "print(\"ei BEFORE pre-processing: \", ei.shape)\n",
        "print(\"ei AFTER  pre-processing: \", ei_cardEvents.shape)\n",
        "\n",
        "print(\"elp BEFORE pre-processing: \", elp.shape)\n",
        "print(\"elp AFTER  pre-processing: \", elp_cardEvents.shape)\n"
      ]
    },
    {
      "cell_type": "code",
      "execution_count": null,
      "metadata": {
        "colab": {
          "base_uri": "https://localhost:8080/"
        },
        "id": "TQIMwG0WIkjH",
        "outputId": "8fae8ca1-57ba-4cd9-fa94-3e560657747c"
      },
      "outputs": [
        {
          "name": "stdout",
          "output_type": "stream",
          "text": [
            "0    25995\n",
            "1    18555\n",
            "Name: class, dtype: int64\n"
          ]
        },
        {
          "data": {
            "text/plain": [
              "1    688\n",
              "0    563\n",
              "Name: class, dtype: int64"
            ]
          },
          "execution_count": 88,
          "metadata": {},
          "output_type": "execute_result"
        }
      ],
      "source": [
        "# We observe that before cleaning our dataset there are more patients with label 0 than patients with label 1\n",
        "print(patientsOfInterest_labeled['class'].value_counts())\n",
        "\n",
        "# For each patient we count the total number of events that are included in our list\n",
        "diag_aux = diag_cardEvents.filter(items=['idcentro', 'idana', 'codiceamd']).drop_duplicates()\n",
        "diag_aux = diag_aux.filter(items=['idcentro', 'idana'])\n",
        "\n",
        "pnd_aux = pnd_cardEvents.filter(items=['idcentro', 'idana', 'codiceamd']).drop_duplicates()\n",
        "pnd_aux = pnd_aux.filter(items=['idcentro', 'idana'])\n",
        "\n",
        "pdnf_aux = pdnf_cardEvents.filter(items=['idcentro', 'idana', 'codiceamd']).drop_duplicates()\n",
        "pdnf_aux = pdnf_aux.filter(items=['idcentro', 'idana'])\n",
        "\n",
        "ei_aux = ei_cardEvents.filter(items=['idcentro', 'idana', 'codiceamd']).drop_duplicates()\n",
        "ei_aux = ei_aux.filter(items=['idcentro', 'idana'])\n",
        "\n",
        "elp_aux = elp_cardEvents.filter(items=['idcentro', 'idana', 'codiceamd']).drop_duplicates()\n",
        "elp_aux = elp_aux.filter(items=['idcentro', 'idana'])\n",
        "\n",
        "suma= pd.concat(\n",
        "    [diag_aux.groupby(['idcentro', 'idana']).value_counts(), pnd_aux.groupby(['idcentro', 'idana']).value_counts(), pdnf_aux.groupby(['idcentro', 'idana']).value_counts(), ei_aux.groupby(['idcentro', 'idana']).value_counts(), elp_aux.groupby(['idcentro', 'idana']).value_counts()], \n",
        "    axis=1\n",
        "    ).sum(axis=1)\n",
        "\n",
        "# We are going to take only the patients with 15 events or more \n",
        "suma=suma[suma>=15]\n",
        "l=suma.index\n",
        "\n",
        "# We turn our list into a dataframe and clean the patiens table\n",
        "tupla1, tupla2 = [i for i, j in l], [j for i, j in l]\n",
        "\n",
        "df1 = pd.DataFrame()\n",
        "df1['idcentro']=tupla1\n",
        "df1['idana']=tupla2\n",
        "df1.head()\n",
        "\n",
        "ap_aux  = pd.merge(ap, df1, on=['idcentro','idana'])[ap_fixed.columns]\n",
        "ap_aux.head()\n",
        "\n",
        "# We eliminate from the other tables the events of patients that have been just eliminated from the patients table\n",
        "diag_aux = diag.merge(ap_aux, on=['idcentro', 'idana'])\n",
        "pnd_aux = pnd.merge(ap_aux, on=['idcentro', 'idana'])\n",
        "pdf_aux = pdf.merge(ap_aux, on=['idcentro', 'idana'])\n",
        "pdnf_aux = pdnf.merge(ap_aux, on=['idcentro', 'idana'])\n",
        "ei_aux = ei.merge(ap_aux, on=['idcentro', 'idana'])\n",
        "elp_aux = elp.merge(ap_aux, on=['idcentro', 'idana'])\n",
        "\n",
        "patientsOfInterest_labeled_aux = patientsOfInterest_labeled.merge(ap_aux, on=['idcentro', 'idana'])\n",
        "\n",
        "# Now we see that we have more patients with label 1 than patients with label 0\n",
        "patientsOfInterest_labeled_aux['class'].value_counts()\n",
        "\n"
      ]
    },
    {
      "attachments": {},
      "cell_type": "markdown",
      "metadata": {},
      "source": [
        "# Writing Datasets"
      ]
    },
    {
      "cell_type": "code",
      "execution_count": 1,
      "metadata": {},
      "outputs": [],
      "source": [
        "\n",
        "# UNCOMMENT FOR SAVING DATASETS in \"write_data_path\"\n",
        "\n",
        "# write_data_path = \"../../data/dataset_preprocessed\"\n",
        "\n",
        "# ap.to_csv(write_data_path+\"/anagraficapazientiattivi.csv\", index=False, )\n",
        "# diag.to_csv(write_data_path+\"/diagnosi.csv\", index=False)\n",
        "# elp.to_csv(write_data_path+\"/esamilaboratorioparametri.csv\", index=False)\n",
        "# ei.to_csv(write_data_path+\"/esamistrumentali.csv\", index=False)\n",
        "# pdf.to_csv(write_data_path+\"/prescrizionidiabetefarmaci.csv\", index=False)\n",
        "# pdnf.to_csv(write_data_path+\"/prescrizionidiabetenonfarmaci.csv\", index=False)\n",
        "# pnd.to_csv(write_data_path+\"/prescrizioninondiabete.csv\", index=False)"
      ]
    }
  ],
  "metadata": {
    "colab": {
      "provenance": []
    },
    "kernelspec": {
      "display_name": "base",
      "language": "python",
      "name": "python3"
    },
    "language_info": {
      "codemirror_mode": {
        "name": "ipython",
        "version": 3
      },
      "file_extension": ".py",
      "mimetype": "text/x-python",
      "name": "python",
      "nbconvert_exporter": "python",
      "pygments_lexer": "ipython3",
      "version": "3.9.13"
    },
    "orig_nbformat": 4
  },
  "nbformat": 4,
  "nbformat_minor": 0
}
