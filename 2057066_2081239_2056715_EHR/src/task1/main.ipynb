{
  "cells": [
    {
      "attachments": {},
      "cell_type": "markdown",
      "metadata": {
        "id": "ElmGgvfzWseh"
      },
      "source": [
        "[Professor GitHub Repository](https://github.com/bardhprenkaj/ML_labs/blob/main/resources/project/project_description.pdf)\n",
        "\n",
        "[Project GitHub Repository](https://github.com/Naxetee/ML_FinalProject)"
      ]
    },
    {
      "attachments": {},
      "cell_type": "markdown",
      "metadata": {
        "id": "KqASZlhrWsei"
      },
      "source": [
        "# Index\n",
        "\n",
        "- **Python Libraries**\n",
        "- **Task 1**\n",
        "    - *Reading Datasets*\n",
        "    - *Exercise 1*\n",
        "    - *Exercise 2*\n",
        "    - *Exercise 3*\n",
        "    - *Exercise 4*\n",
        "    - *Exercise 5*\n",
        "    - *Writing Clean Datasets*\n"
      ]
    },
    {
      "attachments": {},
      "cell_type": "markdown",
      "metadata": {
        "id": "Mz_yoz4IWsej"
      },
      "source": [
        "# Python Libraries\n"
      ]
    },
    {
      "cell_type": "code",
      "execution_count": 114,
      "metadata": {
        "id": "7Krsb-hrWsej"
      },
      "outputs": [],
      "source": [
        "import pandas as pd\n",
        "import numpy as np\n",
        "import datetime as dt"
      ]
    },
    {
      "attachments": {},
      "cell_type": "markdown",
      "metadata": {
        "id": "uR_uJ5j1Wsek"
      },
      "source": [
        "# Task 1\n",
        "\n",
        "During this first task we will apply some **pre-processing** operations to our raw data. So we will directly modify the data in *data/dataset/*, so that the data in *data/dataset_fixed/* will always remain unmodified."
      ]
    },
    {
      "attachments": {},
      "cell_type": "markdown",
      "metadata": {
        "id": "VibHSI3EWsek"
      },
      "source": [
        "## Reading the Datasets"
      ]
    },
    {
      "attachments": {},
      "cell_type": "markdown",
      "metadata": {
        "id": "nI6KLqlWWsek"
      },
      "source": [
        "At first, let's read the **.csv** files using a *pandas* function called **read_csv** whose parameters are:\n",
        "- *filepath*: the path of the .csv files.\n",
        "- *header*: will be always 0 to skip the columns' name row.\n",
        "- *names*: gives a name to each column of the table.\n"
      ]
    },
    {
      "cell_type": "code",
      "execution_count": 115,
      "metadata": {
        "id": "_opTrrNvWsel"
      },
      "outputs": [],
      "source": [
        "fixed_data_path  = \"../../data/dataset_fixed/sample\"\n",
        "\n",
        "ap_fixed   = pd.read_csv(fixed_data_path+'/anagraficapazientiattivi.csv',      header=0 ,names=['idcentro','idana','sesso','annodiagnosidiabete','tipodiabete','scolarita','statocivile','professione','origine','annonascita','annoprimoaccesso','annodecesso'])\n",
        "diag_fixed = pd.read_csv(fixed_data_path+'/diagnosi.csv',                      header=0 ,names=['idcentro','idana','data','codiceamd','valore'])\n",
        "elp_fixed  = pd.read_csv(fixed_data_path+'/esamilaboratorioparametri.csv',     header=0 ,names=['idcentro','idana','data','codiceamd','valore'])\n",
        "ei_fixed   = pd.read_csv(fixed_data_path+'/esamistrumentali.csv',              header=0 ,names=['idcentro','idana','data','codiceamd','valore'])\n",
        "pdf_fixed  = pd.read_csv(fixed_data_path+'/prescrizionidiabetefarmaci.csv',    header=0 ,names=['idcentro','idana','data','codiceatc','quantita','idpasto','descrizionefarmaco'])\n",
        "pdnf_fixed = pd.read_csv(fixed_data_path+'/prescrizionidiabetenonfarmaci.csv', header=0 ,names=['idcentro','idana','data','codiceamd','valore'])\n",
        "pnd_fixed  = pd.read_csv(fixed_data_path+'/prescrizioninondiabete.csv',        header=0 ,names=['idcentro','idana','data','codiceamd','valore'])"
      ]
    },
    {
      "cell_type": "code",
      "execution_count": 116,
      "metadata": {
        "id": "08-bIFpAWsel"
      },
      "outputs": [],
      "source": [
        "read_data_path  = \"../../data/dataset/sample\"\n",
        "\n",
        "ap   = pd.read_csv(read_data_path+'/anagraficapazientiattivi.csv',      header=0 ,names=['idcentro','idana','sesso','annodiagnosidiabete','tipodiabete','scolarita','statocivile','professione','origine','annonascita','annoprimoaccesso','annodecesso'])\n",
        "diag = pd.read_csv(read_data_path+'/diagnosi.csv',                      header=0 ,names=['idcentro','idana','data','codiceamd','valore'])\n",
        "elp  = pd.read_csv(read_data_path+'/esamilaboratorioparametri.csv',     header=0 ,names=['idcentro','idana','data','codiceamd','valore'])\n",
        "ei   = pd.read_csv(read_data_path+'/esamistrumentali.csv',              header=0 ,names=['idcentro','idana','data','codiceamd','valore'])\n",
        "pdf  = pd.read_csv(read_data_path+'/prescrizionidiabetefarmaci.csv',    header=0 ,names=['idcentro','idana','data','codiceatc','quantita','idpasto','descrizionefarmaco'])\n",
        "pdnf = pd.read_csv(read_data_path+'/prescrizionidiabetenonfarmaci.csv', header=0 ,names=['idcentro','idana','data','codiceamd','valore'])\n",
        "pnd  = pd.read_csv(read_data_path+'/prescrizioninondiabete.csv',        header=0 ,names=['idcentro','idana','data','codiceamd','valore'])"
      ]
    },
    {
      "cell_type": "code",
      "execution_count": 117,
      "metadata": {
        "colab": {
          "base_uri": "https://localhost:8080/",
          "height": 287
        },
        "id": "L6SuGrDsWsel",
        "outputId": "314764ef-00be-453e-d2da-003ed292f33f"
      },
      "outputs": [
        {
          "name": "stdout",
          "output_type": "stream",
          "text": [
            "(250000, 12)\n"
          ]
        },
        {
          "data": {
            "text/html": [
              "<div>\n",
              "<style scoped>\n",
              "    .dataframe tbody tr th:only-of-type {\n",
              "        vertical-align: middle;\n",
              "    }\n",
              "\n",
              "    .dataframe tbody tr th {\n",
              "        vertical-align: top;\n",
              "    }\n",
              "\n",
              "    .dataframe thead th {\n",
              "        text-align: right;\n",
              "    }\n",
              "</style>\n",
              "<table border=\"1\" class=\"dataframe\">\n",
              "  <thead>\n",
              "    <tr style=\"text-align: right;\">\n",
              "      <th></th>\n",
              "      <th>idcentro</th>\n",
              "      <th>idana</th>\n",
              "      <th>sesso</th>\n",
              "      <th>annodiagnosidiabete</th>\n",
              "      <th>tipodiabete</th>\n",
              "      <th>scolarita</th>\n",
              "      <th>statocivile</th>\n",
              "      <th>professione</th>\n",
              "      <th>origine</th>\n",
              "      <th>annonascita</th>\n",
              "      <th>annoprimoaccesso</th>\n",
              "      <th>annodecesso</th>\n",
              "    </tr>\n",
              "  </thead>\n",
              "  <tbody>\n",
              "    <tr>\n",
              "      <th>0</th>\n",
              "      <td>89</td>\n",
              "      <td>13370</td>\n",
              "      <td>M</td>\n",
              "      <td>2007.0</td>\n",
              "      <td>5</td>\n",
              "      <td>NaN</td>\n",
              "      <td>NaN</td>\n",
              "      <td>NaN</td>\n",
              "      <td>NaN</td>\n",
              "      <td>1946</td>\n",
              "      <td>NaN</td>\n",
              "      <td>NaN</td>\n",
              "    </tr>\n",
              "    <tr>\n",
              "      <th>1</th>\n",
              "      <td>100</td>\n",
              "      <td>3080</td>\n",
              "      <td>M</td>\n",
              "      <td>1988.0</td>\n",
              "      <td>5</td>\n",
              "      <td>NaN</td>\n",
              "      <td>NaN</td>\n",
              "      <td>NaN</td>\n",
              "      <td>NaN</td>\n",
              "      <td>1936</td>\n",
              "      <td>1991.0</td>\n",
              "      <td>NaN</td>\n",
              "    </tr>\n",
              "    <tr>\n",
              "      <th>2</th>\n",
              "      <td>72</td>\n",
              "      <td>15730</td>\n",
              "      <td>M</td>\n",
              "      <td>2015.0</td>\n",
              "      <td>5</td>\n",
              "      <td>NaN</td>\n",
              "      <td>NaN</td>\n",
              "      <td>NaN</td>\n",
              "      <td>NaN</td>\n",
              "      <td>1965</td>\n",
              "      <td>2015.0</td>\n",
              "      <td>NaN</td>\n",
              "    </tr>\n",
              "    <tr>\n",
              "      <th>3</th>\n",
              "      <td>150</td>\n",
              "      <td>3799</td>\n",
              "      <td>F</td>\n",
              "      <td>1986.0</td>\n",
              "      <td>5</td>\n",
              "      <td>NaN</td>\n",
              "      <td>NaN</td>\n",
              "      <td>NaN</td>\n",
              "      <td>NaN</td>\n",
              "      <td>1928</td>\n",
              "      <td>NaN</td>\n",
              "      <td>NaN</td>\n",
              "    </tr>\n",
              "    <tr>\n",
              "      <th>4</th>\n",
              "      <td>141</td>\n",
              "      <td>4432</td>\n",
              "      <td>F</td>\n",
              "      <td>2010.0</td>\n",
              "      <td>5</td>\n",
              "      <td>NaN</td>\n",
              "      <td>NaN</td>\n",
              "      <td>NaN</td>\n",
              "      <td>NaN</td>\n",
              "      <td>1949</td>\n",
              "      <td>2011.0</td>\n",
              "      <td>NaN</td>\n",
              "    </tr>\n",
              "  </tbody>\n",
              "</table>\n",
              "</div>"
            ],
            "text/plain": [
              "   idcentro  idana sesso  annodiagnosidiabete  tipodiabete  scolarita  \\\n",
              "0        89  13370     M               2007.0            5        NaN   \n",
              "1       100   3080     M               1988.0            5        NaN   \n",
              "2        72  15730     M               2015.0            5        NaN   \n",
              "3       150   3799     F               1986.0            5        NaN   \n",
              "4       141   4432     F               2010.0            5        NaN   \n",
              "\n",
              "   statocivile  professione  origine  annonascita  annoprimoaccesso  \\\n",
              "0          NaN          NaN      NaN         1946               NaN   \n",
              "1          NaN          NaN      NaN         1936            1991.0   \n",
              "2          NaN          NaN      NaN         1965            2015.0   \n",
              "3          NaN          NaN      NaN         1928               NaN   \n",
              "4          NaN          NaN      NaN         1949            2011.0   \n",
              "\n",
              "   annodecesso  \n",
              "0          NaN  \n",
              "1          NaN  \n",
              "2          NaN  \n",
              "3          NaN  \n",
              "4          NaN  "
            ]
          },
          "execution_count": 117,
          "metadata": {},
          "output_type": "execute_result"
        }
      ],
      "source": [
        "# Display example observations\n",
        "print(ap.shape)\n",
        "ap.head()"
      ]
    },
    {
      "cell_type": "code",
      "execution_count": 118,
      "metadata": {
        "colab": {
          "base_uri": "https://localhost:8080/",
          "height": 223
        },
        "id": "zjaQSojfWsem",
        "outputId": "3dd7066c-4215-46cf-e580-3db2e19e1e39"
      },
      "outputs": [
        {
          "name": "stdout",
          "output_type": "stream",
          "text": [
            "(4427337, 5)\n"
          ]
        },
        {
          "data": {
            "text/html": [
              "<div>\n",
              "<style scoped>\n",
              "    .dataframe tbody tr th:only-of-type {\n",
              "        vertical-align: middle;\n",
              "    }\n",
              "\n",
              "    .dataframe tbody tr th {\n",
              "        vertical-align: top;\n",
              "    }\n",
              "\n",
              "    .dataframe thead th {\n",
              "        text-align: right;\n",
              "    }\n",
              "</style>\n",
              "<table border=\"1\" class=\"dataframe\">\n",
              "  <thead>\n",
              "    <tr style=\"text-align: right;\">\n",
              "      <th></th>\n",
              "      <th>idcentro</th>\n",
              "      <th>idana</th>\n",
              "      <th>data</th>\n",
              "      <th>codiceamd</th>\n",
              "      <th>valore</th>\n",
              "    </tr>\n",
              "  </thead>\n",
              "  <tbody>\n",
              "    <tr>\n",
              "      <th>0</th>\n",
              "      <td>1</td>\n",
              "      <td>5</td>\n",
              "      <td>1980-01-01</td>\n",
              "      <td>AMD247</td>\n",
              "      <td>491.20</td>\n",
              "    </tr>\n",
              "    <tr>\n",
              "      <th>1</th>\n",
              "      <td>1</td>\n",
              "      <td>5</td>\n",
              "      <td>1986-01-01</td>\n",
              "      <td>AMD247</td>\n",
              "      <td>272.0</td>\n",
              "    </tr>\n",
              "    <tr>\n",
              "      <th>2</th>\n",
              "      <td>1</td>\n",
              "      <td>5</td>\n",
              "      <td>1987-01-01</td>\n",
              "      <td>AMD083</td>\n",
              "      <td>NaN</td>\n",
              "    </tr>\n",
              "    <tr>\n",
              "      <th>3</th>\n",
              "      <td>1</td>\n",
              "      <td>5</td>\n",
              "      <td>1987-01-01</td>\n",
              "      <td>AMD247</td>\n",
              "      <td>401</td>\n",
              "    </tr>\n",
              "    <tr>\n",
              "      <th>4</th>\n",
              "      <td>1</td>\n",
              "      <td>5</td>\n",
              "      <td>1997-12-01</td>\n",
              "      <td>AMD247</td>\n",
              "      <td>410</td>\n",
              "    </tr>\n",
              "  </tbody>\n",
              "</table>\n",
              "</div>"
            ],
            "text/plain": [
              "   idcentro  idana        data codiceamd  valore\n",
              "0         1      5  1980-01-01    AMD247  491.20\n",
              "1         1      5  1986-01-01    AMD247   272.0\n",
              "2         1      5  1987-01-01    AMD083     NaN\n",
              "3         1      5  1987-01-01    AMD247     401\n",
              "4         1      5  1997-12-01    AMD247     410"
            ]
          },
          "execution_count": 118,
          "metadata": {},
          "output_type": "execute_result"
        }
      ],
      "source": [
        "print(diag.shape)\n",
        "diag.head()"
      ]
    },
    {
      "cell_type": "code",
      "execution_count": 119,
      "metadata": {
        "colab": {
          "base_uri": "https://localhost:8080/",
          "height": 223
        },
        "id": "S1pHA2TUWsem",
        "outputId": "b190d991-5f78-4c65-9ecf-8a9326bfdbea"
      },
      "outputs": [
        {
          "name": "stdout",
          "output_type": "stream",
          "text": [
            "(28628530, 5)\n"
          ]
        },
        {
          "data": {
            "text/html": [
              "<div>\n",
              "<style scoped>\n",
              "    .dataframe tbody tr th:only-of-type {\n",
              "        vertical-align: middle;\n",
              "    }\n",
              "\n",
              "    .dataframe tbody tr th {\n",
              "        vertical-align: top;\n",
              "    }\n",
              "\n",
              "    .dataframe thead th {\n",
              "        text-align: right;\n",
              "    }\n",
              "</style>\n",
              "<table border=\"1\" class=\"dataframe\">\n",
              "  <thead>\n",
              "    <tr style=\"text-align: right;\">\n",
              "      <th></th>\n",
              "      <th>idcentro</th>\n",
              "      <th>idana</th>\n",
              "      <th>data</th>\n",
              "      <th>codiceamd</th>\n",
              "      <th>valore</th>\n",
              "    </tr>\n",
              "  </thead>\n",
              "  <tbody>\n",
              "    <tr>\n",
              "      <th>0</th>\n",
              "      <td>1</td>\n",
              "      <td>5</td>\n",
              "      <td>2005-01-18</td>\n",
              "      <td>AMD001</td>\n",
              "      <td>169.0</td>\n",
              "    </tr>\n",
              "    <tr>\n",
              "      <th>1</th>\n",
              "      <td>1</td>\n",
              "      <td>5</td>\n",
              "      <td>2005-01-18</td>\n",
              "      <td>AMD002</td>\n",
              "      <td>76.0</td>\n",
              "    </tr>\n",
              "    <tr>\n",
              "      <th>2</th>\n",
              "      <td>1</td>\n",
              "      <td>5</td>\n",
              "      <td>2005-01-18</td>\n",
              "      <td>AMD004</td>\n",
              "      <td>135.0</td>\n",
              "    </tr>\n",
              "    <tr>\n",
              "      <th>3</th>\n",
              "      <td>1</td>\n",
              "      <td>5</td>\n",
              "      <td>2005-01-18</td>\n",
              "      <td>AMD005</td>\n",
              "      <td>80.0</td>\n",
              "    </tr>\n",
              "    <tr>\n",
              "      <th>4</th>\n",
              "      <td>1</td>\n",
              "      <td>5</td>\n",
              "      <td>2005-06-06</td>\n",
              "      <td>AMD007</td>\n",
              "      <td>169.0</td>\n",
              "    </tr>\n",
              "  </tbody>\n",
              "</table>\n",
              "</div>"
            ],
            "text/plain": [
              "   idcentro  idana        data codiceamd  valore\n",
              "0         1      5  2005-01-18    AMD001   169.0\n",
              "1         1      5  2005-01-18    AMD002    76.0\n",
              "2         1      5  2005-01-18    AMD004   135.0\n",
              "3         1      5  2005-01-18    AMD005    80.0\n",
              "4         1      5  2005-06-06    AMD007   169.0"
            ]
          },
          "execution_count": 119,
          "metadata": {},
          "output_type": "execute_result"
        }
      ],
      "source": [
        "print(elp.shape)\n",
        "elp.head()"
      ]
    },
    {
      "cell_type": "code",
      "execution_count": 120,
      "metadata": {
        "colab": {
          "base_uri": "https://localhost:8080/",
          "height": 223
        },
        "id": "xSrIKrDFWsem",
        "outputId": "2c3cfc07-e86e-4e06-ea5c-cb059ac2f999"
      },
      "outputs": [
        {
          "name": "stdout",
          "output_type": "stream",
          "text": [
            "(1015740, 5)\n"
          ]
        },
        {
          "data": {
            "text/html": [
              "<div>\n",
              "<style scoped>\n",
              "    .dataframe tbody tr th:only-of-type {\n",
              "        vertical-align: middle;\n",
              "    }\n",
              "\n",
              "    .dataframe tbody tr th {\n",
              "        vertical-align: top;\n",
              "    }\n",
              "\n",
              "    .dataframe thead th {\n",
              "        text-align: right;\n",
              "    }\n",
              "</style>\n",
              "<table border=\"1\" class=\"dataframe\">\n",
              "  <thead>\n",
              "    <tr style=\"text-align: right;\">\n",
              "      <th></th>\n",
              "      <th>idcentro</th>\n",
              "      <th>idana</th>\n",
              "      <th>data</th>\n",
              "      <th>codiceamd</th>\n",
              "      <th>valore</th>\n",
              "    </tr>\n",
              "  </thead>\n",
              "  <tbody>\n",
              "    <tr>\n",
              "      <th>0</th>\n",
              "      <td>1</td>\n",
              "      <td>5</td>\n",
              "      <td>2006-01-04</td>\n",
              "      <td>AMD051</td>\n",
              "      <td>N</td>\n",
              "    </tr>\n",
              "    <tr>\n",
              "      <th>1</th>\n",
              "      <td>1</td>\n",
              "      <td>5</td>\n",
              "      <td>2006-11-14</td>\n",
              "      <td>AMD041</td>\n",
              "      <td>P</td>\n",
              "    </tr>\n",
              "    <tr>\n",
              "      <th>2</th>\n",
              "      <td>1</td>\n",
              "      <td>5</td>\n",
              "      <td>2006-11-20</td>\n",
              "      <td>AMD040</td>\n",
              "      <td>P</td>\n",
              "    </tr>\n",
              "    <tr>\n",
              "      <th>3</th>\n",
              "      <td>1</td>\n",
              "      <td>5</td>\n",
              "      <td>2007-06-01</td>\n",
              "      <td>AMD040</td>\n",
              "      <td>N</td>\n",
              "    </tr>\n",
              "    <tr>\n",
              "      <th>4</th>\n",
              "      <td>1</td>\n",
              "      <td>5</td>\n",
              "      <td>2008-01-16</td>\n",
              "      <td>AMD040</td>\n",
              "      <td>N</td>\n",
              "    </tr>\n",
              "  </tbody>\n",
              "</table>\n",
              "</div>"
            ],
            "text/plain": [
              "   idcentro  idana        data codiceamd valore\n",
              "0         1      5  2006-01-04    AMD051      N\n",
              "1         1      5  2006-11-14    AMD041      P\n",
              "2         1      5  2006-11-20    AMD040      P\n",
              "3         1      5  2007-06-01    AMD040      N\n",
              "4         1      5  2008-01-16    AMD040      N"
            ]
          },
          "execution_count": 120,
          "metadata": {},
          "output_type": "execute_result"
        }
      ],
      "source": [
        "print(ei.shape)\n",
        "ei.head()"
      ]
    },
    {
      "cell_type": "code",
      "execution_count": 121,
      "metadata": {
        "colab": {
          "base_uri": "https://localhost:8080/",
          "height": 223
        },
        "id": "0wdC-BVsWsem",
        "outputId": "547c9445-de78-431d-9e13-36d85c9303ee"
      },
      "outputs": [
        {
          "name": "stdout",
          "output_type": "stream",
          "text": [
            "(7012648, 7)\n"
          ]
        },
        {
          "data": {
            "text/html": [
              "<div>\n",
              "<style scoped>\n",
              "    .dataframe tbody tr th:only-of-type {\n",
              "        vertical-align: middle;\n",
              "    }\n",
              "\n",
              "    .dataframe tbody tr th {\n",
              "        vertical-align: top;\n",
              "    }\n",
              "\n",
              "    .dataframe thead th {\n",
              "        text-align: right;\n",
              "    }\n",
              "</style>\n",
              "<table border=\"1\" class=\"dataframe\">\n",
              "  <thead>\n",
              "    <tr style=\"text-align: right;\">\n",
              "      <th></th>\n",
              "      <th>idcentro</th>\n",
              "      <th>idana</th>\n",
              "      <th>data</th>\n",
              "      <th>codiceatc</th>\n",
              "      <th>quantita</th>\n",
              "      <th>idpasto</th>\n",
              "      <th>descrizionefarmaco</th>\n",
              "    </tr>\n",
              "  </thead>\n",
              "  <tbody>\n",
              "    <tr>\n",
              "      <th>0</th>\n",
              "      <td>82</td>\n",
              "      <td>782</td>\n",
              "      <td>2008-04-02</td>\n",
              "      <td>A10BA02</td>\n",
              "      <td>1.0</td>\n",
              "      <td>1</td>\n",
              "      <td>GLUCOPHAGE*60CPR RIV 1000MG</td>\n",
              "    </tr>\n",
              "    <tr>\n",
              "      <th>1</th>\n",
              "      <td>82</td>\n",
              "      <td>782</td>\n",
              "      <td>2008-04-02</td>\n",
              "      <td>A10BA02</td>\n",
              "      <td>1.0</td>\n",
              "      <td>3</td>\n",
              "      <td>GLUCOPHAGE*60CPR RIV 1000MG</td>\n",
              "    </tr>\n",
              "    <tr>\n",
              "      <th>2</th>\n",
              "      <td>82</td>\n",
              "      <td>782</td>\n",
              "      <td>2008-04-02</td>\n",
              "      <td>A10BA02</td>\n",
              "      <td>1.0</td>\n",
              "      <td>5</td>\n",
              "      <td>GLUCOPHAGE*60CPR RIV 1000MG</td>\n",
              "    </tr>\n",
              "    <tr>\n",
              "      <th>3</th>\n",
              "      <td>82</td>\n",
              "      <td>782</td>\n",
              "      <td>2008-04-02</td>\n",
              "      <td>A10BB09</td>\n",
              "      <td>3.0</td>\n",
              "      <td>1</td>\n",
              "      <td>DIAMICRON*60CPR R.M. 30MG</td>\n",
              "    </tr>\n",
              "    <tr>\n",
              "      <th>4</th>\n",
              "      <td>82</td>\n",
              "      <td>782</td>\n",
              "      <td>2008-05-02</td>\n",
              "      <td>A10BA02</td>\n",
              "      <td>1.0</td>\n",
              "      <td>1</td>\n",
              "      <td>GLUCOPHAGE*60CPR RIV 1000MG</td>\n",
              "    </tr>\n",
              "  </tbody>\n",
              "</table>\n",
              "</div>"
            ],
            "text/plain": [
              "   idcentro  idana        data codiceatc  quantita  idpasto  \\\n",
              "0        82    782  2008-04-02   A10BA02       1.0        1   \n",
              "1        82    782  2008-04-02   A10BA02       1.0        3   \n",
              "2        82    782  2008-04-02   A10BA02       1.0        5   \n",
              "3        82    782  2008-04-02   A10BB09       3.0        1   \n",
              "4        82    782  2008-05-02   A10BA02       1.0        1   \n",
              "\n",
              "            descrizionefarmaco  \n",
              "0  GLUCOPHAGE*60CPR RIV 1000MG  \n",
              "1  GLUCOPHAGE*60CPR RIV 1000MG  \n",
              "2  GLUCOPHAGE*60CPR RIV 1000MG  \n",
              "3    DIAMICRON*60CPR R.M. 30MG  \n",
              "4  GLUCOPHAGE*60CPR RIV 1000MG  "
            ]
          },
          "execution_count": 121,
          "metadata": {},
          "output_type": "execute_result"
        }
      ],
      "source": [
        "print(pdf.shape)\n",
        "pdf.head()"
      ]
    },
    {
      "cell_type": "code",
      "execution_count": 122,
      "metadata": {
        "colab": {
          "base_uri": "https://localhost:8080/",
          "height": 223
        },
        "id": "E8L2JpALWsen",
        "outputId": "b4388cb0-a5d0-4dff-947c-d5201f102b55"
      },
      "outputs": [
        {
          "name": "stdout",
          "output_type": "stream",
          "text": [
            "(548467, 5)\n"
          ]
        },
        {
          "data": {
            "text/html": [
              "<div>\n",
              "<style scoped>\n",
              "    .dataframe tbody tr th:only-of-type {\n",
              "        vertical-align: middle;\n",
              "    }\n",
              "\n",
              "    .dataframe tbody tr th {\n",
              "        vertical-align: top;\n",
              "    }\n",
              "\n",
              "    .dataframe thead th {\n",
              "        text-align: right;\n",
              "    }\n",
              "</style>\n",
              "<table border=\"1\" class=\"dataframe\">\n",
              "  <thead>\n",
              "    <tr style=\"text-align: right;\">\n",
              "      <th></th>\n",
              "      <th>idcentro</th>\n",
              "      <th>idana</th>\n",
              "      <th>data</th>\n",
              "      <th>codiceamd</th>\n",
              "      <th>valore</th>\n",
              "    </tr>\n",
              "  </thead>\n",
              "  <tbody>\n",
              "    <tr>\n",
              "      <th>0</th>\n",
              "      <td>1</td>\n",
              "      <td>5</td>\n",
              "      <td>2008-06-20</td>\n",
              "      <td>AMD152</td>\n",
              "      <td>NaN</td>\n",
              "    </tr>\n",
              "    <tr>\n",
              "      <th>1</th>\n",
              "      <td>1</td>\n",
              "      <td>5</td>\n",
              "      <td>2013-08-27</td>\n",
              "      <td>AMD152</td>\n",
              "      <td>NaN</td>\n",
              "    </tr>\n",
              "    <tr>\n",
              "      <th>2</th>\n",
              "      <td>1</td>\n",
              "      <td>5</td>\n",
              "      <td>2013-12-31</td>\n",
              "      <td>AMD086</td>\n",
              "      <td>S</td>\n",
              "    </tr>\n",
              "    <tr>\n",
              "      <th>3</th>\n",
              "      <td>1</td>\n",
              "      <td>5</td>\n",
              "      <td>2013-12-31</td>\n",
              "      <td>AMD228</td>\n",
              "      <td>S</td>\n",
              "    </tr>\n",
              "    <tr>\n",
              "      <th>4</th>\n",
              "      <td>1</td>\n",
              "      <td>6</td>\n",
              "      <td>2005-06-08</td>\n",
              "      <td>AMD086</td>\n",
              "      <td>S</td>\n",
              "    </tr>\n",
              "  </tbody>\n",
              "</table>\n",
              "</div>"
            ],
            "text/plain": [
              "   idcentro  idana        data codiceamd valore\n",
              "0         1      5  2008-06-20    AMD152    NaN\n",
              "1         1      5  2013-08-27    AMD152    NaN\n",
              "2         1      5  2013-12-31    AMD086      S\n",
              "3         1      5  2013-12-31    AMD228      S\n",
              "4         1      6  2005-06-08    AMD086      S"
            ]
          },
          "execution_count": 122,
          "metadata": {},
          "output_type": "execute_result"
        }
      ],
      "source": [
        "print(pdnf.shape)\n",
        "pdnf.head()"
      ]
    },
    {
      "cell_type": "code",
      "execution_count": 123,
      "metadata": {
        "colab": {
          "base_uri": "https://localhost:8080/",
          "height": 223
        },
        "id": "XYluTxGnWsen",
        "outputId": "c012e388-a51a-4270-d0a0-d9ee27874fa9"
      },
      "outputs": [
        {
          "name": "stdout",
          "output_type": "stream",
          "text": [
            "(5083861, 5)\n"
          ]
        },
        {
          "data": {
            "text/html": [
              "<div>\n",
              "<style scoped>\n",
              "    .dataframe tbody tr th:only-of-type {\n",
              "        vertical-align: middle;\n",
              "    }\n",
              "\n",
              "    .dataframe tbody tr th {\n",
              "        vertical-align: top;\n",
              "    }\n",
              "\n",
              "    .dataframe thead th {\n",
              "        text-align: right;\n",
              "    }\n",
              "</style>\n",
              "<table border=\"1\" class=\"dataframe\">\n",
              "  <thead>\n",
              "    <tr style=\"text-align: right;\">\n",
              "      <th></th>\n",
              "      <th>idcentro</th>\n",
              "      <th>idana</th>\n",
              "      <th>data</th>\n",
              "      <th>codiceamd</th>\n",
              "      <th>valore</th>\n",
              "    </tr>\n",
              "  </thead>\n",
              "  <tbody>\n",
              "    <tr>\n",
              "      <th>0</th>\n",
              "      <td>1</td>\n",
              "      <td>5</td>\n",
              "      <td>2005-01-18</td>\n",
              "      <td>AMD121</td>\n",
              "      <td>C09AA05</td>\n",
              "    </tr>\n",
              "    <tr>\n",
              "      <th>1</th>\n",
              "      <td>1</td>\n",
              "      <td>5</td>\n",
              "      <td>2005-01-18</td>\n",
              "      <td>AMD124</td>\n",
              "      <td>C10AA05</td>\n",
              "    </tr>\n",
              "    <tr>\n",
              "      <th>2</th>\n",
              "      <td>1</td>\n",
              "      <td>5</td>\n",
              "      <td>2005-01-18</td>\n",
              "      <td>AMD124</td>\n",
              "      <td>C10AX06</td>\n",
              "    </tr>\n",
              "    <tr>\n",
              "      <th>3</th>\n",
              "      <td>1</td>\n",
              "      <td>5</td>\n",
              "      <td>2005-06-21</td>\n",
              "      <td>AMD121</td>\n",
              "      <td>C09AA05</td>\n",
              "    </tr>\n",
              "    <tr>\n",
              "      <th>4</th>\n",
              "      <td>1</td>\n",
              "      <td>5</td>\n",
              "      <td>2005-06-21</td>\n",
              "      <td>AMD124</td>\n",
              "      <td>C10AA05</td>\n",
              "    </tr>\n",
              "  </tbody>\n",
              "</table>\n",
              "</div>"
            ],
            "text/plain": [
              "   idcentro  idana        data codiceamd   valore\n",
              "0         1      5  2005-01-18    AMD121  C09AA05\n",
              "1         1      5  2005-01-18    AMD124  C10AA05\n",
              "2         1      5  2005-01-18    AMD124  C10AX06\n",
              "3         1      5  2005-06-21    AMD121  C09AA05\n",
              "4         1      5  2005-06-21    AMD124  C10AA05"
            ]
          },
          "execution_count": 123,
          "metadata": {},
          "output_type": "execute_result"
        }
      ],
      "source": [
        "print(pnd.shape)\n",
        "pnd.head()"
      ]
    },
    {
      "attachments": {},
      "cell_type": "markdown",
      "metadata": {
        "id": "Lx3U7nvCWsen"
      },
      "source": [
        "## Exercise 1"
      ]
    },
    {
      "attachments": {},
      "cell_type": "markdown",
      "metadata": {
        "id": "WmZBD1u5Wsen"
      },
      "source": [
        "**Select Events of Interest -**\n",
        "We want only patients with at leats one cardiovascular event in their trajectories. These events have the folloging codes:\n",
        "- **AMD047**: Myocardial infarction\n",
        "- **AMD048**: Coronary angioplasty\n",
        "- **AMD049**: Coronary bypass\n",
        "- **AMD071**: Ictus\n",
        "- **AMD081**: Lower limb angioplasty\n",
        "- **AMD082**: Peripheral By-pass Lower Limbs\n",
        "- **AMD208**: Revascularization of intracranial and neck vessels\n",
        "- **AMD303**: Ischemic stroke\n",
        "\n",
        "Now let's try to filter all the tables containing the parameter **codiceamd** so as to select just the rows describing one cardio-vascular event.\n"
      ]
    },
    {
      "cell_type": "code",
      "execution_count": 124,
      "metadata": {
        "colab": {
          "base_uri": "https://localhost:8080/",
          "height": 0
        },
        "id": "NV09LENGWsen",
        "outputId": "62d0f128-54e0-49be-9bd6-64933d2e5018"
      },
      "outputs": [
        {
          "name": "stdout",
          "output_type": "stream",
          "text": [
            "BEFORE pre-processing:  (4427337, 5)\n",
            "AFTER  pre-processing:  (233204, 5)\n"
          ]
        },
        {
          "data": {
            "text/html": [
              "<div>\n",
              "<style scoped>\n",
              "    .dataframe tbody tr th:only-of-type {\n",
              "        vertical-align: middle;\n",
              "    }\n",
              "\n",
              "    .dataframe tbody tr th {\n",
              "        vertical-align: top;\n",
              "    }\n",
              "\n",
              "    .dataframe thead th {\n",
              "        text-align: right;\n",
              "    }\n",
              "</style>\n",
              "<table border=\"1\" class=\"dataframe\">\n",
              "  <thead>\n",
              "    <tr style=\"text-align: right;\">\n",
              "      <th></th>\n",
              "      <th>idcentro</th>\n",
              "      <th>idana</th>\n",
              "      <th>data</th>\n",
              "      <th>codiceamd</th>\n",
              "      <th>valore</th>\n",
              "    </tr>\n",
              "  </thead>\n",
              "  <tbody>\n",
              "    <tr>\n",
              "      <th>7</th>\n",
              "      <td>1</td>\n",
              "      <td>5</td>\n",
              "      <td>2000-12-02</td>\n",
              "      <td>AMD049</td>\n",
              "      <td>S</td>\n",
              "    </tr>\n",
              "    <tr>\n",
              "      <th>9</th>\n",
              "      <td>1</td>\n",
              "      <td>5</td>\n",
              "      <td>2001-03-22</td>\n",
              "      <td>AMD049</td>\n",
              "      <td>S</td>\n",
              "    </tr>\n",
              "    <tr>\n",
              "      <th>13</th>\n",
              "      <td>1</td>\n",
              "      <td>5</td>\n",
              "      <td>2002-02-11</td>\n",
              "      <td>AMD049</td>\n",
              "      <td>S</td>\n",
              "    </tr>\n",
              "    <tr>\n",
              "      <th>15</th>\n",
              "      <td>1</td>\n",
              "      <td>5</td>\n",
              "      <td>2002-02-14</td>\n",
              "      <td>AMD049</td>\n",
              "      <td>S</td>\n",
              "    </tr>\n",
              "    <tr>\n",
              "      <th>17</th>\n",
              "      <td>1</td>\n",
              "      <td>5</td>\n",
              "      <td>2003-01-17</td>\n",
              "      <td>AMD049</td>\n",
              "      <td>S</td>\n",
              "    </tr>\n",
              "  </tbody>\n",
              "</table>\n",
              "</div>"
            ],
            "text/plain": [
              "    idcentro  idana        data codiceamd valore\n",
              "7          1      5  2000-12-02    AMD049      S\n",
              "9          1      5  2001-03-22    AMD049      S\n",
              "13         1      5  2002-02-11    AMD049      S\n",
              "15         1      5  2002-02-14    AMD049      S\n",
              "17         1      5  2003-01-17    AMD049      S"
            ]
          },
          "execution_count": 124,
          "metadata": {},
          "output_type": "execute_result"
        }
      ],
      "source": [
        "codes = ['AMD047', 'AMD048', 'AMD049', 'AMD071', 'AMD081', 'AMD082', 'AMD208', 'AMD303']\n",
        "\n",
        "def selectEvents(df:pd.DataFrame, events_codes:list) -> pd.DataFrame:\n",
        "    return df[df.codiceamd.isin(events_codes)]\n",
        "\n",
        "## pnd_cardEvents = selectEvents(pnd,codes)\n",
        "\n",
        "## pdnf_cardEvents = selectEvents(pdnf,codes)\n",
        "\n",
        "## ei_cardEvents = selectEvents(ei,codes)\n",
        "\n",
        "## elp_cardEvents = selectEvents(elp,codes)\n",
        "\n",
        "diag_cardEvents = selectEvents(diag,codes)\n",
        "print(\"BEFORE pre-processing: \", diag.shape)\n",
        "print(\"AFTER  pre-processing: \", diag_cardEvents.shape)\n",
        "diag_cardEvents.head()\n"
      ]
    },
    {
      "attachments": {},
      "cell_type": "markdown",
      "metadata": {
        "id": "fHYXBcvdWsen"
      },
      "source": [
        "We realise that the only table with these cardio-vascular events is **diagnosi**, so we create a new DataFrame with all the rows that has one of these events, and we call it: **diag_cardEvents**. And from this table, we extract the id's of the patients that have suffered at least one cardio-vascular event during his life:"
      ]
    },
    {
      "cell_type": "code",
      "execution_count": 125,
      "metadata": {
        "colab": {
          "base_uri": "https://localhost:8080/"
        },
        "id": "z0jPqlPyWsen",
        "outputId": "e5e24685-e50b-4434-b55b-fc402fd9f32d"
      },
      "outputs": [
        {
          "name": "stdout",
          "output_type": "stream",
          "text": [
            "Number of patients with at least one cardio-vascular event:  50000 / 250000 patients.\n"
          ]
        }
      ],
      "source": [
        "patientsOfInterest = diag_cardEvents.filter(['idcentro','idana']).drop_duplicates()\n",
        "print(\"Number of patients with at least one cardio-vascular event: \", patientsOfInterest.shape[0], \"/\", ap.shape[0] , \"patients.\")"
      ]
    },
    {
      "attachments": {},
      "cell_type": "markdown",
      "metadata": {
        "id": "Fopp_h9zWseo"
      },
      "source": [
        "Finally, we have to delete from the rest of the tables all the information which is not associated to the remaining patients:"
      ]
    },
    {
      "cell_type": "code",
      "execution_count": 126,
      "metadata": {
        "id": "AELY_CmqWseo"
      },
      "outputs": [],
      "source": [
        "ap   = pd.merge(ap, patientsOfInterest,   on=['idcentro','idana'], how='right')[ap_fixed.columns]\n",
        "diag = pd.merge(diag, patientsOfInterest, on=['idcentro','idana'], how='right')[diag_fixed.columns]\n",
        "elp  = pd.merge(elp, patientsOfInterest,  on=['idcentro','idana'], how='right')[elp_fixed.columns]\n",
        "ei   = pd.merge(ei, patientsOfInterest,   on=['idcentro','idana'], how='right')[ei_fixed.columns]\n",
        "pdf  = pd.merge(pdf, patientsOfInterest,  on=['idcentro','idana'], how='right')[pdf_fixed.columns]\n",
        "pdnf = pd.merge(pdnf, patientsOfInterest, on=['idcentro','idana'], how='right')[pdnf_fixed.columns]\n",
        "pnd  = pd.merge(pnd, patientsOfInterest,  on=['idcentro','idana'], how='right')[pnd_fixed.columns]"
      ]
    },
    {
      "cell_type": "code",
      "execution_count": 127,
      "metadata": {
        "colab": {
          "base_uri": "https://localhost:8080/"
        },
        "id": "9a0hw_IGWseo",
        "outputId": "51cb86ac-987a-4d27-f868-c15ed9992337"
      },
      "outputs": [
        {
          "name": "stdout",
          "output_type": "stream",
          "text": [
            "We still have: 50000/250000 patients\n"
          ]
        }
      ],
      "source": [
        "print(f\"We still have: {ap.shape[0]}/{ap_fixed.shape[0]} patients\")"
      ]
    },
    {
      "attachments": {},
      "cell_type": "markdown",
      "metadata": {
        "id": "Z1jdUNRaWseo"
      },
      "source": [
        "## Exercise 2"
      ]
    },
    {
      "attachments": {},
      "cell_type": "markdown",
      "metadata": {
        "id": "U7pd_t5tWseo"
      },
      "source": [
        "**Invalid feature cleaning** - check for dates and time intervals $[x, y]$ such that $y < x$ and not $x ≤ y$.\n",
        "Check for years that do not make sense (e.g., events before the birth of a particular patient).\n"
      ]
    },
    {
      "cell_type": "code",
      "execution_count": 128,
      "metadata": {
        "colab": {
          "base_uri": "https://localhost:8080/"
        },
        "id": "40Ix6u9GWseo",
        "outputId": "41050d06-57b3-4591-a9eb-0e6b3f24d6e4"
      },
      "outputs": [
        {
          "data": {
            "text/plain": [
              "(50000, 12)"
            ]
          },
          "execution_count": 128,
          "metadata": {},
          "output_type": "execute_result"
        }
      ],
      "source": [
        "# We see the number of patients that we have before checking that their dates are valid\n",
        "ap.shape"
      ]
    },
    {
      "cell_type": "code",
      "execution_count": 129,
      "metadata": {
        "colab": {
          "base_uri": "https://localhost:8080/"
        },
        "id": "TEg4Kzo_Wsep",
        "outputId": "bf7152ce-e34d-4830-e281-f5432f0abc34"
      },
      "outputs": [
        {
          "name": "stdout",
          "output_type": "stream",
          "text": [
            "(4722, 12)\n",
            "(4722, 12)\n",
            "(4722, 12)\n"
          ]
        }
      ],
      "source": [
        "# First we check that the patient's birth year, the year of the diabetes diagnosis and the year of thier first access is not NaN\n",
        "# Then, we check that the birth year, the year of first access and the year of their diabetes diagnosis are all smaller than their death year \n",
        "\n",
        "ap = ap[(ap['annonascita'].notna()) & (ap['annoprimoaccesso'].notna()) & (ap['annodiagnosidiabete'].notna()) & (ap['annonascita']<=ap['annodecesso']) & (ap['annoprimoaccesso']<=ap['annodecesso']) & (ap['annodiagnosidiabete']<=ap['annodecesso'])]\n",
        "print(ap.shape)\n",
        "\n",
        "# Then we add the patients that have NaN as the death year because in that case some of the previous conditions are evaluated as false but \n",
        "# we assume taht if the death year is NaN then the patient is still alive so the years would fulfill the conditions\n",
        "\n",
        "ap = pd.concat([ap, ap[ap['annodecesso'].isna()]])\n",
        "print(ap.shape)\n",
        "\n",
        "# Lastly, we check that the patient's birth year is smaller than the year of the diabetes diagnosis and is also smaller than the year of \n",
        "# first access\n",
        "\n",
        "ap = ap[(ap['annonascita']<=ap['annodiagnosidiabete']) & (ap['annonascita']<=ap['annoprimoaccesso'])]\n",
        "print(ap.shape)"
      ]
    },
    {
      "cell_type": "code",
      "execution_count": 130,
      "metadata": {
        "colab": {
          "base_uri": "https://localhost:8080/"
        },
        "id": "FpnsvZ8pWsep",
        "outputId": "1d6408b5-8b28-403b-f009-e98d15fa8eb3"
      },
      "outputs": [
        {
          "name": "stdout",
          "output_type": "stream",
          "text": [
            "(4722, 2)\n",
            "(4722, 2)\n"
          ]
        }
      ],
      "source": [
        "# We then see the new number of patients that we have and check if we have made an error and if there are duplicates in the table\n",
        "\n",
        "ap_test = ap.filter(items=['idcentro', 'idana'])\n",
        "print(ap_test.shape)\n",
        "ap_test.drop_duplicates()\n",
        "print(ap_test.shape)"
      ]
    },
    {
      "cell_type": "code",
      "execution_count": 131,
      "metadata": {
        "id": "6dwV-z3pWsep"
      },
      "outputs": [],
      "source": [
        "# For the rest of the tables, we do the same checks\n",
        "\n",
        "def exercise2(df:pd.DataFrame, test:pd.DataFrame) -> pd.DataFrame:\n",
        "\n",
        "    # First we merge the table to obtain only the data of the patients that have valid dates in the ap table\n",
        "    df = df.merge(test, on=['idcentro', 'idana'])\n",
        "    df = df[df['data'].notna()]\n",
        "\n",
        "    # Then, we assure that the dates of the table we are purging are valid (not NaN and not a day that doesn't exist in the calendar) and that the year is first on the dates\n",
        "    df['data'] = pd.to_datetime(df['data'], yearfirst=True)\n",
        "\n",
        "    # Now we create a new table with the columns that have dates from the ap table and the table that we are purging\n",
        "    ap_filter = ap.filter(items=['idcentro', 'idana', 'annonascita', 'annoprimoaccesso', 'annodecesso'])\n",
        "    df = df.merge(ap_filter, on=['idcentro', 'idana'])\n",
        "\n",
        "    # Now we take the rows of this table that have valid dates, this means that we have to check:\n",
        "    # That all the tests performed on a patient have a smaller date than the death year of the patient\n",
        "    df = df[df['data'].dt.strftime(\"%Y\").astype(float) <= df['annodecesso']]\n",
        "\n",
        "    # Then, as we did with the ap table, we add the rows where the death year of the patient is NaN (because we assume that is still alive and therefore it fulfills the conditions)\n",
        "    df = pd.concat([df, ap_filter[ap_filter['annodecesso'].isna()]])\n",
        "\n",
        "    # Lastly, we check that the test were performed after the year of first access and after the year of birth of the patient\n",
        "    df = df[(df['data'].dt.strftime(\"%Y\").astype(float) >= df['annoprimoaccesso']) & (df['data'].dt.strftime(\"%Y\").astype(float) >= df['annonascita'])]\n",
        "\n",
        "    # In the pdf table in particular we need to check that the prescriptions were made after the year of diabetes diagnosis because the medicines prescripted are for people\n",
        "    # with diabetes\n",
        "    if 'annodiagnosidiabete' in df.columns:\n",
        "        df = df[(df['data'].dt.strftime(\"%Y\").astype(float) >= df['annodiagnosidiabete'])]\n",
        "\n",
        "    # Now, we take only the columns that were in the purged table to begin with\n",
        "    return df.filter(items=df.columns)"
      ]
    },
    {
      "attachments": {},
      "cell_type": "markdown",
      "metadata": {
        "id": "48N-dXcTcnFf"
      },
      "source": [
        "We apply the previous function to the rest of our tables"
      ]
    },
    {
      "cell_type": "code",
      "execution_count": 132,
      "metadata": {
        "colab": {
          "base_uri": "https://localhost:8080/"
        },
        "id": "NJAreJBnWsep",
        "outputId": "4a66cf61-689d-464b-e1fe-ca8a817d027b"
      },
      "outputs": [
        {
          "name": "stdout",
          "output_type": "stream",
          "text": [
            "Diag: 4427337 => 190618\n"
          ]
        }
      ],
      "source": [
        "diag = exercise2(diag,ap_test)\n",
        "print(f\"Diag: {diag_fixed.shape[0]} => {diag.shape[0]}\")"
      ]
    },
    {
      "cell_type": "code",
      "execution_count": 133,
      "metadata": {
        "colab": {
          "base_uri": "https://localhost:8080/"
        },
        "id": "6cAGJm-VWseq",
        "outputId": "b0dba4dd-bd19-4c76-86c6-9a65cfff0a18"
      },
      "outputs": [
        {
          "name": "stdout",
          "output_type": "stream",
          "text": [
            "Elp: 28628530 => 665848\n"
          ]
        }
      ],
      "source": [
        "elp = exercise2(elp,ap_test)\n",
        "print(f\"Elp: {elp_fixed.shape[0]} => {elp.shape[0]}\")"
      ]
    },
    {
      "cell_type": "code",
      "execution_count": 134,
      "metadata": {
        "colab": {
          "base_uri": "https://localhost:8080/"
        },
        "id": "lLRidEoZWseq",
        "outputId": "c652e6b7-9e31-48b7-ad88-b39ec201e706"
      },
      "outputs": [
        {
          "name": "stdout",
          "output_type": "stream",
          "text": [
            "Ei: 1015740 => 24196\n"
          ]
        }
      ],
      "source": [
        "ei = exercise2(ei,ap_test)\n",
        "print(f\"Ei: {ei_fixed.shape[0]} => {ei.shape[0]}\")"
      ]
    },
    {
      "cell_type": "code",
      "execution_count": 135,
      "metadata": {
        "colab": {
          "base_uri": "https://localhost:8080/"
        },
        "id": "oM0autlFWseq",
        "outputId": "271b6c6e-abaa-493a-c0f9-002d884d6daf"
      },
      "outputs": [
        {
          "name": "stdout",
          "output_type": "stream",
          "text": [
            "Pdf: 7012648 => 189497\n"
          ]
        }
      ],
      "source": [
        "pdf = exercise2(pdf,ap_test)\n",
        "print(f\"Pdf: {pdf_fixed.shape[0]} => {pdf.shape[0]}\")"
      ]
    },
    {
      "cell_type": "code",
      "execution_count": 136,
      "metadata": {
        "colab": {
          "base_uri": "https://localhost:8080/"
        },
        "id": "6XkhzN8fWseq",
        "outputId": "663e5dc6-cdb6-410d-f9e4-20d02ef688d6"
      },
      "outputs": [
        {
          "name": "stdout",
          "output_type": "stream",
          "text": [
            "Pdnf: 548467 => 16714\n"
          ]
        }
      ],
      "source": [
        "pdnf = exercise2(pdnf,ap_test)\n",
        "print(f\"Pdnf: {pdnf_fixed.shape[0]} => {pdnf.shape[0]}\")"
      ]
    },
    {
      "cell_type": "code",
      "execution_count": 137,
      "metadata": {
        "colab": {
          "base_uri": "https://localhost:8080/"
        },
        "id": "NcbMZxP4Wseq",
        "outputId": "5e50ed9a-39dc-4421-cf96-786aa7608ff2"
      },
      "outputs": [
        {
          "name": "stdout",
          "output_type": "stream",
          "text": [
            "Pnd: 5083861 => 192695\n"
          ]
        }
      ],
      "source": [
        "pnd = exercise2(pnd,ap_test)\n",
        "print(f\"Pnd: {pnd_fixed.shape[0]} => {pnd.shape[0]}\")"
      ]
    },
    {
      "cell_type": "code",
      "execution_count": 138,
      "metadata": {
        "colab": {
          "base_uri": "https://localhost:8080/"
        },
        "id": "4HK11-ZMWseq",
        "outputId": "57d62034-8bb7-463f-d73c-0b0969d60c40"
      },
      "outputs": [
        {
          "name": "stdout",
          "output_type": "stream",
          "text": [
            "We still have: 4722/250000 patients\n"
          ]
        }
      ],
      "source": [
        "print(f\"We still have: {ap.shape[0]}/{ap_fixed.shape[0]} patients\")"
      ]
    },
    {
      "attachments": {},
      "cell_type": "markdown",
      "metadata": {
        "id": "zJ_1KgyCWseq"
      },
      "source": [
        "## Exercise 3"
      ]
    },
    {
      "attachments": {},
      "cell_type": "markdown",
      "metadata": {
        "id": "RUMOfsBPWsev"
      },
      "source": [
        "First of all, we convert the data column of each dataframe into datetime type"
      ]
    },
    {
      "cell_type": "code",
      "execution_count": 139,
      "metadata": {
        "id": "fM3pXX_IWsew"
      },
      "outputs": [],
      "source": [
        "pnd['data']  = pd.to_datetime(pnd['data'],  format=\"%Y-%m-%d\")\n",
        "diag['data'] = pd.to_datetime(diag['data'], format=\"%Y-%m-%d\")\n",
        "elp['data']  = pd.to_datetime(elp['data'],  format=\"%Y-%m-%d\")\n",
        "pdf['data']  = pd.to_datetime(pdf['data'],  format=\"%Y-%m-%d\")\n",
        "pdnf['data'] = pd.to_datetime(pdnf['data'], format=\"%Y-%m-%d\")\n",
        "ei['data']   = pd.to_datetime(ei['data'],   format=\"%Y-%m-%d\")"
      ]
    },
    {
      "cell_type": "code",
      "execution_count": 140,
      "metadata": {
        "id": "zDmR4Q56Wsew"
      },
      "outputs": [],
      "source": [
        "def exercise3(df: pd.DataFrame) -> pd.DataFrame:\n",
        "    maxDates = df.groupby(['idcentro','idana']).agg({'data' : ['max']})\n",
        "    minDates = df.groupby(['idcentro','idana']).agg({'data' : ['min']})\n",
        "    return maxDates, minDates"
      ]
    },
    {
      "attachments": {},
      "cell_type": "markdown",
      "metadata": {
        "id": "lM_2NrhmWsew"
      },
      "source": [
        "We calculate maximum and minimum dates for each table and for every single patient (idcentro, idana)"
      ]
    },
    {
      "cell_type": "code",
      "execution_count": 141,
      "metadata": {
        "id": "FLoaiS-BWsew"
      },
      "outputs": [],
      "source": [
        "pndMax,  pndMin  = exercise3(pnd)\n",
        "diagMax, diagMin = exercise3(diag)\n",
        "elpMax,  elpMin  = exercise3(elp)\n",
        "pdfMax,  pdfMin  = exercise3(pdf)\n",
        "pdnfMax, pdnfMin = exercise3(pdnf)\n",
        "eiMax,   eiMin   = exercise3(ei)"
      ]
    },
    {
      "attachments": {},
      "cell_type": "markdown",
      "metadata": {
        "id": "f4ZeEtAUWsew"
      },
      "source": [
        "Now we merge all the maximum dates of all dataframes, and we take **maxim** as the maximum date of all tables for each patient"
      ]
    },
    {
      "cell_type": "code",
      "execution_count": 142,
      "metadata": {
        "id": "3lrPU6fUWsew",
        "outputId": "5811f0bc-3244-4218-b5f2-53d7ce175fe5"
      },
      "outputs": [
        {
          "data": {
            "text/plain": [
              "idcentro  idana\n",
              "1         5       2013-12-31\n",
              "          38      2015-12-18\n",
              "          65      2017-11-09\n",
              "          74      2012-12-06\n",
              "          90      2012-09-25\n",
              "dtype: datetime64[ns]"
            ]
          },
          "execution_count": 142,
          "metadata": {},
          "output_type": "execute_result"
        }
      ],
      "source": [
        "maxim = pd.merge(pndMax,diagMax,on=['idcentro','idana'])\n",
        "maxim = pd.merge(maxim,elpMax,on=['idcentro','idana'])\n",
        "max2  = pd.merge(pdnfMax,pdfMax,on=['idcentro','idana'])\n",
        "max2  = pd.merge(eiMax,max2,on=['idcentro','idana'])\n",
        "maxim = pd.merge(maxim,max2,on=['idcentro','idana'])\n",
        "maxim = maxim.max(axis=1)\n",
        "maxim.head()"
      ]
    },
    {
      "attachments": {},
      "cell_type": "markdown",
      "metadata": {
        "id": "h6sQ83GSWsew"
      },
      "source": [
        "Same with the minimum date"
      ]
    },
    {
      "cell_type": "code",
      "execution_count": 143,
      "metadata": {
        "id": "qVfp4pqWWsew",
        "outputId": "299bb453-cbe6-40c6-d027-0006fc9705bf"
      },
      "outputs": [
        {
          "data": {
            "text/plain": [
              "idcentro  idana\n",
              "1         5       1997-12-01\n",
              "          38      1998-01-01\n",
              "          65      2000-06-08\n",
              "          74      2000-01-08\n",
              "          90      2002-01-01\n",
              "dtype: datetime64[ns]"
            ]
          },
          "execution_count": 143,
          "metadata": {},
          "output_type": "execute_result"
        }
      ],
      "source": [
        "minim = pd.merge(pndMin,diagMin,on=['idcentro','idana'])\n",
        "minim = pd.merge(minim,elpMin,on=['idcentro','idana'])\n",
        "min2  = pd.merge(pdnfMin,pdfMin,on=['idcentro','idana'])\n",
        "min2  = pd.merge(eiMin,min2,on=['idcentro','idana'])\n",
        "minim = pd.merge(minim,min2,on=['idcentro','idana'])\n",
        "minim = minim.min(axis=1)\n",
        "minim.head()"
      ]
    },
    {
      "attachments": {},
      "cell_type": "markdown",
      "metadata": {
        "id": "sLisLIzdWsew"
      },
      "source": [
        "Now we compute the difference between the maximum dates and the minimum, this is the trajectory, and we compare it with a month (30 days)"
      ]
    },
    {
      "cell_type": "code",
      "execution_count": 144,
      "metadata": {
        "id": "C0gvS4dYWsex",
        "outputId": "80191ce7-0efe-422b-de24-357fff56f754"
      },
      "outputs": [
        {
          "name": "stdout",
          "output_type": "stream",
          "text": [
            "DIFFERENCE TABLE before comparing: 2194 patients.\n",
            " idcentro  idana\n",
            "1         5       5874 days\n",
            "          38      6560 days\n",
            "          65      6363 days\n",
            "          74      4716 days\n",
            "          90      3920 days\n",
            "dtype: timedelta64[ns]\n",
            "\n",
            "DIFFERENCE TABLE after comparing: 2179 patients.\n",
            " idcentro  idana\n",
            "1         5       5874 days\n",
            "          38      6560 days\n",
            "          65      6363 days\n",
            "          74      4716 days\n",
            "          90      3920 days\n",
            "dtype: timedelta64[ns]\n",
            "\n",
            "So we have to maintain 2179/4722 patients\n"
          ]
        }
      ],
      "source": [
        "dif = maxim-minim\n",
        "print(\"DIFFERENCE TABLE before comparing:\",dif.shape[0],\"patients.\\n\",dif.head())\n",
        "\n",
        "month = pd.Timedelta(\"30 days\")\n",
        "dif = dif[dif>month]\n",
        "print(\"\\nDIFFERENCE TABLE after comparing:\",dif.shape[0],\"patients.\\n\",dif.head())\n",
        "\n",
        "print(f\"\\nSo we have to maintain {dif.shape[0]}/{ap.shape[0]} patients\")"
      ]
    },
    {
      "attachments": {},
      "cell_type": "markdown",
      "metadata": {
        "id": "GHwQrP7sWsex"
      },
      "source": [
        "Now we convert the **dif** dataframe so as to be available for the drop operation on every table"
      ]
    },
    {
      "cell_type": "code",
      "execution_count": 145,
      "metadata": {
        "id": "q944ZUPlWsex"
      },
      "outputs": [],
      "source": [
        "dif = pd.DataFrame(dif.index.to_list(), columns=['idcentro','idana'])"
      ]
    },
    {
      "cell_type": "code",
      "execution_count": 146,
      "metadata": {
        "id": "iWprePaTWsex",
        "outputId": "3d390356-6145-498a-eb19-c75cac2b9ab4"
      },
      "outputs": [
        {
          "data": {
            "text/html": [
              "<div>\n",
              "<style scoped>\n",
              "    .dataframe tbody tr th:only-of-type {\n",
              "        vertical-align: middle;\n",
              "    }\n",
              "\n",
              "    .dataframe tbody tr th {\n",
              "        vertical-align: top;\n",
              "    }\n",
              "\n",
              "    .dataframe thead th {\n",
              "        text-align: right;\n",
              "    }\n",
              "</style>\n",
              "<table border=\"1\" class=\"dataframe\">\n",
              "  <thead>\n",
              "    <tr style=\"text-align: right;\">\n",
              "      <th></th>\n",
              "      <th>idcentro</th>\n",
              "      <th>idana</th>\n",
              "      <th>sesso</th>\n",
              "      <th>annodiagnosidiabete</th>\n",
              "      <th>tipodiabete</th>\n",
              "      <th>scolarita</th>\n",
              "      <th>statocivile</th>\n",
              "      <th>professione</th>\n",
              "      <th>origine</th>\n",
              "      <th>annonascita</th>\n",
              "      <th>annoprimoaccesso</th>\n",
              "      <th>annodecesso</th>\n",
              "    </tr>\n",
              "  </thead>\n",
              "  <tbody>\n",
              "    <tr>\n",
              "      <th>0</th>\n",
              "      <td>1</td>\n",
              "      <td>5</td>\n",
              "      <td>M</td>\n",
              "      <td>1986.0</td>\n",
              "      <td>5</td>\n",
              "      <td>2.0</td>\n",
              "      <td>2.0</td>\n",
              "      <td>9.0</td>\n",
              "      <td>NaN</td>\n",
              "      <td>1942</td>\n",
              "      <td>1990.0</td>\n",
              "      <td>2014.0</td>\n",
              "    </tr>\n",
              "    <tr>\n",
              "      <th>1</th>\n",
              "      <td>1</td>\n",
              "      <td>38</td>\n",
              "      <td>F</td>\n",
              "      <td>1978.0</td>\n",
              "      <td>5</td>\n",
              "      <td>2.0</td>\n",
              "      <td>3.0</td>\n",
              "      <td>9.0</td>\n",
              "      <td>NaN</td>\n",
              "      <td>1924</td>\n",
              "      <td>1998.0</td>\n",
              "      <td>2015.0</td>\n",
              "    </tr>\n",
              "    <tr>\n",
              "      <th>2</th>\n",
              "      <td>1</td>\n",
              "      <td>65</td>\n",
              "      <td>M</td>\n",
              "      <td>1997.0</td>\n",
              "      <td>5</td>\n",
              "      <td>2.0</td>\n",
              "      <td>1.0</td>\n",
              "      <td>9.0</td>\n",
              "      <td>NaN</td>\n",
              "      <td>1942</td>\n",
              "      <td>1997.0</td>\n",
              "      <td>2018.0</td>\n",
              "    </tr>\n",
              "    <tr>\n",
              "      <th>3</th>\n",
              "      <td>1</td>\n",
              "      <td>74</td>\n",
              "      <td>M</td>\n",
              "      <td>1995.0</td>\n",
              "      <td>5</td>\n",
              "      <td>2.0</td>\n",
              "      <td>2.0</td>\n",
              "      <td>9.0</td>\n",
              "      <td>NaN</td>\n",
              "      <td>1930</td>\n",
              "      <td>1996.0</td>\n",
              "      <td>2013.0</td>\n",
              "    </tr>\n",
              "    <tr>\n",
              "      <th>4</th>\n",
              "      <td>1</td>\n",
              "      <td>90</td>\n",
              "      <td>M</td>\n",
              "      <td>2002.0</td>\n",
              "      <td>5</td>\n",
              "      <td>3.0</td>\n",
              "      <td>2.0</td>\n",
              "      <td>9.0</td>\n",
              "      <td>NaN</td>\n",
              "      <td>1943</td>\n",
              "      <td>2002.0</td>\n",
              "      <td>2013.0</td>\n",
              "    </tr>\n",
              "  </tbody>\n",
              "</table>\n",
              "</div>"
            ],
            "text/plain": [
              "   idcentro  idana sesso  annodiagnosidiabete  tipodiabete  scolarita  \\\n",
              "0         1      5     M               1986.0            5        2.0   \n",
              "1         1     38     F               1978.0            5        2.0   \n",
              "2         1     65     M               1997.0            5        2.0   \n",
              "3         1     74     M               1995.0            5        2.0   \n",
              "4         1     90     M               2002.0            5        3.0   \n",
              "\n",
              "   statocivile  professione  origine  annonascita  annoprimoaccesso  \\\n",
              "0          2.0          9.0      NaN         1942            1990.0   \n",
              "1          3.0          9.0      NaN         1924            1998.0   \n",
              "2          1.0          9.0      NaN         1942            1997.0   \n",
              "3          2.0          9.0      NaN         1930            1996.0   \n",
              "4          2.0          9.0      NaN         1943            2002.0   \n",
              "\n",
              "   annodecesso  \n",
              "0       2014.0  \n",
              "1       2015.0  \n",
              "2       2018.0  \n",
              "3       2013.0  \n",
              "4       2013.0  "
            ]
          },
          "execution_count": 146,
          "metadata": {},
          "output_type": "execute_result"
        }
      ],
      "source": [
        "ap   = ap.merge(dif, on=['idcentro','idana'])\n",
        "diag = diag.merge(dif, on=['idcentro','idana'])\n",
        "elp  = elp.merge(dif, on=['idcentro','idana'])\n",
        "ei   = ei.merge(dif, on=['idcentro','idana'])\n",
        "pdf  = pdf.merge(dif, on=['idcentro','idana'])\n",
        "pdnf = pdnf.merge(dif, on=['idcentro','idana'])\n",
        "pnd  = pnd.merge(dif, on=['idcentro','idana'])\n",
        "ap.head()"
      ]
    },
    {
      "cell_type": "code",
      "execution_count": 147,
      "metadata": {
        "id": "cdIZ4l42Wsex",
        "outputId": "87a80cc6-edee-43a8-88bb-86ef0509adcd"
      },
      "outputs": [
        {
          "name": "stdout",
          "output_type": "stream",
          "text": [
            "We still have: 2179/250000 patients\n"
          ]
        }
      ],
      "source": [
        "print(f\"We still have: {ap.shape[0]}/{ap_fixed.shape[0]} patients\")"
      ]
    },
    {
      "attachments": {},
      "cell_type": "markdown",
      "metadata": {
        "id": "puwRkPE0Wsex"
      },
      "source": [
        "## Exercise 4"
      ]
    },
    {
      "attachments": {},
      "cell_type": "markdown",
      "metadata": {
        "id": "kQf6SoL2Wsex"
      },
      "source": [
        "**Modify the actual ranges of** ***esamilaboratorioparameteri*** **-** see this Table:\n",
        "\n",
        "| Code | Descriptive Name | True Range |\n",
        "|----------|----------|----------|\n",
        "| AMD004 | Systolic blood pressure | 40 <= x <= 200 |\n",
        "| AMD005 | Diastolic blood pressure | 40 <= x <= 130 |\n",
        "| AMD007 | Fasting blood glucose | 50 <= x <= 500 |\n",
        "| AMD008 | HbAlc | 5 <= x <= 15 |\n",
        "| AMD009 | Creatininemia | Not Available |\n",
        "| AMD111 | Microalbuminuria | Not Available |\n",
        "| STITCH001 | BMI | Not Available |\n",
        "| STITCH002 | LDL Choresterlo | 30 <= x <= 30|\n",
        "| STITCH003 | Non-HDL Cholesterlo | 60 <= x <= 330 |\n",
        "| STITCH004 | eGFR MDRD | Not Available |\n",
        "| STITCH005 | eGFR CKD-EPI | Not Available |"
      ]
    },
    {
      "attachments": {},
      "cell_type": "markdown",
      "metadata": {
        "id": "Lvg3QlgZWsex"
      },
      "source": [
        "What we are doing is to use a **MinMaxScaler** from *sklearn* library so as to make the values described in the upper table fit into the true ranges. For the **NAN** ranges, we do nothing."
      ]
    },
    {
      "cell_type": "code",
      "execution_count": 148,
      "metadata": {
        "id": "RAt0OUCFWsex",
        "outputId": "7fa12d37-1dd4-4509-c1e5-331bcd8662d5"
      },
      "outputs": [
        {
          "name": "stdout",
          "output_type": "stream",
          "text": [
            "BEFORE RE-SCALING:\n",
            "\n",
            "    AMD    Min  /  Max\n",
            "========================\n",
            "AMD004:    0.0 / 430.0\n",
            "AMD005:    0.0 / 750.0\n",
            "AMD007:    0.0 / 862.0\n",
            "AMD008:    0.0 / 98.0\n",
            "AMD009:    nan / nan\n",
            "AMD111:    0.0 / 8647.0\n",
            "STITCH001:  is null\n",
            "STITCH002:  is null\n",
            "STITCH003:  is null\n",
            "STITCH004:  is null\n",
            "STITCH005:  is null\n"
          ]
        }
      ],
      "source": [
        "labels = ['AMD004', 'AMD005', 'AMD007', 'AMD008', 'AMD009', 'AMD111', 'STITCH001', 'STITCH002', 'STITCH003', 'STITCH004', 'STITCH005']\n",
        "\n",
        "print(\"BEFORE RE-SCALING:\\n\")\n",
        "print(\"    AMD    Min  /  Max\")\n",
        "print(\"========================\")\n",
        "\n",
        "for label in labels:\n",
        "    aux = elp[elp.codiceamd == label].filter(['valore']).values.tolist()\n",
        "    if len(aux) > 0:\n",
        "        print(f\"{label}:    {np.min(aux):.1f} / {np.max(aux):.1f}\")\n",
        "    else:\n",
        "        print(f\"{label}:  is null\")"
      ]
    },
    {
      "cell_type": "code",
      "execution_count": 149,
      "metadata": {
        "id": "mCuq8vWoWsex"
      },
      "outputs": [],
      "source": [
        "from sklearn.preprocessing import MinMaxScaler\n",
        "\n",
        "NAN = np.nan\n",
        "newRanges = [['AMD004', 'AMD005', 'AMD007', 'AMD008', 'AMD009', 'AMD111', 'STITCH001', 'STITCH002', 'STITCH003', 'STITCH004', 'STITCH005'],\n",
        "            [40.0,40.0,50.0,5.0,NAN,NAN,NAN,30.0,60.0,NAN,NAN],\n",
        "            [200.0,130.0,500.0,15.0,NAN,NAN,NAN,300.0,330.0,NAN,NAN]]\n",
        "\n",
        "def scaling(df:pd.DataFrame, label:str, minValue:float, maxValue:float) -> pd.DataFrame:\n",
        "    if (minValue != NAN) and (maxValue != NAN) and (df[df.codiceamd == label].shape[0]>0):\n",
        "        aux = df[df.codiceamd == label].copy()\n",
        "        min_max_scaler = MinMaxScaler(feature_range=(minValue,maxValue))\n",
        "        aux[['valore']] = min_max_scaler.fit_transform(aux[['valore']])\n",
        "        df[df.codiceamd == label] = aux\n",
        "    return df\n",
        "\n",
        "\n",
        "# Let's apply the function to a new DataFrame copied from elp_new\n",
        "for k in range(len(newRanges[0])):\n",
        "    elp = scaling(elp, newRanges[0][k], newRanges[1][k], newRanges[2][k])"
      ]
    },
    {
      "attachments": {},
      "cell_type": "markdown",
      "metadata": {
        "id": "mp7ADheuWsey"
      },
      "source": [
        "Now we ensure manually that it has worked by printing the maximum and minimum values for each AMD Code"
      ]
    },
    {
      "cell_type": "code",
      "execution_count": 150,
      "metadata": {
        "id": "WUvFNINIWsey",
        "outputId": "ab7f9223-d832-4f33-adc6-777e696c9dbf"
      },
      "outputs": [
        {
          "name": "stdout",
          "output_type": "stream",
          "text": [
            "\n",
            "\n",
            "AFTER RE-SCALING:\n",
            "\n",
            "    AMD    Min  /  Max\n",
            "========================\n",
            "AMD004:    40.0 / 200.0\n",
            "AMD005:    40.0 / 130.0\n",
            "AMD007:    50.0 / 500.0\n",
            "AMD008:    5.0 / 15.0\n",
            "AMD009:    nan / nan\n",
            "AMD111:    nan / nan\n",
            "STITCH001:  is null\n",
            "STITCH002:  is null\n",
            "STITCH003:  is null\n",
            "STITCH004:  is null\n",
            "STITCH005:  is null\n"
          ]
        }
      ],
      "source": [
        "print(\"\\n\\nAFTER RE-SCALING:\\n\")\n",
        "print(\"    AMD    Min  /  Max\")\n",
        "print(\"========================\")\n",
        "\n",
        "for label in labels:\n",
        "    aux = elp[elp.codiceamd == label].filter(['valore']).values.tolist()\n",
        "    if len(aux) > 0:\n",
        "        print(f\"{label}:    {np.min(aux):.1f} / {np.max(aux):.1f}\")\n",
        "    else:\n",
        "        print(f\"{label}:  is null\")\n"
      ]
    },
    {
      "attachments": {},
      "cell_type": "markdown",
      "metadata": {
        "id": "10kh40KSWsey"
      },
      "source": [
        "So it matches with the table given by the exercise"
      ]
    },
    {
      "attachments": {},
      "cell_type": "markdown",
      "metadata": {
        "id": "lmcekKYfWsey"
      },
      "source": [
        "## Exercise 5"
      ]
    },
    {
      "attachments": {},
      "cell_type": "markdown",
      "metadata": {
        "id": "mitEvFBlWsey"
      },
      "source": [
        "**Cohort selection and label definition** - use only those patients that after all the previous steps contain at least two events before calculating the label. Let $\\mathcal{P}=\\lbrace p_1, \\cdots,p_n\\rbrace$ be the set of all patients in the dataset. Let $d(e^i_k)$ be the date of the last event $e_k$ for patient $p_i\\in\\mathcal{P}$. The label of the patient $p_i$ is calculated as follows:\n",
        "\n",
        "$y(p_i)=\\begin{dcases}\n",
        "                1 & \\text{if, within }d(e^i_k)-6 \\text{ months, }p_i\\text{ has a cardiovascular event}\\\\\n",
        "                0 & \\text{otherwise}\n",
        "        \\end{dcases}$\n",
        "\n",
        "Eliminate the patients that have a trajectory shorten or equal to 6 months.\n"
      ]
    },
    {
      "attachments": {},
      "cell_type": "markdown",
      "metadata": {
        "id": "_wlaVmC1Wsey"
      },
      "source": [
        "We first create a DataFrame that contains all the patients and their cardiovascular events, each one with its date (it's already computed as **diag_cardEvents**):"
      ]
    },
    {
      "cell_type": "code",
      "execution_count": 151,
      "metadata": {
        "id": "eRXwo6THWsey",
        "outputId": "1b549d6a-be78-4700-85b9-3ae1cb9e1b9c"
      },
      "outputs": [
        {
          "data": {
            "text/html": [
              "<div>\n",
              "<style scoped>\n",
              "    .dataframe tbody tr th:only-of-type {\n",
              "        vertical-align: middle;\n",
              "    }\n",
              "\n",
              "    .dataframe tbody tr th {\n",
              "        vertical-align: top;\n",
              "    }\n",
              "\n",
              "    .dataframe thead th {\n",
              "        text-align: right;\n",
              "    }\n",
              "</style>\n",
              "<table border=\"1\" class=\"dataframe\">\n",
              "  <thead>\n",
              "    <tr style=\"text-align: right;\">\n",
              "      <th></th>\n",
              "      <th>idcentro</th>\n",
              "      <th>idana</th>\n",
              "      <th>data</th>\n",
              "      <th>codiceamd</th>\n",
              "      <th>valore</th>\n",
              "    </tr>\n",
              "  </thead>\n",
              "  <tbody>\n",
              "    <tr>\n",
              "      <th>7</th>\n",
              "      <td>1</td>\n",
              "      <td>5</td>\n",
              "      <td>2000-12-02</td>\n",
              "      <td>AMD049</td>\n",
              "      <td>S</td>\n",
              "    </tr>\n",
              "    <tr>\n",
              "      <th>9</th>\n",
              "      <td>1</td>\n",
              "      <td>5</td>\n",
              "      <td>2001-03-22</td>\n",
              "      <td>AMD049</td>\n",
              "      <td>S</td>\n",
              "    </tr>\n",
              "    <tr>\n",
              "      <th>13</th>\n",
              "      <td>1</td>\n",
              "      <td>5</td>\n",
              "      <td>2002-02-11</td>\n",
              "      <td>AMD049</td>\n",
              "      <td>S</td>\n",
              "    </tr>\n",
              "    <tr>\n",
              "      <th>15</th>\n",
              "      <td>1</td>\n",
              "      <td>5</td>\n",
              "      <td>2002-02-14</td>\n",
              "      <td>AMD049</td>\n",
              "      <td>S</td>\n",
              "    </tr>\n",
              "    <tr>\n",
              "      <th>17</th>\n",
              "      <td>1</td>\n",
              "      <td>5</td>\n",
              "      <td>2003-01-17</td>\n",
              "      <td>AMD049</td>\n",
              "      <td>S</td>\n",
              "    </tr>\n",
              "  </tbody>\n",
              "</table>\n",
              "</div>"
            ],
            "text/plain": [
              "    idcentro  idana        data codiceamd valore\n",
              "7          1      5  2000-12-02    AMD049      S\n",
              "9          1      5  2001-03-22    AMD049      S\n",
              "13         1      5  2002-02-11    AMD049      S\n",
              "15         1      5  2002-02-14    AMD049      S\n",
              "17         1      5  2003-01-17    AMD049      S"
            ]
          },
          "execution_count": 151,
          "metadata": {},
          "output_type": "execute_result"
        }
      ],
      "source": [
        "diag_cardEvents.head()"
      ]
    },
    {
      "attachments": {},
      "cell_type": "markdown",
      "metadata": {
        "id": "vGE3vlRaWsey"
      },
      "source": [
        "Now for each patient of the frame **diag_cardEvents**, we are going to take its two last cardiovascular events dates, so as to check if they happened with less than 6 months of difference. For this, we define the function **labeling**"
      ]
    },
    {
      "cell_type": "code",
      "execution_count": 152,
      "metadata": {
        "id": "U_mrWADxWsey"
      },
      "outputs": [],
      "source": [
        "def exercise5(df:pd.DataFrame) -> pd.DataFrame:\n",
        "\n",
        "    # First we define a dataframe that contains the ids and the dates of every cardiovascular event, sorted by descending date\n",
        "    cardEvents_sorted = df.sort_values('data',ascending=False)\n",
        "\n",
        "    # Now we create a new dataset called classes, that represents the result of the function y(p_i) defined previously:\n",
        "    classes = pd.DataFrame(columns=['idcentro','idana','class'])\n",
        "\n",
        "    # Now for each patient (idcentro,idana), we check if it verify the condition explained previously:\n",
        "    for label, subDataframe in cardEvents_sorted.groupby(['idcentro','idana']):\n",
        "\n",
        "        dates = subDataframe['data'].dropna().values\n",
        "\n",
        "        # We ignore those patients who have just one event\n",
        "        if len(dates) > 1:\n",
        "\n",
        "            # We extract the first and the 2 lastest dates and convert them into datetime objects\n",
        "            minDate = dates[-1]\n",
        "            maxDates = dates[0:2]\n",
        "            minDate = dt.date.fromisoformat(minDate)\n",
        "            maxDates = dt.date.fromisoformat(maxDates[0]), dt.date.fromisoformat(maxDates[1])\n",
        "\n",
        "            # We ignore patients with a trajectory shorter than 6 months (6*30 days)\n",
        "            if maxDates[0]-minDate > dt.timedelta(days=6*30):\n",
        "\n",
        "                # We calculate the difference between the latest 2 dates and compare it with 6 months\n",
        "                c = maxDates[0]-maxDates[1] < dt.timedelta(days=6*30)\n",
        "\n",
        "                # We add a new column with the label and the class of the patient\n",
        "                classes.loc[classes.count()[0]] = [label[0], label[1], int(c)]\n",
        "\n",
        "    return classes"
      ]
    },
    {
      "attachments": {},
      "cell_type": "markdown",
      "metadata": {
        "id": "_mcQolPsWsey"
      },
      "source": [
        "Now, in the **classes** dataframe, we have labeled the patients that have more than one event and a trajectory larger than 6 months"
      ]
    },
    {
      "cell_type": "code",
      "execution_count": 153,
      "metadata": {
        "id": "bVSYWV_mWsez"
      },
      "outputs": [],
      "source": [
        "labels = exercise5(diag_cardEvents)"
      ]
    },
    {
      "attachments": {},
      "cell_type": "markdown",
      "metadata": {
        "id": "ygJTAIN5Wsez"
      },
      "source": [
        "So we do an inner merge operation again with every dataframe to take just the patients of the frame **classes**"
      ]
    },
    {
      "cell_type": "code",
      "execution_count": 158,
      "metadata": {
        "id": "kS_No1XxWsez"
      },
      "outputs": [],
      "source": [
        "ap   = pd.merge(ap,   labels, on=['idcentro','idana'])[ap_fixed.columns.tolist()+['class']]\n",
        "diag = pd.merge(diag, labels, on=['idcentro','idana'])[diag_fixed.columns]\n",
        "elp  = pd.merge(elp,  labels, on=['idcentro','idana'])[elp_fixed.columns]\n",
        "ei   = pd.merge(ei,   labels, on=['idcentro','idana'])[ei_fixed.columns]\n",
        "pdf  = pd.merge(pdf,  labels, on=['idcentro','idana'])[pdf_fixed.columns]\n",
        "pdnf = pd.merge(pdnf, labels, on=['idcentro','idana'])[pdnf_fixed.columns]\n",
        "pnd  = pd.merge(pnd,  labels, on=['idcentro','idana'])[pnd_fixed.columns]\n",
        "patientsOfInterest_labeled = pd.merge(patientsOfInterest, labels, on=['idcentro','idana'])\n"
      ]
    },
    {
      "cell_type": "code",
      "execution_count": 159,
      "metadata": {
        "id": "Ruu13224Wsez",
        "outputId": "99086a5a-7a29-4578-929d-056683df7acb"
      },
      "outputs": [
        {
          "name": "stdout",
          "output_type": "stream",
          "text": [
            "We still have: (1555, 13)/(250000, 12) patients\n"
          ]
        }
      ],
      "source": [
        "print(f\"We still have: {ap.shape}/{ap_fixed.shape} patients\")"
      ]
    },
    {
      "attachments": {},
      "cell_type": "markdown",
      "metadata": {},
      "source": [
        "## Writing Clean Datasets"
      ]
    },
    {
      "cell_type": "code",
      "execution_count": 161,
      "metadata": {
        "id": "EUUqsMtPWsez"
      },
      "outputs": [],
      "source": [
        "write_data_path = \"../../data/dataset_preprocessed\"\n",
        "\n",
        "ap.to_csv(write_data_path+\"/anagraficapazientiattivi.csv\",        index=False)\n",
        "diag.to_csv(write_data_path+\"/diagnosi.csv\",                      index=False)\n",
        "elp.to_csv(write_data_path+\"/esamilaboratorioparametri.csv\",      index=False)\n",
        "ei.to_csv(write_data_path+\"/esamistrumentali.csv\",                index=False)\n",
        "pdf.to_csv(write_data_path+\"/prescrizionidiabetefarmaci.csv\",     index=False)\n",
        "pdnf.to_csv(write_data_path+\"/prescrizionidiabetenonfarmaci.csv\", index=False)\n",
        "pnd.to_csv(write_data_path+\"/prescrizioninondiabete.csv\",         index=False)"
      ]
    }
  ],
  "metadata": {
    "colab": {
      "provenance": []
    },
    "kernelspec": {
      "display_name": "base",
      "language": "python",
      "name": "python3"
    },
    "language_info": {
      "codemirror_mode": {
        "name": "ipython",
        "version": 3
      },
      "file_extension": ".py",
      "mimetype": "text/x-python",
      "name": "python",
      "nbconvert_exporter": "python",
      "pygments_lexer": "ipython3",
      "version": "3.9.13"
    },
    "orig_nbformat": 4
  },
  "nbformat": 4,
  "nbformat_minor": 0
}
