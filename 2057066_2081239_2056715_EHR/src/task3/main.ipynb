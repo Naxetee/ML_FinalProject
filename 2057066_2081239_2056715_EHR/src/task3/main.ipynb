{
  "nbformat": 4,
  "nbformat_minor": 0,
  "metadata": {
    "colab": {
      "provenance": []
    },
    "kernelspec": {
      "name": "python3",
      "display_name": "Python 3"
    },
    "language_info": {
      "name": "python"
    }
  },
  "cells": [
    {
      "cell_type": "markdown",
      "source": [
        "# Index\n",
        "\n",
        "- **Python Libraries**\n",
        "- **Task 3**\n",
        "    - *Reading Preprocessed Datasets*\n",
        "    - *Exercise 1*\n",
        "\n"
      ],
      "metadata": {
        "id": "oPUdC6sbQC8Z"
      }
    },
    {
      "cell_type": "markdown",
      "source": [
        "# Pyhton Libraries"
      ],
      "metadata": {
        "id": "tP31YKjJQuXc"
      }
    },
    {
      "cell_type": "code",
      "execution_count": null,
      "metadata": {
        "id": "ZNH4O0GwP1o-"
      },
      "outputs": [],
      "source": [
        "import torch\n",
        "import pandas as pd\n",
        "import numpy as np\n",
        "import datetime as dt\n",
        "import random"
      ]
    },
    {
      "cell_type": "markdown",
      "source": [
        "# Task 2"
      ],
      "metadata": {
        "id": "SlluYdoTQ1gF"
      }
    },
    {
      "cell_type": "markdown",
      "source": [
        "## Reading Preprocessed Datasets"
      ],
      "metadata": {
        "id": "7UNDfGbmRFz7"
      }
    },
    {
      "cell_type": "code",
      "source": [
        "from google.colab import drive\n",
        "drive.mount('/content/drive')"
      ],
      "metadata": {
        "colab": {
          "base_uri": "https://localhost:8080/"
        },
        "id": "JGsiT1crQx1T",
        "outputId": "cbfed92a-6f3c-48ae-85ed-a01ddc762559"
      },
      "execution_count": null,
      "outputs": [
        {
          "output_type": "stream",
          "name": "stdout",
          "text": [
            "Mounted at /content/drive\n"
          ]
        }
      ]
    },
    {
      "cell_type": "code",
      "source": [
        "read_data_path  = \"/content/drive/MyDrive/ML/preprocessed\"\n",
        "\n",
        "ap   = pd.read_csv(read_data_path+'/anagraficapazientiattivi.csv', header=0 ,names=['idcentro','idana','sesso','annodiagnosidiabete','tipodiabete','annonascita','annoprimoaccesso','annodecesso','label'])\n",
        "diag = pd.read_csv(read_data_path+'/diagnosi.csv', header=0 ,names=['idcentro','idana','data','codiceamd','valore'])\n",
        "elp  = pd.read_csv(read_data_path+'/esamilaboratorioparametri.csv', header=0 ,names=['idcentro','idana','data','codiceamd','valore'])\n",
        "ei   = pd.read_csv(read_data_path+'/esamistrumentali.csv', header=0 ,names=['idcentro','idana','data','codiceamd','valore'])\n",
        "pdf  = pd.read_csv(read_data_path+'/prescrizionidiabetefarmaci.csv', header=0 ,names=['idcentro','idana','data','codiceatc','quantita','idpasto','descrizionefarmaco'])\n",
        "pdnf = pd.read_csv(read_data_path+'/prescrizionidiabetenonfarmaci.csv', header=0 ,names=['idcentro','idana','data','codiceamd','valore'])\n",
        "pnd  = pd.read_csv(read_data_path+'/prescrizioninondiabete.csv', header=0 ,names=['idcentro','idana','data','codiceamd','valore'])"
      ],
      "metadata": {
        "id": "yrDQ1Z-ARMk9"
      },
      "execution_count": null,
      "outputs": []
    },
    {
      "cell_type": "markdown",
      "source": [
        "## Exercise 1"
      ],
      "metadata": {
        "id": "Ijz85H3QRgPx"
      }
    },
    {
      "cell_type": "markdown",
      "source": [
        "Some macro-events $e_h^i$\n",
        "are represented as visits within a patient trajectory $p_i$ ∈ P. These visits\n",
        "might contain other micro-events $e_h^i$ = {$e^i_{h,1}$\n",
        ", . . . , $e^i_{h,l}$} including lab examinations, autonomous\n",
        "glucose tests, and so on. While the order of the macro-events $e^i_h$ ∈ $p_i$\n",
        "is important - i.e., the\n",
        "timestamp h indexes the events in time - the order of the micro-events $e^i_{h,j}$ ∈ $e^i_h$\n",
        "∀j ∈ [1, l] is\n",
        "not essential in being represented in the learnt latent space of your prediction model. Devise a\n",
        "prediction strategy that does not consider the order of the micro-events to perform predictions."
      ],
      "metadata": {
        "id": "ntQ4BPeLRxvB"
      }
    },
    {
      "cell_type": "markdown",
      "source": [
        "Tenemos una secuencia de eventos, deep learning que hemos visto para sequence models son las RNN (¿SERIA MANY-TO-ONE porque tenemos muchos dato y una unica salida?), GRU y el LSTM"
      ],
      "metadata": {
        "id": "6GtoYVN6WX37"
      }
    },
    {
      "cell_type": "code",
      "source": [],
      "metadata": {
        "id": "zr5wIhbSRhBA"
      },
      "execution_count": null,
      "outputs": []
    }
  ]
}